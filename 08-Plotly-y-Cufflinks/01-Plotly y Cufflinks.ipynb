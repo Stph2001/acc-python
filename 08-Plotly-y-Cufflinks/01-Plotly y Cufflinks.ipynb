{
 "cells": [
  {
   "cell_type": "markdown",
   "metadata": {},
   "source": [
    "___\n",
    "\n",
    "<a href='https://plotly.com/python/'> <img src='https://plotly.com/all_static/images/plotly_graphing_libraries_1.png' /></a>\n",
    "___\n",
    "# Plotly y Cufflinks"
   ]
  },
  {
   "cell_type": "markdown",
   "metadata": {},
   "source": [
    "**Plotly** es una libreria que permite crear gráficos interactivos para poder usarse en cuadros de mando o sitios web (se pueden guardar como archivos html o imágenes estáticas).\n",
    "\n",
    "**Cufflinks** es una libreria que conecta un dataframe de Pandas con Plotly, lo que permite a los usuarios crear visualizaciones directamente desde Pandas. Esta libreria une el poder de Plotly con la flexibilidad de Pandas para facilitar la visualización de los datos.\n",
    "\n",
    "## Instalación\n",
    "\n",
    "Para que todo esto funcione, se deberá instalar plotly y cufflinks para llamar a los gráficos directamente desde un dataframe de Pandas. Estas librerias no están disponibles actualmente a través de Conda, pero están disponibles a través de pip . Instalar las librerias en su línea de comando/terminal usando:\n",
    "\n",
    "    pip install plotly\n",
    "    pip install cufflinks\n",
    "\n",
    "## Importaciones y configuración "
   ]
  },
  {
   "cell_type": "code",
   "execution_count": 1,
   "metadata": {},
   "outputs": [],
   "source": [
    "import pandas as pd\n",
    "import numpy as np\n",
    "%matplotlib inline"
   ]
  },
  {
   "cell_type": "code",
   "execution_count": 2,
   "metadata": {},
   "outputs": [
    {
     "name": "stdout",
     "output_type": "stream",
     "text": [
      "4.14.3\n"
     ]
    }
   ],
   "source": [
    "from plotly import __version__\n",
    "from plotly.offline import download_plotlyjs, init_notebook_mode, plot, iplot\n",
    "\n",
    "print(__version__) # requires version >= 1.9.0"
   ]
  },
  {
   "cell_type": "code",
   "execution_count": 3,
   "metadata": {},
   "outputs": [],
   "source": [
    "import cufflinks as cf"
   ]
  },
  {
   "cell_type": "code",
   "execution_count": 4,
   "metadata": {},
   "outputs": [
    {
     "data": {
      "text/html": [
       "        <script type=\"text/javascript\">\n",
       "        window.PlotlyConfig = {MathJaxConfig: 'local'};\n",
       "        if (window.MathJax) {MathJax.Hub.Config({SVG: {font: \"STIX-Web\"}});}\n",
       "        if (typeof require !== 'undefined') {\n",
       "        require.undef(\"plotly\");\n",
       "        requirejs.config({\n",
       "            paths: {\n",
       "                'plotly': ['https://cdn.plot.ly/plotly-latest.min']\n",
       "            }\n",
       "        });\n",
       "        require(['plotly'], function(Plotly) {\n",
       "            window._Plotly = Plotly;\n",
       "        });\n",
       "        }\n",
       "        </script>\n",
       "        "
      ]
     },
     "metadata": {},
     "output_type": "display_data"
    }
   ],
   "source": [
    "# Para Notebooks\n",
    "init_notebook_mode(connected=True)"
   ]
  },
  {
   "cell_type": "code",
   "execution_count": 5,
   "metadata": {},
   "outputs": [
    {
     "data": {
      "text/html": [
       "        <script type=\"text/javascript\">\n",
       "        window.PlotlyConfig = {MathJaxConfig: 'local'};\n",
       "        if (window.MathJax) {MathJax.Hub.Config({SVG: {font: \"STIX-Web\"}});}\n",
       "        if (typeof require !== 'undefined') {\n",
       "        require.undef(\"plotly\");\n",
       "        requirejs.config({\n",
       "            paths: {\n",
       "                'plotly': ['https://cdn.plot.ly/plotly-latest.min']\n",
       "            }\n",
       "        });\n",
       "        require(['plotly'], function(Plotly) {\n",
       "            window._Plotly = Plotly;\n",
       "        });\n",
       "        }\n",
       "        </script>\n",
       "        "
      ]
     },
     "metadata": {},
     "output_type": "display_data"
    }
   ],
   "source": [
    "# Para uso offline colocar\n",
    "cf.go_offline()"
   ]
  },
  {
   "cell_type": "markdown",
   "metadata": {},
   "source": [
    "### Datos de prueba"
   ]
  },
  {
   "cell_type": "code",
   "execution_count": 6,
   "metadata": {},
   "outputs": [],
   "source": [
    "df = pd.DataFrame(np.random.randn(100,4),columns='A B C D'.split())"
   ]
  },
  {
   "cell_type": "code",
   "execution_count": 7,
   "metadata": {},
   "outputs": [
    {
     "data": {
      "text/html": [
       "<div>\n",
       "<style scoped>\n",
       "    .dataframe tbody tr th:only-of-type {\n",
       "        vertical-align: middle;\n",
       "    }\n",
       "\n",
       "    .dataframe tbody tr th {\n",
       "        vertical-align: top;\n",
       "    }\n",
       "\n",
       "    .dataframe thead th {\n",
       "        text-align: right;\n",
       "    }\n",
       "</style>\n",
       "<table border=\"1\" class=\"dataframe\">\n",
       "  <thead>\n",
       "    <tr style=\"text-align: right;\">\n",
       "      <th></th>\n",
       "      <th>A</th>\n",
       "      <th>B</th>\n",
       "      <th>C</th>\n",
       "      <th>D</th>\n",
       "    </tr>\n",
       "  </thead>\n",
       "  <tbody>\n",
       "    <tr>\n",
       "      <th>0</th>\n",
       "      <td>-0.456313</td>\n",
       "      <td>0.085854</td>\n",
       "      <td>-0.553738</td>\n",
       "      <td>1.584279</td>\n",
       "    </tr>\n",
       "    <tr>\n",
       "      <th>1</th>\n",
       "      <td>0.472458</td>\n",
       "      <td>-0.765244</td>\n",
       "      <td>-0.872423</td>\n",
       "      <td>1.939230</td>\n",
       "    </tr>\n",
       "    <tr>\n",
       "      <th>2</th>\n",
       "      <td>1.940696</td>\n",
       "      <td>-1.560800</td>\n",
       "      <td>-0.454306</td>\n",
       "      <td>0.617778</td>\n",
       "    </tr>\n",
       "    <tr>\n",
       "      <th>3</th>\n",
       "      <td>1.364205</td>\n",
       "      <td>0.854929</td>\n",
       "      <td>-0.110149</td>\n",
       "      <td>-1.812131</td>\n",
       "    </tr>\n",
       "    <tr>\n",
       "      <th>4</th>\n",
       "      <td>0.388891</td>\n",
       "      <td>1.529410</td>\n",
       "      <td>0.146133</td>\n",
       "      <td>-0.347839</td>\n",
       "    </tr>\n",
       "  </tbody>\n",
       "</table>\n",
       "</div>"
      ],
      "text/plain": [
       "          A         B         C         D\n",
       "0 -0.456313  0.085854 -0.553738  1.584279\n",
       "1  0.472458 -0.765244 -0.872423  1.939230\n",
       "2  1.940696 -1.560800 -0.454306  0.617778\n",
       "3  1.364205  0.854929 -0.110149 -1.812131\n",
       "4  0.388891  1.529410  0.146133 -0.347839"
      ]
     },
     "execution_count": 7,
     "metadata": {},
     "output_type": "execute_result"
    }
   ],
   "source": [
    "df.head()"
   ]
  },
  {
   "cell_type": "code",
   "execution_count": 8,
   "metadata": {},
   "outputs": [],
   "source": [
    "df2 = pd.DataFrame({'Category':['A','B','C'],'Values':[32,43,50]})"
   ]
  },
  {
   "cell_type": "code",
   "execution_count": 9,
   "metadata": {},
   "outputs": [
    {
     "data": {
      "text/html": [
       "<div>\n",
       "<style scoped>\n",
       "    .dataframe tbody tr th:only-of-type {\n",
       "        vertical-align: middle;\n",
       "    }\n",
       "\n",
       "    .dataframe tbody tr th {\n",
       "        vertical-align: top;\n",
       "    }\n",
       "\n",
       "    .dataframe thead th {\n",
       "        text-align: right;\n",
       "    }\n",
       "</style>\n",
       "<table border=\"1\" class=\"dataframe\">\n",
       "  <thead>\n",
       "    <tr style=\"text-align: right;\">\n",
       "      <th></th>\n",
       "      <th>Category</th>\n",
       "      <th>Values</th>\n",
       "    </tr>\n",
       "  </thead>\n",
       "  <tbody>\n",
       "    <tr>\n",
       "      <th>0</th>\n",
       "      <td>A</td>\n",
       "      <td>32</td>\n",
       "    </tr>\n",
       "    <tr>\n",
       "      <th>1</th>\n",
       "      <td>B</td>\n",
       "      <td>43</td>\n",
       "    </tr>\n",
       "    <tr>\n",
       "      <th>2</th>\n",
       "      <td>C</td>\n",
       "      <td>50</td>\n",
       "    </tr>\n",
       "  </tbody>\n",
       "</table>\n",
       "</div>"
      ],
      "text/plain": [
       "  Category  Values\n",
       "0        A      32\n",
       "1        B      43\n",
       "2        C      50"
      ]
     },
     "execution_count": 9,
     "metadata": {},
     "output_type": "execute_result"
    }
   ],
   "source": [
    "df2.head()"
   ]
  },
  {
   "cell_type": "markdown",
   "metadata": {},
   "source": [
    "## Usando Cufflinks e iplot()\n",
    "\n",
    "* Scatter\n",
    "* Bar\n",
    "* Boxplot\n",
    "* 3D surface\n",
    "* Histograma\n",
    "* Burbujas"
   ]
  },
  {
   "cell_type": "markdown",
   "metadata": {},
   "source": [
    "## Scatter"
   ]
  },
  {
   "cell_type": "code",
   "execution_count": 10,
   "metadata": {},
   "outputs": [
    {
     "data": {
      "application/vnd.plotly.v1+json": {
       "config": {
        "linkText": "Export to plot.ly",
        "plotlyServerURL": "https://plot.ly",
        "showLink": true
       },
       "data": [
        {
         "line": {
          "color": "rgba(255, 153, 51, 1.0)",
          "dash": "solid",
          "shape": "linear",
          "width": 1.3
         },
         "marker": {
          "size": 10,
          "symbol": "circle"
         },
         "mode": "markers",
         "name": "B",
         "text": "",
         "type": "scatter",
         "x": [
          -0.45631341899455446,
          0.4724584044203727,
          1.9406963290187815,
          1.3642048200066281,
          0.3888909674049345,
          -0.8155560132139653,
          0.1824994980346096,
          -0.6460157547769448,
          0.7726921125849633,
          -0.7574183434082375,
          0.5743341411046669,
          -1.122291005811296,
          0.39592557287173297,
          1.7658327891993622,
          0.03956382437720008,
          -1.1778154865134784,
          1.3612446505476976,
          0.4575543125475046,
          -0.6100736598999223,
          -0.16227885578643608,
          0.9074892985388556,
          -1.2212771553160078,
          -0.003212139726141614,
          1.78200159331685,
          0.3051643896263515,
          0.5975174164344041,
          -1.069764750030652,
          0.692191997574215,
          0.2696109540579809,
          -1.1542791753011188,
          -1.1385749479100127,
          -0.3699998786410983,
          -1.1344534996132034,
          0.672988103248493,
          2.072735424057368,
          -2.1147273254318355,
          0.36626961903539124,
          0.49402674018544357,
          0.5216867514899008,
          -0.5714109512067463,
          -0.6761590098251625,
          0.7042638386647735,
          0.11699659474769354,
          -0.1640626482877639,
          -0.6269163627570845,
          -0.4238401729522169,
          0.8249507519202229,
          -0.8400945963434742,
          0.7002288932568547,
          -0.23430066738503985,
          -0.2697623100425775,
          1.1296410882765562,
          -0.12089119108281095,
          0.6785647004075804,
          -0.33277254474307,
          1.2755116095541024,
          2.8144119696677983,
          -0.04169729623664178,
          -0.8263225957897392,
          0.5346425224779339,
          -0.1691615220796312,
          -0.028261136874453294,
          -0.9159867232468516,
          0.4262668787057552,
          0.46461136984729107,
          -1.6242310329688443,
          0.25510137484310935,
          -0.4956452247932434,
          0.9664158082185562,
          0.5335313997466851,
          -0.21034234832133342,
          0.7578100478233821,
          1.8107721743872651,
          -0.9391654021207035,
          0.9717304863534318,
          -1.0822307332369805,
          -1.6668502238440615,
          0.3531006055894467,
          -0.4476662332456711,
          -0.6878703293135146,
          0.44730597827608787,
          -2.319317841268029,
          0.08900212438510414,
          -0.4572559821356708,
          2.111367134794406,
          -0.934563080089709,
          0.5637618038523917,
          -0.2991455869065257,
          0.5153988151252,
          0.7878677402720858,
          0.7315317806795537,
          1.524796465918317,
          -0.7562970183873434,
          0.5426557390236036,
          0.5131735893370422,
          -1.1370342487815206,
          1.1363044523216463,
          0.03011016115863619,
          -0.1844988603454125,
          -1.0691517608483327
         ],
         "y": [
          0.08585353006516305,
          -0.7652436652770636,
          -1.560799863236166,
          0.854928611529446,
          1.5294104037358258,
          0.7802959777606984,
          1.1092660375040786,
          -1.2997181168756695,
          -0.2501396717599244,
          1.1672653683073624,
          0.2657593084709434,
          1.8067828968864428,
          2.908460836515882,
          0.2257063168775166,
          -0.3943778128855632,
          1.4865989885509223,
          -0.419053119941921,
          0.44213002504736104,
          -0.8765347571627182,
          0.7631550538754935,
          0.7313001692354236,
          -1.0848126581308521,
          -0.5011764356270655,
          2.615349826248938,
          -0.8267702619275237,
          -0.5289210111072653,
          1.3128095271060611,
          -0.6975326835999035,
          -2.0177953107320556,
          -0.9545140586667944,
          -1.2781018895409393,
          1.772525799618574,
          -0.270952170350105,
          -1.0259308609936295,
          -0.8200550048236666,
          0.5804852648112692,
          -0.09088463880203278,
          0.6374103190401424,
          2.0817045409484805,
          -0.5332820753894929,
          0.7065147478521874,
          0.1892745845799814,
          -1.2746433493418645,
          0.8779534537612734,
          0.5730668677347721,
          0.2719515023616077,
          -2.042453178577107,
          0.09760892427219381,
          0.6327008342432406,
          1.1287005425410521,
          1.3913044302720308,
          -0.5069090531869064,
          0.669878472883447,
          0.5221818133872991,
          -0.4496145272881422,
          -1.1840356351224515,
          -1.4220007648795254,
          0.8360266708830294,
          0.8913948071631754,
          0.9224107560138586,
          2.7530407202962603,
          1.438217420240023,
          -0.778441889649213,
          0.023935454828543142,
          -1.6850521077202243,
          0.27334839638225666,
          0.28254467216477613,
          -0.8706248368005733,
          1.9480382430405512,
          0.15650044446126365,
          1.063511636852657,
          0.3615248823338626,
          0.6274131303035508,
          1.2697867007397823,
          -0.28884869074427993,
          -0.8917344572713624,
          -0.9016784589646977,
          -0.010188903097623743,
          -1.4282164380032398,
          0.7143102611827443,
          -0.7029927020280965,
          1.2519290706979243,
          0.3714371833846144,
          -0.22736512435993828,
          0.4504921171578333,
          1.6955931253260765,
          0.15955568966672862,
          -1.5718305019534387,
          1.12036549343057,
          0.6992989938926815,
          -0.8095249209852535,
          -0.7252921710467097,
          0.3321356478041808,
          0.8755392562950008,
          -1.124210575231865,
          -0.5979379435472303,
          -1.3604643669204346,
          0.6374742546791262,
          -1.7711220550881799,
          0.569197677960444
         ]
        }
       ],
       "layout": {
        "legend": {
         "bgcolor": "#F5F6F9",
         "font": {
          "color": "#4D5663"
         }
        },
        "paper_bgcolor": "#F5F6F9",
        "plot_bgcolor": "#F5F6F9",
        "template": {
         "data": {
          "bar": [
           {
            "error_x": {
             "color": "#2a3f5f"
            },
            "error_y": {
             "color": "#2a3f5f"
            },
            "marker": {
             "line": {
              "color": "#E5ECF6",
              "width": 0.5
             }
            },
            "type": "bar"
           }
          ],
          "barpolar": [
           {
            "marker": {
             "line": {
              "color": "#E5ECF6",
              "width": 0.5
             }
            },
            "type": "barpolar"
           }
          ],
          "carpet": [
           {
            "aaxis": {
             "endlinecolor": "#2a3f5f",
             "gridcolor": "white",
             "linecolor": "white",
             "minorgridcolor": "white",
             "startlinecolor": "#2a3f5f"
            },
            "baxis": {
             "endlinecolor": "#2a3f5f",
             "gridcolor": "white",
             "linecolor": "white",
             "minorgridcolor": "white",
             "startlinecolor": "#2a3f5f"
            },
            "type": "carpet"
           }
          ],
          "choropleth": [
           {
            "colorbar": {
             "outlinewidth": 0,
             "ticks": ""
            },
            "type": "choropleth"
           }
          ],
          "contour": [
           {
            "colorbar": {
             "outlinewidth": 0,
             "ticks": ""
            },
            "colorscale": [
             [
              0,
              "#0d0887"
             ],
             [
              0.1111111111111111,
              "#46039f"
             ],
             [
              0.2222222222222222,
              "#7201a8"
             ],
             [
              0.3333333333333333,
              "#9c179e"
             ],
             [
              0.4444444444444444,
              "#bd3786"
             ],
             [
              0.5555555555555556,
              "#d8576b"
             ],
             [
              0.6666666666666666,
              "#ed7953"
             ],
             [
              0.7777777777777778,
              "#fb9f3a"
             ],
             [
              0.8888888888888888,
              "#fdca26"
             ],
             [
              1,
              "#f0f921"
             ]
            ],
            "type": "contour"
           }
          ],
          "contourcarpet": [
           {
            "colorbar": {
             "outlinewidth": 0,
             "ticks": ""
            },
            "type": "contourcarpet"
           }
          ],
          "heatmap": [
           {
            "colorbar": {
             "outlinewidth": 0,
             "ticks": ""
            },
            "colorscale": [
             [
              0,
              "#0d0887"
             ],
             [
              0.1111111111111111,
              "#46039f"
             ],
             [
              0.2222222222222222,
              "#7201a8"
             ],
             [
              0.3333333333333333,
              "#9c179e"
             ],
             [
              0.4444444444444444,
              "#bd3786"
             ],
             [
              0.5555555555555556,
              "#d8576b"
             ],
             [
              0.6666666666666666,
              "#ed7953"
             ],
             [
              0.7777777777777778,
              "#fb9f3a"
             ],
             [
              0.8888888888888888,
              "#fdca26"
             ],
             [
              1,
              "#f0f921"
             ]
            ],
            "type": "heatmap"
           }
          ],
          "heatmapgl": [
           {
            "colorbar": {
             "outlinewidth": 0,
             "ticks": ""
            },
            "colorscale": [
             [
              0,
              "#0d0887"
             ],
             [
              0.1111111111111111,
              "#46039f"
             ],
             [
              0.2222222222222222,
              "#7201a8"
             ],
             [
              0.3333333333333333,
              "#9c179e"
             ],
             [
              0.4444444444444444,
              "#bd3786"
             ],
             [
              0.5555555555555556,
              "#d8576b"
             ],
             [
              0.6666666666666666,
              "#ed7953"
             ],
             [
              0.7777777777777778,
              "#fb9f3a"
             ],
             [
              0.8888888888888888,
              "#fdca26"
             ],
             [
              1,
              "#f0f921"
             ]
            ],
            "type": "heatmapgl"
           }
          ],
          "histogram": [
           {
            "marker": {
             "colorbar": {
              "outlinewidth": 0,
              "ticks": ""
             }
            },
            "type": "histogram"
           }
          ],
          "histogram2d": [
           {
            "colorbar": {
             "outlinewidth": 0,
             "ticks": ""
            },
            "colorscale": [
             [
              0,
              "#0d0887"
             ],
             [
              0.1111111111111111,
              "#46039f"
             ],
             [
              0.2222222222222222,
              "#7201a8"
             ],
             [
              0.3333333333333333,
              "#9c179e"
             ],
             [
              0.4444444444444444,
              "#bd3786"
             ],
             [
              0.5555555555555556,
              "#d8576b"
             ],
             [
              0.6666666666666666,
              "#ed7953"
             ],
             [
              0.7777777777777778,
              "#fb9f3a"
             ],
             [
              0.8888888888888888,
              "#fdca26"
             ],
             [
              1,
              "#f0f921"
             ]
            ],
            "type": "histogram2d"
           }
          ],
          "histogram2dcontour": [
           {
            "colorbar": {
             "outlinewidth": 0,
             "ticks": ""
            },
            "colorscale": [
             [
              0,
              "#0d0887"
             ],
             [
              0.1111111111111111,
              "#46039f"
             ],
             [
              0.2222222222222222,
              "#7201a8"
             ],
             [
              0.3333333333333333,
              "#9c179e"
             ],
             [
              0.4444444444444444,
              "#bd3786"
             ],
             [
              0.5555555555555556,
              "#d8576b"
             ],
             [
              0.6666666666666666,
              "#ed7953"
             ],
             [
              0.7777777777777778,
              "#fb9f3a"
             ],
             [
              0.8888888888888888,
              "#fdca26"
             ],
             [
              1,
              "#f0f921"
             ]
            ],
            "type": "histogram2dcontour"
           }
          ],
          "mesh3d": [
           {
            "colorbar": {
             "outlinewidth": 0,
             "ticks": ""
            },
            "type": "mesh3d"
           }
          ],
          "parcoords": [
           {
            "line": {
             "colorbar": {
              "outlinewidth": 0,
              "ticks": ""
             }
            },
            "type": "parcoords"
           }
          ],
          "pie": [
           {
            "automargin": true,
            "type": "pie"
           }
          ],
          "scatter": [
           {
            "marker": {
             "colorbar": {
              "outlinewidth": 0,
              "ticks": ""
             }
            },
            "type": "scatter"
           }
          ],
          "scatter3d": [
           {
            "line": {
             "colorbar": {
              "outlinewidth": 0,
              "ticks": ""
             }
            },
            "marker": {
             "colorbar": {
              "outlinewidth": 0,
              "ticks": ""
             }
            },
            "type": "scatter3d"
           }
          ],
          "scattercarpet": [
           {
            "marker": {
             "colorbar": {
              "outlinewidth": 0,
              "ticks": ""
             }
            },
            "type": "scattercarpet"
           }
          ],
          "scattergeo": [
           {
            "marker": {
             "colorbar": {
              "outlinewidth": 0,
              "ticks": ""
             }
            },
            "type": "scattergeo"
           }
          ],
          "scattergl": [
           {
            "marker": {
             "colorbar": {
              "outlinewidth": 0,
              "ticks": ""
             }
            },
            "type": "scattergl"
           }
          ],
          "scattermapbox": [
           {
            "marker": {
             "colorbar": {
              "outlinewidth": 0,
              "ticks": ""
             }
            },
            "type": "scattermapbox"
           }
          ],
          "scatterpolar": [
           {
            "marker": {
             "colorbar": {
              "outlinewidth": 0,
              "ticks": ""
             }
            },
            "type": "scatterpolar"
           }
          ],
          "scatterpolargl": [
           {
            "marker": {
             "colorbar": {
              "outlinewidth": 0,
              "ticks": ""
             }
            },
            "type": "scatterpolargl"
           }
          ],
          "scatterternary": [
           {
            "marker": {
             "colorbar": {
              "outlinewidth": 0,
              "ticks": ""
             }
            },
            "type": "scatterternary"
           }
          ],
          "surface": [
           {
            "colorbar": {
             "outlinewidth": 0,
             "ticks": ""
            },
            "colorscale": [
             [
              0,
              "#0d0887"
             ],
             [
              0.1111111111111111,
              "#46039f"
             ],
             [
              0.2222222222222222,
              "#7201a8"
             ],
             [
              0.3333333333333333,
              "#9c179e"
             ],
             [
              0.4444444444444444,
              "#bd3786"
             ],
             [
              0.5555555555555556,
              "#d8576b"
             ],
             [
              0.6666666666666666,
              "#ed7953"
             ],
             [
              0.7777777777777778,
              "#fb9f3a"
             ],
             [
              0.8888888888888888,
              "#fdca26"
             ],
             [
              1,
              "#f0f921"
             ]
            ],
            "type": "surface"
           }
          ],
          "table": [
           {
            "cells": {
             "fill": {
              "color": "#EBF0F8"
             },
             "line": {
              "color": "white"
             }
            },
            "header": {
             "fill": {
              "color": "#C8D4E3"
             },
             "line": {
              "color": "white"
             }
            },
            "type": "table"
           }
          ]
         },
         "layout": {
          "annotationdefaults": {
           "arrowcolor": "#2a3f5f",
           "arrowhead": 0,
           "arrowwidth": 1
          },
          "autotypenumbers": "strict",
          "coloraxis": {
           "colorbar": {
            "outlinewidth": 0,
            "ticks": ""
           }
          },
          "colorscale": {
           "diverging": [
            [
             0,
             "#8e0152"
            ],
            [
             0.1,
             "#c51b7d"
            ],
            [
             0.2,
             "#de77ae"
            ],
            [
             0.3,
             "#f1b6da"
            ],
            [
             0.4,
             "#fde0ef"
            ],
            [
             0.5,
             "#f7f7f7"
            ],
            [
             0.6,
             "#e6f5d0"
            ],
            [
             0.7,
             "#b8e186"
            ],
            [
             0.8,
             "#7fbc41"
            ],
            [
             0.9,
             "#4d9221"
            ],
            [
             1,
             "#276419"
            ]
           ],
           "sequential": [
            [
             0,
             "#0d0887"
            ],
            [
             0.1111111111111111,
             "#46039f"
            ],
            [
             0.2222222222222222,
             "#7201a8"
            ],
            [
             0.3333333333333333,
             "#9c179e"
            ],
            [
             0.4444444444444444,
             "#bd3786"
            ],
            [
             0.5555555555555556,
             "#d8576b"
            ],
            [
             0.6666666666666666,
             "#ed7953"
            ],
            [
             0.7777777777777778,
             "#fb9f3a"
            ],
            [
             0.8888888888888888,
             "#fdca26"
            ],
            [
             1,
             "#f0f921"
            ]
           ],
           "sequentialminus": [
            [
             0,
             "#0d0887"
            ],
            [
             0.1111111111111111,
             "#46039f"
            ],
            [
             0.2222222222222222,
             "#7201a8"
            ],
            [
             0.3333333333333333,
             "#9c179e"
            ],
            [
             0.4444444444444444,
             "#bd3786"
            ],
            [
             0.5555555555555556,
             "#d8576b"
            ],
            [
             0.6666666666666666,
             "#ed7953"
            ],
            [
             0.7777777777777778,
             "#fb9f3a"
            ],
            [
             0.8888888888888888,
             "#fdca26"
            ],
            [
             1,
             "#f0f921"
            ]
           ]
          },
          "colorway": [
           "#636efa",
           "#EF553B",
           "#00cc96",
           "#ab63fa",
           "#FFA15A",
           "#19d3f3",
           "#FF6692",
           "#B6E880",
           "#FF97FF",
           "#FECB52"
          ],
          "font": {
           "color": "#2a3f5f"
          },
          "geo": {
           "bgcolor": "white",
           "lakecolor": "white",
           "landcolor": "#E5ECF6",
           "showlakes": true,
           "showland": true,
           "subunitcolor": "white"
          },
          "hoverlabel": {
           "align": "left"
          },
          "hovermode": "closest",
          "mapbox": {
           "style": "light"
          },
          "paper_bgcolor": "white",
          "plot_bgcolor": "#E5ECF6",
          "polar": {
           "angularaxis": {
            "gridcolor": "white",
            "linecolor": "white",
            "ticks": ""
           },
           "bgcolor": "#E5ECF6",
           "radialaxis": {
            "gridcolor": "white",
            "linecolor": "white",
            "ticks": ""
           }
          },
          "scene": {
           "xaxis": {
            "backgroundcolor": "#E5ECF6",
            "gridcolor": "white",
            "gridwidth": 2,
            "linecolor": "white",
            "showbackground": true,
            "ticks": "",
            "zerolinecolor": "white"
           },
           "yaxis": {
            "backgroundcolor": "#E5ECF6",
            "gridcolor": "white",
            "gridwidth": 2,
            "linecolor": "white",
            "showbackground": true,
            "ticks": "",
            "zerolinecolor": "white"
           },
           "zaxis": {
            "backgroundcolor": "#E5ECF6",
            "gridcolor": "white",
            "gridwidth": 2,
            "linecolor": "white",
            "showbackground": true,
            "ticks": "",
            "zerolinecolor": "white"
           }
          },
          "shapedefaults": {
           "line": {
            "color": "#2a3f5f"
           }
          },
          "ternary": {
           "aaxis": {
            "gridcolor": "white",
            "linecolor": "white",
            "ticks": ""
           },
           "baxis": {
            "gridcolor": "white",
            "linecolor": "white",
            "ticks": ""
           },
           "bgcolor": "#E5ECF6",
           "caxis": {
            "gridcolor": "white",
            "linecolor": "white",
            "ticks": ""
           }
          },
          "title": {
           "x": 0.05
          },
          "xaxis": {
           "automargin": true,
           "gridcolor": "white",
           "linecolor": "white",
           "ticks": "",
           "title": {
            "standoff": 15
           },
           "zerolinecolor": "white",
           "zerolinewidth": 2
          },
          "yaxis": {
           "automargin": true,
           "gridcolor": "white",
           "linecolor": "white",
           "ticks": "",
           "title": {
            "standoff": 15
           },
           "zerolinecolor": "white",
           "zerolinewidth": 2
          }
         }
        },
        "title": {
         "font": {
          "color": "#4D5663"
         }
        },
        "xaxis": {
         "gridcolor": "#E1E5ED",
         "showgrid": true,
         "tickfont": {
          "color": "#4D5663"
         },
         "title": {
          "font": {
           "color": "#4D5663"
          },
          "text": ""
         },
         "zerolinecolor": "#E1E5ED"
        },
        "yaxis": {
         "gridcolor": "#E1E5ED",
         "showgrid": true,
         "tickfont": {
          "color": "#4D5663"
         },
         "title": {
          "font": {
           "color": "#4D5663"
          },
          "text": ""
         },
         "zerolinecolor": "#E1E5ED"
        }
       }
      },
      "text/html": [
       "<div>                            <div id=\"e9233e42-6d9c-4056-946f-43d42cf561d2\" class=\"plotly-graph-div\" style=\"height:525px; width:100%;\"></div>            <script type=\"text/javascript\">                require([\"plotly\"], function(Plotly) {                    window.PLOTLYENV=window.PLOTLYENV || {};\n",
       "                    window.PLOTLYENV.BASE_URL='https://plot.ly';                                    if (document.getElementById(\"e9233e42-6d9c-4056-946f-43d42cf561d2\")) {                    Plotly.newPlot(                        \"e9233e42-6d9c-4056-946f-43d42cf561d2\",                        [{\"line\": {\"color\": \"rgba(255, 153, 51, 1.0)\", \"dash\": \"solid\", \"shape\": \"linear\", \"width\": 1.3}, \"marker\": {\"size\": 10, \"symbol\": \"circle\"}, \"mode\": \"markers\", \"name\": \"B\", \"text\": \"\", \"type\": \"scatter\", \"x\": [-0.45631341899455446, 0.4724584044203727, 1.9406963290187815, 1.3642048200066281, 0.3888909674049345, -0.8155560132139653, 0.1824994980346096, -0.6460157547769448, 0.7726921125849633, -0.7574183434082375, 0.5743341411046669, -1.122291005811296, 0.39592557287173297, 1.7658327891993622, 0.03956382437720008, -1.1778154865134784, 1.3612446505476976, 0.4575543125475046, -0.6100736598999223, -0.16227885578643608, 0.9074892985388556, -1.2212771553160078, -0.003212139726141614, 1.78200159331685, 0.3051643896263515, 0.5975174164344041, -1.069764750030652, 0.692191997574215, 0.2696109540579809, -1.1542791753011188, -1.1385749479100127, -0.3699998786410983, -1.1344534996132034, 0.672988103248493, 2.072735424057368, -2.1147273254318355, 0.36626961903539124, 0.49402674018544357, 0.5216867514899008, -0.5714109512067463, -0.6761590098251625, 0.7042638386647735, 0.11699659474769354, -0.1640626482877639, -0.6269163627570845, -0.4238401729522169, 0.8249507519202229, -0.8400945963434742, 0.7002288932568547, -0.23430066738503985, -0.2697623100425775, 1.1296410882765562, -0.12089119108281095, 0.6785647004075804, -0.33277254474307, 1.2755116095541024, 2.8144119696677983, -0.04169729623664178, -0.8263225957897392, 0.5346425224779339, -0.1691615220796312, -0.028261136874453294, -0.9159867232468516, 0.4262668787057552, 0.46461136984729107, -1.6242310329688443, 0.25510137484310935, -0.4956452247932434, 0.9664158082185562, 0.5335313997466851, -0.21034234832133342, 0.7578100478233821, 1.8107721743872651, -0.9391654021207035, 0.9717304863534318, -1.0822307332369805, -1.6668502238440615, 0.3531006055894467, -0.4476662332456711, -0.6878703293135146, 0.44730597827608787, -2.319317841268029, 0.08900212438510414, -0.4572559821356708, 2.111367134794406, -0.934563080089709, 0.5637618038523917, -0.2991455869065257, 0.5153988151252, 0.7878677402720858, 0.7315317806795537, 1.524796465918317, -0.7562970183873434, 0.5426557390236036, 0.5131735893370422, -1.1370342487815206, 1.1363044523216463, 0.03011016115863619, -0.1844988603454125, -1.0691517608483327], \"y\": [0.08585353006516305, -0.7652436652770636, -1.560799863236166, 0.854928611529446, 1.5294104037358258, 0.7802959777606984, 1.1092660375040786, -1.2997181168756695, -0.2501396717599244, 1.1672653683073624, 0.2657593084709434, 1.8067828968864428, 2.908460836515882, 0.2257063168775166, -0.3943778128855632, 1.4865989885509223, -0.419053119941921, 0.44213002504736104, -0.8765347571627182, 0.7631550538754935, 0.7313001692354236, -1.0848126581308521, -0.5011764356270655, 2.615349826248938, -0.8267702619275237, -0.5289210111072653, 1.3128095271060611, -0.6975326835999035, -2.0177953107320556, -0.9545140586667944, -1.2781018895409393, 1.772525799618574, -0.270952170350105, -1.0259308609936295, -0.8200550048236666, 0.5804852648112692, -0.09088463880203278, 0.6374103190401424, 2.0817045409484805, -0.5332820753894929, 0.7065147478521874, 0.1892745845799814, -1.2746433493418645, 0.8779534537612734, 0.5730668677347721, 0.2719515023616077, -2.042453178577107, 0.09760892427219381, 0.6327008342432406, 1.1287005425410521, 1.3913044302720308, -0.5069090531869064, 0.669878472883447, 0.5221818133872991, -0.4496145272881422, -1.1840356351224515, -1.4220007648795254, 0.8360266708830294, 0.8913948071631754, 0.9224107560138586, 2.7530407202962603, 1.438217420240023, -0.778441889649213, 0.023935454828543142, -1.6850521077202243, 0.27334839638225666, 0.28254467216477613, -0.8706248368005733, 1.9480382430405512, 0.15650044446126365, 1.063511636852657, 0.3615248823338626, 0.6274131303035508, 1.2697867007397823, -0.28884869074427993, -0.8917344572713624, -0.9016784589646977, -0.010188903097623743, -1.4282164380032398, 0.7143102611827443, -0.7029927020280965, 1.2519290706979243, 0.3714371833846144, -0.22736512435993828, 0.4504921171578333, 1.6955931253260765, 0.15955568966672862, -1.5718305019534387, 1.12036549343057, 0.6992989938926815, -0.8095249209852535, -0.7252921710467097, 0.3321356478041808, 0.8755392562950008, -1.124210575231865, -0.5979379435472303, -1.3604643669204346, 0.6374742546791262, -1.7711220550881799, 0.569197677960444]}],                        {\"legend\": {\"bgcolor\": \"#F5F6F9\", \"font\": {\"color\": \"#4D5663\"}}, \"paper_bgcolor\": \"#F5F6F9\", \"plot_bgcolor\": \"#F5F6F9\", \"template\": {\"data\": {\"bar\": [{\"error_x\": {\"color\": \"#2a3f5f\"}, \"error_y\": {\"color\": \"#2a3f5f\"}, \"marker\": {\"line\": {\"color\": \"#E5ECF6\", \"width\": 0.5}}, \"type\": \"bar\"}], \"barpolar\": [{\"marker\": {\"line\": {\"color\": \"#E5ECF6\", \"width\": 0.5}}, \"type\": \"barpolar\"}], \"carpet\": [{\"aaxis\": {\"endlinecolor\": \"#2a3f5f\", \"gridcolor\": \"white\", \"linecolor\": \"white\", \"minorgridcolor\": \"white\", \"startlinecolor\": \"#2a3f5f\"}, \"baxis\": {\"endlinecolor\": \"#2a3f5f\", \"gridcolor\": \"white\", \"linecolor\": \"white\", \"minorgridcolor\": \"white\", \"startlinecolor\": \"#2a3f5f\"}, \"type\": \"carpet\"}], \"choropleth\": [{\"colorbar\": {\"outlinewidth\": 0, \"ticks\": \"\"}, \"type\": \"choropleth\"}], \"contour\": [{\"colorbar\": {\"outlinewidth\": 0, \"ticks\": \"\"}, \"colorscale\": [[0.0, \"#0d0887\"], [0.1111111111111111, \"#46039f\"], [0.2222222222222222, \"#7201a8\"], [0.3333333333333333, \"#9c179e\"], [0.4444444444444444, \"#bd3786\"], [0.5555555555555556, \"#d8576b\"], [0.6666666666666666, \"#ed7953\"], [0.7777777777777778, \"#fb9f3a\"], [0.8888888888888888, \"#fdca26\"], [1.0, \"#f0f921\"]], \"type\": \"contour\"}], \"contourcarpet\": [{\"colorbar\": {\"outlinewidth\": 0, \"ticks\": \"\"}, \"type\": \"contourcarpet\"}], \"heatmap\": [{\"colorbar\": {\"outlinewidth\": 0, \"ticks\": \"\"}, \"colorscale\": [[0.0, \"#0d0887\"], [0.1111111111111111, \"#46039f\"], [0.2222222222222222, \"#7201a8\"], [0.3333333333333333, \"#9c179e\"], [0.4444444444444444, \"#bd3786\"], [0.5555555555555556, \"#d8576b\"], [0.6666666666666666, \"#ed7953\"], [0.7777777777777778, \"#fb9f3a\"], [0.8888888888888888, \"#fdca26\"], [1.0, \"#f0f921\"]], \"type\": \"heatmap\"}], \"heatmapgl\": [{\"colorbar\": {\"outlinewidth\": 0, \"ticks\": \"\"}, \"colorscale\": [[0.0, \"#0d0887\"], [0.1111111111111111, \"#46039f\"], [0.2222222222222222, \"#7201a8\"], [0.3333333333333333, \"#9c179e\"], [0.4444444444444444, \"#bd3786\"], [0.5555555555555556, \"#d8576b\"], [0.6666666666666666, \"#ed7953\"], [0.7777777777777778, \"#fb9f3a\"], [0.8888888888888888, \"#fdca26\"], [1.0, \"#f0f921\"]], \"type\": \"heatmapgl\"}], \"histogram\": [{\"marker\": {\"colorbar\": {\"outlinewidth\": 0, \"ticks\": \"\"}}, \"type\": \"histogram\"}], \"histogram2d\": [{\"colorbar\": {\"outlinewidth\": 0, \"ticks\": \"\"}, \"colorscale\": [[0.0, \"#0d0887\"], [0.1111111111111111, \"#46039f\"], [0.2222222222222222, \"#7201a8\"], [0.3333333333333333, \"#9c179e\"], [0.4444444444444444, \"#bd3786\"], [0.5555555555555556, \"#d8576b\"], [0.6666666666666666, \"#ed7953\"], [0.7777777777777778, \"#fb9f3a\"], [0.8888888888888888, \"#fdca26\"], [1.0, \"#f0f921\"]], \"type\": \"histogram2d\"}], \"histogram2dcontour\": [{\"colorbar\": {\"outlinewidth\": 0, \"ticks\": \"\"}, \"colorscale\": [[0.0, \"#0d0887\"], [0.1111111111111111, \"#46039f\"], [0.2222222222222222, \"#7201a8\"], [0.3333333333333333, \"#9c179e\"], [0.4444444444444444, \"#bd3786\"], [0.5555555555555556, \"#d8576b\"], [0.6666666666666666, \"#ed7953\"], [0.7777777777777778, \"#fb9f3a\"], [0.8888888888888888, \"#fdca26\"], [1.0, \"#f0f921\"]], \"type\": \"histogram2dcontour\"}], \"mesh3d\": [{\"colorbar\": {\"outlinewidth\": 0, \"ticks\": \"\"}, \"type\": \"mesh3d\"}], \"parcoords\": [{\"line\": {\"colorbar\": {\"outlinewidth\": 0, \"ticks\": \"\"}}, \"type\": \"parcoords\"}], \"pie\": [{\"automargin\": true, \"type\": \"pie\"}], \"scatter\": [{\"marker\": {\"colorbar\": {\"outlinewidth\": 0, \"ticks\": \"\"}}, \"type\": \"scatter\"}], \"scatter3d\": [{\"line\": {\"colorbar\": {\"outlinewidth\": 0, \"ticks\": \"\"}}, \"marker\": {\"colorbar\": {\"outlinewidth\": 0, \"ticks\": \"\"}}, \"type\": \"scatter3d\"}], \"scattercarpet\": [{\"marker\": {\"colorbar\": {\"outlinewidth\": 0, \"ticks\": \"\"}}, \"type\": \"scattercarpet\"}], \"scattergeo\": [{\"marker\": {\"colorbar\": {\"outlinewidth\": 0, \"ticks\": \"\"}}, \"type\": \"scattergeo\"}], \"scattergl\": [{\"marker\": {\"colorbar\": {\"outlinewidth\": 0, \"ticks\": \"\"}}, \"type\": \"scattergl\"}], \"scattermapbox\": [{\"marker\": {\"colorbar\": {\"outlinewidth\": 0, \"ticks\": \"\"}}, \"type\": \"scattermapbox\"}], \"scatterpolar\": [{\"marker\": {\"colorbar\": {\"outlinewidth\": 0, \"ticks\": \"\"}}, \"type\": \"scatterpolar\"}], \"scatterpolargl\": [{\"marker\": {\"colorbar\": {\"outlinewidth\": 0, \"ticks\": \"\"}}, \"type\": \"scatterpolargl\"}], \"scatterternary\": [{\"marker\": {\"colorbar\": {\"outlinewidth\": 0, \"ticks\": \"\"}}, \"type\": \"scatterternary\"}], \"surface\": [{\"colorbar\": {\"outlinewidth\": 0, \"ticks\": \"\"}, \"colorscale\": [[0.0, \"#0d0887\"], [0.1111111111111111, \"#46039f\"], [0.2222222222222222, \"#7201a8\"], [0.3333333333333333, \"#9c179e\"], [0.4444444444444444, \"#bd3786\"], [0.5555555555555556, \"#d8576b\"], [0.6666666666666666, \"#ed7953\"], [0.7777777777777778, \"#fb9f3a\"], [0.8888888888888888, \"#fdca26\"], [1.0, \"#f0f921\"]], \"type\": \"surface\"}], \"table\": [{\"cells\": {\"fill\": {\"color\": \"#EBF0F8\"}, \"line\": {\"color\": \"white\"}}, \"header\": {\"fill\": {\"color\": \"#C8D4E3\"}, \"line\": {\"color\": \"white\"}}, \"type\": \"table\"}]}, \"layout\": {\"annotationdefaults\": {\"arrowcolor\": \"#2a3f5f\", \"arrowhead\": 0, \"arrowwidth\": 1}, \"autotypenumbers\": \"strict\", \"coloraxis\": {\"colorbar\": {\"outlinewidth\": 0, \"ticks\": \"\"}}, \"colorscale\": {\"diverging\": [[0, \"#8e0152\"], [0.1, \"#c51b7d\"], [0.2, \"#de77ae\"], [0.3, \"#f1b6da\"], [0.4, \"#fde0ef\"], [0.5, \"#f7f7f7\"], [0.6, \"#e6f5d0\"], [0.7, \"#b8e186\"], [0.8, \"#7fbc41\"], [0.9, \"#4d9221\"], [1, \"#276419\"]], \"sequential\": [[0.0, \"#0d0887\"], [0.1111111111111111, \"#46039f\"], [0.2222222222222222, \"#7201a8\"], [0.3333333333333333, \"#9c179e\"], [0.4444444444444444, \"#bd3786\"], [0.5555555555555556, \"#d8576b\"], [0.6666666666666666, \"#ed7953\"], [0.7777777777777778, \"#fb9f3a\"], [0.8888888888888888, \"#fdca26\"], [1.0, \"#f0f921\"]], \"sequentialminus\": [[0.0, \"#0d0887\"], [0.1111111111111111, \"#46039f\"], [0.2222222222222222, \"#7201a8\"], [0.3333333333333333, \"#9c179e\"], [0.4444444444444444, \"#bd3786\"], [0.5555555555555556, \"#d8576b\"], [0.6666666666666666, \"#ed7953\"], [0.7777777777777778, \"#fb9f3a\"], [0.8888888888888888, \"#fdca26\"], [1.0, \"#f0f921\"]]}, \"colorway\": [\"#636efa\", \"#EF553B\", \"#00cc96\", \"#ab63fa\", \"#FFA15A\", \"#19d3f3\", \"#FF6692\", \"#B6E880\", \"#FF97FF\", \"#FECB52\"], \"font\": {\"color\": \"#2a3f5f\"}, \"geo\": {\"bgcolor\": \"white\", \"lakecolor\": \"white\", \"landcolor\": \"#E5ECF6\", \"showlakes\": true, \"showland\": true, \"subunitcolor\": \"white\"}, \"hoverlabel\": {\"align\": \"left\"}, \"hovermode\": \"closest\", \"mapbox\": {\"style\": \"light\"}, \"paper_bgcolor\": \"white\", \"plot_bgcolor\": \"#E5ECF6\", \"polar\": {\"angularaxis\": {\"gridcolor\": \"white\", \"linecolor\": \"white\", \"ticks\": \"\"}, \"bgcolor\": \"#E5ECF6\", \"radialaxis\": {\"gridcolor\": \"white\", \"linecolor\": \"white\", \"ticks\": \"\"}}, \"scene\": {\"xaxis\": {\"backgroundcolor\": \"#E5ECF6\", \"gridcolor\": \"white\", \"gridwidth\": 2, \"linecolor\": \"white\", \"showbackground\": true, \"ticks\": \"\", \"zerolinecolor\": \"white\"}, \"yaxis\": {\"backgroundcolor\": \"#E5ECF6\", \"gridcolor\": \"white\", \"gridwidth\": 2, \"linecolor\": \"white\", \"showbackground\": true, \"ticks\": \"\", \"zerolinecolor\": \"white\"}, \"zaxis\": {\"backgroundcolor\": \"#E5ECF6\", \"gridcolor\": \"white\", \"gridwidth\": 2, \"linecolor\": \"white\", \"showbackground\": true, \"ticks\": \"\", \"zerolinecolor\": \"white\"}}, \"shapedefaults\": {\"line\": {\"color\": \"#2a3f5f\"}}, \"ternary\": {\"aaxis\": {\"gridcolor\": \"white\", \"linecolor\": \"white\", \"ticks\": \"\"}, \"baxis\": {\"gridcolor\": \"white\", \"linecolor\": \"white\", \"ticks\": \"\"}, \"bgcolor\": \"#E5ECF6\", \"caxis\": {\"gridcolor\": \"white\", \"linecolor\": \"white\", \"ticks\": \"\"}}, \"title\": {\"x\": 0.05}, \"xaxis\": {\"automargin\": true, \"gridcolor\": \"white\", \"linecolor\": \"white\", \"ticks\": \"\", \"title\": {\"standoff\": 15}, \"zerolinecolor\": \"white\", \"zerolinewidth\": 2}, \"yaxis\": {\"automargin\": true, \"gridcolor\": \"white\", \"linecolor\": \"white\", \"ticks\": \"\", \"title\": {\"standoff\": 15}, \"zerolinecolor\": \"white\", \"zerolinewidth\": 2}}}, \"title\": {\"font\": {\"color\": \"#4D5663\"}}, \"xaxis\": {\"gridcolor\": \"#E1E5ED\", \"showgrid\": true, \"tickfont\": {\"color\": \"#4D5663\"}, \"title\": {\"font\": {\"color\": \"#4D5663\"}, \"text\": \"\"}, \"zerolinecolor\": \"#E1E5ED\"}, \"yaxis\": {\"gridcolor\": \"#E1E5ED\", \"showgrid\": true, \"tickfont\": {\"color\": \"#4D5663\"}, \"title\": {\"font\": {\"color\": \"#4D5663\"}, \"text\": \"\"}, \"zerolinecolor\": \"#E1E5ED\"}},                        {\"showLink\": true, \"linkText\": \"Export to plot.ly\", \"plotlyServerURL\": \"https://plot.ly\", \"responsive\": true}                    ).then(function(){\n",
       "                            \n",
       "var gd = document.getElementById('e9233e42-6d9c-4056-946f-43d42cf561d2');\n",
       "var x = new MutationObserver(function (mutations, observer) {{\n",
       "        var display = window.getComputedStyle(gd).display;\n",
       "        if (!display || display === 'none') {{\n",
       "            console.log([gd, 'removed!']);\n",
       "            Plotly.purge(gd);\n",
       "            observer.disconnect();\n",
       "        }}\n",
       "}});\n",
       "\n",
       "// Listen for the removal of the full notebook cells\n",
       "var notebookContainer = gd.closest('#notebook-container');\n",
       "if (notebookContainer) {{\n",
       "    x.observe(notebookContainer, {childList: true});\n",
       "}}\n",
       "\n",
       "// Listen for the clearing of the current output cell\n",
       "var outputEl = gd.closest('.output');\n",
       "if (outputEl) {{\n",
       "    x.observe(outputEl, {childList: true});\n",
       "}}\n",
       "\n",
       "                        })                };                });            </script>        </div>"
      ]
     },
     "metadata": {},
     "output_type": "display_data"
    }
   ],
   "source": [
    "df.iplot(kind='scatter',x='A',y='B',mode='markers',size=10)"
   ]
  },
  {
   "cell_type": "markdown",
   "metadata": {},
   "source": [
    "## Bar Plots"
   ]
  },
  {
   "cell_type": "code",
   "execution_count": 11,
   "metadata": {},
   "outputs": [
    {
     "data": {
      "application/vnd.plotly.v1+json": {
       "config": {
        "linkText": "Export to plot.ly",
        "plotlyServerURL": "https://plot.ly",
        "showLink": true
       },
       "data": [
        {
         "marker": {
          "color": "rgba(255, 153, 51, 0.6)",
          "line": {
           "color": "rgba(255, 153, 51, 1.0)",
           "width": 1
          }
         },
         "name": "Values",
         "orientation": "v",
         "text": "",
         "type": "bar",
         "x": [
          "A",
          "B",
          "C"
         ],
         "y": [
          32,
          43,
          50
         ]
        }
       ],
       "layout": {
        "legend": {
         "bgcolor": "#F5F6F9",
         "font": {
          "color": "#4D5663"
         }
        },
        "paper_bgcolor": "#F5F6F9",
        "plot_bgcolor": "#F5F6F9",
        "template": {
         "data": {
          "bar": [
           {
            "error_x": {
             "color": "#2a3f5f"
            },
            "error_y": {
             "color": "#2a3f5f"
            },
            "marker": {
             "line": {
              "color": "#E5ECF6",
              "width": 0.5
             }
            },
            "type": "bar"
           }
          ],
          "barpolar": [
           {
            "marker": {
             "line": {
              "color": "#E5ECF6",
              "width": 0.5
             }
            },
            "type": "barpolar"
           }
          ],
          "carpet": [
           {
            "aaxis": {
             "endlinecolor": "#2a3f5f",
             "gridcolor": "white",
             "linecolor": "white",
             "minorgridcolor": "white",
             "startlinecolor": "#2a3f5f"
            },
            "baxis": {
             "endlinecolor": "#2a3f5f",
             "gridcolor": "white",
             "linecolor": "white",
             "minorgridcolor": "white",
             "startlinecolor": "#2a3f5f"
            },
            "type": "carpet"
           }
          ],
          "choropleth": [
           {
            "colorbar": {
             "outlinewidth": 0,
             "ticks": ""
            },
            "type": "choropleth"
           }
          ],
          "contour": [
           {
            "colorbar": {
             "outlinewidth": 0,
             "ticks": ""
            },
            "colorscale": [
             [
              0,
              "#0d0887"
             ],
             [
              0.1111111111111111,
              "#46039f"
             ],
             [
              0.2222222222222222,
              "#7201a8"
             ],
             [
              0.3333333333333333,
              "#9c179e"
             ],
             [
              0.4444444444444444,
              "#bd3786"
             ],
             [
              0.5555555555555556,
              "#d8576b"
             ],
             [
              0.6666666666666666,
              "#ed7953"
             ],
             [
              0.7777777777777778,
              "#fb9f3a"
             ],
             [
              0.8888888888888888,
              "#fdca26"
             ],
             [
              1,
              "#f0f921"
             ]
            ],
            "type": "contour"
           }
          ],
          "contourcarpet": [
           {
            "colorbar": {
             "outlinewidth": 0,
             "ticks": ""
            },
            "type": "contourcarpet"
           }
          ],
          "heatmap": [
           {
            "colorbar": {
             "outlinewidth": 0,
             "ticks": ""
            },
            "colorscale": [
             [
              0,
              "#0d0887"
             ],
             [
              0.1111111111111111,
              "#46039f"
             ],
             [
              0.2222222222222222,
              "#7201a8"
             ],
             [
              0.3333333333333333,
              "#9c179e"
             ],
             [
              0.4444444444444444,
              "#bd3786"
             ],
             [
              0.5555555555555556,
              "#d8576b"
             ],
             [
              0.6666666666666666,
              "#ed7953"
             ],
             [
              0.7777777777777778,
              "#fb9f3a"
             ],
             [
              0.8888888888888888,
              "#fdca26"
             ],
             [
              1,
              "#f0f921"
             ]
            ],
            "type": "heatmap"
           }
          ],
          "heatmapgl": [
           {
            "colorbar": {
             "outlinewidth": 0,
             "ticks": ""
            },
            "colorscale": [
             [
              0,
              "#0d0887"
             ],
             [
              0.1111111111111111,
              "#46039f"
             ],
             [
              0.2222222222222222,
              "#7201a8"
             ],
             [
              0.3333333333333333,
              "#9c179e"
             ],
             [
              0.4444444444444444,
              "#bd3786"
             ],
             [
              0.5555555555555556,
              "#d8576b"
             ],
             [
              0.6666666666666666,
              "#ed7953"
             ],
             [
              0.7777777777777778,
              "#fb9f3a"
             ],
             [
              0.8888888888888888,
              "#fdca26"
             ],
             [
              1,
              "#f0f921"
             ]
            ],
            "type": "heatmapgl"
           }
          ],
          "histogram": [
           {
            "marker": {
             "colorbar": {
              "outlinewidth": 0,
              "ticks": ""
             }
            },
            "type": "histogram"
           }
          ],
          "histogram2d": [
           {
            "colorbar": {
             "outlinewidth": 0,
             "ticks": ""
            },
            "colorscale": [
             [
              0,
              "#0d0887"
             ],
             [
              0.1111111111111111,
              "#46039f"
             ],
             [
              0.2222222222222222,
              "#7201a8"
             ],
             [
              0.3333333333333333,
              "#9c179e"
             ],
             [
              0.4444444444444444,
              "#bd3786"
             ],
             [
              0.5555555555555556,
              "#d8576b"
             ],
             [
              0.6666666666666666,
              "#ed7953"
             ],
             [
              0.7777777777777778,
              "#fb9f3a"
             ],
             [
              0.8888888888888888,
              "#fdca26"
             ],
             [
              1,
              "#f0f921"
             ]
            ],
            "type": "histogram2d"
           }
          ],
          "histogram2dcontour": [
           {
            "colorbar": {
             "outlinewidth": 0,
             "ticks": ""
            },
            "colorscale": [
             [
              0,
              "#0d0887"
             ],
             [
              0.1111111111111111,
              "#46039f"
             ],
             [
              0.2222222222222222,
              "#7201a8"
             ],
             [
              0.3333333333333333,
              "#9c179e"
             ],
             [
              0.4444444444444444,
              "#bd3786"
             ],
             [
              0.5555555555555556,
              "#d8576b"
             ],
             [
              0.6666666666666666,
              "#ed7953"
             ],
             [
              0.7777777777777778,
              "#fb9f3a"
             ],
             [
              0.8888888888888888,
              "#fdca26"
             ],
             [
              1,
              "#f0f921"
             ]
            ],
            "type": "histogram2dcontour"
           }
          ],
          "mesh3d": [
           {
            "colorbar": {
             "outlinewidth": 0,
             "ticks": ""
            },
            "type": "mesh3d"
           }
          ],
          "parcoords": [
           {
            "line": {
             "colorbar": {
              "outlinewidth": 0,
              "ticks": ""
             }
            },
            "type": "parcoords"
           }
          ],
          "pie": [
           {
            "automargin": true,
            "type": "pie"
           }
          ],
          "scatter": [
           {
            "marker": {
             "colorbar": {
              "outlinewidth": 0,
              "ticks": ""
             }
            },
            "type": "scatter"
           }
          ],
          "scatter3d": [
           {
            "line": {
             "colorbar": {
              "outlinewidth": 0,
              "ticks": ""
             }
            },
            "marker": {
             "colorbar": {
              "outlinewidth": 0,
              "ticks": ""
             }
            },
            "type": "scatter3d"
           }
          ],
          "scattercarpet": [
           {
            "marker": {
             "colorbar": {
              "outlinewidth": 0,
              "ticks": ""
             }
            },
            "type": "scattercarpet"
           }
          ],
          "scattergeo": [
           {
            "marker": {
             "colorbar": {
              "outlinewidth": 0,
              "ticks": ""
             }
            },
            "type": "scattergeo"
           }
          ],
          "scattergl": [
           {
            "marker": {
             "colorbar": {
              "outlinewidth": 0,
              "ticks": ""
             }
            },
            "type": "scattergl"
           }
          ],
          "scattermapbox": [
           {
            "marker": {
             "colorbar": {
              "outlinewidth": 0,
              "ticks": ""
             }
            },
            "type": "scattermapbox"
           }
          ],
          "scatterpolar": [
           {
            "marker": {
             "colorbar": {
              "outlinewidth": 0,
              "ticks": ""
             }
            },
            "type": "scatterpolar"
           }
          ],
          "scatterpolargl": [
           {
            "marker": {
             "colorbar": {
              "outlinewidth": 0,
              "ticks": ""
             }
            },
            "type": "scatterpolargl"
           }
          ],
          "scatterternary": [
           {
            "marker": {
             "colorbar": {
              "outlinewidth": 0,
              "ticks": ""
             }
            },
            "type": "scatterternary"
           }
          ],
          "surface": [
           {
            "colorbar": {
             "outlinewidth": 0,
             "ticks": ""
            },
            "colorscale": [
             [
              0,
              "#0d0887"
             ],
             [
              0.1111111111111111,
              "#46039f"
             ],
             [
              0.2222222222222222,
              "#7201a8"
             ],
             [
              0.3333333333333333,
              "#9c179e"
             ],
             [
              0.4444444444444444,
              "#bd3786"
             ],
             [
              0.5555555555555556,
              "#d8576b"
             ],
             [
              0.6666666666666666,
              "#ed7953"
             ],
             [
              0.7777777777777778,
              "#fb9f3a"
             ],
             [
              0.8888888888888888,
              "#fdca26"
             ],
             [
              1,
              "#f0f921"
             ]
            ],
            "type": "surface"
           }
          ],
          "table": [
           {
            "cells": {
             "fill": {
              "color": "#EBF0F8"
             },
             "line": {
              "color": "white"
             }
            },
            "header": {
             "fill": {
              "color": "#C8D4E3"
             },
             "line": {
              "color": "white"
             }
            },
            "type": "table"
           }
          ]
         },
         "layout": {
          "annotationdefaults": {
           "arrowcolor": "#2a3f5f",
           "arrowhead": 0,
           "arrowwidth": 1
          },
          "autotypenumbers": "strict",
          "coloraxis": {
           "colorbar": {
            "outlinewidth": 0,
            "ticks": ""
           }
          },
          "colorscale": {
           "diverging": [
            [
             0,
             "#8e0152"
            ],
            [
             0.1,
             "#c51b7d"
            ],
            [
             0.2,
             "#de77ae"
            ],
            [
             0.3,
             "#f1b6da"
            ],
            [
             0.4,
             "#fde0ef"
            ],
            [
             0.5,
             "#f7f7f7"
            ],
            [
             0.6,
             "#e6f5d0"
            ],
            [
             0.7,
             "#b8e186"
            ],
            [
             0.8,
             "#7fbc41"
            ],
            [
             0.9,
             "#4d9221"
            ],
            [
             1,
             "#276419"
            ]
           ],
           "sequential": [
            [
             0,
             "#0d0887"
            ],
            [
             0.1111111111111111,
             "#46039f"
            ],
            [
             0.2222222222222222,
             "#7201a8"
            ],
            [
             0.3333333333333333,
             "#9c179e"
            ],
            [
             0.4444444444444444,
             "#bd3786"
            ],
            [
             0.5555555555555556,
             "#d8576b"
            ],
            [
             0.6666666666666666,
             "#ed7953"
            ],
            [
             0.7777777777777778,
             "#fb9f3a"
            ],
            [
             0.8888888888888888,
             "#fdca26"
            ],
            [
             1,
             "#f0f921"
            ]
           ],
           "sequentialminus": [
            [
             0,
             "#0d0887"
            ],
            [
             0.1111111111111111,
             "#46039f"
            ],
            [
             0.2222222222222222,
             "#7201a8"
            ],
            [
             0.3333333333333333,
             "#9c179e"
            ],
            [
             0.4444444444444444,
             "#bd3786"
            ],
            [
             0.5555555555555556,
             "#d8576b"
            ],
            [
             0.6666666666666666,
             "#ed7953"
            ],
            [
             0.7777777777777778,
             "#fb9f3a"
            ],
            [
             0.8888888888888888,
             "#fdca26"
            ],
            [
             1,
             "#f0f921"
            ]
           ]
          },
          "colorway": [
           "#636efa",
           "#EF553B",
           "#00cc96",
           "#ab63fa",
           "#FFA15A",
           "#19d3f3",
           "#FF6692",
           "#B6E880",
           "#FF97FF",
           "#FECB52"
          ],
          "font": {
           "color": "#2a3f5f"
          },
          "geo": {
           "bgcolor": "white",
           "lakecolor": "white",
           "landcolor": "#E5ECF6",
           "showlakes": true,
           "showland": true,
           "subunitcolor": "white"
          },
          "hoverlabel": {
           "align": "left"
          },
          "hovermode": "closest",
          "mapbox": {
           "style": "light"
          },
          "paper_bgcolor": "white",
          "plot_bgcolor": "#E5ECF6",
          "polar": {
           "angularaxis": {
            "gridcolor": "white",
            "linecolor": "white",
            "ticks": ""
           },
           "bgcolor": "#E5ECF6",
           "radialaxis": {
            "gridcolor": "white",
            "linecolor": "white",
            "ticks": ""
           }
          },
          "scene": {
           "xaxis": {
            "backgroundcolor": "#E5ECF6",
            "gridcolor": "white",
            "gridwidth": 2,
            "linecolor": "white",
            "showbackground": true,
            "ticks": "",
            "zerolinecolor": "white"
           },
           "yaxis": {
            "backgroundcolor": "#E5ECF6",
            "gridcolor": "white",
            "gridwidth": 2,
            "linecolor": "white",
            "showbackground": true,
            "ticks": "",
            "zerolinecolor": "white"
           },
           "zaxis": {
            "backgroundcolor": "#E5ECF6",
            "gridcolor": "white",
            "gridwidth": 2,
            "linecolor": "white",
            "showbackground": true,
            "ticks": "",
            "zerolinecolor": "white"
           }
          },
          "shapedefaults": {
           "line": {
            "color": "#2a3f5f"
           }
          },
          "ternary": {
           "aaxis": {
            "gridcolor": "white",
            "linecolor": "white",
            "ticks": ""
           },
           "baxis": {
            "gridcolor": "white",
            "linecolor": "white",
            "ticks": ""
           },
           "bgcolor": "#E5ECF6",
           "caxis": {
            "gridcolor": "white",
            "linecolor": "white",
            "ticks": ""
           }
          },
          "title": {
           "x": 0.05
          },
          "xaxis": {
           "automargin": true,
           "gridcolor": "white",
           "linecolor": "white",
           "ticks": "",
           "title": {
            "standoff": 15
           },
           "zerolinecolor": "white",
           "zerolinewidth": 2
          },
          "yaxis": {
           "automargin": true,
           "gridcolor": "white",
           "linecolor": "white",
           "ticks": "",
           "title": {
            "standoff": 15
           },
           "zerolinecolor": "white",
           "zerolinewidth": 2
          }
         }
        },
        "title": {
         "font": {
          "color": "#4D5663"
         }
        },
        "xaxis": {
         "gridcolor": "#E1E5ED",
         "showgrid": true,
         "tickfont": {
          "color": "#4D5663"
         },
         "title": {
          "font": {
           "color": "#4D5663"
          },
          "text": ""
         },
         "zerolinecolor": "#E1E5ED"
        },
        "yaxis": {
         "gridcolor": "#E1E5ED",
         "showgrid": true,
         "tickfont": {
          "color": "#4D5663"
         },
         "title": {
          "font": {
           "color": "#4D5663"
          },
          "text": ""
         },
         "zerolinecolor": "#E1E5ED"
        }
       }
      },
      "text/html": [
       "<div>                            <div id=\"27c7cb0a-bf25-429f-98c3-9f525e13265f\" class=\"plotly-graph-div\" style=\"height:525px; width:100%;\"></div>            <script type=\"text/javascript\">                require([\"plotly\"], function(Plotly) {                    window.PLOTLYENV=window.PLOTLYENV || {};\n",
       "                    window.PLOTLYENV.BASE_URL='https://plot.ly';                                    if (document.getElementById(\"27c7cb0a-bf25-429f-98c3-9f525e13265f\")) {                    Plotly.newPlot(                        \"27c7cb0a-bf25-429f-98c3-9f525e13265f\",                        [{\"marker\": {\"color\": \"rgba(255, 153, 51, 0.6)\", \"line\": {\"color\": \"rgba(255, 153, 51, 1.0)\", \"width\": 1}}, \"name\": \"Values\", \"orientation\": \"v\", \"text\": \"\", \"type\": \"bar\", \"x\": [\"A\", \"B\", \"C\"], \"y\": [32, 43, 50]}],                        {\"legend\": {\"bgcolor\": \"#F5F6F9\", \"font\": {\"color\": \"#4D5663\"}}, \"paper_bgcolor\": \"#F5F6F9\", \"plot_bgcolor\": \"#F5F6F9\", \"template\": {\"data\": {\"bar\": [{\"error_x\": {\"color\": \"#2a3f5f\"}, \"error_y\": {\"color\": \"#2a3f5f\"}, \"marker\": {\"line\": {\"color\": \"#E5ECF6\", \"width\": 0.5}}, \"type\": \"bar\"}], \"barpolar\": [{\"marker\": {\"line\": {\"color\": \"#E5ECF6\", \"width\": 0.5}}, \"type\": \"barpolar\"}], \"carpet\": [{\"aaxis\": {\"endlinecolor\": \"#2a3f5f\", \"gridcolor\": \"white\", \"linecolor\": \"white\", \"minorgridcolor\": \"white\", \"startlinecolor\": \"#2a3f5f\"}, \"baxis\": {\"endlinecolor\": \"#2a3f5f\", \"gridcolor\": \"white\", \"linecolor\": \"white\", \"minorgridcolor\": \"white\", \"startlinecolor\": \"#2a3f5f\"}, \"type\": \"carpet\"}], \"choropleth\": [{\"colorbar\": {\"outlinewidth\": 0, \"ticks\": \"\"}, \"type\": \"choropleth\"}], \"contour\": [{\"colorbar\": {\"outlinewidth\": 0, \"ticks\": \"\"}, \"colorscale\": [[0.0, \"#0d0887\"], [0.1111111111111111, \"#46039f\"], [0.2222222222222222, \"#7201a8\"], [0.3333333333333333, \"#9c179e\"], [0.4444444444444444, \"#bd3786\"], [0.5555555555555556, \"#d8576b\"], [0.6666666666666666, \"#ed7953\"], [0.7777777777777778, \"#fb9f3a\"], [0.8888888888888888, \"#fdca26\"], [1.0, \"#f0f921\"]], \"type\": \"contour\"}], \"contourcarpet\": [{\"colorbar\": {\"outlinewidth\": 0, \"ticks\": \"\"}, \"type\": \"contourcarpet\"}], \"heatmap\": [{\"colorbar\": {\"outlinewidth\": 0, \"ticks\": \"\"}, \"colorscale\": [[0.0, \"#0d0887\"], [0.1111111111111111, \"#46039f\"], [0.2222222222222222, \"#7201a8\"], [0.3333333333333333, \"#9c179e\"], [0.4444444444444444, \"#bd3786\"], [0.5555555555555556, \"#d8576b\"], [0.6666666666666666, \"#ed7953\"], [0.7777777777777778, \"#fb9f3a\"], [0.8888888888888888, \"#fdca26\"], [1.0, \"#f0f921\"]], \"type\": \"heatmap\"}], \"heatmapgl\": [{\"colorbar\": {\"outlinewidth\": 0, \"ticks\": \"\"}, \"colorscale\": [[0.0, \"#0d0887\"], [0.1111111111111111, \"#46039f\"], [0.2222222222222222, \"#7201a8\"], [0.3333333333333333, \"#9c179e\"], [0.4444444444444444, \"#bd3786\"], [0.5555555555555556, \"#d8576b\"], [0.6666666666666666, \"#ed7953\"], [0.7777777777777778, \"#fb9f3a\"], [0.8888888888888888, \"#fdca26\"], [1.0, \"#f0f921\"]], \"type\": \"heatmapgl\"}], \"histogram\": [{\"marker\": {\"colorbar\": {\"outlinewidth\": 0, \"ticks\": \"\"}}, \"type\": \"histogram\"}], \"histogram2d\": [{\"colorbar\": {\"outlinewidth\": 0, \"ticks\": \"\"}, \"colorscale\": [[0.0, \"#0d0887\"], [0.1111111111111111, \"#46039f\"], [0.2222222222222222, \"#7201a8\"], [0.3333333333333333, \"#9c179e\"], [0.4444444444444444, \"#bd3786\"], [0.5555555555555556, \"#d8576b\"], [0.6666666666666666, \"#ed7953\"], [0.7777777777777778, \"#fb9f3a\"], [0.8888888888888888, \"#fdca26\"], [1.0, \"#f0f921\"]], \"type\": \"histogram2d\"}], \"histogram2dcontour\": [{\"colorbar\": {\"outlinewidth\": 0, \"ticks\": \"\"}, \"colorscale\": [[0.0, \"#0d0887\"], [0.1111111111111111, \"#46039f\"], [0.2222222222222222, \"#7201a8\"], [0.3333333333333333, \"#9c179e\"], [0.4444444444444444, \"#bd3786\"], [0.5555555555555556, \"#d8576b\"], [0.6666666666666666, \"#ed7953\"], [0.7777777777777778, \"#fb9f3a\"], [0.8888888888888888, \"#fdca26\"], [1.0, \"#f0f921\"]], \"type\": \"histogram2dcontour\"}], \"mesh3d\": [{\"colorbar\": {\"outlinewidth\": 0, \"ticks\": \"\"}, \"type\": \"mesh3d\"}], \"parcoords\": [{\"line\": {\"colorbar\": {\"outlinewidth\": 0, \"ticks\": \"\"}}, \"type\": \"parcoords\"}], \"pie\": [{\"automargin\": true, \"type\": \"pie\"}], \"scatter\": [{\"marker\": {\"colorbar\": {\"outlinewidth\": 0, \"ticks\": \"\"}}, \"type\": \"scatter\"}], \"scatter3d\": [{\"line\": {\"colorbar\": {\"outlinewidth\": 0, \"ticks\": \"\"}}, \"marker\": {\"colorbar\": {\"outlinewidth\": 0, \"ticks\": \"\"}}, \"type\": \"scatter3d\"}], \"scattercarpet\": [{\"marker\": {\"colorbar\": {\"outlinewidth\": 0, \"ticks\": \"\"}}, \"type\": \"scattercarpet\"}], \"scattergeo\": [{\"marker\": {\"colorbar\": {\"outlinewidth\": 0, \"ticks\": \"\"}}, \"type\": \"scattergeo\"}], \"scattergl\": [{\"marker\": {\"colorbar\": {\"outlinewidth\": 0, \"ticks\": \"\"}}, \"type\": \"scattergl\"}], \"scattermapbox\": [{\"marker\": {\"colorbar\": {\"outlinewidth\": 0, \"ticks\": \"\"}}, \"type\": \"scattermapbox\"}], \"scatterpolar\": [{\"marker\": {\"colorbar\": {\"outlinewidth\": 0, \"ticks\": \"\"}}, \"type\": \"scatterpolar\"}], \"scatterpolargl\": [{\"marker\": {\"colorbar\": {\"outlinewidth\": 0, \"ticks\": \"\"}}, \"type\": \"scatterpolargl\"}], \"scatterternary\": [{\"marker\": {\"colorbar\": {\"outlinewidth\": 0, \"ticks\": \"\"}}, \"type\": \"scatterternary\"}], \"surface\": [{\"colorbar\": {\"outlinewidth\": 0, \"ticks\": \"\"}, \"colorscale\": [[0.0, \"#0d0887\"], [0.1111111111111111, \"#46039f\"], [0.2222222222222222, \"#7201a8\"], [0.3333333333333333, \"#9c179e\"], [0.4444444444444444, \"#bd3786\"], [0.5555555555555556, \"#d8576b\"], [0.6666666666666666, \"#ed7953\"], [0.7777777777777778, \"#fb9f3a\"], [0.8888888888888888, \"#fdca26\"], [1.0, \"#f0f921\"]], \"type\": \"surface\"}], \"table\": [{\"cells\": {\"fill\": {\"color\": \"#EBF0F8\"}, \"line\": {\"color\": \"white\"}}, \"header\": {\"fill\": {\"color\": \"#C8D4E3\"}, \"line\": {\"color\": \"white\"}}, \"type\": \"table\"}]}, \"layout\": {\"annotationdefaults\": {\"arrowcolor\": \"#2a3f5f\", \"arrowhead\": 0, \"arrowwidth\": 1}, \"autotypenumbers\": \"strict\", \"coloraxis\": {\"colorbar\": {\"outlinewidth\": 0, \"ticks\": \"\"}}, \"colorscale\": {\"diverging\": [[0, \"#8e0152\"], [0.1, \"#c51b7d\"], [0.2, \"#de77ae\"], [0.3, \"#f1b6da\"], [0.4, \"#fde0ef\"], [0.5, \"#f7f7f7\"], [0.6, \"#e6f5d0\"], [0.7, \"#b8e186\"], [0.8, \"#7fbc41\"], [0.9, \"#4d9221\"], [1, \"#276419\"]], \"sequential\": [[0.0, \"#0d0887\"], [0.1111111111111111, \"#46039f\"], [0.2222222222222222, \"#7201a8\"], [0.3333333333333333, \"#9c179e\"], [0.4444444444444444, \"#bd3786\"], [0.5555555555555556, \"#d8576b\"], [0.6666666666666666, \"#ed7953\"], [0.7777777777777778, \"#fb9f3a\"], [0.8888888888888888, \"#fdca26\"], [1.0, \"#f0f921\"]], \"sequentialminus\": [[0.0, \"#0d0887\"], [0.1111111111111111, \"#46039f\"], [0.2222222222222222, \"#7201a8\"], [0.3333333333333333, \"#9c179e\"], [0.4444444444444444, \"#bd3786\"], [0.5555555555555556, \"#d8576b\"], [0.6666666666666666, \"#ed7953\"], [0.7777777777777778, \"#fb9f3a\"], [0.8888888888888888, \"#fdca26\"], [1.0, \"#f0f921\"]]}, \"colorway\": [\"#636efa\", \"#EF553B\", \"#00cc96\", \"#ab63fa\", \"#FFA15A\", \"#19d3f3\", \"#FF6692\", \"#B6E880\", \"#FF97FF\", \"#FECB52\"], \"font\": {\"color\": \"#2a3f5f\"}, \"geo\": {\"bgcolor\": \"white\", \"lakecolor\": \"white\", \"landcolor\": \"#E5ECF6\", \"showlakes\": true, \"showland\": true, \"subunitcolor\": \"white\"}, \"hoverlabel\": {\"align\": \"left\"}, \"hovermode\": \"closest\", \"mapbox\": {\"style\": \"light\"}, \"paper_bgcolor\": \"white\", \"plot_bgcolor\": \"#E5ECF6\", \"polar\": {\"angularaxis\": {\"gridcolor\": \"white\", \"linecolor\": \"white\", \"ticks\": \"\"}, \"bgcolor\": \"#E5ECF6\", \"radialaxis\": {\"gridcolor\": \"white\", \"linecolor\": \"white\", \"ticks\": \"\"}}, \"scene\": {\"xaxis\": {\"backgroundcolor\": \"#E5ECF6\", \"gridcolor\": \"white\", \"gridwidth\": 2, \"linecolor\": \"white\", \"showbackground\": true, \"ticks\": \"\", \"zerolinecolor\": \"white\"}, \"yaxis\": {\"backgroundcolor\": \"#E5ECF6\", \"gridcolor\": \"white\", \"gridwidth\": 2, \"linecolor\": \"white\", \"showbackground\": true, \"ticks\": \"\", \"zerolinecolor\": \"white\"}, \"zaxis\": {\"backgroundcolor\": \"#E5ECF6\", \"gridcolor\": \"white\", \"gridwidth\": 2, \"linecolor\": \"white\", \"showbackground\": true, \"ticks\": \"\", \"zerolinecolor\": \"white\"}}, \"shapedefaults\": {\"line\": {\"color\": \"#2a3f5f\"}}, \"ternary\": {\"aaxis\": {\"gridcolor\": \"white\", \"linecolor\": \"white\", \"ticks\": \"\"}, \"baxis\": {\"gridcolor\": \"white\", \"linecolor\": \"white\", \"ticks\": \"\"}, \"bgcolor\": \"#E5ECF6\", \"caxis\": {\"gridcolor\": \"white\", \"linecolor\": \"white\", \"ticks\": \"\"}}, \"title\": {\"x\": 0.05}, \"xaxis\": {\"automargin\": true, \"gridcolor\": \"white\", \"linecolor\": \"white\", \"ticks\": \"\", \"title\": {\"standoff\": 15}, \"zerolinecolor\": \"white\", \"zerolinewidth\": 2}, \"yaxis\": {\"automargin\": true, \"gridcolor\": \"white\", \"linecolor\": \"white\", \"ticks\": \"\", \"title\": {\"standoff\": 15}, \"zerolinecolor\": \"white\", \"zerolinewidth\": 2}}}, \"title\": {\"font\": {\"color\": \"#4D5663\"}}, \"xaxis\": {\"gridcolor\": \"#E1E5ED\", \"showgrid\": true, \"tickfont\": {\"color\": \"#4D5663\"}, \"title\": {\"font\": {\"color\": \"#4D5663\"}, \"text\": \"\"}, \"zerolinecolor\": \"#E1E5ED\"}, \"yaxis\": {\"gridcolor\": \"#E1E5ED\", \"showgrid\": true, \"tickfont\": {\"color\": \"#4D5663\"}, \"title\": {\"font\": {\"color\": \"#4D5663\"}, \"text\": \"\"}, \"zerolinecolor\": \"#E1E5ED\"}},                        {\"showLink\": true, \"linkText\": \"Export to plot.ly\", \"plotlyServerURL\": \"https://plot.ly\", \"responsive\": true}                    ).then(function(){\n",
       "                            \n",
       "var gd = document.getElementById('27c7cb0a-bf25-429f-98c3-9f525e13265f');\n",
       "var x = new MutationObserver(function (mutations, observer) {{\n",
       "        var display = window.getComputedStyle(gd).display;\n",
       "        if (!display || display === 'none') {{\n",
       "            console.log([gd, 'removed!']);\n",
       "            Plotly.purge(gd);\n",
       "            observer.disconnect();\n",
       "        }}\n",
       "}});\n",
       "\n",
       "// Listen for the removal of the full notebook cells\n",
       "var notebookContainer = gd.closest('#notebook-container');\n",
       "if (notebookContainer) {{\n",
       "    x.observe(notebookContainer, {childList: true});\n",
       "}}\n",
       "\n",
       "// Listen for the clearing of the current output cell\n",
       "var outputEl = gd.closest('.output');\n",
       "if (outputEl) {{\n",
       "    x.observe(outputEl, {childList: true});\n",
       "}}\n",
       "\n",
       "                        })                };                });            </script>        </div>"
      ]
     },
     "metadata": {},
     "output_type": "display_data"
    }
   ],
   "source": [
    "df2.iplot(kind='bar',x='Category',y='Values')"
   ]
  },
  {
   "cell_type": "code",
   "execution_count": 12,
   "metadata": {},
   "outputs": [
    {
     "data": {
      "application/vnd.plotly.v1+json": {
       "config": {
        "linkText": "Export to plot.ly",
        "plotlyServerURL": "https://plot.ly",
        "showLink": true
       },
       "data": [
        {
         "marker": {
          "color": "rgba(255, 153, 51, 0.6)",
          "line": {
           "color": "rgba(255, 153, 51, 1.0)",
           "width": 1
          }
         },
         "name": "None",
         "orientation": "v",
         "text": "",
         "type": "bar",
         "x": [
          "A",
          "B",
          "C",
          "D"
         ],
         "y": [
          100,
          100,
          100,
          100
         ]
        }
       ],
       "layout": {
        "legend": {
         "bgcolor": "#F5F6F9",
         "font": {
          "color": "#4D5663"
         }
        },
        "paper_bgcolor": "#F5F6F9",
        "plot_bgcolor": "#F5F6F9",
        "template": {
         "data": {
          "bar": [
           {
            "error_x": {
             "color": "#2a3f5f"
            },
            "error_y": {
             "color": "#2a3f5f"
            },
            "marker": {
             "line": {
              "color": "#E5ECF6",
              "width": 0.5
             }
            },
            "type": "bar"
           }
          ],
          "barpolar": [
           {
            "marker": {
             "line": {
              "color": "#E5ECF6",
              "width": 0.5
             }
            },
            "type": "barpolar"
           }
          ],
          "carpet": [
           {
            "aaxis": {
             "endlinecolor": "#2a3f5f",
             "gridcolor": "white",
             "linecolor": "white",
             "minorgridcolor": "white",
             "startlinecolor": "#2a3f5f"
            },
            "baxis": {
             "endlinecolor": "#2a3f5f",
             "gridcolor": "white",
             "linecolor": "white",
             "minorgridcolor": "white",
             "startlinecolor": "#2a3f5f"
            },
            "type": "carpet"
           }
          ],
          "choropleth": [
           {
            "colorbar": {
             "outlinewidth": 0,
             "ticks": ""
            },
            "type": "choropleth"
           }
          ],
          "contour": [
           {
            "colorbar": {
             "outlinewidth": 0,
             "ticks": ""
            },
            "colorscale": [
             [
              0,
              "#0d0887"
             ],
             [
              0.1111111111111111,
              "#46039f"
             ],
             [
              0.2222222222222222,
              "#7201a8"
             ],
             [
              0.3333333333333333,
              "#9c179e"
             ],
             [
              0.4444444444444444,
              "#bd3786"
             ],
             [
              0.5555555555555556,
              "#d8576b"
             ],
             [
              0.6666666666666666,
              "#ed7953"
             ],
             [
              0.7777777777777778,
              "#fb9f3a"
             ],
             [
              0.8888888888888888,
              "#fdca26"
             ],
             [
              1,
              "#f0f921"
             ]
            ],
            "type": "contour"
           }
          ],
          "contourcarpet": [
           {
            "colorbar": {
             "outlinewidth": 0,
             "ticks": ""
            },
            "type": "contourcarpet"
           }
          ],
          "heatmap": [
           {
            "colorbar": {
             "outlinewidth": 0,
             "ticks": ""
            },
            "colorscale": [
             [
              0,
              "#0d0887"
             ],
             [
              0.1111111111111111,
              "#46039f"
             ],
             [
              0.2222222222222222,
              "#7201a8"
             ],
             [
              0.3333333333333333,
              "#9c179e"
             ],
             [
              0.4444444444444444,
              "#bd3786"
             ],
             [
              0.5555555555555556,
              "#d8576b"
             ],
             [
              0.6666666666666666,
              "#ed7953"
             ],
             [
              0.7777777777777778,
              "#fb9f3a"
             ],
             [
              0.8888888888888888,
              "#fdca26"
             ],
             [
              1,
              "#f0f921"
             ]
            ],
            "type": "heatmap"
           }
          ],
          "heatmapgl": [
           {
            "colorbar": {
             "outlinewidth": 0,
             "ticks": ""
            },
            "colorscale": [
             [
              0,
              "#0d0887"
             ],
             [
              0.1111111111111111,
              "#46039f"
             ],
             [
              0.2222222222222222,
              "#7201a8"
             ],
             [
              0.3333333333333333,
              "#9c179e"
             ],
             [
              0.4444444444444444,
              "#bd3786"
             ],
             [
              0.5555555555555556,
              "#d8576b"
             ],
             [
              0.6666666666666666,
              "#ed7953"
             ],
             [
              0.7777777777777778,
              "#fb9f3a"
             ],
             [
              0.8888888888888888,
              "#fdca26"
             ],
             [
              1,
              "#f0f921"
             ]
            ],
            "type": "heatmapgl"
           }
          ],
          "histogram": [
           {
            "marker": {
             "colorbar": {
              "outlinewidth": 0,
              "ticks": ""
             }
            },
            "type": "histogram"
           }
          ],
          "histogram2d": [
           {
            "colorbar": {
             "outlinewidth": 0,
             "ticks": ""
            },
            "colorscale": [
             [
              0,
              "#0d0887"
             ],
             [
              0.1111111111111111,
              "#46039f"
             ],
             [
              0.2222222222222222,
              "#7201a8"
             ],
             [
              0.3333333333333333,
              "#9c179e"
             ],
             [
              0.4444444444444444,
              "#bd3786"
             ],
             [
              0.5555555555555556,
              "#d8576b"
             ],
             [
              0.6666666666666666,
              "#ed7953"
             ],
             [
              0.7777777777777778,
              "#fb9f3a"
             ],
             [
              0.8888888888888888,
              "#fdca26"
             ],
             [
              1,
              "#f0f921"
             ]
            ],
            "type": "histogram2d"
           }
          ],
          "histogram2dcontour": [
           {
            "colorbar": {
             "outlinewidth": 0,
             "ticks": ""
            },
            "colorscale": [
             [
              0,
              "#0d0887"
             ],
             [
              0.1111111111111111,
              "#46039f"
             ],
             [
              0.2222222222222222,
              "#7201a8"
             ],
             [
              0.3333333333333333,
              "#9c179e"
             ],
             [
              0.4444444444444444,
              "#bd3786"
             ],
             [
              0.5555555555555556,
              "#d8576b"
             ],
             [
              0.6666666666666666,
              "#ed7953"
             ],
             [
              0.7777777777777778,
              "#fb9f3a"
             ],
             [
              0.8888888888888888,
              "#fdca26"
             ],
             [
              1,
              "#f0f921"
             ]
            ],
            "type": "histogram2dcontour"
           }
          ],
          "mesh3d": [
           {
            "colorbar": {
             "outlinewidth": 0,
             "ticks": ""
            },
            "type": "mesh3d"
           }
          ],
          "parcoords": [
           {
            "line": {
             "colorbar": {
              "outlinewidth": 0,
              "ticks": ""
             }
            },
            "type": "parcoords"
           }
          ],
          "pie": [
           {
            "automargin": true,
            "type": "pie"
           }
          ],
          "scatter": [
           {
            "marker": {
             "colorbar": {
              "outlinewidth": 0,
              "ticks": ""
             }
            },
            "type": "scatter"
           }
          ],
          "scatter3d": [
           {
            "line": {
             "colorbar": {
              "outlinewidth": 0,
              "ticks": ""
             }
            },
            "marker": {
             "colorbar": {
              "outlinewidth": 0,
              "ticks": ""
             }
            },
            "type": "scatter3d"
           }
          ],
          "scattercarpet": [
           {
            "marker": {
             "colorbar": {
              "outlinewidth": 0,
              "ticks": ""
             }
            },
            "type": "scattercarpet"
           }
          ],
          "scattergeo": [
           {
            "marker": {
             "colorbar": {
              "outlinewidth": 0,
              "ticks": ""
             }
            },
            "type": "scattergeo"
           }
          ],
          "scattergl": [
           {
            "marker": {
             "colorbar": {
              "outlinewidth": 0,
              "ticks": ""
             }
            },
            "type": "scattergl"
           }
          ],
          "scattermapbox": [
           {
            "marker": {
             "colorbar": {
              "outlinewidth": 0,
              "ticks": ""
             }
            },
            "type": "scattermapbox"
           }
          ],
          "scatterpolar": [
           {
            "marker": {
             "colorbar": {
              "outlinewidth": 0,
              "ticks": ""
             }
            },
            "type": "scatterpolar"
           }
          ],
          "scatterpolargl": [
           {
            "marker": {
             "colorbar": {
              "outlinewidth": 0,
              "ticks": ""
             }
            },
            "type": "scatterpolargl"
           }
          ],
          "scatterternary": [
           {
            "marker": {
             "colorbar": {
              "outlinewidth": 0,
              "ticks": ""
             }
            },
            "type": "scatterternary"
           }
          ],
          "surface": [
           {
            "colorbar": {
             "outlinewidth": 0,
             "ticks": ""
            },
            "colorscale": [
             [
              0,
              "#0d0887"
             ],
             [
              0.1111111111111111,
              "#46039f"
             ],
             [
              0.2222222222222222,
              "#7201a8"
             ],
             [
              0.3333333333333333,
              "#9c179e"
             ],
             [
              0.4444444444444444,
              "#bd3786"
             ],
             [
              0.5555555555555556,
              "#d8576b"
             ],
             [
              0.6666666666666666,
              "#ed7953"
             ],
             [
              0.7777777777777778,
              "#fb9f3a"
             ],
             [
              0.8888888888888888,
              "#fdca26"
             ],
             [
              1,
              "#f0f921"
             ]
            ],
            "type": "surface"
           }
          ],
          "table": [
           {
            "cells": {
             "fill": {
              "color": "#EBF0F8"
             },
             "line": {
              "color": "white"
             }
            },
            "header": {
             "fill": {
              "color": "#C8D4E3"
             },
             "line": {
              "color": "white"
             }
            },
            "type": "table"
           }
          ]
         },
         "layout": {
          "annotationdefaults": {
           "arrowcolor": "#2a3f5f",
           "arrowhead": 0,
           "arrowwidth": 1
          },
          "autotypenumbers": "strict",
          "coloraxis": {
           "colorbar": {
            "outlinewidth": 0,
            "ticks": ""
           }
          },
          "colorscale": {
           "diverging": [
            [
             0,
             "#8e0152"
            ],
            [
             0.1,
             "#c51b7d"
            ],
            [
             0.2,
             "#de77ae"
            ],
            [
             0.3,
             "#f1b6da"
            ],
            [
             0.4,
             "#fde0ef"
            ],
            [
             0.5,
             "#f7f7f7"
            ],
            [
             0.6,
             "#e6f5d0"
            ],
            [
             0.7,
             "#b8e186"
            ],
            [
             0.8,
             "#7fbc41"
            ],
            [
             0.9,
             "#4d9221"
            ],
            [
             1,
             "#276419"
            ]
           ],
           "sequential": [
            [
             0,
             "#0d0887"
            ],
            [
             0.1111111111111111,
             "#46039f"
            ],
            [
             0.2222222222222222,
             "#7201a8"
            ],
            [
             0.3333333333333333,
             "#9c179e"
            ],
            [
             0.4444444444444444,
             "#bd3786"
            ],
            [
             0.5555555555555556,
             "#d8576b"
            ],
            [
             0.6666666666666666,
             "#ed7953"
            ],
            [
             0.7777777777777778,
             "#fb9f3a"
            ],
            [
             0.8888888888888888,
             "#fdca26"
            ],
            [
             1,
             "#f0f921"
            ]
           ],
           "sequentialminus": [
            [
             0,
             "#0d0887"
            ],
            [
             0.1111111111111111,
             "#46039f"
            ],
            [
             0.2222222222222222,
             "#7201a8"
            ],
            [
             0.3333333333333333,
             "#9c179e"
            ],
            [
             0.4444444444444444,
             "#bd3786"
            ],
            [
             0.5555555555555556,
             "#d8576b"
            ],
            [
             0.6666666666666666,
             "#ed7953"
            ],
            [
             0.7777777777777778,
             "#fb9f3a"
            ],
            [
             0.8888888888888888,
             "#fdca26"
            ],
            [
             1,
             "#f0f921"
            ]
           ]
          },
          "colorway": [
           "#636efa",
           "#EF553B",
           "#00cc96",
           "#ab63fa",
           "#FFA15A",
           "#19d3f3",
           "#FF6692",
           "#B6E880",
           "#FF97FF",
           "#FECB52"
          ],
          "font": {
           "color": "#2a3f5f"
          },
          "geo": {
           "bgcolor": "white",
           "lakecolor": "white",
           "landcolor": "#E5ECF6",
           "showlakes": true,
           "showland": true,
           "subunitcolor": "white"
          },
          "hoverlabel": {
           "align": "left"
          },
          "hovermode": "closest",
          "mapbox": {
           "style": "light"
          },
          "paper_bgcolor": "white",
          "plot_bgcolor": "#E5ECF6",
          "polar": {
           "angularaxis": {
            "gridcolor": "white",
            "linecolor": "white",
            "ticks": ""
           },
           "bgcolor": "#E5ECF6",
           "radialaxis": {
            "gridcolor": "white",
            "linecolor": "white",
            "ticks": ""
           }
          },
          "scene": {
           "xaxis": {
            "backgroundcolor": "#E5ECF6",
            "gridcolor": "white",
            "gridwidth": 2,
            "linecolor": "white",
            "showbackground": true,
            "ticks": "",
            "zerolinecolor": "white"
           },
           "yaxis": {
            "backgroundcolor": "#E5ECF6",
            "gridcolor": "white",
            "gridwidth": 2,
            "linecolor": "white",
            "showbackground": true,
            "ticks": "",
            "zerolinecolor": "white"
           },
           "zaxis": {
            "backgroundcolor": "#E5ECF6",
            "gridcolor": "white",
            "gridwidth": 2,
            "linecolor": "white",
            "showbackground": true,
            "ticks": "",
            "zerolinecolor": "white"
           }
          },
          "shapedefaults": {
           "line": {
            "color": "#2a3f5f"
           }
          },
          "ternary": {
           "aaxis": {
            "gridcolor": "white",
            "linecolor": "white",
            "ticks": ""
           },
           "baxis": {
            "gridcolor": "white",
            "linecolor": "white",
            "ticks": ""
           },
           "bgcolor": "#E5ECF6",
           "caxis": {
            "gridcolor": "white",
            "linecolor": "white",
            "ticks": ""
           }
          },
          "title": {
           "x": 0.05
          },
          "xaxis": {
           "automargin": true,
           "gridcolor": "white",
           "linecolor": "white",
           "ticks": "",
           "title": {
            "standoff": 15
           },
           "zerolinecolor": "white",
           "zerolinewidth": 2
          },
          "yaxis": {
           "automargin": true,
           "gridcolor": "white",
           "linecolor": "white",
           "ticks": "",
           "title": {
            "standoff": 15
           },
           "zerolinecolor": "white",
           "zerolinewidth": 2
          }
         }
        },
        "title": {
         "font": {
          "color": "#4D5663"
         }
        },
        "xaxis": {
         "gridcolor": "#E1E5ED",
         "showgrid": true,
         "tickfont": {
          "color": "#4D5663"
         },
         "title": {
          "font": {
           "color": "#4D5663"
          },
          "text": ""
         },
         "zerolinecolor": "#E1E5ED"
        },
        "yaxis": {
         "gridcolor": "#E1E5ED",
         "showgrid": true,
         "tickfont": {
          "color": "#4D5663"
         },
         "title": {
          "font": {
           "color": "#4D5663"
          },
          "text": ""
         },
         "zerolinecolor": "#E1E5ED"
        }
       }
      },
      "text/html": [
       "<div>                            <div id=\"df7781b1-9e61-4783-a07c-b31527d8e4ed\" class=\"plotly-graph-div\" style=\"height:525px; width:100%;\"></div>            <script type=\"text/javascript\">                require([\"plotly\"], function(Plotly) {                    window.PLOTLYENV=window.PLOTLYENV || {};\n",
       "                    window.PLOTLYENV.BASE_URL='https://plot.ly';                                    if (document.getElementById(\"df7781b1-9e61-4783-a07c-b31527d8e4ed\")) {                    Plotly.newPlot(                        \"df7781b1-9e61-4783-a07c-b31527d8e4ed\",                        [{\"marker\": {\"color\": \"rgba(255, 153, 51, 0.6)\", \"line\": {\"color\": \"rgba(255, 153, 51, 1.0)\", \"width\": 1}}, \"name\": \"None\", \"orientation\": \"v\", \"text\": \"\", \"type\": \"bar\", \"x\": [\"A\", \"B\", \"C\", \"D\"], \"y\": [100, 100, 100, 100]}],                        {\"legend\": {\"bgcolor\": \"#F5F6F9\", \"font\": {\"color\": \"#4D5663\"}}, \"paper_bgcolor\": \"#F5F6F9\", \"plot_bgcolor\": \"#F5F6F9\", \"template\": {\"data\": {\"bar\": [{\"error_x\": {\"color\": \"#2a3f5f\"}, \"error_y\": {\"color\": \"#2a3f5f\"}, \"marker\": {\"line\": {\"color\": \"#E5ECF6\", \"width\": 0.5}}, \"type\": \"bar\"}], \"barpolar\": [{\"marker\": {\"line\": {\"color\": \"#E5ECF6\", \"width\": 0.5}}, \"type\": \"barpolar\"}], \"carpet\": [{\"aaxis\": {\"endlinecolor\": \"#2a3f5f\", \"gridcolor\": \"white\", \"linecolor\": \"white\", \"minorgridcolor\": \"white\", \"startlinecolor\": \"#2a3f5f\"}, \"baxis\": {\"endlinecolor\": \"#2a3f5f\", \"gridcolor\": \"white\", \"linecolor\": \"white\", \"minorgridcolor\": \"white\", \"startlinecolor\": \"#2a3f5f\"}, \"type\": \"carpet\"}], \"choropleth\": [{\"colorbar\": {\"outlinewidth\": 0, \"ticks\": \"\"}, \"type\": \"choropleth\"}], \"contour\": [{\"colorbar\": {\"outlinewidth\": 0, \"ticks\": \"\"}, \"colorscale\": [[0.0, \"#0d0887\"], [0.1111111111111111, \"#46039f\"], [0.2222222222222222, \"#7201a8\"], [0.3333333333333333, \"#9c179e\"], [0.4444444444444444, \"#bd3786\"], [0.5555555555555556, \"#d8576b\"], [0.6666666666666666, \"#ed7953\"], [0.7777777777777778, \"#fb9f3a\"], [0.8888888888888888, \"#fdca26\"], [1.0, \"#f0f921\"]], \"type\": \"contour\"}], \"contourcarpet\": [{\"colorbar\": {\"outlinewidth\": 0, \"ticks\": \"\"}, \"type\": \"contourcarpet\"}], \"heatmap\": [{\"colorbar\": {\"outlinewidth\": 0, \"ticks\": \"\"}, \"colorscale\": [[0.0, \"#0d0887\"], [0.1111111111111111, \"#46039f\"], [0.2222222222222222, \"#7201a8\"], [0.3333333333333333, \"#9c179e\"], [0.4444444444444444, \"#bd3786\"], [0.5555555555555556, \"#d8576b\"], [0.6666666666666666, \"#ed7953\"], [0.7777777777777778, \"#fb9f3a\"], [0.8888888888888888, \"#fdca26\"], [1.0, \"#f0f921\"]], \"type\": \"heatmap\"}], \"heatmapgl\": [{\"colorbar\": {\"outlinewidth\": 0, \"ticks\": \"\"}, \"colorscale\": [[0.0, \"#0d0887\"], [0.1111111111111111, \"#46039f\"], [0.2222222222222222, \"#7201a8\"], [0.3333333333333333, \"#9c179e\"], [0.4444444444444444, \"#bd3786\"], [0.5555555555555556, \"#d8576b\"], [0.6666666666666666, \"#ed7953\"], [0.7777777777777778, \"#fb9f3a\"], [0.8888888888888888, \"#fdca26\"], [1.0, \"#f0f921\"]], \"type\": \"heatmapgl\"}], \"histogram\": [{\"marker\": {\"colorbar\": {\"outlinewidth\": 0, \"ticks\": \"\"}}, \"type\": \"histogram\"}], \"histogram2d\": [{\"colorbar\": {\"outlinewidth\": 0, \"ticks\": \"\"}, \"colorscale\": [[0.0, \"#0d0887\"], [0.1111111111111111, \"#46039f\"], [0.2222222222222222, \"#7201a8\"], [0.3333333333333333, \"#9c179e\"], [0.4444444444444444, \"#bd3786\"], [0.5555555555555556, \"#d8576b\"], [0.6666666666666666, \"#ed7953\"], [0.7777777777777778, \"#fb9f3a\"], [0.8888888888888888, \"#fdca26\"], [1.0, \"#f0f921\"]], \"type\": \"histogram2d\"}], \"histogram2dcontour\": [{\"colorbar\": {\"outlinewidth\": 0, \"ticks\": \"\"}, \"colorscale\": [[0.0, \"#0d0887\"], [0.1111111111111111, \"#46039f\"], [0.2222222222222222, \"#7201a8\"], [0.3333333333333333, \"#9c179e\"], [0.4444444444444444, \"#bd3786\"], [0.5555555555555556, \"#d8576b\"], [0.6666666666666666, \"#ed7953\"], [0.7777777777777778, \"#fb9f3a\"], [0.8888888888888888, \"#fdca26\"], [1.0, \"#f0f921\"]], \"type\": \"histogram2dcontour\"}], \"mesh3d\": [{\"colorbar\": {\"outlinewidth\": 0, \"ticks\": \"\"}, \"type\": \"mesh3d\"}], \"parcoords\": [{\"line\": {\"colorbar\": {\"outlinewidth\": 0, \"ticks\": \"\"}}, \"type\": \"parcoords\"}], \"pie\": [{\"automargin\": true, \"type\": \"pie\"}], \"scatter\": [{\"marker\": {\"colorbar\": {\"outlinewidth\": 0, \"ticks\": \"\"}}, \"type\": \"scatter\"}], \"scatter3d\": [{\"line\": {\"colorbar\": {\"outlinewidth\": 0, \"ticks\": \"\"}}, \"marker\": {\"colorbar\": {\"outlinewidth\": 0, \"ticks\": \"\"}}, \"type\": \"scatter3d\"}], \"scattercarpet\": [{\"marker\": {\"colorbar\": {\"outlinewidth\": 0, \"ticks\": \"\"}}, \"type\": \"scattercarpet\"}], \"scattergeo\": [{\"marker\": {\"colorbar\": {\"outlinewidth\": 0, \"ticks\": \"\"}}, \"type\": \"scattergeo\"}], \"scattergl\": [{\"marker\": {\"colorbar\": {\"outlinewidth\": 0, \"ticks\": \"\"}}, \"type\": \"scattergl\"}], \"scattermapbox\": [{\"marker\": {\"colorbar\": {\"outlinewidth\": 0, \"ticks\": \"\"}}, \"type\": \"scattermapbox\"}], \"scatterpolar\": [{\"marker\": {\"colorbar\": {\"outlinewidth\": 0, \"ticks\": \"\"}}, \"type\": \"scatterpolar\"}], \"scatterpolargl\": [{\"marker\": {\"colorbar\": {\"outlinewidth\": 0, \"ticks\": \"\"}}, \"type\": \"scatterpolargl\"}], \"scatterternary\": [{\"marker\": {\"colorbar\": {\"outlinewidth\": 0, \"ticks\": \"\"}}, \"type\": \"scatterternary\"}], \"surface\": [{\"colorbar\": {\"outlinewidth\": 0, \"ticks\": \"\"}, \"colorscale\": [[0.0, \"#0d0887\"], [0.1111111111111111, \"#46039f\"], [0.2222222222222222, \"#7201a8\"], [0.3333333333333333, \"#9c179e\"], [0.4444444444444444, \"#bd3786\"], [0.5555555555555556, \"#d8576b\"], [0.6666666666666666, \"#ed7953\"], [0.7777777777777778, \"#fb9f3a\"], [0.8888888888888888, \"#fdca26\"], [1.0, \"#f0f921\"]], \"type\": \"surface\"}], \"table\": [{\"cells\": {\"fill\": {\"color\": \"#EBF0F8\"}, \"line\": {\"color\": \"white\"}}, \"header\": {\"fill\": {\"color\": \"#C8D4E3\"}, \"line\": {\"color\": \"white\"}}, \"type\": \"table\"}]}, \"layout\": {\"annotationdefaults\": {\"arrowcolor\": \"#2a3f5f\", \"arrowhead\": 0, \"arrowwidth\": 1}, \"autotypenumbers\": \"strict\", \"coloraxis\": {\"colorbar\": {\"outlinewidth\": 0, \"ticks\": \"\"}}, \"colorscale\": {\"diverging\": [[0, \"#8e0152\"], [0.1, \"#c51b7d\"], [0.2, \"#de77ae\"], [0.3, \"#f1b6da\"], [0.4, \"#fde0ef\"], [0.5, \"#f7f7f7\"], [0.6, \"#e6f5d0\"], [0.7, \"#b8e186\"], [0.8, \"#7fbc41\"], [0.9, \"#4d9221\"], [1, \"#276419\"]], \"sequential\": [[0.0, \"#0d0887\"], [0.1111111111111111, \"#46039f\"], [0.2222222222222222, \"#7201a8\"], [0.3333333333333333, \"#9c179e\"], [0.4444444444444444, \"#bd3786\"], [0.5555555555555556, \"#d8576b\"], [0.6666666666666666, \"#ed7953\"], [0.7777777777777778, \"#fb9f3a\"], [0.8888888888888888, \"#fdca26\"], [1.0, \"#f0f921\"]], \"sequentialminus\": [[0.0, \"#0d0887\"], [0.1111111111111111, \"#46039f\"], [0.2222222222222222, \"#7201a8\"], [0.3333333333333333, \"#9c179e\"], [0.4444444444444444, \"#bd3786\"], [0.5555555555555556, \"#d8576b\"], [0.6666666666666666, \"#ed7953\"], [0.7777777777777778, \"#fb9f3a\"], [0.8888888888888888, \"#fdca26\"], [1.0, \"#f0f921\"]]}, \"colorway\": [\"#636efa\", \"#EF553B\", \"#00cc96\", \"#ab63fa\", \"#FFA15A\", \"#19d3f3\", \"#FF6692\", \"#B6E880\", \"#FF97FF\", \"#FECB52\"], \"font\": {\"color\": \"#2a3f5f\"}, \"geo\": {\"bgcolor\": \"white\", \"lakecolor\": \"white\", \"landcolor\": \"#E5ECF6\", \"showlakes\": true, \"showland\": true, \"subunitcolor\": \"white\"}, \"hoverlabel\": {\"align\": \"left\"}, \"hovermode\": \"closest\", \"mapbox\": {\"style\": \"light\"}, \"paper_bgcolor\": \"white\", \"plot_bgcolor\": \"#E5ECF6\", \"polar\": {\"angularaxis\": {\"gridcolor\": \"white\", \"linecolor\": \"white\", \"ticks\": \"\"}, \"bgcolor\": \"#E5ECF6\", \"radialaxis\": {\"gridcolor\": \"white\", \"linecolor\": \"white\", \"ticks\": \"\"}}, \"scene\": {\"xaxis\": {\"backgroundcolor\": \"#E5ECF6\", \"gridcolor\": \"white\", \"gridwidth\": 2, \"linecolor\": \"white\", \"showbackground\": true, \"ticks\": \"\", \"zerolinecolor\": \"white\"}, \"yaxis\": {\"backgroundcolor\": \"#E5ECF6\", \"gridcolor\": \"white\", \"gridwidth\": 2, \"linecolor\": \"white\", \"showbackground\": true, \"ticks\": \"\", \"zerolinecolor\": \"white\"}, \"zaxis\": {\"backgroundcolor\": \"#E5ECF6\", \"gridcolor\": \"white\", \"gridwidth\": 2, \"linecolor\": \"white\", \"showbackground\": true, \"ticks\": \"\", \"zerolinecolor\": \"white\"}}, \"shapedefaults\": {\"line\": {\"color\": \"#2a3f5f\"}}, \"ternary\": {\"aaxis\": {\"gridcolor\": \"white\", \"linecolor\": \"white\", \"ticks\": \"\"}, \"baxis\": {\"gridcolor\": \"white\", \"linecolor\": \"white\", \"ticks\": \"\"}, \"bgcolor\": \"#E5ECF6\", \"caxis\": {\"gridcolor\": \"white\", \"linecolor\": \"white\", \"ticks\": \"\"}}, \"title\": {\"x\": 0.05}, \"xaxis\": {\"automargin\": true, \"gridcolor\": \"white\", \"linecolor\": \"white\", \"ticks\": \"\", \"title\": {\"standoff\": 15}, \"zerolinecolor\": \"white\", \"zerolinewidth\": 2}, \"yaxis\": {\"automargin\": true, \"gridcolor\": \"white\", \"linecolor\": \"white\", \"ticks\": \"\", \"title\": {\"standoff\": 15}, \"zerolinecolor\": \"white\", \"zerolinewidth\": 2}}}, \"title\": {\"font\": {\"color\": \"#4D5663\"}}, \"xaxis\": {\"gridcolor\": \"#E1E5ED\", \"showgrid\": true, \"tickfont\": {\"color\": \"#4D5663\"}, \"title\": {\"font\": {\"color\": \"#4D5663\"}, \"text\": \"\"}, \"zerolinecolor\": \"#E1E5ED\"}, \"yaxis\": {\"gridcolor\": \"#E1E5ED\", \"showgrid\": true, \"tickfont\": {\"color\": \"#4D5663\"}, \"title\": {\"font\": {\"color\": \"#4D5663\"}, \"text\": \"\"}, \"zerolinecolor\": \"#E1E5ED\"}},                        {\"showLink\": true, \"linkText\": \"Export to plot.ly\", \"plotlyServerURL\": \"https://plot.ly\", \"responsive\": true}                    ).then(function(){\n",
       "                            \n",
       "var gd = document.getElementById('df7781b1-9e61-4783-a07c-b31527d8e4ed');\n",
       "var x = new MutationObserver(function (mutations, observer) {{\n",
       "        var display = window.getComputedStyle(gd).display;\n",
       "        if (!display || display === 'none') {{\n",
       "            console.log([gd, 'removed!']);\n",
       "            Plotly.purge(gd);\n",
       "            observer.disconnect();\n",
       "        }}\n",
       "}});\n",
       "\n",
       "// Listen for the removal of the full notebook cells\n",
       "var notebookContainer = gd.closest('#notebook-container');\n",
       "if (notebookContainer) {{\n",
       "    x.observe(notebookContainer, {childList: true});\n",
       "}}\n",
       "\n",
       "// Listen for the clearing of the current output cell\n",
       "var outputEl = gd.closest('.output');\n",
       "if (outputEl) {{\n",
       "    x.observe(outputEl, {childList: true});\n",
       "}}\n",
       "\n",
       "                        })                };                });            </script>        </div>"
      ]
     },
     "metadata": {},
     "output_type": "display_data"
    }
   ],
   "source": [
    "df.count().iplot(kind='bar')"
   ]
  },
  {
   "cell_type": "markdown",
   "metadata": {},
   "source": [
    "## Boxplots"
   ]
  },
  {
   "cell_type": "code",
   "execution_count": 13,
   "metadata": {},
   "outputs": [
    {
     "data": {
      "application/vnd.plotly.v1+json": {
       "config": {
        "linkText": "Export to plot.ly",
        "plotlyServerURL": "https://plot.ly",
        "showLink": true
       },
       "data": [
        {
         "boxpoints": false,
         "line": {
          "width": 1.3
         },
         "marker": {
          "color": "rgba(255, 153, 51, 1.0)"
         },
         "name": "A",
         "orientation": "v",
         "type": "box",
         "y": [
          -0.45631341899455446,
          0.4724584044203727,
          1.9406963290187815,
          1.3642048200066281,
          0.3888909674049345,
          -0.8155560132139653,
          0.1824994980346096,
          -0.6460157547769448,
          0.7726921125849633,
          -0.7574183434082375,
          0.5743341411046669,
          -1.122291005811296,
          0.39592557287173297,
          1.7658327891993622,
          0.03956382437720008,
          -1.1778154865134784,
          1.3612446505476976,
          0.4575543125475046,
          -0.6100736598999223,
          -0.16227885578643608,
          0.9074892985388556,
          -1.2212771553160078,
          -0.003212139726141614,
          1.78200159331685,
          0.3051643896263515,
          0.5975174164344041,
          -1.069764750030652,
          0.692191997574215,
          0.2696109540579809,
          -1.1542791753011188,
          -1.1385749479100127,
          -0.3699998786410983,
          -1.1344534996132034,
          0.672988103248493,
          2.072735424057368,
          -2.1147273254318355,
          0.36626961903539124,
          0.49402674018544357,
          0.5216867514899008,
          -0.5714109512067463,
          -0.6761590098251625,
          0.7042638386647735,
          0.11699659474769354,
          -0.1640626482877639,
          -0.6269163627570845,
          -0.4238401729522169,
          0.8249507519202229,
          -0.8400945963434742,
          0.7002288932568547,
          -0.23430066738503985,
          -0.2697623100425775,
          1.1296410882765562,
          -0.12089119108281095,
          0.6785647004075804,
          -0.33277254474307,
          1.2755116095541024,
          2.8144119696677983,
          -0.04169729623664178,
          -0.8263225957897392,
          0.5346425224779339,
          -0.1691615220796312,
          -0.028261136874453294,
          -0.9159867232468516,
          0.4262668787057552,
          0.46461136984729107,
          -1.6242310329688443,
          0.25510137484310935,
          -0.4956452247932434,
          0.9664158082185562,
          0.5335313997466851,
          -0.21034234832133342,
          0.7578100478233821,
          1.8107721743872651,
          -0.9391654021207035,
          0.9717304863534318,
          -1.0822307332369805,
          -1.6668502238440615,
          0.3531006055894467,
          -0.4476662332456711,
          -0.6878703293135146,
          0.44730597827608787,
          -2.319317841268029,
          0.08900212438510414,
          -0.4572559821356708,
          2.111367134794406,
          -0.934563080089709,
          0.5637618038523917,
          -0.2991455869065257,
          0.5153988151252,
          0.7878677402720858,
          0.7315317806795537,
          1.524796465918317,
          -0.7562970183873434,
          0.5426557390236036,
          0.5131735893370422,
          -1.1370342487815206,
          1.1363044523216463,
          0.03011016115863619,
          -0.1844988603454125,
          -1.0691517608483327
         ]
        },
        {
         "boxpoints": false,
         "line": {
          "width": 1.3
         },
         "marker": {
          "color": "rgba(55, 128, 191, 1.0)"
         },
         "name": "B",
         "orientation": "v",
         "type": "box",
         "y": [
          0.08585353006516305,
          -0.7652436652770636,
          -1.560799863236166,
          0.854928611529446,
          1.5294104037358258,
          0.7802959777606984,
          1.1092660375040786,
          -1.2997181168756695,
          -0.2501396717599244,
          1.1672653683073624,
          0.2657593084709434,
          1.8067828968864428,
          2.908460836515882,
          0.2257063168775166,
          -0.3943778128855632,
          1.4865989885509223,
          -0.419053119941921,
          0.44213002504736104,
          -0.8765347571627182,
          0.7631550538754935,
          0.7313001692354236,
          -1.0848126581308521,
          -0.5011764356270655,
          2.615349826248938,
          -0.8267702619275237,
          -0.5289210111072653,
          1.3128095271060611,
          -0.6975326835999035,
          -2.0177953107320556,
          -0.9545140586667944,
          -1.2781018895409393,
          1.772525799618574,
          -0.270952170350105,
          -1.0259308609936295,
          -0.8200550048236666,
          0.5804852648112692,
          -0.09088463880203278,
          0.6374103190401424,
          2.0817045409484805,
          -0.5332820753894929,
          0.7065147478521874,
          0.1892745845799814,
          -1.2746433493418645,
          0.8779534537612734,
          0.5730668677347721,
          0.2719515023616077,
          -2.042453178577107,
          0.09760892427219381,
          0.6327008342432406,
          1.1287005425410521,
          1.3913044302720308,
          -0.5069090531869064,
          0.669878472883447,
          0.5221818133872991,
          -0.4496145272881422,
          -1.1840356351224515,
          -1.4220007648795254,
          0.8360266708830294,
          0.8913948071631754,
          0.9224107560138586,
          2.7530407202962603,
          1.438217420240023,
          -0.778441889649213,
          0.023935454828543142,
          -1.6850521077202243,
          0.27334839638225666,
          0.28254467216477613,
          -0.8706248368005733,
          1.9480382430405512,
          0.15650044446126365,
          1.063511636852657,
          0.3615248823338626,
          0.6274131303035508,
          1.2697867007397823,
          -0.28884869074427993,
          -0.8917344572713624,
          -0.9016784589646977,
          -0.010188903097623743,
          -1.4282164380032398,
          0.7143102611827443,
          -0.7029927020280965,
          1.2519290706979243,
          0.3714371833846144,
          -0.22736512435993828,
          0.4504921171578333,
          1.6955931253260765,
          0.15955568966672862,
          -1.5718305019534387,
          1.12036549343057,
          0.6992989938926815,
          -0.8095249209852535,
          -0.7252921710467097,
          0.3321356478041808,
          0.8755392562950008,
          -1.124210575231865,
          -0.5979379435472303,
          -1.3604643669204346,
          0.6374742546791262,
          -1.7711220550881799,
          0.569197677960444
         ]
        },
        {
         "boxpoints": false,
         "line": {
          "width": 1.3
         },
         "marker": {
          "color": "rgba(50, 171, 96, 1.0)"
         },
         "name": "C",
         "orientation": "v",
         "type": "box",
         "y": [
          -0.5537379212190897,
          -0.8724233052694854,
          -0.4543058134976074,
          -0.11014863679154555,
          0.14613296956043798,
          -0.07972816596592253,
          0.23071816361939446,
          -0.46840908859725044,
          0.18436213161850834,
          -0.014321693931055183,
          -0.026860748441306162,
          -0.27782290778010554,
          -0.7046569466338679,
          1.0879505516918127,
          -0.14522834640323015,
          -0.15948615687583165,
          1.1955460885919826,
          -0.23952068592326292,
          0.8726253512372968,
          0.07453419235280212,
          -1.8078878466901667,
          -0.6385244736830138,
          -1.410886899903527,
          0.5952664050592602,
          0.2886650222926791,
          0.11039222692095005,
          -0.3197007695368137,
          2.3655768820646585,
          2.2183351120585986,
          -0.8676594284342002,
          0.7306787469146706,
          -0.42963613672543155,
          -0.915272688592936,
          -0.07867636320966079,
          -0.9270634599251494,
          0.12701375209898594,
          0.7768472291937459,
          -0.5296385792732079,
          -0.8936976374236892,
          -0.4377805445168151,
          0.949334370124812,
          0.7570338091013735,
          1.6624731100208912,
          -1.5790316048566215,
          -0.44822211140406854,
          -1.6261963423182388,
          -0.9056842189081151,
          1.4739822729626488,
          -0.6571973195657878,
          1.3625496020340948,
          1.6574237010904567,
          -0.17749977787464458,
          0.9075120615486731,
          1.0256075023267957,
          0.16592539270409867,
          -0.1855059373230086,
          0.9471382851852113,
          1.1930319801477383,
          0.43295005260247615,
          1.0996560077129431,
          0.6175810332370919,
          -0.1428410083099575,
          0.05301951224767886,
          -0.6507871628506191,
          1.1365386389173497,
          0.2889509725144247,
          -0.6460371173716895,
          -1.593962248440813,
          -1.146556415184358,
          -1.4590413297512774,
          0.3026670183455334,
          1.2966634986461367,
          0.5173549255270803,
          -0.0632510475536566,
          0.3990092802832907,
          -1.9951236100521847,
          1.3744300460745864,
          1.6155001221221712,
          0.5063360072351307,
          -2.6977473302984154,
          0.13553992385555955,
          0.23996422729562236,
          1.093910238408881,
          1.0970779058678999,
          -1.0214634318767166,
          -0.9099269078622486,
          0.2313839712322445,
          1.380306830071051,
          -0.12695330769444957,
          -0.3000244148642409,
          1.906165655894951,
          -2.713127925355512,
          -0.5147146933258838,
          -0.03379601581274362,
          1.0304962528228427,
          -0.6896832717756195,
          0.46056227260729415,
          0.515696867981505,
          -0.4177010269870619,
          -0.37409452757803896
         ]
        },
        {
         "boxpoints": false,
         "line": {
          "width": 1.3
         },
         "marker": {
          "color": "rgba(128, 0, 128, 1.0)"
         },
         "name": "D",
         "orientation": "v",
         "type": "box",
         "y": [
          1.5842791108277439,
          1.9392303036214489,
          0.6177777428271791,
          -1.8121307158913724,
          -0.3478388077547154,
          0.764501329342132,
          -0.8498630339078125,
          -1.2757866710949821,
          -0.39672634945812846,
          -0.18400398821812025,
          0.02238367836008293,
          0.6037245239520784,
          1.074122824800881,
          0.5221152359810379,
          1.3141904082003788,
          1.6263719726119574,
          0.2098046320866795,
          -0.515314340981756,
          0.6591772152742821,
          -0.10319904393445216,
          -1.0275911617031368,
          -1.040812400145377,
          -1.33717396085918,
          0.7034028417819237,
          -0.6354677291496945,
          -1.756126740395263,
          -0.4683718749826806,
          -0.09119189910221012,
          -0.28181623366681957,
          -0.5040139618350105,
          0.765799998231126,
          -0.9121086046624316,
          -0.2434741473613454,
          0.10909321518599782,
          -1.0614589305554516,
          0.05583961261659571,
          -0.11339955427679063,
          -0.23693665824523838,
          0.8305459163917228,
          -0.8834788689149975,
          0.5824207321113793,
          0.5247674593843477,
          1.0652507124048907,
          0.2948395667837005,
          0.9611778573067953,
          -1.51007086093071,
          -0.1755219613287985,
          -0.19160948506838746,
          -1.1129302234342129,
          -0.53315881337324,
          -0.4631060873723058,
          -0.005449116729710715,
          0.550036258139161,
          1.4345973755214232,
          0.24377148610051458,
          -1.814551011894297,
          -0.4314479546649242,
          -1.2808504760168282,
          -1.085772356895492,
          0.15716263203964206,
          1.1007096069297018,
          -0.6107970611136976,
          0.09665096619158409,
          -0.8526903668560195,
          -1.3487242239250592,
          -2.3590648342025893,
          0.8992190475722818,
          0.45260360125003485,
          -0.35511067930069296,
          0.014636073273193839,
          -0.30196743632525536,
          -0.3997586862708823,
          -1.6961766657373825,
          2.1936046812317134,
          -0.0021114666079433664,
          -1.3061912957548663,
          -0.3917026007185684,
          0.03583860770544733,
          0.3874777237537701,
          -1.8392345205990421,
          0.7554916700328876,
          0.9688391568214227,
          -0.1012405112232658,
          2.3274293386023164,
          0.8314788066309082,
          0.4366381524548407,
          2.1782212890983534,
          -0.4766125984974227,
          -0.03431037062216538,
          -1.0113084943758948,
          -1.6138146605719532,
          0.6076397596794696,
          -0.4491837282050882,
          -0.25933883152910764,
          -0.32794420472944924,
          -0.015607513578014976,
          0.5327810669308646,
          0.9171765911653947,
          -0.04806466526877816,
          -0.6059465457848144
         ]
        }
       ],
       "layout": {
        "legend": {
         "bgcolor": "#F5F6F9",
         "font": {
          "color": "#4D5663"
         }
        },
        "paper_bgcolor": "#F5F6F9",
        "plot_bgcolor": "#F5F6F9",
        "template": {
         "data": {
          "bar": [
           {
            "error_x": {
             "color": "#2a3f5f"
            },
            "error_y": {
             "color": "#2a3f5f"
            },
            "marker": {
             "line": {
              "color": "#E5ECF6",
              "width": 0.5
             }
            },
            "type": "bar"
           }
          ],
          "barpolar": [
           {
            "marker": {
             "line": {
              "color": "#E5ECF6",
              "width": 0.5
             }
            },
            "type": "barpolar"
           }
          ],
          "carpet": [
           {
            "aaxis": {
             "endlinecolor": "#2a3f5f",
             "gridcolor": "white",
             "linecolor": "white",
             "minorgridcolor": "white",
             "startlinecolor": "#2a3f5f"
            },
            "baxis": {
             "endlinecolor": "#2a3f5f",
             "gridcolor": "white",
             "linecolor": "white",
             "minorgridcolor": "white",
             "startlinecolor": "#2a3f5f"
            },
            "type": "carpet"
           }
          ],
          "choropleth": [
           {
            "colorbar": {
             "outlinewidth": 0,
             "ticks": ""
            },
            "type": "choropleth"
           }
          ],
          "contour": [
           {
            "colorbar": {
             "outlinewidth": 0,
             "ticks": ""
            },
            "colorscale": [
             [
              0,
              "#0d0887"
             ],
             [
              0.1111111111111111,
              "#46039f"
             ],
             [
              0.2222222222222222,
              "#7201a8"
             ],
             [
              0.3333333333333333,
              "#9c179e"
             ],
             [
              0.4444444444444444,
              "#bd3786"
             ],
             [
              0.5555555555555556,
              "#d8576b"
             ],
             [
              0.6666666666666666,
              "#ed7953"
             ],
             [
              0.7777777777777778,
              "#fb9f3a"
             ],
             [
              0.8888888888888888,
              "#fdca26"
             ],
             [
              1,
              "#f0f921"
             ]
            ],
            "type": "contour"
           }
          ],
          "contourcarpet": [
           {
            "colorbar": {
             "outlinewidth": 0,
             "ticks": ""
            },
            "type": "contourcarpet"
           }
          ],
          "heatmap": [
           {
            "colorbar": {
             "outlinewidth": 0,
             "ticks": ""
            },
            "colorscale": [
             [
              0,
              "#0d0887"
             ],
             [
              0.1111111111111111,
              "#46039f"
             ],
             [
              0.2222222222222222,
              "#7201a8"
             ],
             [
              0.3333333333333333,
              "#9c179e"
             ],
             [
              0.4444444444444444,
              "#bd3786"
             ],
             [
              0.5555555555555556,
              "#d8576b"
             ],
             [
              0.6666666666666666,
              "#ed7953"
             ],
             [
              0.7777777777777778,
              "#fb9f3a"
             ],
             [
              0.8888888888888888,
              "#fdca26"
             ],
             [
              1,
              "#f0f921"
             ]
            ],
            "type": "heatmap"
           }
          ],
          "heatmapgl": [
           {
            "colorbar": {
             "outlinewidth": 0,
             "ticks": ""
            },
            "colorscale": [
             [
              0,
              "#0d0887"
             ],
             [
              0.1111111111111111,
              "#46039f"
             ],
             [
              0.2222222222222222,
              "#7201a8"
             ],
             [
              0.3333333333333333,
              "#9c179e"
             ],
             [
              0.4444444444444444,
              "#bd3786"
             ],
             [
              0.5555555555555556,
              "#d8576b"
             ],
             [
              0.6666666666666666,
              "#ed7953"
             ],
             [
              0.7777777777777778,
              "#fb9f3a"
             ],
             [
              0.8888888888888888,
              "#fdca26"
             ],
             [
              1,
              "#f0f921"
             ]
            ],
            "type": "heatmapgl"
           }
          ],
          "histogram": [
           {
            "marker": {
             "colorbar": {
              "outlinewidth": 0,
              "ticks": ""
             }
            },
            "type": "histogram"
           }
          ],
          "histogram2d": [
           {
            "colorbar": {
             "outlinewidth": 0,
             "ticks": ""
            },
            "colorscale": [
             [
              0,
              "#0d0887"
             ],
             [
              0.1111111111111111,
              "#46039f"
             ],
             [
              0.2222222222222222,
              "#7201a8"
             ],
             [
              0.3333333333333333,
              "#9c179e"
             ],
             [
              0.4444444444444444,
              "#bd3786"
             ],
             [
              0.5555555555555556,
              "#d8576b"
             ],
             [
              0.6666666666666666,
              "#ed7953"
             ],
             [
              0.7777777777777778,
              "#fb9f3a"
             ],
             [
              0.8888888888888888,
              "#fdca26"
             ],
             [
              1,
              "#f0f921"
             ]
            ],
            "type": "histogram2d"
           }
          ],
          "histogram2dcontour": [
           {
            "colorbar": {
             "outlinewidth": 0,
             "ticks": ""
            },
            "colorscale": [
             [
              0,
              "#0d0887"
             ],
             [
              0.1111111111111111,
              "#46039f"
             ],
             [
              0.2222222222222222,
              "#7201a8"
             ],
             [
              0.3333333333333333,
              "#9c179e"
             ],
             [
              0.4444444444444444,
              "#bd3786"
             ],
             [
              0.5555555555555556,
              "#d8576b"
             ],
             [
              0.6666666666666666,
              "#ed7953"
             ],
             [
              0.7777777777777778,
              "#fb9f3a"
             ],
             [
              0.8888888888888888,
              "#fdca26"
             ],
             [
              1,
              "#f0f921"
             ]
            ],
            "type": "histogram2dcontour"
           }
          ],
          "mesh3d": [
           {
            "colorbar": {
             "outlinewidth": 0,
             "ticks": ""
            },
            "type": "mesh3d"
           }
          ],
          "parcoords": [
           {
            "line": {
             "colorbar": {
              "outlinewidth": 0,
              "ticks": ""
             }
            },
            "type": "parcoords"
           }
          ],
          "pie": [
           {
            "automargin": true,
            "type": "pie"
           }
          ],
          "scatter": [
           {
            "marker": {
             "colorbar": {
              "outlinewidth": 0,
              "ticks": ""
             }
            },
            "type": "scatter"
           }
          ],
          "scatter3d": [
           {
            "line": {
             "colorbar": {
              "outlinewidth": 0,
              "ticks": ""
             }
            },
            "marker": {
             "colorbar": {
              "outlinewidth": 0,
              "ticks": ""
             }
            },
            "type": "scatter3d"
           }
          ],
          "scattercarpet": [
           {
            "marker": {
             "colorbar": {
              "outlinewidth": 0,
              "ticks": ""
             }
            },
            "type": "scattercarpet"
           }
          ],
          "scattergeo": [
           {
            "marker": {
             "colorbar": {
              "outlinewidth": 0,
              "ticks": ""
             }
            },
            "type": "scattergeo"
           }
          ],
          "scattergl": [
           {
            "marker": {
             "colorbar": {
              "outlinewidth": 0,
              "ticks": ""
             }
            },
            "type": "scattergl"
           }
          ],
          "scattermapbox": [
           {
            "marker": {
             "colorbar": {
              "outlinewidth": 0,
              "ticks": ""
             }
            },
            "type": "scattermapbox"
           }
          ],
          "scatterpolar": [
           {
            "marker": {
             "colorbar": {
              "outlinewidth": 0,
              "ticks": ""
             }
            },
            "type": "scatterpolar"
           }
          ],
          "scatterpolargl": [
           {
            "marker": {
             "colorbar": {
              "outlinewidth": 0,
              "ticks": ""
             }
            },
            "type": "scatterpolargl"
           }
          ],
          "scatterternary": [
           {
            "marker": {
             "colorbar": {
              "outlinewidth": 0,
              "ticks": ""
             }
            },
            "type": "scatterternary"
           }
          ],
          "surface": [
           {
            "colorbar": {
             "outlinewidth": 0,
             "ticks": ""
            },
            "colorscale": [
             [
              0,
              "#0d0887"
             ],
             [
              0.1111111111111111,
              "#46039f"
             ],
             [
              0.2222222222222222,
              "#7201a8"
             ],
             [
              0.3333333333333333,
              "#9c179e"
             ],
             [
              0.4444444444444444,
              "#bd3786"
             ],
             [
              0.5555555555555556,
              "#d8576b"
             ],
             [
              0.6666666666666666,
              "#ed7953"
             ],
             [
              0.7777777777777778,
              "#fb9f3a"
             ],
             [
              0.8888888888888888,
              "#fdca26"
             ],
             [
              1,
              "#f0f921"
             ]
            ],
            "type": "surface"
           }
          ],
          "table": [
           {
            "cells": {
             "fill": {
              "color": "#EBF0F8"
             },
             "line": {
              "color": "white"
             }
            },
            "header": {
             "fill": {
              "color": "#C8D4E3"
             },
             "line": {
              "color": "white"
             }
            },
            "type": "table"
           }
          ]
         },
         "layout": {
          "annotationdefaults": {
           "arrowcolor": "#2a3f5f",
           "arrowhead": 0,
           "arrowwidth": 1
          },
          "autotypenumbers": "strict",
          "coloraxis": {
           "colorbar": {
            "outlinewidth": 0,
            "ticks": ""
           }
          },
          "colorscale": {
           "diverging": [
            [
             0,
             "#8e0152"
            ],
            [
             0.1,
             "#c51b7d"
            ],
            [
             0.2,
             "#de77ae"
            ],
            [
             0.3,
             "#f1b6da"
            ],
            [
             0.4,
             "#fde0ef"
            ],
            [
             0.5,
             "#f7f7f7"
            ],
            [
             0.6,
             "#e6f5d0"
            ],
            [
             0.7,
             "#b8e186"
            ],
            [
             0.8,
             "#7fbc41"
            ],
            [
             0.9,
             "#4d9221"
            ],
            [
             1,
             "#276419"
            ]
           ],
           "sequential": [
            [
             0,
             "#0d0887"
            ],
            [
             0.1111111111111111,
             "#46039f"
            ],
            [
             0.2222222222222222,
             "#7201a8"
            ],
            [
             0.3333333333333333,
             "#9c179e"
            ],
            [
             0.4444444444444444,
             "#bd3786"
            ],
            [
             0.5555555555555556,
             "#d8576b"
            ],
            [
             0.6666666666666666,
             "#ed7953"
            ],
            [
             0.7777777777777778,
             "#fb9f3a"
            ],
            [
             0.8888888888888888,
             "#fdca26"
            ],
            [
             1,
             "#f0f921"
            ]
           ],
           "sequentialminus": [
            [
             0,
             "#0d0887"
            ],
            [
             0.1111111111111111,
             "#46039f"
            ],
            [
             0.2222222222222222,
             "#7201a8"
            ],
            [
             0.3333333333333333,
             "#9c179e"
            ],
            [
             0.4444444444444444,
             "#bd3786"
            ],
            [
             0.5555555555555556,
             "#d8576b"
            ],
            [
             0.6666666666666666,
             "#ed7953"
            ],
            [
             0.7777777777777778,
             "#fb9f3a"
            ],
            [
             0.8888888888888888,
             "#fdca26"
            ],
            [
             1,
             "#f0f921"
            ]
           ]
          },
          "colorway": [
           "#636efa",
           "#EF553B",
           "#00cc96",
           "#ab63fa",
           "#FFA15A",
           "#19d3f3",
           "#FF6692",
           "#B6E880",
           "#FF97FF",
           "#FECB52"
          ],
          "font": {
           "color": "#2a3f5f"
          },
          "geo": {
           "bgcolor": "white",
           "lakecolor": "white",
           "landcolor": "#E5ECF6",
           "showlakes": true,
           "showland": true,
           "subunitcolor": "white"
          },
          "hoverlabel": {
           "align": "left"
          },
          "hovermode": "closest",
          "mapbox": {
           "style": "light"
          },
          "paper_bgcolor": "white",
          "plot_bgcolor": "#E5ECF6",
          "polar": {
           "angularaxis": {
            "gridcolor": "white",
            "linecolor": "white",
            "ticks": ""
           },
           "bgcolor": "#E5ECF6",
           "radialaxis": {
            "gridcolor": "white",
            "linecolor": "white",
            "ticks": ""
           }
          },
          "scene": {
           "xaxis": {
            "backgroundcolor": "#E5ECF6",
            "gridcolor": "white",
            "gridwidth": 2,
            "linecolor": "white",
            "showbackground": true,
            "ticks": "",
            "zerolinecolor": "white"
           },
           "yaxis": {
            "backgroundcolor": "#E5ECF6",
            "gridcolor": "white",
            "gridwidth": 2,
            "linecolor": "white",
            "showbackground": true,
            "ticks": "",
            "zerolinecolor": "white"
           },
           "zaxis": {
            "backgroundcolor": "#E5ECF6",
            "gridcolor": "white",
            "gridwidth": 2,
            "linecolor": "white",
            "showbackground": true,
            "ticks": "",
            "zerolinecolor": "white"
           }
          },
          "shapedefaults": {
           "line": {
            "color": "#2a3f5f"
           }
          },
          "ternary": {
           "aaxis": {
            "gridcolor": "white",
            "linecolor": "white",
            "ticks": ""
           },
           "baxis": {
            "gridcolor": "white",
            "linecolor": "white",
            "ticks": ""
           },
           "bgcolor": "#E5ECF6",
           "caxis": {
            "gridcolor": "white",
            "linecolor": "white",
            "ticks": ""
           }
          },
          "title": {
           "x": 0.05
          },
          "xaxis": {
           "automargin": true,
           "gridcolor": "white",
           "linecolor": "white",
           "ticks": "",
           "title": {
            "standoff": 15
           },
           "zerolinecolor": "white",
           "zerolinewidth": 2
          },
          "yaxis": {
           "automargin": true,
           "gridcolor": "white",
           "linecolor": "white",
           "ticks": "",
           "title": {
            "standoff": 15
           },
           "zerolinecolor": "white",
           "zerolinewidth": 2
          }
         }
        },
        "title": {
         "font": {
          "color": "#4D5663"
         }
        },
        "xaxis": {
         "gridcolor": "#E1E5ED",
         "showgrid": true,
         "tickfont": {
          "color": "#4D5663"
         },
         "title": {
          "font": {
           "color": "#4D5663"
          },
          "text": ""
         },
         "zerolinecolor": "#E1E5ED"
        },
        "yaxis": {
         "gridcolor": "#E1E5ED",
         "showgrid": true,
         "tickfont": {
          "color": "#4D5663"
         },
         "title": {
          "font": {
           "color": "#4D5663"
          },
          "text": ""
         },
         "zerolinecolor": "#E1E5ED"
        }
       }
      },
      "text/html": [
       "<div>                            <div id=\"12e11c6d-1897-4096-98b5-5dae36e6219a\" class=\"plotly-graph-div\" style=\"height:525px; width:100%;\"></div>            <script type=\"text/javascript\">                require([\"plotly\"], function(Plotly) {                    window.PLOTLYENV=window.PLOTLYENV || {};\n",
       "                    window.PLOTLYENV.BASE_URL='https://plot.ly';                                    if (document.getElementById(\"12e11c6d-1897-4096-98b5-5dae36e6219a\")) {                    Plotly.newPlot(                        \"12e11c6d-1897-4096-98b5-5dae36e6219a\",                        [{\"boxpoints\": false, \"line\": {\"width\": 1.3}, \"marker\": {\"color\": \"rgba(255, 153, 51, 1.0)\"}, \"name\": \"A\", \"orientation\": \"v\", \"type\": \"box\", \"y\": [-0.45631341899455446, 0.4724584044203727, 1.9406963290187815, 1.3642048200066281, 0.3888909674049345, -0.8155560132139653, 0.1824994980346096, -0.6460157547769448, 0.7726921125849633, -0.7574183434082375, 0.5743341411046669, -1.122291005811296, 0.39592557287173297, 1.7658327891993622, 0.03956382437720008, -1.1778154865134784, 1.3612446505476976, 0.4575543125475046, -0.6100736598999223, -0.16227885578643608, 0.9074892985388556, -1.2212771553160078, -0.003212139726141614, 1.78200159331685, 0.3051643896263515, 0.5975174164344041, -1.069764750030652, 0.692191997574215, 0.2696109540579809, -1.1542791753011188, -1.1385749479100127, -0.3699998786410983, -1.1344534996132034, 0.672988103248493, 2.072735424057368, -2.1147273254318355, 0.36626961903539124, 0.49402674018544357, 0.5216867514899008, -0.5714109512067463, -0.6761590098251625, 0.7042638386647735, 0.11699659474769354, -0.1640626482877639, -0.6269163627570845, -0.4238401729522169, 0.8249507519202229, -0.8400945963434742, 0.7002288932568547, -0.23430066738503985, -0.2697623100425775, 1.1296410882765562, -0.12089119108281095, 0.6785647004075804, -0.33277254474307, 1.2755116095541024, 2.8144119696677983, -0.04169729623664178, -0.8263225957897392, 0.5346425224779339, -0.1691615220796312, -0.028261136874453294, -0.9159867232468516, 0.4262668787057552, 0.46461136984729107, -1.6242310329688443, 0.25510137484310935, -0.4956452247932434, 0.9664158082185562, 0.5335313997466851, -0.21034234832133342, 0.7578100478233821, 1.8107721743872651, -0.9391654021207035, 0.9717304863534318, -1.0822307332369805, -1.6668502238440615, 0.3531006055894467, -0.4476662332456711, -0.6878703293135146, 0.44730597827608787, -2.319317841268029, 0.08900212438510414, -0.4572559821356708, 2.111367134794406, -0.934563080089709, 0.5637618038523917, -0.2991455869065257, 0.5153988151252, 0.7878677402720858, 0.7315317806795537, 1.524796465918317, -0.7562970183873434, 0.5426557390236036, 0.5131735893370422, -1.1370342487815206, 1.1363044523216463, 0.03011016115863619, -0.1844988603454125, -1.0691517608483327]}, {\"boxpoints\": false, \"line\": {\"width\": 1.3}, \"marker\": {\"color\": \"rgba(55, 128, 191, 1.0)\"}, \"name\": \"B\", \"orientation\": \"v\", \"type\": \"box\", \"y\": [0.08585353006516305, -0.7652436652770636, -1.560799863236166, 0.854928611529446, 1.5294104037358258, 0.7802959777606984, 1.1092660375040786, -1.2997181168756695, -0.2501396717599244, 1.1672653683073624, 0.2657593084709434, 1.8067828968864428, 2.908460836515882, 0.2257063168775166, -0.3943778128855632, 1.4865989885509223, -0.419053119941921, 0.44213002504736104, -0.8765347571627182, 0.7631550538754935, 0.7313001692354236, -1.0848126581308521, -0.5011764356270655, 2.615349826248938, -0.8267702619275237, -0.5289210111072653, 1.3128095271060611, -0.6975326835999035, -2.0177953107320556, -0.9545140586667944, -1.2781018895409393, 1.772525799618574, -0.270952170350105, -1.0259308609936295, -0.8200550048236666, 0.5804852648112692, -0.09088463880203278, 0.6374103190401424, 2.0817045409484805, -0.5332820753894929, 0.7065147478521874, 0.1892745845799814, -1.2746433493418645, 0.8779534537612734, 0.5730668677347721, 0.2719515023616077, -2.042453178577107, 0.09760892427219381, 0.6327008342432406, 1.1287005425410521, 1.3913044302720308, -0.5069090531869064, 0.669878472883447, 0.5221818133872991, -0.4496145272881422, -1.1840356351224515, -1.4220007648795254, 0.8360266708830294, 0.8913948071631754, 0.9224107560138586, 2.7530407202962603, 1.438217420240023, -0.778441889649213, 0.023935454828543142, -1.6850521077202243, 0.27334839638225666, 0.28254467216477613, -0.8706248368005733, 1.9480382430405512, 0.15650044446126365, 1.063511636852657, 0.3615248823338626, 0.6274131303035508, 1.2697867007397823, -0.28884869074427993, -0.8917344572713624, -0.9016784589646977, -0.010188903097623743, -1.4282164380032398, 0.7143102611827443, -0.7029927020280965, 1.2519290706979243, 0.3714371833846144, -0.22736512435993828, 0.4504921171578333, 1.6955931253260765, 0.15955568966672862, -1.5718305019534387, 1.12036549343057, 0.6992989938926815, -0.8095249209852535, -0.7252921710467097, 0.3321356478041808, 0.8755392562950008, -1.124210575231865, -0.5979379435472303, -1.3604643669204346, 0.6374742546791262, -1.7711220550881799, 0.569197677960444]}, {\"boxpoints\": false, \"line\": {\"width\": 1.3}, \"marker\": {\"color\": \"rgba(50, 171, 96, 1.0)\"}, \"name\": \"C\", \"orientation\": \"v\", \"type\": \"box\", \"y\": [-0.5537379212190897, -0.8724233052694854, -0.4543058134976074, -0.11014863679154555, 0.14613296956043798, -0.07972816596592253, 0.23071816361939446, -0.46840908859725044, 0.18436213161850834, -0.014321693931055183, -0.026860748441306162, -0.27782290778010554, -0.7046569466338679, 1.0879505516918127, -0.14522834640323015, -0.15948615687583165, 1.1955460885919826, -0.23952068592326292, 0.8726253512372968, 0.07453419235280212, -1.8078878466901667, -0.6385244736830138, -1.410886899903527, 0.5952664050592602, 0.2886650222926791, 0.11039222692095005, -0.3197007695368137, 2.3655768820646585, 2.2183351120585986, -0.8676594284342002, 0.7306787469146706, -0.42963613672543155, -0.915272688592936, -0.07867636320966079, -0.9270634599251494, 0.12701375209898594, 0.7768472291937459, -0.5296385792732079, -0.8936976374236892, -0.4377805445168151, 0.949334370124812, 0.7570338091013735, 1.6624731100208912, -1.5790316048566215, -0.44822211140406854, -1.6261963423182388, -0.9056842189081151, 1.4739822729626488, -0.6571973195657878, 1.3625496020340948, 1.6574237010904567, -0.17749977787464458, 0.9075120615486731, 1.0256075023267957, 0.16592539270409867, -0.1855059373230086, 0.9471382851852113, 1.1930319801477383, 0.43295005260247615, 1.0996560077129431, 0.6175810332370919, -0.1428410083099575, 0.05301951224767886, -0.6507871628506191, 1.1365386389173497, 0.2889509725144247, -0.6460371173716895, -1.593962248440813, -1.146556415184358, -1.4590413297512774, 0.3026670183455334, 1.2966634986461367, 0.5173549255270803, -0.0632510475536566, 0.3990092802832907, -1.9951236100521847, 1.3744300460745864, 1.6155001221221712, 0.5063360072351307, -2.6977473302984154, 0.13553992385555955, 0.23996422729562236, 1.093910238408881, 1.0970779058678999, -1.0214634318767166, -0.9099269078622486, 0.2313839712322445, 1.380306830071051, -0.12695330769444957, -0.3000244148642409, 1.906165655894951, -2.713127925355512, -0.5147146933258838, -0.03379601581274362, 1.0304962528228427, -0.6896832717756195, 0.46056227260729415, 0.515696867981505, -0.4177010269870619, -0.37409452757803896]}, {\"boxpoints\": false, \"line\": {\"width\": 1.3}, \"marker\": {\"color\": \"rgba(128, 0, 128, 1.0)\"}, \"name\": \"D\", \"orientation\": \"v\", \"type\": \"box\", \"y\": [1.5842791108277439, 1.9392303036214489, 0.6177777428271791, -1.8121307158913724, -0.3478388077547154, 0.764501329342132, -0.8498630339078125, -1.2757866710949821, -0.39672634945812846, -0.18400398821812025, 0.02238367836008293, 0.6037245239520784, 1.074122824800881, 0.5221152359810379, 1.3141904082003788, 1.6263719726119574, 0.2098046320866795, -0.515314340981756, 0.6591772152742821, -0.10319904393445216, -1.0275911617031368, -1.040812400145377, -1.33717396085918, 0.7034028417819237, -0.6354677291496945, -1.756126740395263, -0.4683718749826806, -0.09119189910221012, -0.28181623366681957, -0.5040139618350105, 0.765799998231126, -0.9121086046624316, -0.2434741473613454, 0.10909321518599782, -1.0614589305554516, 0.05583961261659571, -0.11339955427679063, -0.23693665824523838, 0.8305459163917228, -0.8834788689149975, 0.5824207321113793, 0.5247674593843477, 1.0652507124048907, 0.2948395667837005, 0.9611778573067953, -1.51007086093071, -0.1755219613287985, -0.19160948506838746, -1.1129302234342129, -0.53315881337324, -0.4631060873723058, -0.005449116729710715, 0.550036258139161, 1.4345973755214232, 0.24377148610051458, -1.814551011894297, -0.4314479546649242, -1.2808504760168282, -1.085772356895492, 0.15716263203964206, 1.1007096069297018, -0.6107970611136976, 0.09665096619158409, -0.8526903668560195, -1.3487242239250592, -2.3590648342025893, 0.8992190475722818, 0.45260360125003485, -0.35511067930069296, 0.014636073273193839, -0.30196743632525536, -0.3997586862708823, -1.6961766657373825, 2.1936046812317134, -0.0021114666079433664, -1.3061912957548663, -0.3917026007185684, 0.03583860770544733, 0.3874777237537701, -1.8392345205990421, 0.7554916700328876, 0.9688391568214227, -0.1012405112232658, 2.3274293386023164, 0.8314788066309082, 0.4366381524548407, 2.1782212890983534, -0.4766125984974227, -0.03431037062216538, -1.0113084943758948, -1.6138146605719532, 0.6076397596794696, -0.4491837282050882, -0.25933883152910764, -0.32794420472944924, -0.015607513578014976, 0.5327810669308646, 0.9171765911653947, -0.04806466526877816, -0.6059465457848144]}],                        {\"legend\": {\"bgcolor\": \"#F5F6F9\", \"font\": {\"color\": \"#4D5663\"}}, \"paper_bgcolor\": \"#F5F6F9\", \"plot_bgcolor\": \"#F5F6F9\", \"template\": {\"data\": {\"bar\": [{\"error_x\": {\"color\": \"#2a3f5f\"}, \"error_y\": {\"color\": \"#2a3f5f\"}, \"marker\": {\"line\": {\"color\": \"#E5ECF6\", \"width\": 0.5}}, \"type\": \"bar\"}], \"barpolar\": [{\"marker\": {\"line\": {\"color\": \"#E5ECF6\", \"width\": 0.5}}, \"type\": \"barpolar\"}], \"carpet\": [{\"aaxis\": {\"endlinecolor\": \"#2a3f5f\", \"gridcolor\": \"white\", \"linecolor\": \"white\", \"minorgridcolor\": \"white\", \"startlinecolor\": \"#2a3f5f\"}, \"baxis\": {\"endlinecolor\": \"#2a3f5f\", \"gridcolor\": \"white\", \"linecolor\": \"white\", \"minorgridcolor\": \"white\", \"startlinecolor\": \"#2a3f5f\"}, \"type\": \"carpet\"}], \"choropleth\": [{\"colorbar\": {\"outlinewidth\": 0, \"ticks\": \"\"}, \"type\": \"choropleth\"}], \"contour\": [{\"colorbar\": {\"outlinewidth\": 0, \"ticks\": \"\"}, \"colorscale\": [[0.0, \"#0d0887\"], [0.1111111111111111, \"#46039f\"], [0.2222222222222222, \"#7201a8\"], [0.3333333333333333, \"#9c179e\"], [0.4444444444444444, \"#bd3786\"], [0.5555555555555556, \"#d8576b\"], [0.6666666666666666, \"#ed7953\"], [0.7777777777777778, \"#fb9f3a\"], [0.8888888888888888, \"#fdca26\"], [1.0, \"#f0f921\"]], \"type\": \"contour\"}], \"contourcarpet\": [{\"colorbar\": {\"outlinewidth\": 0, \"ticks\": \"\"}, \"type\": \"contourcarpet\"}], \"heatmap\": [{\"colorbar\": {\"outlinewidth\": 0, \"ticks\": \"\"}, \"colorscale\": [[0.0, \"#0d0887\"], [0.1111111111111111, \"#46039f\"], [0.2222222222222222, \"#7201a8\"], [0.3333333333333333, \"#9c179e\"], [0.4444444444444444, \"#bd3786\"], [0.5555555555555556, \"#d8576b\"], [0.6666666666666666, \"#ed7953\"], [0.7777777777777778, \"#fb9f3a\"], [0.8888888888888888, \"#fdca26\"], [1.0, \"#f0f921\"]], \"type\": \"heatmap\"}], \"heatmapgl\": [{\"colorbar\": {\"outlinewidth\": 0, \"ticks\": \"\"}, \"colorscale\": [[0.0, \"#0d0887\"], [0.1111111111111111, \"#46039f\"], [0.2222222222222222, \"#7201a8\"], [0.3333333333333333, \"#9c179e\"], [0.4444444444444444, \"#bd3786\"], [0.5555555555555556, \"#d8576b\"], [0.6666666666666666, \"#ed7953\"], [0.7777777777777778, \"#fb9f3a\"], [0.8888888888888888, \"#fdca26\"], [1.0, \"#f0f921\"]], \"type\": \"heatmapgl\"}], \"histogram\": [{\"marker\": {\"colorbar\": {\"outlinewidth\": 0, \"ticks\": \"\"}}, \"type\": \"histogram\"}], \"histogram2d\": [{\"colorbar\": {\"outlinewidth\": 0, \"ticks\": \"\"}, \"colorscale\": [[0.0, \"#0d0887\"], [0.1111111111111111, \"#46039f\"], [0.2222222222222222, \"#7201a8\"], [0.3333333333333333, \"#9c179e\"], [0.4444444444444444, \"#bd3786\"], [0.5555555555555556, \"#d8576b\"], [0.6666666666666666, \"#ed7953\"], [0.7777777777777778, \"#fb9f3a\"], [0.8888888888888888, \"#fdca26\"], [1.0, \"#f0f921\"]], \"type\": \"histogram2d\"}], \"histogram2dcontour\": [{\"colorbar\": {\"outlinewidth\": 0, \"ticks\": \"\"}, \"colorscale\": [[0.0, \"#0d0887\"], [0.1111111111111111, \"#46039f\"], [0.2222222222222222, \"#7201a8\"], [0.3333333333333333, \"#9c179e\"], [0.4444444444444444, \"#bd3786\"], [0.5555555555555556, \"#d8576b\"], [0.6666666666666666, \"#ed7953\"], [0.7777777777777778, \"#fb9f3a\"], [0.8888888888888888, \"#fdca26\"], [1.0, \"#f0f921\"]], \"type\": \"histogram2dcontour\"}], \"mesh3d\": [{\"colorbar\": {\"outlinewidth\": 0, \"ticks\": \"\"}, \"type\": \"mesh3d\"}], \"parcoords\": [{\"line\": {\"colorbar\": {\"outlinewidth\": 0, \"ticks\": \"\"}}, \"type\": \"parcoords\"}], \"pie\": [{\"automargin\": true, \"type\": \"pie\"}], \"scatter\": [{\"marker\": {\"colorbar\": {\"outlinewidth\": 0, \"ticks\": \"\"}}, \"type\": \"scatter\"}], \"scatter3d\": [{\"line\": {\"colorbar\": {\"outlinewidth\": 0, \"ticks\": \"\"}}, \"marker\": {\"colorbar\": {\"outlinewidth\": 0, \"ticks\": \"\"}}, \"type\": \"scatter3d\"}], \"scattercarpet\": [{\"marker\": {\"colorbar\": {\"outlinewidth\": 0, \"ticks\": \"\"}}, \"type\": \"scattercarpet\"}], \"scattergeo\": [{\"marker\": {\"colorbar\": {\"outlinewidth\": 0, \"ticks\": \"\"}}, \"type\": \"scattergeo\"}], \"scattergl\": [{\"marker\": {\"colorbar\": {\"outlinewidth\": 0, \"ticks\": \"\"}}, \"type\": \"scattergl\"}], \"scattermapbox\": [{\"marker\": {\"colorbar\": {\"outlinewidth\": 0, \"ticks\": \"\"}}, \"type\": \"scattermapbox\"}], \"scatterpolar\": [{\"marker\": {\"colorbar\": {\"outlinewidth\": 0, \"ticks\": \"\"}}, \"type\": \"scatterpolar\"}], \"scatterpolargl\": [{\"marker\": {\"colorbar\": {\"outlinewidth\": 0, \"ticks\": \"\"}}, \"type\": \"scatterpolargl\"}], \"scatterternary\": [{\"marker\": {\"colorbar\": {\"outlinewidth\": 0, \"ticks\": \"\"}}, \"type\": \"scatterternary\"}], \"surface\": [{\"colorbar\": {\"outlinewidth\": 0, \"ticks\": \"\"}, \"colorscale\": [[0.0, \"#0d0887\"], [0.1111111111111111, \"#46039f\"], [0.2222222222222222, \"#7201a8\"], [0.3333333333333333, \"#9c179e\"], [0.4444444444444444, \"#bd3786\"], [0.5555555555555556, \"#d8576b\"], [0.6666666666666666, \"#ed7953\"], [0.7777777777777778, \"#fb9f3a\"], [0.8888888888888888, \"#fdca26\"], [1.0, \"#f0f921\"]], \"type\": \"surface\"}], \"table\": [{\"cells\": {\"fill\": {\"color\": \"#EBF0F8\"}, \"line\": {\"color\": \"white\"}}, \"header\": {\"fill\": {\"color\": \"#C8D4E3\"}, \"line\": {\"color\": \"white\"}}, \"type\": \"table\"}]}, \"layout\": {\"annotationdefaults\": {\"arrowcolor\": \"#2a3f5f\", \"arrowhead\": 0, \"arrowwidth\": 1}, \"autotypenumbers\": \"strict\", \"coloraxis\": {\"colorbar\": {\"outlinewidth\": 0, \"ticks\": \"\"}}, \"colorscale\": {\"diverging\": [[0, \"#8e0152\"], [0.1, \"#c51b7d\"], [0.2, \"#de77ae\"], [0.3, \"#f1b6da\"], [0.4, \"#fde0ef\"], [0.5, \"#f7f7f7\"], [0.6, \"#e6f5d0\"], [0.7, \"#b8e186\"], [0.8, \"#7fbc41\"], [0.9, \"#4d9221\"], [1, \"#276419\"]], \"sequential\": [[0.0, \"#0d0887\"], [0.1111111111111111, \"#46039f\"], [0.2222222222222222, \"#7201a8\"], [0.3333333333333333, \"#9c179e\"], [0.4444444444444444, \"#bd3786\"], [0.5555555555555556, \"#d8576b\"], [0.6666666666666666, \"#ed7953\"], [0.7777777777777778, \"#fb9f3a\"], [0.8888888888888888, \"#fdca26\"], [1.0, \"#f0f921\"]], \"sequentialminus\": [[0.0, \"#0d0887\"], [0.1111111111111111, \"#46039f\"], [0.2222222222222222, \"#7201a8\"], [0.3333333333333333, \"#9c179e\"], [0.4444444444444444, \"#bd3786\"], [0.5555555555555556, \"#d8576b\"], [0.6666666666666666, \"#ed7953\"], [0.7777777777777778, \"#fb9f3a\"], [0.8888888888888888, \"#fdca26\"], [1.0, \"#f0f921\"]]}, \"colorway\": [\"#636efa\", \"#EF553B\", \"#00cc96\", \"#ab63fa\", \"#FFA15A\", \"#19d3f3\", \"#FF6692\", \"#B6E880\", \"#FF97FF\", \"#FECB52\"], \"font\": {\"color\": \"#2a3f5f\"}, \"geo\": {\"bgcolor\": \"white\", \"lakecolor\": \"white\", \"landcolor\": \"#E5ECF6\", \"showlakes\": true, \"showland\": true, \"subunitcolor\": \"white\"}, \"hoverlabel\": {\"align\": \"left\"}, \"hovermode\": \"closest\", \"mapbox\": {\"style\": \"light\"}, \"paper_bgcolor\": \"white\", \"plot_bgcolor\": \"#E5ECF6\", \"polar\": {\"angularaxis\": {\"gridcolor\": \"white\", \"linecolor\": \"white\", \"ticks\": \"\"}, \"bgcolor\": \"#E5ECF6\", \"radialaxis\": {\"gridcolor\": \"white\", \"linecolor\": \"white\", \"ticks\": \"\"}}, \"scene\": {\"xaxis\": {\"backgroundcolor\": \"#E5ECF6\", \"gridcolor\": \"white\", \"gridwidth\": 2, \"linecolor\": \"white\", \"showbackground\": true, \"ticks\": \"\", \"zerolinecolor\": \"white\"}, \"yaxis\": {\"backgroundcolor\": \"#E5ECF6\", \"gridcolor\": \"white\", \"gridwidth\": 2, \"linecolor\": \"white\", \"showbackground\": true, \"ticks\": \"\", \"zerolinecolor\": \"white\"}, \"zaxis\": {\"backgroundcolor\": \"#E5ECF6\", \"gridcolor\": \"white\", \"gridwidth\": 2, \"linecolor\": \"white\", \"showbackground\": true, \"ticks\": \"\", \"zerolinecolor\": \"white\"}}, \"shapedefaults\": {\"line\": {\"color\": \"#2a3f5f\"}}, \"ternary\": {\"aaxis\": {\"gridcolor\": \"white\", \"linecolor\": \"white\", \"ticks\": \"\"}, \"baxis\": {\"gridcolor\": \"white\", \"linecolor\": \"white\", \"ticks\": \"\"}, \"bgcolor\": \"#E5ECF6\", \"caxis\": {\"gridcolor\": \"white\", \"linecolor\": \"white\", \"ticks\": \"\"}}, \"title\": {\"x\": 0.05}, \"xaxis\": {\"automargin\": true, \"gridcolor\": \"white\", \"linecolor\": \"white\", \"ticks\": \"\", \"title\": {\"standoff\": 15}, \"zerolinecolor\": \"white\", \"zerolinewidth\": 2}, \"yaxis\": {\"automargin\": true, \"gridcolor\": \"white\", \"linecolor\": \"white\", \"ticks\": \"\", \"title\": {\"standoff\": 15}, \"zerolinecolor\": \"white\", \"zerolinewidth\": 2}}}, \"title\": {\"font\": {\"color\": \"#4D5663\"}}, \"xaxis\": {\"gridcolor\": \"#E1E5ED\", \"showgrid\": true, \"tickfont\": {\"color\": \"#4D5663\"}, \"title\": {\"font\": {\"color\": \"#4D5663\"}, \"text\": \"\"}, \"zerolinecolor\": \"#E1E5ED\"}, \"yaxis\": {\"gridcolor\": \"#E1E5ED\", \"showgrid\": true, \"tickfont\": {\"color\": \"#4D5663\"}, \"title\": {\"font\": {\"color\": \"#4D5663\"}, \"text\": \"\"}, \"zerolinecolor\": \"#E1E5ED\"}},                        {\"showLink\": true, \"linkText\": \"Export to plot.ly\", \"plotlyServerURL\": \"https://plot.ly\", \"responsive\": true}                    ).then(function(){\n",
       "                            \n",
       "var gd = document.getElementById('12e11c6d-1897-4096-98b5-5dae36e6219a');\n",
       "var x = new MutationObserver(function (mutations, observer) {{\n",
       "        var display = window.getComputedStyle(gd).display;\n",
       "        if (!display || display === 'none') {{\n",
       "            console.log([gd, 'removed!']);\n",
       "            Plotly.purge(gd);\n",
       "            observer.disconnect();\n",
       "        }}\n",
       "}});\n",
       "\n",
       "// Listen for the removal of the full notebook cells\n",
       "var notebookContainer = gd.closest('#notebook-container');\n",
       "if (notebookContainer) {{\n",
       "    x.observe(notebookContainer, {childList: true});\n",
       "}}\n",
       "\n",
       "// Listen for the clearing of the current output cell\n",
       "var outputEl = gd.closest('.output');\n",
       "if (outputEl) {{\n",
       "    x.observe(outputEl, {childList: true});\n",
       "}}\n",
       "\n",
       "                        })                };                });            </script>        </div>"
      ]
     },
     "metadata": {},
     "output_type": "display_data"
    }
   ],
   "source": [
    "df.iplot(kind='box')"
   ]
  },
  {
   "cell_type": "markdown",
   "metadata": {},
   "source": [
    "## Superficie 3D"
   ]
  },
  {
   "cell_type": "code",
   "execution_count": 14,
   "metadata": {},
   "outputs": [
    {
     "data": {
      "application/vnd.plotly.v1+json": {
       "config": {
        "linkText": "Export to plot.ly",
        "plotlyServerURL": "https://plot.ly",
        "showLink": true
       },
       "data": [
        {
         "colorscale": [
          [
           0,
           "rgb(165,0,38)"
          ],
          [
           0.1,
           "rgb(215,48,39)"
          ],
          [
           0.2,
           "rgb(244,109,67)"
          ],
          [
           0.3,
           "rgb(253,174,97)"
          ],
          [
           0.4,
           "rgb(254,224,144)"
          ],
          [
           0.5,
           "rgb(255,255,191)"
          ],
          [
           0.6,
           "rgb(224,243,248)"
          ],
          [
           0.7,
           "rgb(171,217,233)"
          ],
          [
           0.8,
           "rgb(116,173,209)"
          ],
          [
           0.9,
           "rgb(69,117,180)"
          ],
          [
           1,
           "rgb(49,54,149)"
          ]
         ],
         "type": "surface",
         "x": [
          0,
          1,
          2,
          3,
          4
         ],
         "y": [
          "x",
          "y",
          "z"
         ],
         "z": [
          [
           1,
           2,
           3,
           4,
           5
          ],
          [
           10,
           20,
           30,
           20,
           10
          ],
          [
           5,
           4,
           3,
           2,
           1
          ]
         ]
        }
       ],
       "layout": {
        "legend": {
         "bgcolor": "#F5F6F9",
         "font": {
          "color": "#4D5663"
         }
        },
        "paper_bgcolor": "#F5F6F9",
        "plot_bgcolor": "#F5F6F9",
        "template": {
         "data": {
          "bar": [
           {
            "error_x": {
             "color": "#2a3f5f"
            },
            "error_y": {
             "color": "#2a3f5f"
            },
            "marker": {
             "line": {
              "color": "#E5ECF6",
              "width": 0.5
             }
            },
            "type": "bar"
           }
          ],
          "barpolar": [
           {
            "marker": {
             "line": {
              "color": "#E5ECF6",
              "width": 0.5
             }
            },
            "type": "barpolar"
           }
          ],
          "carpet": [
           {
            "aaxis": {
             "endlinecolor": "#2a3f5f",
             "gridcolor": "white",
             "linecolor": "white",
             "minorgridcolor": "white",
             "startlinecolor": "#2a3f5f"
            },
            "baxis": {
             "endlinecolor": "#2a3f5f",
             "gridcolor": "white",
             "linecolor": "white",
             "minorgridcolor": "white",
             "startlinecolor": "#2a3f5f"
            },
            "type": "carpet"
           }
          ],
          "choropleth": [
           {
            "colorbar": {
             "outlinewidth": 0,
             "ticks": ""
            },
            "type": "choropleth"
           }
          ],
          "contour": [
           {
            "colorbar": {
             "outlinewidth": 0,
             "ticks": ""
            },
            "colorscale": [
             [
              0,
              "#0d0887"
             ],
             [
              0.1111111111111111,
              "#46039f"
             ],
             [
              0.2222222222222222,
              "#7201a8"
             ],
             [
              0.3333333333333333,
              "#9c179e"
             ],
             [
              0.4444444444444444,
              "#bd3786"
             ],
             [
              0.5555555555555556,
              "#d8576b"
             ],
             [
              0.6666666666666666,
              "#ed7953"
             ],
             [
              0.7777777777777778,
              "#fb9f3a"
             ],
             [
              0.8888888888888888,
              "#fdca26"
             ],
             [
              1,
              "#f0f921"
             ]
            ],
            "type": "contour"
           }
          ],
          "contourcarpet": [
           {
            "colorbar": {
             "outlinewidth": 0,
             "ticks": ""
            },
            "type": "contourcarpet"
           }
          ],
          "heatmap": [
           {
            "colorbar": {
             "outlinewidth": 0,
             "ticks": ""
            },
            "colorscale": [
             [
              0,
              "#0d0887"
             ],
             [
              0.1111111111111111,
              "#46039f"
             ],
             [
              0.2222222222222222,
              "#7201a8"
             ],
             [
              0.3333333333333333,
              "#9c179e"
             ],
             [
              0.4444444444444444,
              "#bd3786"
             ],
             [
              0.5555555555555556,
              "#d8576b"
             ],
             [
              0.6666666666666666,
              "#ed7953"
             ],
             [
              0.7777777777777778,
              "#fb9f3a"
             ],
             [
              0.8888888888888888,
              "#fdca26"
             ],
             [
              1,
              "#f0f921"
             ]
            ],
            "type": "heatmap"
           }
          ],
          "heatmapgl": [
           {
            "colorbar": {
             "outlinewidth": 0,
             "ticks": ""
            },
            "colorscale": [
             [
              0,
              "#0d0887"
             ],
             [
              0.1111111111111111,
              "#46039f"
             ],
             [
              0.2222222222222222,
              "#7201a8"
             ],
             [
              0.3333333333333333,
              "#9c179e"
             ],
             [
              0.4444444444444444,
              "#bd3786"
             ],
             [
              0.5555555555555556,
              "#d8576b"
             ],
             [
              0.6666666666666666,
              "#ed7953"
             ],
             [
              0.7777777777777778,
              "#fb9f3a"
             ],
             [
              0.8888888888888888,
              "#fdca26"
             ],
             [
              1,
              "#f0f921"
             ]
            ],
            "type": "heatmapgl"
           }
          ],
          "histogram": [
           {
            "marker": {
             "colorbar": {
              "outlinewidth": 0,
              "ticks": ""
             }
            },
            "type": "histogram"
           }
          ],
          "histogram2d": [
           {
            "colorbar": {
             "outlinewidth": 0,
             "ticks": ""
            },
            "colorscale": [
             [
              0,
              "#0d0887"
             ],
             [
              0.1111111111111111,
              "#46039f"
             ],
             [
              0.2222222222222222,
              "#7201a8"
             ],
             [
              0.3333333333333333,
              "#9c179e"
             ],
             [
              0.4444444444444444,
              "#bd3786"
             ],
             [
              0.5555555555555556,
              "#d8576b"
             ],
             [
              0.6666666666666666,
              "#ed7953"
             ],
             [
              0.7777777777777778,
              "#fb9f3a"
             ],
             [
              0.8888888888888888,
              "#fdca26"
             ],
             [
              1,
              "#f0f921"
             ]
            ],
            "type": "histogram2d"
           }
          ],
          "histogram2dcontour": [
           {
            "colorbar": {
             "outlinewidth": 0,
             "ticks": ""
            },
            "colorscale": [
             [
              0,
              "#0d0887"
             ],
             [
              0.1111111111111111,
              "#46039f"
             ],
             [
              0.2222222222222222,
              "#7201a8"
             ],
             [
              0.3333333333333333,
              "#9c179e"
             ],
             [
              0.4444444444444444,
              "#bd3786"
             ],
             [
              0.5555555555555556,
              "#d8576b"
             ],
             [
              0.6666666666666666,
              "#ed7953"
             ],
             [
              0.7777777777777778,
              "#fb9f3a"
             ],
             [
              0.8888888888888888,
              "#fdca26"
             ],
             [
              1,
              "#f0f921"
             ]
            ],
            "type": "histogram2dcontour"
           }
          ],
          "mesh3d": [
           {
            "colorbar": {
             "outlinewidth": 0,
             "ticks": ""
            },
            "type": "mesh3d"
           }
          ],
          "parcoords": [
           {
            "line": {
             "colorbar": {
              "outlinewidth": 0,
              "ticks": ""
             }
            },
            "type": "parcoords"
           }
          ],
          "pie": [
           {
            "automargin": true,
            "type": "pie"
           }
          ],
          "scatter": [
           {
            "marker": {
             "colorbar": {
              "outlinewidth": 0,
              "ticks": ""
             }
            },
            "type": "scatter"
           }
          ],
          "scatter3d": [
           {
            "line": {
             "colorbar": {
              "outlinewidth": 0,
              "ticks": ""
             }
            },
            "marker": {
             "colorbar": {
              "outlinewidth": 0,
              "ticks": ""
             }
            },
            "type": "scatter3d"
           }
          ],
          "scattercarpet": [
           {
            "marker": {
             "colorbar": {
              "outlinewidth": 0,
              "ticks": ""
             }
            },
            "type": "scattercarpet"
           }
          ],
          "scattergeo": [
           {
            "marker": {
             "colorbar": {
              "outlinewidth": 0,
              "ticks": ""
             }
            },
            "type": "scattergeo"
           }
          ],
          "scattergl": [
           {
            "marker": {
             "colorbar": {
              "outlinewidth": 0,
              "ticks": ""
             }
            },
            "type": "scattergl"
           }
          ],
          "scattermapbox": [
           {
            "marker": {
             "colorbar": {
              "outlinewidth": 0,
              "ticks": ""
             }
            },
            "type": "scattermapbox"
           }
          ],
          "scatterpolar": [
           {
            "marker": {
             "colorbar": {
              "outlinewidth": 0,
              "ticks": ""
             }
            },
            "type": "scatterpolar"
           }
          ],
          "scatterpolargl": [
           {
            "marker": {
             "colorbar": {
              "outlinewidth": 0,
              "ticks": ""
             }
            },
            "type": "scatterpolargl"
           }
          ],
          "scatterternary": [
           {
            "marker": {
             "colorbar": {
              "outlinewidth": 0,
              "ticks": ""
             }
            },
            "type": "scatterternary"
           }
          ],
          "surface": [
           {
            "colorbar": {
             "outlinewidth": 0,
             "ticks": ""
            },
            "colorscale": [
             [
              0,
              "#0d0887"
             ],
             [
              0.1111111111111111,
              "#46039f"
             ],
             [
              0.2222222222222222,
              "#7201a8"
             ],
             [
              0.3333333333333333,
              "#9c179e"
             ],
             [
              0.4444444444444444,
              "#bd3786"
             ],
             [
              0.5555555555555556,
              "#d8576b"
             ],
             [
              0.6666666666666666,
              "#ed7953"
             ],
             [
              0.7777777777777778,
              "#fb9f3a"
             ],
             [
              0.8888888888888888,
              "#fdca26"
             ],
             [
              1,
              "#f0f921"
             ]
            ],
            "type": "surface"
           }
          ],
          "table": [
           {
            "cells": {
             "fill": {
              "color": "#EBF0F8"
             },
             "line": {
              "color": "white"
             }
            },
            "header": {
             "fill": {
              "color": "#C8D4E3"
             },
             "line": {
              "color": "white"
             }
            },
            "type": "table"
           }
          ]
         },
         "layout": {
          "annotationdefaults": {
           "arrowcolor": "#2a3f5f",
           "arrowhead": 0,
           "arrowwidth": 1
          },
          "autotypenumbers": "strict",
          "coloraxis": {
           "colorbar": {
            "outlinewidth": 0,
            "ticks": ""
           }
          },
          "colorscale": {
           "diverging": [
            [
             0,
             "#8e0152"
            ],
            [
             0.1,
             "#c51b7d"
            ],
            [
             0.2,
             "#de77ae"
            ],
            [
             0.3,
             "#f1b6da"
            ],
            [
             0.4,
             "#fde0ef"
            ],
            [
             0.5,
             "#f7f7f7"
            ],
            [
             0.6,
             "#e6f5d0"
            ],
            [
             0.7,
             "#b8e186"
            ],
            [
             0.8,
             "#7fbc41"
            ],
            [
             0.9,
             "#4d9221"
            ],
            [
             1,
             "#276419"
            ]
           ],
           "sequential": [
            [
             0,
             "#0d0887"
            ],
            [
             0.1111111111111111,
             "#46039f"
            ],
            [
             0.2222222222222222,
             "#7201a8"
            ],
            [
             0.3333333333333333,
             "#9c179e"
            ],
            [
             0.4444444444444444,
             "#bd3786"
            ],
            [
             0.5555555555555556,
             "#d8576b"
            ],
            [
             0.6666666666666666,
             "#ed7953"
            ],
            [
             0.7777777777777778,
             "#fb9f3a"
            ],
            [
             0.8888888888888888,
             "#fdca26"
            ],
            [
             1,
             "#f0f921"
            ]
           ],
           "sequentialminus": [
            [
             0,
             "#0d0887"
            ],
            [
             0.1111111111111111,
             "#46039f"
            ],
            [
             0.2222222222222222,
             "#7201a8"
            ],
            [
             0.3333333333333333,
             "#9c179e"
            ],
            [
             0.4444444444444444,
             "#bd3786"
            ],
            [
             0.5555555555555556,
             "#d8576b"
            ],
            [
             0.6666666666666666,
             "#ed7953"
            ],
            [
             0.7777777777777778,
             "#fb9f3a"
            ],
            [
             0.8888888888888888,
             "#fdca26"
            ],
            [
             1,
             "#f0f921"
            ]
           ]
          },
          "colorway": [
           "#636efa",
           "#EF553B",
           "#00cc96",
           "#ab63fa",
           "#FFA15A",
           "#19d3f3",
           "#FF6692",
           "#B6E880",
           "#FF97FF",
           "#FECB52"
          ],
          "font": {
           "color": "#2a3f5f"
          },
          "geo": {
           "bgcolor": "white",
           "lakecolor": "white",
           "landcolor": "#E5ECF6",
           "showlakes": true,
           "showland": true,
           "subunitcolor": "white"
          },
          "hoverlabel": {
           "align": "left"
          },
          "hovermode": "closest",
          "mapbox": {
           "style": "light"
          },
          "paper_bgcolor": "white",
          "plot_bgcolor": "#E5ECF6",
          "polar": {
           "angularaxis": {
            "gridcolor": "white",
            "linecolor": "white",
            "ticks": ""
           },
           "bgcolor": "#E5ECF6",
           "radialaxis": {
            "gridcolor": "white",
            "linecolor": "white",
            "ticks": ""
           }
          },
          "scene": {
           "xaxis": {
            "backgroundcolor": "#E5ECF6",
            "gridcolor": "white",
            "gridwidth": 2,
            "linecolor": "white",
            "showbackground": true,
            "ticks": "",
            "zerolinecolor": "white"
           },
           "yaxis": {
            "backgroundcolor": "#E5ECF6",
            "gridcolor": "white",
            "gridwidth": 2,
            "linecolor": "white",
            "showbackground": true,
            "ticks": "",
            "zerolinecolor": "white"
           },
           "zaxis": {
            "backgroundcolor": "#E5ECF6",
            "gridcolor": "white",
            "gridwidth": 2,
            "linecolor": "white",
            "showbackground": true,
            "ticks": "",
            "zerolinecolor": "white"
           }
          },
          "shapedefaults": {
           "line": {
            "color": "#2a3f5f"
           }
          },
          "ternary": {
           "aaxis": {
            "gridcolor": "white",
            "linecolor": "white",
            "ticks": ""
           },
           "baxis": {
            "gridcolor": "white",
            "linecolor": "white",
            "ticks": ""
           },
           "bgcolor": "#E5ECF6",
           "caxis": {
            "gridcolor": "white",
            "linecolor": "white",
            "ticks": ""
           }
          },
          "title": {
           "x": 0.05
          },
          "xaxis": {
           "automargin": true,
           "gridcolor": "white",
           "linecolor": "white",
           "ticks": "",
           "title": {
            "standoff": 15
           },
           "zerolinecolor": "white",
           "zerolinewidth": 2
          },
          "yaxis": {
           "automargin": true,
           "gridcolor": "white",
           "linecolor": "white",
           "ticks": "",
           "title": {
            "standoff": 15
           },
           "zerolinecolor": "white",
           "zerolinewidth": 2
          }
         }
        },
        "title": {
         "font": {
          "color": "#4D5663"
         }
        },
        "xaxis": {
         "gridcolor": "#E1E5ED",
         "showgrid": true,
         "tickfont": {
          "color": "#4D5663"
         },
         "title": {
          "font": {
           "color": "#4D5663"
          },
          "text": ""
         },
         "zerolinecolor": "#E1E5ED"
        },
        "yaxis": {
         "gridcolor": "#E1E5ED",
         "showgrid": true,
         "tickfont": {
          "color": "#4D5663"
         },
         "title": {
          "font": {
           "color": "#4D5663"
          },
          "text": ""
         },
         "zerolinecolor": "#E1E5ED"
        }
       }
      },
      "text/html": [
       "<div>                            <div id=\"0a331817-32c8-4712-922b-3368ac70c9a0\" class=\"plotly-graph-div\" style=\"height:525px; width:100%;\"></div>            <script type=\"text/javascript\">                require([\"plotly\"], function(Plotly) {                    window.PLOTLYENV=window.PLOTLYENV || {};\n",
       "                    window.PLOTLYENV.BASE_URL='https://plot.ly';                                    if (document.getElementById(\"0a331817-32c8-4712-922b-3368ac70c9a0\")) {                    Plotly.newPlot(                        \"0a331817-32c8-4712-922b-3368ac70c9a0\",                        [{\"colorscale\": [[0.0, \"rgb(165,0,38)\"], [0.1, \"rgb(215,48,39)\"], [0.2, \"rgb(244,109,67)\"], [0.3, \"rgb(253,174,97)\"], [0.4, \"rgb(254,224,144)\"], [0.5, \"rgb(255,255,191)\"], [0.6, \"rgb(224,243,248)\"], [0.7, \"rgb(171,217,233)\"], [0.8, \"rgb(116,173,209)\"], [0.9, \"rgb(69,117,180)\"], [1.0, \"rgb(49,54,149)\"]], \"type\": \"surface\", \"x\": [0, 1, 2, 3, 4], \"y\": [\"x\", \"y\", \"z\"], \"z\": [[1, 2, 3, 4, 5], [10, 20, 30, 20, 10], [5, 4, 3, 2, 1]]}],                        {\"legend\": {\"bgcolor\": \"#F5F6F9\", \"font\": {\"color\": \"#4D5663\"}}, \"paper_bgcolor\": \"#F5F6F9\", \"plot_bgcolor\": \"#F5F6F9\", \"template\": {\"data\": {\"bar\": [{\"error_x\": {\"color\": \"#2a3f5f\"}, \"error_y\": {\"color\": \"#2a3f5f\"}, \"marker\": {\"line\": {\"color\": \"#E5ECF6\", \"width\": 0.5}}, \"type\": \"bar\"}], \"barpolar\": [{\"marker\": {\"line\": {\"color\": \"#E5ECF6\", \"width\": 0.5}}, \"type\": \"barpolar\"}], \"carpet\": [{\"aaxis\": {\"endlinecolor\": \"#2a3f5f\", \"gridcolor\": \"white\", \"linecolor\": \"white\", \"minorgridcolor\": \"white\", \"startlinecolor\": \"#2a3f5f\"}, \"baxis\": {\"endlinecolor\": \"#2a3f5f\", \"gridcolor\": \"white\", \"linecolor\": \"white\", \"minorgridcolor\": \"white\", \"startlinecolor\": \"#2a3f5f\"}, \"type\": \"carpet\"}], \"choropleth\": [{\"colorbar\": {\"outlinewidth\": 0, \"ticks\": \"\"}, \"type\": \"choropleth\"}], \"contour\": [{\"colorbar\": {\"outlinewidth\": 0, \"ticks\": \"\"}, \"colorscale\": [[0.0, \"#0d0887\"], [0.1111111111111111, \"#46039f\"], [0.2222222222222222, \"#7201a8\"], [0.3333333333333333, \"#9c179e\"], [0.4444444444444444, \"#bd3786\"], [0.5555555555555556, \"#d8576b\"], [0.6666666666666666, \"#ed7953\"], [0.7777777777777778, \"#fb9f3a\"], [0.8888888888888888, \"#fdca26\"], [1.0, \"#f0f921\"]], \"type\": \"contour\"}], \"contourcarpet\": [{\"colorbar\": {\"outlinewidth\": 0, \"ticks\": \"\"}, \"type\": \"contourcarpet\"}], \"heatmap\": [{\"colorbar\": {\"outlinewidth\": 0, \"ticks\": \"\"}, \"colorscale\": [[0.0, \"#0d0887\"], [0.1111111111111111, \"#46039f\"], [0.2222222222222222, \"#7201a8\"], [0.3333333333333333, \"#9c179e\"], [0.4444444444444444, \"#bd3786\"], [0.5555555555555556, \"#d8576b\"], [0.6666666666666666, \"#ed7953\"], [0.7777777777777778, \"#fb9f3a\"], [0.8888888888888888, \"#fdca26\"], [1.0, \"#f0f921\"]], \"type\": \"heatmap\"}], \"heatmapgl\": [{\"colorbar\": {\"outlinewidth\": 0, \"ticks\": \"\"}, \"colorscale\": [[0.0, \"#0d0887\"], [0.1111111111111111, \"#46039f\"], [0.2222222222222222, \"#7201a8\"], [0.3333333333333333, \"#9c179e\"], [0.4444444444444444, \"#bd3786\"], [0.5555555555555556, \"#d8576b\"], [0.6666666666666666, \"#ed7953\"], [0.7777777777777778, \"#fb9f3a\"], [0.8888888888888888, \"#fdca26\"], [1.0, \"#f0f921\"]], \"type\": \"heatmapgl\"}], \"histogram\": [{\"marker\": {\"colorbar\": {\"outlinewidth\": 0, \"ticks\": \"\"}}, \"type\": \"histogram\"}], \"histogram2d\": [{\"colorbar\": {\"outlinewidth\": 0, \"ticks\": \"\"}, \"colorscale\": [[0.0, \"#0d0887\"], [0.1111111111111111, \"#46039f\"], [0.2222222222222222, \"#7201a8\"], [0.3333333333333333, \"#9c179e\"], [0.4444444444444444, \"#bd3786\"], [0.5555555555555556, \"#d8576b\"], [0.6666666666666666, \"#ed7953\"], [0.7777777777777778, \"#fb9f3a\"], [0.8888888888888888, \"#fdca26\"], [1.0, \"#f0f921\"]], \"type\": \"histogram2d\"}], \"histogram2dcontour\": [{\"colorbar\": {\"outlinewidth\": 0, \"ticks\": \"\"}, \"colorscale\": [[0.0, \"#0d0887\"], [0.1111111111111111, \"#46039f\"], [0.2222222222222222, \"#7201a8\"], [0.3333333333333333, \"#9c179e\"], [0.4444444444444444, \"#bd3786\"], [0.5555555555555556, \"#d8576b\"], [0.6666666666666666, \"#ed7953\"], [0.7777777777777778, \"#fb9f3a\"], [0.8888888888888888, \"#fdca26\"], [1.0, \"#f0f921\"]], \"type\": \"histogram2dcontour\"}], \"mesh3d\": [{\"colorbar\": {\"outlinewidth\": 0, \"ticks\": \"\"}, \"type\": \"mesh3d\"}], \"parcoords\": [{\"line\": {\"colorbar\": {\"outlinewidth\": 0, \"ticks\": \"\"}}, \"type\": \"parcoords\"}], \"pie\": [{\"automargin\": true, \"type\": \"pie\"}], \"scatter\": [{\"marker\": {\"colorbar\": {\"outlinewidth\": 0, \"ticks\": \"\"}}, \"type\": \"scatter\"}], \"scatter3d\": [{\"line\": {\"colorbar\": {\"outlinewidth\": 0, \"ticks\": \"\"}}, \"marker\": {\"colorbar\": {\"outlinewidth\": 0, \"ticks\": \"\"}}, \"type\": \"scatter3d\"}], \"scattercarpet\": [{\"marker\": {\"colorbar\": {\"outlinewidth\": 0, \"ticks\": \"\"}}, \"type\": \"scattercarpet\"}], \"scattergeo\": [{\"marker\": {\"colorbar\": {\"outlinewidth\": 0, \"ticks\": \"\"}}, \"type\": \"scattergeo\"}], \"scattergl\": [{\"marker\": {\"colorbar\": {\"outlinewidth\": 0, \"ticks\": \"\"}}, \"type\": \"scattergl\"}], \"scattermapbox\": [{\"marker\": {\"colorbar\": {\"outlinewidth\": 0, \"ticks\": \"\"}}, \"type\": \"scattermapbox\"}], \"scatterpolar\": [{\"marker\": {\"colorbar\": {\"outlinewidth\": 0, \"ticks\": \"\"}}, \"type\": \"scatterpolar\"}], \"scatterpolargl\": [{\"marker\": {\"colorbar\": {\"outlinewidth\": 0, \"ticks\": \"\"}}, \"type\": \"scatterpolargl\"}], \"scatterternary\": [{\"marker\": {\"colorbar\": {\"outlinewidth\": 0, \"ticks\": \"\"}}, \"type\": \"scatterternary\"}], \"surface\": [{\"colorbar\": {\"outlinewidth\": 0, \"ticks\": \"\"}, \"colorscale\": [[0.0, \"#0d0887\"], [0.1111111111111111, \"#46039f\"], [0.2222222222222222, \"#7201a8\"], [0.3333333333333333, \"#9c179e\"], [0.4444444444444444, \"#bd3786\"], [0.5555555555555556, \"#d8576b\"], [0.6666666666666666, \"#ed7953\"], [0.7777777777777778, \"#fb9f3a\"], [0.8888888888888888, \"#fdca26\"], [1.0, \"#f0f921\"]], \"type\": \"surface\"}], \"table\": [{\"cells\": {\"fill\": {\"color\": \"#EBF0F8\"}, \"line\": {\"color\": \"white\"}}, \"header\": {\"fill\": {\"color\": \"#C8D4E3\"}, \"line\": {\"color\": \"white\"}}, \"type\": \"table\"}]}, \"layout\": {\"annotationdefaults\": {\"arrowcolor\": \"#2a3f5f\", \"arrowhead\": 0, \"arrowwidth\": 1}, \"autotypenumbers\": \"strict\", \"coloraxis\": {\"colorbar\": {\"outlinewidth\": 0, \"ticks\": \"\"}}, \"colorscale\": {\"diverging\": [[0, \"#8e0152\"], [0.1, \"#c51b7d\"], [0.2, \"#de77ae\"], [0.3, \"#f1b6da\"], [0.4, \"#fde0ef\"], [0.5, \"#f7f7f7\"], [0.6, \"#e6f5d0\"], [0.7, \"#b8e186\"], [0.8, \"#7fbc41\"], [0.9, \"#4d9221\"], [1, \"#276419\"]], \"sequential\": [[0.0, \"#0d0887\"], [0.1111111111111111, \"#46039f\"], [0.2222222222222222, \"#7201a8\"], [0.3333333333333333, \"#9c179e\"], [0.4444444444444444, \"#bd3786\"], [0.5555555555555556, \"#d8576b\"], [0.6666666666666666, \"#ed7953\"], [0.7777777777777778, \"#fb9f3a\"], [0.8888888888888888, \"#fdca26\"], [1.0, \"#f0f921\"]], \"sequentialminus\": [[0.0, \"#0d0887\"], [0.1111111111111111, \"#46039f\"], [0.2222222222222222, \"#7201a8\"], [0.3333333333333333, \"#9c179e\"], [0.4444444444444444, \"#bd3786\"], [0.5555555555555556, \"#d8576b\"], [0.6666666666666666, \"#ed7953\"], [0.7777777777777778, \"#fb9f3a\"], [0.8888888888888888, \"#fdca26\"], [1.0, \"#f0f921\"]]}, \"colorway\": [\"#636efa\", \"#EF553B\", \"#00cc96\", \"#ab63fa\", \"#FFA15A\", \"#19d3f3\", \"#FF6692\", \"#B6E880\", \"#FF97FF\", \"#FECB52\"], \"font\": {\"color\": \"#2a3f5f\"}, \"geo\": {\"bgcolor\": \"white\", \"lakecolor\": \"white\", \"landcolor\": \"#E5ECF6\", \"showlakes\": true, \"showland\": true, \"subunitcolor\": \"white\"}, \"hoverlabel\": {\"align\": \"left\"}, \"hovermode\": \"closest\", \"mapbox\": {\"style\": \"light\"}, \"paper_bgcolor\": \"white\", \"plot_bgcolor\": \"#E5ECF6\", \"polar\": {\"angularaxis\": {\"gridcolor\": \"white\", \"linecolor\": \"white\", \"ticks\": \"\"}, \"bgcolor\": \"#E5ECF6\", \"radialaxis\": {\"gridcolor\": \"white\", \"linecolor\": \"white\", \"ticks\": \"\"}}, \"scene\": {\"xaxis\": {\"backgroundcolor\": \"#E5ECF6\", \"gridcolor\": \"white\", \"gridwidth\": 2, \"linecolor\": \"white\", \"showbackground\": true, \"ticks\": \"\", \"zerolinecolor\": \"white\"}, \"yaxis\": {\"backgroundcolor\": \"#E5ECF6\", \"gridcolor\": \"white\", \"gridwidth\": 2, \"linecolor\": \"white\", \"showbackground\": true, \"ticks\": \"\", \"zerolinecolor\": \"white\"}, \"zaxis\": {\"backgroundcolor\": \"#E5ECF6\", \"gridcolor\": \"white\", \"gridwidth\": 2, \"linecolor\": \"white\", \"showbackground\": true, \"ticks\": \"\", \"zerolinecolor\": \"white\"}}, \"shapedefaults\": {\"line\": {\"color\": \"#2a3f5f\"}}, \"ternary\": {\"aaxis\": {\"gridcolor\": \"white\", \"linecolor\": \"white\", \"ticks\": \"\"}, \"baxis\": {\"gridcolor\": \"white\", \"linecolor\": \"white\", \"ticks\": \"\"}, \"bgcolor\": \"#E5ECF6\", \"caxis\": {\"gridcolor\": \"white\", \"linecolor\": \"white\", \"ticks\": \"\"}}, \"title\": {\"x\": 0.05}, \"xaxis\": {\"automargin\": true, \"gridcolor\": \"white\", \"linecolor\": \"white\", \"ticks\": \"\", \"title\": {\"standoff\": 15}, \"zerolinecolor\": \"white\", \"zerolinewidth\": 2}, \"yaxis\": {\"automargin\": true, \"gridcolor\": \"white\", \"linecolor\": \"white\", \"ticks\": \"\", \"title\": {\"standoff\": 15}, \"zerolinecolor\": \"white\", \"zerolinewidth\": 2}}}, \"title\": {\"font\": {\"color\": \"#4D5663\"}}, \"xaxis\": {\"gridcolor\": \"#E1E5ED\", \"showgrid\": true, \"tickfont\": {\"color\": \"#4D5663\"}, \"title\": {\"font\": {\"color\": \"#4D5663\"}, \"text\": \"\"}, \"zerolinecolor\": \"#E1E5ED\"}, \"yaxis\": {\"gridcolor\": \"#E1E5ED\", \"showgrid\": true, \"tickfont\": {\"color\": \"#4D5663\"}, \"title\": {\"font\": {\"color\": \"#4D5663\"}, \"text\": \"\"}, \"zerolinecolor\": \"#E1E5ED\"}},                        {\"showLink\": true, \"linkText\": \"Export to plot.ly\", \"plotlyServerURL\": \"https://plot.ly\", \"responsive\": true}                    ).then(function(){\n",
       "                            \n",
       "var gd = document.getElementById('0a331817-32c8-4712-922b-3368ac70c9a0');\n",
       "var x = new MutationObserver(function (mutations, observer) {{\n",
       "        var display = window.getComputedStyle(gd).display;\n",
       "        if (!display || display === 'none') {{\n",
       "            console.log([gd, 'removed!']);\n",
       "            Plotly.purge(gd);\n",
       "            observer.disconnect();\n",
       "        }}\n",
       "}});\n",
       "\n",
       "// Listen for the removal of the full notebook cells\n",
       "var notebookContainer = gd.closest('#notebook-container');\n",
       "if (notebookContainer) {{\n",
       "    x.observe(notebookContainer, {childList: true});\n",
       "}}\n",
       "\n",
       "// Listen for the clearing of the current output cell\n",
       "var outputEl = gd.closest('.output');\n",
       "if (outputEl) {{\n",
       "    x.observe(outputEl, {childList: true});\n",
       "}}\n",
       "\n",
       "                        })                };                });            </script>        </div>"
      ]
     },
     "metadata": {},
     "output_type": "display_data"
    }
   ],
   "source": [
    "df3 = pd.DataFrame({'x':[1,2,3,4,5],'y':[10,20,30,20,10],'z':[5,4,3,2,1]})\n",
    "df3.iplot(kind='surface',colorscale='rdylbu')"
   ]
  },
  {
   "cell_type": "markdown",
   "metadata": {},
   "source": [
    "## histogram"
   ]
  },
  {
   "cell_type": "code",
   "execution_count": 15,
   "metadata": {},
   "outputs": [
    {
     "data": {
      "application/vnd.plotly.v1+json": {
       "config": {
        "linkText": "Export to plot.ly",
        "plotlyServerURL": "https://plot.ly",
        "showLink": true
       },
       "data": [
        {
         "histfunc": "count",
         "histnorm": "",
         "marker": {
          "color": "rgba(255, 153, 51, 1.0)",
          "line": {
           "color": "#4D5663",
           "width": 1.3
          }
         },
         "name": "A",
         "nbinsx": 25,
         "opacity": 0.8,
         "orientation": "v",
         "type": "histogram",
         "x": [
          -0.45631341899455446,
          0.4724584044203727,
          1.9406963290187815,
          1.3642048200066281,
          0.3888909674049345,
          -0.8155560132139653,
          0.1824994980346096,
          -0.6460157547769448,
          0.7726921125849633,
          -0.7574183434082375,
          0.5743341411046669,
          -1.122291005811296,
          0.39592557287173297,
          1.7658327891993622,
          0.03956382437720008,
          -1.1778154865134784,
          1.3612446505476976,
          0.4575543125475046,
          -0.6100736598999223,
          -0.16227885578643608,
          0.9074892985388556,
          -1.2212771553160078,
          -0.003212139726141614,
          1.78200159331685,
          0.3051643896263515,
          0.5975174164344041,
          -1.069764750030652,
          0.692191997574215,
          0.2696109540579809,
          -1.1542791753011188,
          -1.1385749479100127,
          -0.3699998786410983,
          -1.1344534996132034,
          0.672988103248493,
          2.072735424057368,
          -2.1147273254318355,
          0.36626961903539124,
          0.49402674018544357,
          0.5216867514899008,
          -0.5714109512067463,
          -0.6761590098251625,
          0.7042638386647735,
          0.11699659474769354,
          -0.1640626482877639,
          -0.6269163627570845,
          -0.4238401729522169,
          0.8249507519202229,
          -0.8400945963434742,
          0.7002288932568547,
          -0.23430066738503985,
          -0.2697623100425775,
          1.1296410882765562,
          -0.12089119108281095,
          0.6785647004075804,
          -0.33277254474307,
          1.2755116095541024,
          2.8144119696677983,
          -0.04169729623664178,
          -0.8263225957897392,
          0.5346425224779339,
          -0.1691615220796312,
          -0.028261136874453294,
          -0.9159867232468516,
          0.4262668787057552,
          0.46461136984729107,
          -1.6242310329688443,
          0.25510137484310935,
          -0.4956452247932434,
          0.9664158082185562,
          0.5335313997466851,
          -0.21034234832133342,
          0.7578100478233821,
          1.8107721743872651,
          -0.9391654021207035,
          0.9717304863534318,
          -1.0822307332369805,
          -1.6668502238440615,
          0.3531006055894467,
          -0.4476662332456711,
          -0.6878703293135146,
          0.44730597827608787,
          -2.319317841268029,
          0.08900212438510414,
          -0.4572559821356708,
          2.111367134794406,
          -0.934563080089709,
          0.5637618038523917,
          -0.2991455869065257,
          0.5153988151252,
          0.7878677402720858,
          0.7315317806795537,
          1.524796465918317,
          -0.7562970183873434,
          0.5426557390236036,
          0.5131735893370422,
          -1.1370342487815206,
          1.1363044523216463,
          0.03011016115863619,
          -0.1844988603454125,
          -1.0691517608483327
         ]
        }
       ],
       "layout": {
        "barmode": "overlay",
        "legend": {
         "bgcolor": "#F5F6F9",
         "font": {
          "color": "#4D5663"
         }
        },
        "paper_bgcolor": "#F5F6F9",
        "plot_bgcolor": "#F5F6F9",
        "template": {
         "data": {
          "bar": [
           {
            "error_x": {
             "color": "#2a3f5f"
            },
            "error_y": {
             "color": "#2a3f5f"
            },
            "marker": {
             "line": {
              "color": "#E5ECF6",
              "width": 0.5
             }
            },
            "type": "bar"
           }
          ],
          "barpolar": [
           {
            "marker": {
             "line": {
              "color": "#E5ECF6",
              "width": 0.5
             }
            },
            "type": "barpolar"
           }
          ],
          "carpet": [
           {
            "aaxis": {
             "endlinecolor": "#2a3f5f",
             "gridcolor": "white",
             "linecolor": "white",
             "minorgridcolor": "white",
             "startlinecolor": "#2a3f5f"
            },
            "baxis": {
             "endlinecolor": "#2a3f5f",
             "gridcolor": "white",
             "linecolor": "white",
             "minorgridcolor": "white",
             "startlinecolor": "#2a3f5f"
            },
            "type": "carpet"
           }
          ],
          "choropleth": [
           {
            "colorbar": {
             "outlinewidth": 0,
             "ticks": ""
            },
            "type": "choropleth"
           }
          ],
          "contour": [
           {
            "colorbar": {
             "outlinewidth": 0,
             "ticks": ""
            },
            "colorscale": [
             [
              0,
              "#0d0887"
             ],
             [
              0.1111111111111111,
              "#46039f"
             ],
             [
              0.2222222222222222,
              "#7201a8"
             ],
             [
              0.3333333333333333,
              "#9c179e"
             ],
             [
              0.4444444444444444,
              "#bd3786"
             ],
             [
              0.5555555555555556,
              "#d8576b"
             ],
             [
              0.6666666666666666,
              "#ed7953"
             ],
             [
              0.7777777777777778,
              "#fb9f3a"
             ],
             [
              0.8888888888888888,
              "#fdca26"
             ],
             [
              1,
              "#f0f921"
             ]
            ],
            "type": "contour"
           }
          ],
          "contourcarpet": [
           {
            "colorbar": {
             "outlinewidth": 0,
             "ticks": ""
            },
            "type": "contourcarpet"
           }
          ],
          "heatmap": [
           {
            "colorbar": {
             "outlinewidth": 0,
             "ticks": ""
            },
            "colorscale": [
             [
              0,
              "#0d0887"
             ],
             [
              0.1111111111111111,
              "#46039f"
             ],
             [
              0.2222222222222222,
              "#7201a8"
             ],
             [
              0.3333333333333333,
              "#9c179e"
             ],
             [
              0.4444444444444444,
              "#bd3786"
             ],
             [
              0.5555555555555556,
              "#d8576b"
             ],
             [
              0.6666666666666666,
              "#ed7953"
             ],
             [
              0.7777777777777778,
              "#fb9f3a"
             ],
             [
              0.8888888888888888,
              "#fdca26"
             ],
             [
              1,
              "#f0f921"
             ]
            ],
            "type": "heatmap"
           }
          ],
          "heatmapgl": [
           {
            "colorbar": {
             "outlinewidth": 0,
             "ticks": ""
            },
            "colorscale": [
             [
              0,
              "#0d0887"
             ],
             [
              0.1111111111111111,
              "#46039f"
             ],
             [
              0.2222222222222222,
              "#7201a8"
             ],
             [
              0.3333333333333333,
              "#9c179e"
             ],
             [
              0.4444444444444444,
              "#bd3786"
             ],
             [
              0.5555555555555556,
              "#d8576b"
             ],
             [
              0.6666666666666666,
              "#ed7953"
             ],
             [
              0.7777777777777778,
              "#fb9f3a"
             ],
             [
              0.8888888888888888,
              "#fdca26"
             ],
             [
              1,
              "#f0f921"
             ]
            ],
            "type": "heatmapgl"
           }
          ],
          "histogram": [
           {
            "marker": {
             "colorbar": {
              "outlinewidth": 0,
              "ticks": ""
             }
            },
            "type": "histogram"
           }
          ],
          "histogram2d": [
           {
            "colorbar": {
             "outlinewidth": 0,
             "ticks": ""
            },
            "colorscale": [
             [
              0,
              "#0d0887"
             ],
             [
              0.1111111111111111,
              "#46039f"
             ],
             [
              0.2222222222222222,
              "#7201a8"
             ],
             [
              0.3333333333333333,
              "#9c179e"
             ],
             [
              0.4444444444444444,
              "#bd3786"
             ],
             [
              0.5555555555555556,
              "#d8576b"
             ],
             [
              0.6666666666666666,
              "#ed7953"
             ],
             [
              0.7777777777777778,
              "#fb9f3a"
             ],
             [
              0.8888888888888888,
              "#fdca26"
             ],
             [
              1,
              "#f0f921"
             ]
            ],
            "type": "histogram2d"
           }
          ],
          "histogram2dcontour": [
           {
            "colorbar": {
             "outlinewidth": 0,
             "ticks": ""
            },
            "colorscale": [
             [
              0,
              "#0d0887"
             ],
             [
              0.1111111111111111,
              "#46039f"
             ],
             [
              0.2222222222222222,
              "#7201a8"
             ],
             [
              0.3333333333333333,
              "#9c179e"
             ],
             [
              0.4444444444444444,
              "#bd3786"
             ],
             [
              0.5555555555555556,
              "#d8576b"
             ],
             [
              0.6666666666666666,
              "#ed7953"
             ],
             [
              0.7777777777777778,
              "#fb9f3a"
             ],
             [
              0.8888888888888888,
              "#fdca26"
             ],
             [
              1,
              "#f0f921"
             ]
            ],
            "type": "histogram2dcontour"
           }
          ],
          "mesh3d": [
           {
            "colorbar": {
             "outlinewidth": 0,
             "ticks": ""
            },
            "type": "mesh3d"
           }
          ],
          "parcoords": [
           {
            "line": {
             "colorbar": {
              "outlinewidth": 0,
              "ticks": ""
             }
            },
            "type": "parcoords"
           }
          ],
          "pie": [
           {
            "automargin": true,
            "type": "pie"
           }
          ],
          "scatter": [
           {
            "marker": {
             "colorbar": {
              "outlinewidth": 0,
              "ticks": ""
             }
            },
            "type": "scatter"
           }
          ],
          "scatter3d": [
           {
            "line": {
             "colorbar": {
              "outlinewidth": 0,
              "ticks": ""
             }
            },
            "marker": {
             "colorbar": {
              "outlinewidth": 0,
              "ticks": ""
             }
            },
            "type": "scatter3d"
           }
          ],
          "scattercarpet": [
           {
            "marker": {
             "colorbar": {
              "outlinewidth": 0,
              "ticks": ""
             }
            },
            "type": "scattercarpet"
           }
          ],
          "scattergeo": [
           {
            "marker": {
             "colorbar": {
              "outlinewidth": 0,
              "ticks": ""
             }
            },
            "type": "scattergeo"
           }
          ],
          "scattergl": [
           {
            "marker": {
             "colorbar": {
              "outlinewidth": 0,
              "ticks": ""
             }
            },
            "type": "scattergl"
           }
          ],
          "scattermapbox": [
           {
            "marker": {
             "colorbar": {
              "outlinewidth": 0,
              "ticks": ""
             }
            },
            "type": "scattermapbox"
           }
          ],
          "scatterpolar": [
           {
            "marker": {
             "colorbar": {
              "outlinewidth": 0,
              "ticks": ""
             }
            },
            "type": "scatterpolar"
           }
          ],
          "scatterpolargl": [
           {
            "marker": {
             "colorbar": {
              "outlinewidth": 0,
              "ticks": ""
             }
            },
            "type": "scatterpolargl"
           }
          ],
          "scatterternary": [
           {
            "marker": {
             "colorbar": {
              "outlinewidth": 0,
              "ticks": ""
             }
            },
            "type": "scatterternary"
           }
          ],
          "surface": [
           {
            "colorbar": {
             "outlinewidth": 0,
             "ticks": ""
            },
            "colorscale": [
             [
              0,
              "#0d0887"
             ],
             [
              0.1111111111111111,
              "#46039f"
             ],
             [
              0.2222222222222222,
              "#7201a8"
             ],
             [
              0.3333333333333333,
              "#9c179e"
             ],
             [
              0.4444444444444444,
              "#bd3786"
             ],
             [
              0.5555555555555556,
              "#d8576b"
             ],
             [
              0.6666666666666666,
              "#ed7953"
             ],
             [
              0.7777777777777778,
              "#fb9f3a"
             ],
             [
              0.8888888888888888,
              "#fdca26"
             ],
             [
              1,
              "#f0f921"
             ]
            ],
            "type": "surface"
           }
          ],
          "table": [
           {
            "cells": {
             "fill": {
              "color": "#EBF0F8"
             },
             "line": {
              "color": "white"
             }
            },
            "header": {
             "fill": {
              "color": "#C8D4E3"
             },
             "line": {
              "color": "white"
             }
            },
            "type": "table"
           }
          ]
         },
         "layout": {
          "annotationdefaults": {
           "arrowcolor": "#2a3f5f",
           "arrowhead": 0,
           "arrowwidth": 1
          },
          "autotypenumbers": "strict",
          "coloraxis": {
           "colorbar": {
            "outlinewidth": 0,
            "ticks": ""
           }
          },
          "colorscale": {
           "diverging": [
            [
             0,
             "#8e0152"
            ],
            [
             0.1,
             "#c51b7d"
            ],
            [
             0.2,
             "#de77ae"
            ],
            [
             0.3,
             "#f1b6da"
            ],
            [
             0.4,
             "#fde0ef"
            ],
            [
             0.5,
             "#f7f7f7"
            ],
            [
             0.6,
             "#e6f5d0"
            ],
            [
             0.7,
             "#b8e186"
            ],
            [
             0.8,
             "#7fbc41"
            ],
            [
             0.9,
             "#4d9221"
            ],
            [
             1,
             "#276419"
            ]
           ],
           "sequential": [
            [
             0,
             "#0d0887"
            ],
            [
             0.1111111111111111,
             "#46039f"
            ],
            [
             0.2222222222222222,
             "#7201a8"
            ],
            [
             0.3333333333333333,
             "#9c179e"
            ],
            [
             0.4444444444444444,
             "#bd3786"
            ],
            [
             0.5555555555555556,
             "#d8576b"
            ],
            [
             0.6666666666666666,
             "#ed7953"
            ],
            [
             0.7777777777777778,
             "#fb9f3a"
            ],
            [
             0.8888888888888888,
             "#fdca26"
            ],
            [
             1,
             "#f0f921"
            ]
           ],
           "sequentialminus": [
            [
             0,
             "#0d0887"
            ],
            [
             0.1111111111111111,
             "#46039f"
            ],
            [
             0.2222222222222222,
             "#7201a8"
            ],
            [
             0.3333333333333333,
             "#9c179e"
            ],
            [
             0.4444444444444444,
             "#bd3786"
            ],
            [
             0.5555555555555556,
             "#d8576b"
            ],
            [
             0.6666666666666666,
             "#ed7953"
            ],
            [
             0.7777777777777778,
             "#fb9f3a"
            ],
            [
             0.8888888888888888,
             "#fdca26"
            ],
            [
             1,
             "#f0f921"
            ]
           ]
          },
          "colorway": [
           "#636efa",
           "#EF553B",
           "#00cc96",
           "#ab63fa",
           "#FFA15A",
           "#19d3f3",
           "#FF6692",
           "#B6E880",
           "#FF97FF",
           "#FECB52"
          ],
          "font": {
           "color": "#2a3f5f"
          },
          "geo": {
           "bgcolor": "white",
           "lakecolor": "white",
           "landcolor": "#E5ECF6",
           "showlakes": true,
           "showland": true,
           "subunitcolor": "white"
          },
          "hoverlabel": {
           "align": "left"
          },
          "hovermode": "closest",
          "mapbox": {
           "style": "light"
          },
          "paper_bgcolor": "white",
          "plot_bgcolor": "#E5ECF6",
          "polar": {
           "angularaxis": {
            "gridcolor": "white",
            "linecolor": "white",
            "ticks": ""
           },
           "bgcolor": "#E5ECF6",
           "radialaxis": {
            "gridcolor": "white",
            "linecolor": "white",
            "ticks": ""
           }
          },
          "scene": {
           "xaxis": {
            "backgroundcolor": "#E5ECF6",
            "gridcolor": "white",
            "gridwidth": 2,
            "linecolor": "white",
            "showbackground": true,
            "ticks": "",
            "zerolinecolor": "white"
           },
           "yaxis": {
            "backgroundcolor": "#E5ECF6",
            "gridcolor": "white",
            "gridwidth": 2,
            "linecolor": "white",
            "showbackground": true,
            "ticks": "",
            "zerolinecolor": "white"
           },
           "zaxis": {
            "backgroundcolor": "#E5ECF6",
            "gridcolor": "white",
            "gridwidth": 2,
            "linecolor": "white",
            "showbackground": true,
            "ticks": "",
            "zerolinecolor": "white"
           }
          },
          "shapedefaults": {
           "line": {
            "color": "#2a3f5f"
           }
          },
          "ternary": {
           "aaxis": {
            "gridcolor": "white",
            "linecolor": "white",
            "ticks": ""
           },
           "baxis": {
            "gridcolor": "white",
            "linecolor": "white",
            "ticks": ""
           },
           "bgcolor": "#E5ECF6",
           "caxis": {
            "gridcolor": "white",
            "linecolor": "white",
            "ticks": ""
           }
          },
          "title": {
           "x": 0.05
          },
          "xaxis": {
           "automargin": true,
           "gridcolor": "white",
           "linecolor": "white",
           "ticks": "",
           "title": {
            "standoff": 15
           },
           "zerolinecolor": "white",
           "zerolinewidth": 2
          },
          "yaxis": {
           "automargin": true,
           "gridcolor": "white",
           "linecolor": "white",
           "ticks": "",
           "title": {
            "standoff": 15
           },
           "zerolinecolor": "white",
           "zerolinewidth": 2
          }
         }
        },
        "title": {
         "font": {
          "color": "#4D5663"
         }
        },
        "xaxis": {
         "gridcolor": "#E1E5ED",
         "showgrid": true,
         "tickfont": {
          "color": "#4D5663"
         },
         "title": {
          "font": {
           "color": "#4D5663"
          },
          "text": ""
         },
         "zerolinecolor": "#E1E5ED"
        },
        "yaxis": {
         "gridcolor": "#E1E5ED",
         "showgrid": true,
         "tickfont": {
          "color": "#4D5663"
         },
         "title": {
          "font": {
           "color": "#4D5663"
          },
          "text": ""
         },
         "zerolinecolor": "#E1E5ED"
        }
       }
      },
      "text/html": [
       "<div>                            <div id=\"f4e9d022-38f1-490d-9517-d5a4078c86ca\" class=\"plotly-graph-div\" style=\"height:525px; width:100%;\"></div>            <script type=\"text/javascript\">                require([\"plotly\"], function(Plotly) {                    window.PLOTLYENV=window.PLOTLYENV || {};\n",
       "                    window.PLOTLYENV.BASE_URL='https://plot.ly';                                    if (document.getElementById(\"f4e9d022-38f1-490d-9517-d5a4078c86ca\")) {                    Plotly.newPlot(                        \"f4e9d022-38f1-490d-9517-d5a4078c86ca\",                        [{\"histfunc\": \"count\", \"histnorm\": \"\", \"marker\": {\"color\": \"rgba(255, 153, 51, 1.0)\", \"line\": {\"color\": \"#4D5663\", \"width\": 1.3}}, \"name\": \"A\", \"nbinsx\": 25, \"opacity\": 0.8, \"orientation\": \"v\", \"type\": \"histogram\", \"x\": [-0.45631341899455446, 0.4724584044203727, 1.9406963290187815, 1.3642048200066281, 0.3888909674049345, -0.8155560132139653, 0.1824994980346096, -0.6460157547769448, 0.7726921125849633, -0.7574183434082375, 0.5743341411046669, -1.122291005811296, 0.39592557287173297, 1.7658327891993622, 0.03956382437720008, -1.1778154865134784, 1.3612446505476976, 0.4575543125475046, -0.6100736598999223, -0.16227885578643608, 0.9074892985388556, -1.2212771553160078, -0.003212139726141614, 1.78200159331685, 0.3051643896263515, 0.5975174164344041, -1.069764750030652, 0.692191997574215, 0.2696109540579809, -1.1542791753011188, -1.1385749479100127, -0.3699998786410983, -1.1344534996132034, 0.672988103248493, 2.072735424057368, -2.1147273254318355, 0.36626961903539124, 0.49402674018544357, 0.5216867514899008, -0.5714109512067463, -0.6761590098251625, 0.7042638386647735, 0.11699659474769354, -0.1640626482877639, -0.6269163627570845, -0.4238401729522169, 0.8249507519202229, -0.8400945963434742, 0.7002288932568547, -0.23430066738503985, -0.2697623100425775, 1.1296410882765562, -0.12089119108281095, 0.6785647004075804, -0.33277254474307, 1.2755116095541024, 2.8144119696677983, -0.04169729623664178, -0.8263225957897392, 0.5346425224779339, -0.1691615220796312, -0.028261136874453294, -0.9159867232468516, 0.4262668787057552, 0.46461136984729107, -1.6242310329688443, 0.25510137484310935, -0.4956452247932434, 0.9664158082185562, 0.5335313997466851, -0.21034234832133342, 0.7578100478233821, 1.8107721743872651, -0.9391654021207035, 0.9717304863534318, -1.0822307332369805, -1.6668502238440615, 0.3531006055894467, -0.4476662332456711, -0.6878703293135146, 0.44730597827608787, -2.319317841268029, 0.08900212438510414, -0.4572559821356708, 2.111367134794406, -0.934563080089709, 0.5637618038523917, -0.2991455869065257, 0.5153988151252, 0.7878677402720858, 0.7315317806795537, 1.524796465918317, -0.7562970183873434, 0.5426557390236036, 0.5131735893370422, -1.1370342487815206, 1.1363044523216463, 0.03011016115863619, -0.1844988603454125, -1.0691517608483327]}],                        {\"barmode\": \"overlay\", \"legend\": {\"bgcolor\": \"#F5F6F9\", \"font\": {\"color\": \"#4D5663\"}}, \"paper_bgcolor\": \"#F5F6F9\", \"plot_bgcolor\": \"#F5F6F9\", \"template\": {\"data\": {\"bar\": [{\"error_x\": {\"color\": \"#2a3f5f\"}, \"error_y\": {\"color\": \"#2a3f5f\"}, \"marker\": {\"line\": {\"color\": \"#E5ECF6\", \"width\": 0.5}}, \"type\": \"bar\"}], \"barpolar\": [{\"marker\": {\"line\": {\"color\": \"#E5ECF6\", \"width\": 0.5}}, \"type\": \"barpolar\"}], \"carpet\": [{\"aaxis\": {\"endlinecolor\": \"#2a3f5f\", \"gridcolor\": \"white\", \"linecolor\": \"white\", \"minorgridcolor\": \"white\", \"startlinecolor\": \"#2a3f5f\"}, \"baxis\": {\"endlinecolor\": \"#2a3f5f\", \"gridcolor\": \"white\", \"linecolor\": \"white\", \"minorgridcolor\": \"white\", \"startlinecolor\": \"#2a3f5f\"}, \"type\": \"carpet\"}], \"choropleth\": [{\"colorbar\": {\"outlinewidth\": 0, \"ticks\": \"\"}, \"type\": \"choropleth\"}], \"contour\": [{\"colorbar\": {\"outlinewidth\": 0, \"ticks\": \"\"}, \"colorscale\": [[0.0, \"#0d0887\"], [0.1111111111111111, \"#46039f\"], [0.2222222222222222, \"#7201a8\"], [0.3333333333333333, \"#9c179e\"], [0.4444444444444444, \"#bd3786\"], [0.5555555555555556, \"#d8576b\"], [0.6666666666666666, \"#ed7953\"], [0.7777777777777778, \"#fb9f3a\"], [0.8888888888888888, \"#fdca26\"], [1.0, \"#f0f921\"]], \"type\": \"contour\"}], \"contourcarpet\": [{\"colorbar\": {\"outlinewidth\": 0, \"ticks\": \"\"}, \"type\": \"contourcarpet\"}], \"heatmap\": [{\"colorbar\": {\"outlinewidth\": 0, \"ticks\": \"\"}, \"colorscale\": [[0.0, \"#0d0887\"], [0.1111111111111111, \"#46039f\"], [0.2222222222222222, \"#7201a8\"], [0.3333333333333333, \"#9c179e\"], [0.4444444444444444, \"#bd3786\"], [0.5555555555555556, \"#d8576b\"], [0.6666666666666666, \"#ed7953\"], [0.7777777777777778, \"#fb9f3a\"], [0.8888888888888888, \"#fdca26\"], [1.0, \"#f0f921\"]], \"type\": \"heatmap\"}], \"heatmapgl\": [{\"colorbar\": {\"outlinewidth\": 0, \"ticks\": \"\"}, \"colorscale\": [[0.0, \"#0d0887\"], [0.1111111111111111, \"#46039f\"], [0.2222222222222222, \"#7201a8\"], [0.3333333333333333, \"#9c179e\"], [0.4444444444444444, \"#bd3786\"], [0.5555555555555556, \"#d8576b\"], [0.6666666666666666, \"#ed7953\"], [0.7777777777777778, \"#fb9f3a\"], [0.8888888888888888, \"#fdca26\"], [1.0, \"#f0f921\"]], \"type\": \"heatmapgl\"}], \"histogram\": [{\"marker\": {\"colorbar\": {\"outlinewidth\": 0, \"ticks\": \"\"}}, \"type\": \"histogram\"}], \"histogram2d\": [{\"colorbar\": {\"outlinewidth\": 0, \"ticks\": \"\"}, \"colorscale\": [[0.0, \"#0d0887\"], [0.1111111111111111, \"#46039f\"], [0.2222222222222222, \"#7201a8\"], [0.3333333333333333, \"#9c179e\"], [0.4444444444444444, \"#bd3786\"], [0.5555555555555556, \"#d8576b\"], [0.6666666666666666, \"#ed7953\"], [0.7777777777777778, \"#fb9f3a\"], [0.8888888888888888, \"#fdca26\"], [1.0, \"#f0f921\"]], \"type\": \"histogram2d\"}], \"histogram2dcontour\": [{\"colorbar\": {\"outlinewidth\": 0, \"ticks\": \"\"}, \"colorscale\": [[0.0, \"#0d0887\"], [0.1111111111111111, \"#46039f\"], [0.2222222222222222, \"#7201a8\"], [0.3333333333333333, \"#9c179e\"], [0.4444444444444444, \"#bd3786\"], [0.5555555555555556, \"#d8576b\"], [0.6666666666666666, \"#ed7953\"], [0.7777777777777778, \"#fb9f3a\"], [0.8888888888888888, \"#fdca26\"], [1.0, \"#f0f921\"]], \"type\": \"histogram2dcontour\"}], \"mesh3d\": [{\"colorbar\": {\"outlinewidth\": 0, \"ticks\": \"\"}, \"type\": \"mesh3d\"}], \"parcoords\": [{\"line\": {\"colorbar\": {\"outlinewidth\": 0, \"ticks\": \"\"}}, \"type\": \"parcoords\"}], \"pie\": [{\"automargin\": true, \"type\": \"pie\"}], \"scatter\": [{\"marker\": {\"colorbar\": {\"outlinewidth\": 0, \"ticks\": \"\"}}, \"type\": \"scatter\"}], \"scatter3d\": [{\"line\": {\"colorbar\": {\"outlinewidth\": 0, \"ticks\": \"\"}}, \"marker\": {\"colorbar\": {\"outlinewidth\": 0, \"ticks\": \"\"}}, \"type\": \"scatter3d\"}], \"scattercarpet\": [{\"marker\": {\"colorbar\": {\"outlinewidth\": 0, \"ticks\": \"\"}}, \"type\": \"scattercarpet\"}], \"scattergeo\": [{\"marker\": {\"colorbar\": {\"outlinewidth\": 0, \"ticks\": \"\"}}, \"type\": \"scattergeo\"}], \"scattergl\": [{\"marker\": {\"colorbar\": {\"outlinewidth\": 0, \"ticks\": \"\"}}, \"type\": \"scattergl\"}], \"scattermapbox\": [{\"marker\": {\"colorbar\": {\"outlinewidth\": 0, \"ticks\": \"\"}}, \"type\": \"scattermapbox\"}], \"scatterpolar\": [{\"marker\": {\"colorbar\": {\"outlinewidth\": 0, \"ticks\": \"\"}}, \"type\": \"scatterpolar\"}], \"scatterpolargl\": [{\"marker\": {\"colorbar\": {\"outlinewidth\": 0, \"ticks\": \"\"}}, \"type\": \"scatterpolargl\"}], \"scatterternary\": [{\"marker\": {\"colorbar\": {\"outlinewidth\": 0, \"ticks\": \"\"}}, \"type\": \"scatterternary\"}], \"surface\": [{\"colorbar\": {\"outlinewidth\": 0, \"ticks\": \"\"}, \"colorscale\": [[0.0, \"#0d0887\"], [0.1111111111111111, \"#46039f\"], [0.2222222222222222, \"#7201a8\"], [0.3333333333333333, \"#9c179e\"], [0.4444444444444444, \"#bd3786\"], [0.5555555555555556, \"#d8576b\"], [0.6666666666666666, \"#ed7953\"], [0.7777777777777778, \"#fb9f3a\"], [0.8888888888888888, \"#fdca26\"], [1.0, \"#f0f921\"]], \"type\": \"surface\"}], \"table\": [{\"cells\": {\"fill\": {\"color\": \"#EBF0F8\"}, \"line\": {\"color\": \"white\"}}, \"header\": {\"fill\": {\"color\": \"#C8D4E3\"}, \"line\": {\"color\": \"white\"}}, \"type\": \"table\"}]}, \"layout\": {\"annotationdefaults\": {\"arrowcolor\": \"#2a3f5f\", \"arrowhead\": 0, \"arrowwidth\": 1}, \"autotypenumbers\": \"strict\", \"coloraxis\": {\"colorbar\": {\"outlinewidth\": 0, \"ticks\": \"\"}}, \"colorscale\": {\"diverging\": [[0, \"#8e0152\"], [0.1, \"#c51b7d\"], [0.2, \"#de77ae\"], [0.3, \"#f1b6da\"], [0.4, \"#fde0ef\"], [0.5, \"#f7f7f7\"], [0.6, \"#e6f5d0\"], [0.7, \"#b8e186\"], [0.8, \"#7fbc41\"], [0.9, \"#4d9221\"], [1, \"#276419\"]], \"sequential\": [[0.0, \"#0d0887\"], [0.1111111111111111, \"#46039f\"], [0.2222222222222222, \"#7201a8\"], [0.3333333333333333, \"#9c179e\"], [0.4444444444444444, \"#bd3786\"], [0.5555555555555556, \"#d8576b\"], [0.6666666666666666, \"#ed7953\"], [0.7777777777777778, \"#fb9f3a\"], [0.8888888888888888, \"#fdca26\"], [1.0, \"#f0f921\"]], \"sequentialminus\": [[0.0, \"#0d0887\"], [0.1111111111111111, \"#46039f\"], [0.2222222222222222, \"#7201a8\"], [0.3333333333333333, \"#9c179e\"], [0.4444444444444444, \"#bd3786\"], [0.5555555555555556, \"#d8576b\"], [0.6666666666666666, \"#ed7953\"], [0.7777777777777778, \"#fb9f3a\"], [0.8888888888888888, \"#fdca26\"], [1.0, \"#f0f921\"]]}, \"colorway\": [\"#636efa\", \"#EF553B\", \"#00cc96\", \"#ab63fa\", \"#FFA15A\", \"#19d3f3\", \"#FF6692\", \"#B6E880\", \"#FF97FF\", \"#FECB52\"], \"font\": {\"color\": \"#2a3f5f\"}, \"geo\": {\"bgcolor\": \"white\", \"lakecolor\": \"white\", \"landcolor\": \"#E5ECF6\", \"showlakes\": true, \"showland\": true, \"subunitcolor\": \"white\"}, \"hoverlabel\": {\"align\": \"left\"}, \"hovermode\": \"closest\", \"mapbox\": {\"style\": \"light\"}, \"paper_bgcolor\": \"white\", \"plot_bgcolor\": \"#E5ECF6\", \"polar\": {\"angularaxis\": {\"gridcolor\": \"white\", \"linecolor\": \"white\", \"ticks\": \"\"}, \"bgcolor\": \"#E5ECF6\", \"radialaxis\": {\"gridcolor\": \"white\", \"linecolor\": \"white\", \"ticks\": \"\"}}, \"scene\": {\"xaxis\": {\"backgroundcolor\": \"#E5ECF6\", \"gridcolor\": \"white\", \"gridwidth\": 2, \"linecolor\": \"white\", \"showbackground\": true, \"ticks\": \"\", \"zerolinecolor\": \"white\"}, \"yaxis\": {\"backgroundcolor\": \"#E5ECF6\", \"gridcolor\": \"white\", \"gridwidth\": 2, \"linecolor\": \"white\", \"showbackground\": true, \"ticks\": \"\", \"zerolinecolor\": \"white\"}, \"zaxis\": {\"backgroundcolor\": \"#E5ECF6\", \"gridcolor\": \"white\", \"gridwidth\": 2, \"linecolor\": \"white\", \"showbackground\": true, \"ticks\": \"\", \"zerolinecolor\": \"white\"}}, \"shapedefaults\": {\"line\": {\"color\": \"#2a3f5f\"}}, \"ternary\": {\"aaxis\": {\"gridcolor\": \"white\", \"linecolor\": \"white\", \"ticks\": \"\"}, \"baxis\": {\"gridcolor\": \"white\", \"linecolor\": \"white\", \"ticks\": \"\"}, \"bgcolor\": \"#E5ECF6\", \"caxis\": {\"gridcolor\": \"white\", \"linecolor\": \"white\", \"ticks\": \"\"}}, \"title\": {\"x\": 0.05}, \"xaxis\": {\"automargin\": true, \"gridcolor\": \"white\", \"linecolor\": \"white\", \"ticks\": \"\", \"title\": {\"standoff\": 15}, \"zerolinecolor\": \"white\", \"zerolinewidth\": 2}, \"yaxis\": {\"automargin\": true, \"gridcolor\": \"white\", \"linecolor\": \"white\", \"ticks\": \"\", \"title\": {\"standoff\": 15}, \"zerolinecolor\": \"white\", \"zerolinewidth\": 2}}}, \"title\": {\"font\": {\"color\": \"#4D5663\"}}, \"xaxis\": {\"gridcolor\": \"#E1E5ED\", \"showgrid\": true, \"tickfont\": {\"color\": \"#4D5663\"}, \"title\": {\"font\": {\"color\": \"#4D5663\"}, \"text\": \"\"}, \"zerolinecolor\": \"#E1E5ED\"}, \"yaxis\": {\"gridcolor\": \"#E1E5ED\", \"showgrid\": true, \"tickfont\": {\"color\": \"#4D5663\"}, \"title\": {\"font\": {\"color\": \"#4D5663\"}, \"text\": \"\"}, \"zerolinecolor\": \"#E1E5ED\"}},                        {\"showLink\": true, \"linkText\": \"Export to plot.ly\", \"plotlyServerURL\": \"https://plot.ly\", \"responsive\": true}                    ).then(function(){\n",
       "                            \n",
       "var gd = document.getElementById('f4e9d022-38f1-490d-9517-d5a4078c86ca');\n",
       "var x = new MutationObserver(function (mutations, observer) {{\n",
       "        var display = window.getComputedStyle(gd).display;\n",
       "        if (!display || display === 'none') {{\n",
       "            console.log([gd, 'removed!']);\n",
       "            Plotly.purge(gd);\n",
       "            observer.disconnect();\n",
       "        }}\n",
       "}});\n",
       "\n",
       "// Listen for the removal of the full notebook cells\n",
       "var notebookContainer = gd.closest('#notebook-container');\n",
       "if (notebookContainer) {{\n",
       "    x.observe(notebookContainer, {childList: true});\n",
       "}}\n",
       "\n",
       "// Listen for the clearing of the current output cell\n",
       "var outputEl = gd.closest('.output');\n",
       "if (outputEl) {{\n",
       "    x.observe(outputEl, {childList: true});\n",
       "}}\n",
       "\n",
       "                        })                };                });            </script>        </div>"
      ]
     },
     "metadata": {},
     "output_type": "display_data"
    }
   ],
   "source": [
    "df['A'].iplot(kind='hist',bins=25)"
   ]
  },
  {
   "cell_type": "code",
   "execution_count": 16,
   "metadata": {},
   "outputs": [
    {
     "data": {
      "application/vnd.plotly.v1+json": {
       "config": {
        "linkText": "Export to plot.ly",
        "plotlyServerURL": "https://plot.ly",
        "showLink": true
       },
       "data": [
        {
         "marker": {
          "color": [
           "rgb(255, 153, 51)",
           "rgb(55, 128, 191)",
           "rgb(50, 171, 96)",
           "rgb(128, 0, 128)",
           "rgb(219, 64, 82)",
           "rgb(0, 128, 128)",
           "rgb(255, 255, 51)",
           "rgb(128, 128, 0)",
           "rgb(251, 128, 114)",
           "rgb(128, 177, 211)"
          ],
          "line": {
           "width": 1.3
          },
          "size": [
           54,
           48,
           56,
           63,
           68,
           63,
           69,
           56,
           69,
           65,
           64,
           59,
           51,
           86,
           62,
           62,
           88,
           60,
           82,
           66,
           29,
           52,
           37,
           77,
           71,
           67,
           59,
           112,
           109,
           48,
           79,
           56,
           47,
           63,
           47,
           67,
           80,
           54,
           47,
           56,
           84,
           80,
           98,
           34,
           56,
           33,
           47,
           94,
           52,
           92,
           98,
           61,
           83,
           85,
           68,
           61,
           84,
           88,
           73,
           87,
           77,
           62,
           66,
           52,
           87,
           71,
           52,
           34,
           42,
           36,
           71,
           90,
           75,
           64,
           73,
           26,
           92,
           97,
           75,
           12,
           68,
           70,
           86,
           87,
           45,
           47,
           69,
           92,
           62,
           59,
           102,
           12,
           55,
           64,
           85,
           51,
           74,
           75,
           57,
           58
          ],
          "symbol": "circle"
         },
         "mode": "markers",
         "text": "",
         "type": "scatter",
         "x": [
          -0.45631341899455446,
          0.4724584044203727,
          1.9406963290187815,
          1.3642048200066281,
          0.3888909674049345,
          -0.8155560132139653,
          0.1824994980346096,
          -0.6460157547769448,
          0.7726921125849633,
          -0.7574183434082375,
          0.5743341411046669,
          -1.122291005811296,
          0.39592557287173297,
          1.7658327891993622,
          0.03956382437720008,
          -1.1778154865134784,
          1.3612446505476976,
          0.4575543125475046,
          -0.6100736598999223,
          -0.16227885578643608,
          0.9074892985388556,
          -1.2212771553160078,
          -0.003212139726141614,
          1.78200159331685,
          0.3051643896263515,
          0.5975174164344041,
          -1.069764750030652,
          0.692191997574215,
          0.2696109540579809,
          -1.1542791753011188,
          -1.1385749479100127,
          -0.3699998786410983,
          -1.1344534996132034,
          0.672988103248493,
          2.072735424057368,
          -2.1147273254318355,
          0.36626961903539124,
          0.49402674018544357,
          0.5216867514899008,
          -0.5714109512067463,
          -0.6761590098251625,
          0.7042638386647735,
          0.11699659474769354,
          -0.1640626482877639,
          -0.6269163627570845,
          -0.4238401729522169,
          0.8249507519202229,
          -0.8400945963434742,
          0.7002288932568547,
          -0.23430066738503985,
          -0.2697623100425775,
          1.1296410882765562,
          -0.12089119108281095,
          0.6785647004075804,
          -0.33277254474307,
          1.2755116095541024,
          2.8144119696677983,
          -0.04169729623664178,
          -0.8263225957897392,
          0.5346425224779339,
          -0.1691615220796312,
          -0.028261136874453294,
          -0.9159867232468516,
          0.4262668787057552,
          0.46461136984729107,
          -1.6242310329688443,
          0.25510137484310935,
          -0.4956452247932434,
          0.9664158082185562,
          0.5335313997466851,
          -0.21034234832133342,
          0.7578100478233821,
          1.8107721743872651,
          -0.9391654021207035,
          0.9717304863534318,
          -1.0822307332369805,
          -1.6668502238440615,
          0.3531006055894467,
          -0.4476662332456711,
          -0.6878703293135146,
          0.44730597827608787,
          -2.319317841268029,
          0.08900212438510414,
          -0.4572559821356708,
          2.111367134794406,
          -0.934563080089709,
          0.5637618038523917,
          -0.2991455869065257,
          0.5153988151252,
          0.7878677402720858,
          0.7315317806795537,
          1.524796465918317,
          -0.7562970183873434,
          0.5426557390236036,
          0.5131735893370422,
          -1.1370342487815206,
          1.1363044523216463,
          0.03011016115863619,
          -0.1844988603454125,
          -1.0691517608483327
         ],
         "y": [
          0.08585353006516305,
          -0.7652436652770636,
          -1.560799863236166,
          0.854928611529446,
          1.5294104037358258,
          0.7802959777606984,
          1.1092660375040786,
          -1.2997181168756695,
          -0.2501396717599244,
          1.1672653683073624,
          0.2657593084709434,
          1.8067828968864428,
          2.908460836515882,
          0.2257063168775166,
          -0.3943778128855632,
          1.4865989885509223,
          -0.419053119941921,
          0.44213002504736104,
          -0.8765347571627182,
          0.7631550538754935,
          0.7313001692354236,
          -1.0848126581308521,
          -0.5011764356270655,
          2.615349826248938,
          -0.8267702619275237,
          -0.5289210111072653,
          1.3128095271060611,
          -0.6975326835999035,
          -2.0177953107320556,
          -0.9545140586667944,
          -1.2781018895409393,
          1.772525799618574,
          -0.270952170350105,
          -1.0259308609936295,
          -0.8200550048236666,
          0.5804852648112692,
          -0.09088463880203278,
          0.6374103190401424,
          2.0817045409484805,
          -0.5332820753894929,
          0.7065147478521874,
          0.1892745845799814,
          -1.2746433493418645,
          0.8779534537612734,
          0.5730668677347721,
          0.2719515023616077,
          -2.042453178577107,
          0.09760892427219381,
          0.6327008342432406,
          1.1287005425410521,
          1.3913044302720308,
          -0.5069090531869064,
          0.669878472883447,
          0.5221818133872991,
          -0.4496145272881422,
          -1.1840356351224515,
          -1.4220007648795254,
          0.8360266708830294,
          0.8913948071631754,
          0.9224107560138586,
          2.7530407202962603,
          1.438217420240023,
          -0.778441889649213,
          0.023935454828543142,
          -1.6850521077202243,
          0.27334839638225666,
          0.28254467216477613,
          -0.8706248368005733,
          1.9480382430405512,
          0.15650044446126365,
          1.063511636852657,
          0.3615248823338626,
          0.6274131303035508,
          1.2697867007397823,
          -0.28884869074427993,
          -0.8917344572713624,
          -0.9016784589646977,
          -0.010188903097623743,
          -1.4282164380032398,
          0.7143102611827443,
          -0.7029927020280965,
          1.2519290706979243,
          0.3714371833846144,
          -0.22736512435993828,
          0.4504921171578333,
          1.6955931253260765,
          0.15955568966672862,
          -1.5718305019534387,
          1.12036549343057,
          0.6992989938926815,
          -0.8095249209852535,
          -0.7252921710467097,
          0.3321356478041808,
          0.8755392562950008,
          -1.124210575231865,
          -0.5979379435472303,
          -1.3604643669204346,
          0.6374742546791262,
          -1.7711220550881799,
          0.569197677960444
         ]
        }
       ],
       "layout": {
        "legend": {
         "bgcolor": "#F5F6F9",
         "font": {
          "color": "#4D5663"
         }
        },
        "paper_bgcolor": "#F5F6F9",
        "plot_bgcolor": "#F5F6F9",
        "template": {
         "data": {
          "bar": [
           {
            "error_x": {
             "color": "#2a3f5f"
            },
            "error_y": {
             "color": "#2a3f5f"
            },
            "marker": {
             "line": {
              "color": "#E5ECF6",
              "width": 0.5
             }
            },
            "type": "bar"
           }
          ],
          "barpolar": [
           {
            "marker": {
             "line": {
              "color": "#E5ECF6",
              "width": 0.5
             }
            },
            "type": "barpolar"
           }
          ],
          "carpet": [
           {
            "aaxis": {
             "endlinecolor": "#2a3f5f",
             "gridcolor": "white",
             "linecolor": "white",
             "minorgridcolor": "white",
             "startlinecolor": "#2a3f5f"
            },
            "baxis": {
             "endlinecolor": "#2a3f5f",
             "gridcolor": "white",
             "linecolor": "white",
             "minorgridcolor": "white",
             "startlinecolor": "#2a3f5f"
            },
            "type": "carpet"
           }
          ],
          "choropleth": [
           {
            "colorbar": {
             "outlinewidth": 0,
             "ticks": ""
            },
            "type": "choropleth"
           }
          ],
          "contour": [
           {
            "colorbar": {
             "outlinewidth": 0,
             "ticks": ""
            },
            "colorscale": [
             [
              0,
              "#0d0887"
             ],
             [
              0.1111111111111111,
              "#46039f"
             ],
             [
              0.2222222222222222,
              "#7201a8"
             ],
             [
              0.3333333333333333,
              "#9c179e"
             ],
             [
              0.4444444444444444,
              "#bd3786"
             ],
             [
              0.5555555555555556,
              "#d8576b"
             ],
             [
              0.6666666666666666,
              "#ed7953"
             ],
             [
              0.7777777777777778,
              "#fb9f3a"
             ],
             [
              0.8888888888888888,
              "#fdca26"
             ],
             [
              1,
              "#f0f921"
             ]
            ],
            "type": "contour"
           }
          ],
          "contourcarpet": [
           {
            "colorbar": {
             "outlinewidth": 0,
             "ticks": ""
            },
            "type": "contourcarpet"
           }
          ],
          "heatmap": [
           {
            "colorbar": {
             "outlinewidth": 0,
             "ticks": ""
            },
            "colorscale": [
             [
              0,
              "#0d0887"
             ],
             [
              0.1111111111111111,
              "#46039f"
             ],
             [
              0.2222222222222222,
              "#7201a8"
             ],
             [
              0.3333333333333333,
              "#9c179e"
             ],
             [
              0.4444444444444444,
              "#bd3786"
             ],
             [
              0.5555555555555556,
              "#d8576b"
             ],
             [
              0.6666666666666666,
              "#ed7953"
             ],
             [
              0.7777777777777778,
              "#fb9f3a"
             ],
             [
              0.8888888888888888,
              "#fdca26"
             ],
             [
              1,
              "#f0f921"
             ]
            ],
            "type": "heatmap"
           }
          ],
          "heatmapgl": [
           {
            "colorbar": {
             "outlinewidth": 0,
             "ticks": ""
            },
            "colorscale": [
             [
              0,
              "#0d0887"
             ],
             [
              0.1111111111111111,
              "#46039f"
             ],
             [
              0.2222222222222222,
              "#7201a8"
             ],
             [
              0.3333333333333333,
              "#9c179e"
             ],
             [
              0.4444444444444444,
              "#bd3786"
             ],
             [
              0.5555555555555556,
              "#d8576b"
             ],
             [
              0.6666666666666666,
              "#ed7953"
             ],
             [
              0.7777777777777778,
              "#fb9f3a"
             ],
             [
              0.8888888888888888,
              "#fdca26"
             ],
             [
              1,
              "#f0f921"
             ]
            ],
            "type": "heatmapgl"
           }
          ],
          "histogram": [
           {
            "marker": {
             "colorbar": {
              "outlinewidth": 0,
              "ticks": ""
             }
            },
            "type": "histogram"
           }
          ],
          "histogram2d": [
           {
            "colorbar": {
             "outlinewidth": 0,
             "ticks": ""
            },
            "colorscale": [
             [
              0,
              "#0d0887"
             ],
             [
              0.1111111111111111,
              "#46039f"
             ],
             [
              0.2222222222222222,
              "#7201a8"
             ],
             [
              0.3333333333333333,
              "#9c179e"
             ],
             [
              0.4444444444444444,
              "#bd3786"
             ],
             [
              0.5555555555555556,
              "#d8576b"
             ],
             [
              0.6666666666666666,
              "#ed7953"
             ],
             [
              0.7777777777777778,
              "#fb9f3a"
             ],
             [
              0.8888888888888888,
              "#fdca26"
             ],
             [
              1,
              "#f0f921"
             ]
            ],
            "type": "histogram2d"
           }
          ],
          "histogram2dcontour": [
           {
            "colorbar": {
             "outlinewidth": 0,
             "ticks": ""
            },
            "colorscale": [
             [
              0,
              "#0d0887"
             ],
             [
              0.1111111111111111,
              "#46039f"
             ],
             [
              0.2222222222222222,
              "#7201a8"
             ],
             [
              0.3333333333333333,
              "#9c179e"
             ],
             [
              0.4444444444444444,
              "#bd3786"
             ],
             [
              0.5555555555555556,
              "#d8576b"
             ],
             [
              0.6666666666666666,
              "#ed7953"
             ],
             [
              0.7777777777777778,
              "#fb9f3a"
             ],
             [
              0.8888888888888888,
              "#fdca26"
             ],
             [
              1,
              "#f0f921"
             ]
            ],
            "type": "histogram2dcontour"
           }
          ],
          "mesh3d": [
           {
            "colorbar": {
             "outlinewidth": 0,
             "ticks": ""
            },
            "type": "mesh3d"
           }
          ],
          "parcoords": [
           {
            "line": {
             "colorbar": {
              "outlinewidth": 0,
              "ticks": ""
             }
            },
            "type": "parcoords"
           }
          ],
          "pie": [
           {
            "automargin": true,
            "type": "pie"
           }
          ],
          "scatter": [
           {
            "marker": {
             "colorbar": {
              "outlinewidth": 0,
              "ticks": ""
             }
            },
            "type": "scatter"
           }
          ],
          "scatter3d": [
           {
            "line": {
             "colorbar": {
              "outlinewidth": 0,
              "ticks": ""
             }
            },
            "marker": {
             "colorbar": {
              "outlinewidth": 0,
              "ticks": ""
             }
            },
            "type": "scatter3d"
           }
          ],
          "scattercarpet": [
           {
            "marker": {
             "colorbar": {
              "outlinewidth": 0,
              "ticks": ""
             }
            },
            "type": "scattercarpet"
           }
          ],
          "scattergeo": [
           {
            "marker": {
             "colorbar": {
              "outlinewidth": 0,
              "ticks": ""
             }
            },
            "type": "scattergeo"
           }
          ],
          "scattergl": [
           {
            "marker": {
             "colorbar": {
              "outlinewidth": 0,
              "ticks": ""
             }
            },
            "type": "scattergl"
           }
          ],
          "scattermapbox": [
           {
            "marker": {
             "colorbar": {
              "outlinewidth": 0,
              "ticks": ""
             }
            },
            "type": "scattermapbox"
           }
          ],
          "scatterpolar": [
           {
            "marker": {
             "colorbar": {
              "outlinewidth": 0,
              "ticks": ""
             }
            },
            "type": "scatterpolar"
           }
          ],
          "scatterpolargl": [
           {
            "marker": {
             "colorbar": {
              "outlinewidth": 0,
              "ticks": ""
             }
            },
            "type": "scatterpolargl"
           }
          ],
          "scatterternary": [
           {
            "marker": {
             "colorbar": {
              "outlinewidth": 0,
              "ticks": ""
             }
            },
            "type": "scatterternary"
           }
          ],
          "surface": [
           {
            "colorbar": {
             "outlinewidth": 0,
             "ticks": ""
            },
            "colorscale": [
             [
              0,
              "#0d0887"
             ],
             [
              0.1111111111111111,
              "#46039f"
             ],
             [
              0.2222222222222222,
              "#7201a8"
             ],
             [
              0.3333333333333333,
              "#9c179e"
             ],
             [
              0.4444444444444444,
              "#bd3786"
             ],
             [
              0.5555555555555556,
              "#d8576b"
             ],
             [
              0.6666666666666666,
              "#ed7953"
             ],
             [
              0.7777777777777778,
              "#fb9f3a"
             ],
             [
              0.8888888888888888,
              "#fdca26"
             ],
             [
              1,
              "#f0f921"
             ]
            ],
            "type": "surface"
           }
          ],
          "table": [
           {
            "cells": {
             "fill": {
              "color": "#EBF0F8"
             },
             "line": {
              "color": "white"
             }
            },
            "header": {
             "fill": {
              "color": "#C8D4E3"
             },
             "line": {
              "color": "white"
             }
            },
            "type": "table"
           }
          ]
         },
         "layout": {
          "annotationdefaults": {
           "arrowcolor": "#2a3f5f",
           "arrowhead": 0,
           "arrowwidth": 1
          },
          "autotypenumbers": "strict",
          "coloraxis": {
           "colorbar": {
            "outlinewidth": 0,
            "ticks": ""
           }
          },
          "colorscale": {
           "diverging": [
            [
             0,
             "#8e0152"
            ],
            [
             0.1,
             "#c51b7d"
            ],
            [
             0.2,
             "#de77ae"
            ],
            [
             0.3,
             "#f1b6da"
            ],
            [
             0.4,
             "#fde0ef"
            ],
            [
             0.5,
             "#f7f7f7"
            ],
            [
             0.6,
             "#e6f5d0"
            ],
            [
             0.7,
             "#b8e186"
            ],
            [
             0.8,
             "#7fbc41"
            ],
            [
             0.9,
             "#4d9221"
            ],
            [
             1,
             "#276419"
            ]
           ],
           "sequential": [
            [
             0,
             "#0d0887"
            ],
            [
             0.1111111111111111,
             "#46039f"
            ],
            [
             0.2222222222222222,
             "#7201a8"
            ],
            [
             0.3333333333333333,
             "#9c179e"
            ],
            [
             0.4444444444444444,
             "#bd3786"
            ],
            [
             0.5555555555555556,
             "#d8576b"
            ],
            [
             0.6666666666666666,
             "#ed7953"
            ],
            [
             0.7777777777777778,
             "#fb9f3a"
            ],
            [
             0.8888888888888888,
             "#fdca26"
            ],
            [
             1,
             "#f0f921"
            ]
           ],
           "sequentialminus": [
            [
             0,
             "#0d0887"
            ],
            [
             0.1111111111111111,
             "#46039f"
            ],
            [
             0.2222222222222222,
             "#7201a8"
            ],
            [
             0.3333333333333333,
             "#9c179e"
            ],
            [
             0.4444444444444444,
             "#bd3786"
            ],
            [
             0.5555555555555556,
             "#d8576b"
            ],
            [
             0.6666666666666666,
             "#ed7953"
            ],
            [
             0.7777777777777778,
             "#fb9f3a"
            ],
            [
             0.8888888888888888,
             "#fdca26"
            ],
            [
             1,
             "#f0f921"
            ]
           ]
          },
          "colorway": [
           "#636efa",
           "#EF553B",
           "#00cc96",
           "#ab63fa",
           "#FFA15A",
           "#19d3f3",
           "#FF6692",
           "#B6E880",
           "#FF97FF",
           "#FECB52"
          ],
          "font": {
           "color": "#2a3f5f"
          },
          "geo": {
           "bgcolor": "white",
           "lakecolor": "white",
           "landcolor": "#E5ECF6",
           "showlakes": true,
           "showland": true,
           "subunitcolor": "white"
          },
          "hoverlabel": {
           "align": "left"
          },
          "hovermode": "closest",
          "mapbox": {
           "style": "light"
          },
          "paper_bgcolor": "white",
          "plot_bgcolor": "#E5ECF6",
          "polar": {
           "angularaxis": {
            "gridcolor": "white",
            "linecolor": "white",
            "ticks": ""
           },
           "bgcolor": "#E5ECF6",
           "radialaxis": {
            "gridcolor": "white",
            "linecolor": "white",
            "ticks": ""
           }
          },
          "scene": {
           "xaxis": {
            "backgroundcolor": "#E5ECF6",
            "gridcolor": "white",
            "gridwidth": 2,
            "linecolor": "white",
            "showbackground": true,
            "ticks": "",
            "zerolinecolor": "white"
           },
           "yaxis": {
            "backgroundcolor": "#E5ECF6",
            "gridcolor": "white",
            "gridwidth": 2,
            "linecolor": "white",
            "showbackground": true,
            "ticks": "",
            "zerolinecolor": "white"
           },
           "zaxis": {
            "backgroundcolor": "#E5ECF6",
            "gridcolor": "white",
            "gridwidth": 2,
            "linecolor": "white",
            "showbackground": true,
            "ticks": "",
            "zerolinecolor": "white"
           }
          },
          "shapedefaults": {
           "line": {
            "color": "#2a3f5f"
           }
          },
          "ternary": {
           "aaxis": {
            "gridcolor": "white",
            "linecolor": "white",
            "ticks": ""
           },
           "baxis": {
            "gridcolor": "white",
            "linecolor": "white",
            "ticks": ""
           },
           "bgcolor": "#E5ECF6",
           "caxis": {
            "gridcolor": "white",
            "linecolor": "white",
            "ticks": ""
           }
          },
          "title": {
           "x": 0.05
          },
          "xaxis": {
           "automargin": true,
           "gridcolor": "white",
           "linecolor": "white",
           "ticks": "",
           "title": {
            "standoff": 15
           },
           "zerolinecolor": "white",
           "zerolinewidth": 2
          },
          "yaxis": {
           "automargin": true,
           "gridcolor": "white",
           "linecolor": "white",
           "ticks": "",
           "title": {
            "standoff": 15
           },
           "zerolinecolor": "white",
           "zerolinewidth": 2
          }
         }
        },
        "title": {
         "font": {
          "color": "#4D5663"
         }
        },
        "xaxis": {
         "gridcolor": "#E1E5ED",
         "showgrid": true,
         "tickfont": {
          "color": "#4D5663"
         },
         "title": {
          "font": {
           "color": "#4D5663"
          },
          "text": ""
         },
         "zerolinecolor": "#E1E5ED"
        },
        "yaxis": {
         "gridcolor": "#E1E5ED",
         "showgrid": true,
         "tickfont": {
          "color": "#4D5663"
         },
         "title": {
          "font": {
           "color": "#4D5663"
          },
          "text": ""
         },
         "zerolinecolor": "#E1E5ED"
        }
       }
      },
      "text/html": [
       "<div>                            <div id=\"f4d236ca-6896-41a7-aee4-8da9eb3341da\" class=\"plotly-graph-div\" style=\"height:525px; width:100%;\"></div>            <script type=\"text/javascript\">                require([\"plotly\"], function(Plotly) {                    window.PLOTLYENV=window.PLOTLYENV || {};\n",
       "                    window.PLOTLYENV.BASE_URL='https://plot.ly';                                    if (document.getElementById(\"f4d236ca-6896-41a7-aee4-8da9eb3341da\")) {                    Plotly.newPlot(                        \"f4d236ca-6896-41a7-aee4-8da9eb3341da\",                        [{\"marker\": {\"color\": [\"rgb(255, 153, 51)\", \"rgb(55, 128, 191)\", \"rgb(50, 171, 96)\", \"rgb(128, 0, 128)\", \"rgb(219, 64, 82)\", \"rgb(0, 128, 128)\", \"rgb(255, 255, 51)\", \"rgb(128, 128, 0)\", \"rgb(251, 128, 114)\", \"rgb(128, 177, 211)\"], \"line\": {\"width\": 1.3}, \"size\": [54, 48, 56, 63, 68, 63, 69, 56, 69, 65, 64, 59, 51, 86, 62, 62, 88, 60, 82, 66, 29, 52, 37, 77, 71, 67, 59, 112, 109, 48, 79, 56, 47, 63, 47, 67, 80, 54, 47, 56, 84, 80, 98, 34, 56, 33, 47, 94, 52, 92, 98, 61, 83, 85, 68, 61, 84, 88, 73, 87, 77, 62, 66, 52, 87, 71, 52, 34, 42, 36, 71, 90, 75, 64, 73, 26, 92, 97, 75, 12, 68, 70, 86, 87, 45, 47, 69, 92, 62, 59, 102, 12, 55, 64, 85, 51, 74, 75, 57, 58], \"symbol\": \"circle\"}, \"mode\": \"markers\", \"text\": \"\", \"type\": \"scatter\", \"x\": [-0.45631341899455446, 0.4724584044203727, 1.9406963290187815, 1.3642048200066281, 0.3888909674049345, -0.8155560132139653, 0.1824994980346096, -0.6460157547769448, 0.7726921125849633, -0.7574183434082375, 0.5743341411046669, -1.122291005811296, 0.39592557287173297, 1.7658327891993622, 0.03956382437720008, -1.1778154865134784, 1.3612446505476976, 0.4575543125475046, -0.6100736598999223, -0.16227885578643608, 0.9074892985388556, -1.2212771553160078, -0.003212139726141614, 1.78200159331685, 0.3051643896263515, 0.5975174164344041, -1.069764750030652, 0.692191997574215, 0.2696109540579809, -1.1542791753011188, -1.1385749479100127, -0.3699998786410983, -1.1344534996132034, 0.672988103248493, 2.072735424057368, -2.1147273254318355, 0.36626961903539124, 0.49402674018544357, 0.5216867514899008, -0.5714109512067463, -0.6761590098251625, 0.7042638386647735, 0.11699659474769354, -0.1640626482877639, -0.6269163627570845, -0.4238401729522169, 0.8249507519202229, -0.8400945963434742, 0.7002288932568547, -0.23430066738503985, -0.2697623100425775, 1.1296410882765562, -0.12089119108281095, 0.6785647004075804, -0.33277254474307, 1.2755116095541024, 2.8144119696677983, -0.04169729623664178, -0.8263225957897392, 0.5346425224779339, -0.1691615220796312, -0.028261136874453294, -0.9159867232468516, 0.4262668787057552, 0.46461136984729107, -1.6242310329688443, 0.25510137484310935, -0.4956452247932434, 0.9664158082185562, 0.5335313997466851, -0.21034234832133342, 0.7578100478233821, 1.8107721743872651, -0.9391654021207035, 0.9717304863534318, -1.0822307332369805, -1.6668502238440615, 0.3531006055894467, -0.4476662332456711, -0.6878703293135146, 0.44730597827608787, -2.319317841268029, 0.08900212438510414, -0.4572559821356708, 2.111367134794406, -0.934563080089709, 0.5637618038523917, -0.2991455869065257, 0.5153988151252, 0.7878677402720858, 0.7315317806795537, 1.524796465918317, -0.7562970183873434, 0.5426557390236036, 0.5131735893370422, -1.1370342487815206, 1.1363044523216463, 0.03011016115863619, -0.1844988603454125, -1.0691517608483327], \"y\": [0.08585353006516305, -0.7652436652770636, -1.560799863236166, 0.854928611529446, 1.5294104037358258, 0.7802959777606984, 1.1092660375040786, -1.2997181168756695, -0.2501396717599244, 1.1672653683073624, 0.2657593084709434, 1.8067828968864428, 2.908460836515882, 0.2257063168775166, -0.3943778128855632, 1.4865989885509223, -0.419053119941921, 0.44213002504736104, -0.8765347571627182, 0.7631550538754935, 0.7313001692354236, -1.0848126581308521, -0.5011764356270655, 2.615349826248938, -0.8267702619275237, -0.5289210111072653, 1.3128095271060611, -0.6975326835999035, -2.0177953107320556, -0.9545140586667944, -1.2781018895409393, 1.772525799618574, -0.270952170350105, -1.0259308609936295, -0.8200550048236666, 0.5804852648112692, -0.09088463880203278, 0.6374103190401424, 2.0817045409484805, -0.5332820753894929, 0.7065147478521874, 0.1892745845799814, -1.2746433493418645, 0.8779534537612734, 0.5730668677347721, 0.2719515023616077, -2.042453178577107, 0.09760892427219381, 0.6327008342432406, 1.1287005425410521, 1.3913044302720308, -0.5069090531869064, 0.669878472883447, 0.5221818133872991, -0.4496145272881422, -1.1840356351224515, -1.4220007648795254, 0.8360266708830294, 0.8913948071631754, 0.9224107560138586, 2.7530407202962603, 1.438217420240023, -0.778441889649213, 0.023935454828543142, -1.6850521077202243, 0.27334839638225666, 0.28254467216477613, -0.8706248368005733, 1.9480382430405512, 0.15650044446126365, 1.063511636852657, 0.3615248823338626, 0.6274131303035508, 1.2697867007397823, -0.28884869074427993, -0.8917344572713624, -0.9016784589646977, -0.010188903097623743, -1.4282164380032398, 0.7143102611827443, -0.7029927020280965, 1.2519290706979243, 0.3714371833846144, -0.22736512435993828, 0.4504921171578333, 1.6955931253260765, 0.15955568966672862, -1.5718305019534387, 1.12036549343057, 0.6992989938926815, -0.8095249209852535, -0.7252921710467097, 0.3321356478041808, 0.8755392562950008, -1.124210575231865, -0.5979379435472303, -1.3604643669204346, 0.6374742546791262, -1.7711220550881799, 0.569197677960444]}],                        {\"legend\": {\"bgcolor\": \"#F5F6F9\", \"font\": {\"color\": \"#4D5663\"}}, \"paper_bgcolor\": \"#F5F6F9\", \"plot_bgcolor\": \"#F5F6F9\", \"template\": {\"data\": {\"bar\": [{\"error_x\": {\"color\": \"#2a3f5f\"}, \"error_y\": {\"color\": \"#2a3f5f\"}, \"marker\": {\"line\": {\"color\": \"#E5ECF6\", \"width\": 0.5}}, \"type\": \"bar\"}], \"barpolar\": [{\"marker\": {\"line\": {\"color\": \"#E5ECF6\", \"width\": 0.5}}, \"type\": \"barpolar\"}], \"carpet\": [{\"aaxis\": {\"endlinecolor\": \"#2a3f5f\", \"gridcolor\": \"white\", \"linecolor\": \"white\", \"minorgridcolor\": \"white\", \"startlinecolor\": \"#2a3f5f\"}, \"baxis\": {\"endlinecolor\": \"#2a3f5f\", \"gridcolor\": \"white\", \"linecolor\": \"white\", \"minorgridcolor\": \"white\", \"startlinecolor\": \"#2a3f5f\"}, \"type\": \"carpet\"}], \"choropleth\": [{\"colorbar\": {\"outlinewidth\": 0, \"ticks\": \"\"}, \"type\": \"choropleth\"}], \"contour\": [{\"colorbar\": {\"outlinewidth\": 0, \"ticks\": \"\"}, \"colorscale\": [[0.0, \"#0d0887\"], [0.1111111111111111, \"#46039f\"], [0.2222222222222222, \"#7201a8\"], [0.3333333333333333, \"#9c179e\"], [0.4444444444444444, \"#bd3786\"], [0.5555555555555556, \"#d8576b\"], [0.6666666666666666, \"#ed7953\"], [0.7777777777777778, \"#fb9f3a\"], [0.8888888888888888, \"#fdca26\"], [1.0, \"#f0f921\"]], \"type\": \"contour\"}], \"contourcarpet\": [{\"colorbar\": {\"outlinewidth\": 0, \"ticks\": \"\"}, \"type\": \"contourcarpet\"}], \"heatmap\": [{\"colorbar\": {\"outlinewidth\": 0, \"ticks\": \"\"}, \"colorscale\": [[0.0, \"#0d0887\"], [0.1111111111111111, \"#46039f\"], [0.2222222222222222, \"#7201a8\"], [0.3333333333333333, \"#9c179e\"], [0.4444444444444444, \"#bd3786\"], [0.5555555555555556, \"#d8576b\"], [0.6666666666666666, \"#ed7953\"], [0.7777777777777778, \"#fb9f3a\"], [0.8888888888888888, \"#fdca26\"], [1.0, \"#f0f921\"]], \"type\": \"heatmap\"}], \"heatmapgl\": [{\"colorbar\": {\"outlinewidth\": 0, \"ticks\": \"\"}, \"colorscale\": [[0.0, \"#0d0887\"], [0.1111111111111111, \"#46039f\"], [0.2222222222222222, \"#7201a8\"], [0.3333333333333333, \"#9c179e\"], [0.4444444444444444, \"#bd3786\"], [0.5555555555555556, \"#d8576b\"], [0.6666666666666666, \"#ed7953\"], [0.7777777777777778, \"#fb9f3a\"], [0.8888888888888888, \"#fdca26\"], [1.0, \"#f0f921\"]], \"type\": \"heatmapgl\"}], \"histogram\": [{\"marker\": {\"colorbar\": {\"outlinewidth\": 0, \"ticks\": \"\"}}, \"type\": \"histogram\"}], \"histogram2d\": [{\"colorbar\": {\"outlinewidth\": 0, \"ticks\": \"\"}, \"colorscale\": [[0.0, \"#0d0887\"], [0.1111111111111111, \"#46039f\"], [0.2222222222222222, \"#7201a8\"], [0.3333333333333333, \"#9c179e\"], [0.4444444444444444, \"#bd3786\"], [0.5555555555555556, \"#d8576b\"], [0.6666666666666666, \"#ed7953\"], [0.7777777777777778, \"#fb9f3a\"], [0.8888888888888888, \"#fdca26\"], [1.0, \"#f0f921\"]], \"type\": \"histogram2d\"}], \"histogram2dcontour\": [{\"colorbar\": {\"outlinewidth\": 0, \"ticks\": \"\"}, \"colorscale\": [[0.0, \"#0d0887\"], [0.1111111111111111, \"#46039f\"], [0.2222222222222222, \"#7201a8\"], [0.3333333333333333, \"#9c179e\"], [0.4444444444444444, \"#bd3786\"], [0.5555555555555556, \"#d8576b\"], [0.6666666666666666, \"#ed7953\"], [0.7777777777777778, \"#fb9f3a\"], [0.8888888888888888, \"#fdca26\"], [1.0, \"#f0f921\"]], \"type\": \"histogram2dcontour\"}], \"mesh3d\": [{\"colorbar\": {\"outlinewidth\": 0, \"ticks\": \"\"}, \"type\": \"mesh3d\"}], \"parcoords\": [{\"line\": {\"colorbar\": {\"outlinewidth\": 0, \"ticks\": \"\"}}, \"type\": \"parcoords\"}], \"pie\": [{\"automargin\": true, \"type\": \"pie\"}], \"scatter\": [{\"marker\": {\"colorbar\": {\"outlinewidth\": 0, \"ticks\": \"\"}}, \"type\": \"scatter\"}], \"scatter3d\": [{\"line\": {\"colorbar\": {\"outlinewidth\": 0, \"ticks\": \"\"}}, \"marker\": {\"colorbar\": {\"outlinewidth\": 0, \"ticks\": \"\"}}, \"type\": \"scatter3d\"}], \"scattercarpet\": [{\"marker\": {\"colorbar\": {\"outlinewidth\": 0, \"ticks\": \"\"}}, \"type\": \"scattercarpet\"}], \"scattergeo\": [{\"marker\": {\"colorbar\": {\"outlinewidth\": 0, \"ticks\": \"\"}}, \"type\": \"scattergeo\"}], \"scattergl\": [{\"marker\": {\"colorbar\": {\"outlinewidth\": 0, \"ticks\": \"\"}}, \"type\": \"scattergl\"}], \"scattermapbox\": [{\"marker\": {\"colorbar\": {\"outlinewidth\": 0, \"ticks\": \"\"}}, \"type\": \"scattermapbox\"}], \"scatterpolar\": [{\"marker\": {\"colorbar\": {\"outlinewidth\": 0, \"ticks\": \"\"}}, \"type\": \"scatterpolar\"}], \"scatterpolargl\": [{\"marker\": {\"colorbar\": {\"outlinewidth\": 0, \"ticks\": \"\"}}, \"type\": \"scatterpolargl\"}], \"scatterternary\": [{\"marker\": {\"colorbar\": {\"outlinewidth\": 0, \"ticks\": \"\"}}, \"type\": \"scatterternary\"}], \"surface\": [{\"colorbar\": {\"outlinewidth\": 0, \"ticks\": \"\"}, \"colorscale\": [[0.0, \"#0d0887\"], [0.1111111111111111, \"#46039f\"], [0.2222222222222222, \"#7201a8\"], [0.3333333333333333, \"#9c179e\"], [0.4444444444444444, \"#bd3786\"], [0.5555555555555556, \"#d8576b\"], [0.6666666666666666, \"#ed7953\"], [0.7777777777777778, \"#fb9f3a\"], [0.8888888888888888, \"#fdca26\"], [1.0, \"#f0f921\"]], \"type\": \"surface\"}], \"table\": [{\"cells\": {\"fill\": {\"color\": \"#EBF0F8\"}, \"line\": {\"color\": \"white\"}}, \"header\": {\"fill\": {\"color\": \"#C8D4E3\"}, \"line\": {\"color\": \"white\"}}, \"type\": \"table\"}]}, \"layout\": {\"annotationdefaults\": {\"arrowcolor\": \"#2a3f5f\", \"arrowhead\": 0, \"arrowwidth\": 1}, \"autotypenumbers\": \"strict\", \"coloraxis\": {\"colorbar\": {\"outlinewidth\": 0, \"ticks\": \"\"}}, \"colorscale\": {\"diverging\": [[0, \"#8e0152\"], [0.1, \"#c51b7d\"], [0.2, \"#de77ae\"], [0.3, \"#f1b6da\"], [0.4, \"#fde0ef\"], [0.5, \"#f7f7f7\"], [0.6, \"#e6f5d0\"], [0.7, \"#b8e186\"], [0.8, \"#7fbc41\"], [0.9, \"#4d9221\"], [1, \"#276419\"]], \"sequential\": [[0.0, \"#0d0887\"], [0.1111111111111111, \"#46039f\"], [0.2222222222222222, \"#7201a8\"], [0.3333333333333333, \"#9c179e\"], [0.4444444444444444, \"#bd3786\"], [0.5555555555555556, \"#d8576b\"], [0.6666666666666666, \"#ed7953\"], [0.7777777777777778, \"#fb9f3a\"], [0.8888888888888888, \"#fdca26\"], [1.0, \"#f0f921\"]], \"sequentialminus\": [[0.0, \"#0d0887\"], [0.1111111111111111, \"#46039f\"], [0.2222222222222222, \"#7201a8\"], [0.3333333333333333, \"#9c179e\"], [0.4444444444444444, \"#bd3786\"], [0.5555555555555556, \"#d8576b\"], [0.6666666666666666, \"#ed7953\"], [0.7777777777777778, \"#fb9f3a\"], [0.8888888888888888, \"#fdca26\"], [1.0, \"#f0f921\"]]}, \"colorway\": [\"#636efa\", \"#EF553B\", \"#00cc96\", \"#ab63fa\", \"#FFA15A\", \"#19d3f3\", \"#FF6692\", \"#B6E880\", \"#FF97FF\", \"#FECB52\"], \"font\": {\"color\": \"#2a3f5f\"}, \"geo\": {\"bgcolor\": \"white\", \"lakecolor\": \"white\", \"landcolor\": \"#E5ECF6\", \"showlakes\": true, \"showland\": true, \"subunitcolor\": \"white\"}, \"hoverlabel\": {\"align\": \"left\"}, \"hovermode\": \"closest\", \"mapbox\": {\"style\": \"light\"}, \"paper_bgcolor\": \"white\", \"plot_bgcolor\": \"#E5ECF6\", \"polar\": {\"angularaxis\": {\"gridcolor\": \"white\", \"linecolor\": \"white\", \"ticks\": \"\"}, \"bgcolor\": \"#E5ECF6\", \"radialaxis\": {\"gridcolor\": \"white\", \"linecolor\": \"white\", \"ticks\": \"\"}}, \"scene\": {\"xaxis\": {\"backgroundcolor\": \"#E5ECF6\", \"gridcolor\": \"white\", \"gridwidth\": 2, \"linecolor\": \"white\", \"showbackground\": true, \"ticks\": \"\", \"zerolinecolor\": \"white\"}, \"yaxis\": {\"backgroundcolor\": \"#E5ECF6\", \"gridcolor\": \"white\", \"gridwidth\": 2, \"linecolor\": \"white\", \"showbackground\": true, \"ticks\": \"\", \"zerolinecolor\": \"white\"}, \"zaxis\": {\"backgroundcolor\": \"#E5ECF6\", \"gridcolor\": \"white\", \"gridwidth\": 2, \"linecolor\": \"white\", \"showbackground\": true, \"ticks\": \"\", \"zerolinecolor\": \"white\"}}, \"shapedefaults\": {\"line\": {\"color\": \"#2a3f5f\"}}, \"ternary\": {\"aaxis\": {\"gridcolor\": \"white\", \"linecolor\": \"white\", \"ticks\": \"\"}, \"baxis\": {\"gridcolor\": \"white\", \"linecolor\": \"white\", \"ticks\": \"\"}, \"bgcolor\": \"#E5ECF6\", \"caxis\": {\"gridcolor\": \"white\", \"linecolor\": \"white\", \"ticks\": \"\"}}, \"title\": {\"x\": 0.05}, \"xaxis\": {\"automargin\": true, \"gridcolor\": \"white\", \"linecolor\": \"white\", \"ticks\": \"\", \"title\": {\"standoff\": 15}, \"zerolinecolor\": \"white\", \"zerolinewidth\": 2}, \"yaxis\": {\"automargin\": true, \"gridcolor\": \"white\", \"linecolor\": \"white\", \"ticks\": \"\", \"title\": {\"standoff\": 15}, \"zerolinecolor\": \"white\", \"zerolinewidth\": 2}}}, \"title\": {\"font\": {\"color\": \"#4D5663\"}}, \"xaxis\": {\"gridcolor\": \"#E1E5ED\", \"showgrid\": true, \"tickfont\": {\"color\": \"#4D5663\"}, \"title\": {\"font\": {\"color\": \"#4D5663\"}, \"text\": \"\"}, \"zerolinecolor\": \"#E1E5ED\"}, \"yaxis\": {\"gridcolor\": \"#E1E5ED\", \"showgrid\": true, \"tickfont\": {\"color\": \"#4D5663\"}, \"title\": {\"font\": {\"color\": \"#4D5663\"}, \"text\": \"\"}, \"zerolinecolor\": \"#E1E5ED\"}},                        {\"showLink\": true, \"linkText\": \"Export to plot.ly\", \"plotlyServerURL\": \"https://plot.ly\", \"responsive\": true}                    ).then(function(){\n",
       "                            \n",
       "var gd = document.getElementById('f4d236ca-6896-41a7-aee4-8da9eb3341da');\n",
       "var x = new MutationObserver(function (mutations, observer) {{\n",
       "        var display = window.getComputedStyle(gd).display;\n",
       "        if (!display || display === 'none') {{\n",
       "            console.log([gd, 'removed!']);\n",
       "            Plotly.purge(gd);\n",
       "            observer.disconnect();\n",
       "        }}\n",
       "}});\n",
       "\n",
       "// Listen for the removal of the full notebook cells\n",
       "var notebookContainer = gd.closest('#notebook-container');\n",
       "if (notebookContainer) {{\n",
       "    x.observe(notebookContainer, {childList: true});\n",
       "}}\n",
       "\n",
       "// Listen for the clearing of the current output cell\n",
       "var outputEl = gd.closest('.output');\n",
       "if (outputEl) {{\n",
       "    x.observe(outputEl, {childList: true});\n",
       "}}\n",
       "\n",
       "                        })                };                });            </script>        </div>"
      ]
     },
     "metadata": {},
     "output_type": "display_data"
    }
   ],
   "source": [
    "df.iplot(kind='bubble',x='A',y='B',size='C')"
   ]
  },
  {
   "cell_type": "markdown",
   "metadata": {},
   "source": [
    "## scatter_matrix()\n",
    "\n",
    "Similar a sns.pairplot()"
   ]
  },
  {
   "cell_type": "code",
   "execution_count": 17,
   "metadata": {},
   "outputs": [
    {
     "data": {
      "application/vnd.plotly.v1+json": {
       "config": {
        "linkText": "Export to plot.ly",
        "plotlyServerURL": "https://plot.ly",
        "showLink": true
       },
       "data": [
        {
         "histfunc": "count",
         "histnorm": "",
         "marker": {
          "color": "rgba(255, 153, 51, 1.0)",
          "line": {
           "color": "#4D5663",
           "width": 1.3
          }
         },
         "name": "A",
         "nbinsx": 10,
         "opacity": 0.8,
         "orientation": "v",
         "type": "histogram",
         "x": [
          -0.45631341899455446,
          0.4724584044203727,
          1.9406963290187815,
          1.3642048200066281,
          0.3888909674049345,
          -0.8155560132139653,
          0.1824994980346096,
          -0.6460157547769448,
          0.7726921125849633,
          -0.7574183434082375,
          0.5743341411046669,
          -1.122291005811296,
          0.39592557287173297,
          1.7658327891993622,
          0.03956382437720008,
          -1.1778154865134784,
          1.3612446505476976,
          0.4575543125475046,
          -0.6100736598999223,
          -0.16227885578643608,
          0.9074892985388556,
          -1.2212771553160078,
          -0.003212139726141614,
          1.78200159331685,
          0.3051643896263515,
          0.5975174164344041,
          -1.069764750030652,
          0.692191997574215,
          0.2696109540579809,
          -1.1542791753011188,
          -1.1385749479100127,
          -0.3699998786410983,
          -1.1344534996132034,
          0.672988103248493,
          2.072735424057368,
          -2.1147273254318355,
          0.36626961903539124,
          0.49402674018544357,
          0.5216867514899008,
          -0.5714109512067463,
          -0.6761590098251625,
          0.7042638386647735,
          0.11699659474769354,
          -0.1640626482877639,
          -0.6269163627570845,
          -0.4238401729522169,
          0.8249507519202229,
          -0.8400945963434742,
          0.7002288932568547,
          -0.23430066738503985,
          -0.2697623100425775,
          1.1296410882765562,
          -0.12089119108281095,
          0.6785647004075804,
          -0.33277254474307,
          1.2755116095541024,
          2.8144119696677983,
          -0.04169729623664178,
          -0.8263225957897392,
          0.5346425224779339,
          -0.1691615220796312,
          -0.028261136874453294,
          -0.9159867232468516,
          0.4262668787057552,
          0.46461136984729107,
          -1.6242310329688443,
          0.25510137484310935,
          -0.4956452247932434,
          0.9664158082185562,
          0.5335313997466851,
          -0.21034234832133342,
          0.7578100478233821,
          1.8107721743872651,
          -0.9391654021207035,
          0.9717304863534318,
          -1.0822307332369805,
          -1.6668502238440615,
          0.3531006055894467,
          -0.4476662332456711,
          -0.6878703293135146,
          0.44730597827608787,
          -2.319317841268029,
          0.08900212438510414,
          -0.4572559821356708,
          2.111367134794406,
          -0.934563080089709,
          0.5637618038523917,
          -0.2991455869065257,
          0.5153988151252,
          0.7878677402720858,
          0.7315317806795537,
          1.524796465918317,
          -0.7562970183873434,
          0.5426557390236036,
          0.5131735893370422,
          -1.1370342487815206,
          1.1363044523216463,
          0.03011016115863619,
          -0.1844988603454125,
          -1.0691517608483327
         ],
         "xaxis": "x",
         "yaxis": "y"
        },
        {
         "line": {
          "color": "rgba(128, 128, 128, 1.0)",
          "dash": "solid",
          "shape": "linear",
          "width": 1.3
         },
         "marker": {
          "size": 2,
          "symbol": "circle"
         },
         "mode": "markers",
         "name": "A",
         "text": "",
         "type": "scatter",
         "x": [
          0.08585353006516305,
          -0.7652436652770636,
          -1.560799863236166,
          0.854928611529446,
          1.5294104037358258,
          0.7802959777606984,
          1.1092660375040786,
          -1.2997181168756695,
          -0.2501396717599244,
          1.1672653683073624,
          0.2657593084709434,
          1.8067828968864428,
          2.908460836515882,
          0.2257063168775166,
          -0.3943778128855632,
          1.4865989885509223,
          -0.419053119941921,
          0.44213002504736104,
          -0.8765347571627182,
          0.7631550538754935,
          0.7313001692354236,
          -1.0848126581308521,
          -0.5011764356270655,
          2.615349826248938,
          -0.8267702619275237,
          -0.5289210111072653,
          1.3128095271060611,
          -0.6975326835999035,
          -2.0177953107320556,
          -0.9545140586667944,
          -1.2781018895409393,
          1.772525799618574,
          -0.270952170350105,
          -1.0259308609936295,
          -0.8200550048236666,
          0.5804852648112692,
          -0.09088463880203278,
          0.6374103190401424,
          2.0817045409484805,
          -0.5332820753894929,
          0.7065147478521874,
          0.1892745845799814,
          -1.2746433493418645,
          0.8779534537612734,
          0.5730668677347721,
          0.2719515023616077,
          -2.042453178577107,
          0.09760892427219381,
          0.6327008342432406,
          1.1287005425410521,
          1.3913044302720308,
          -0.5069090531869064,
          0.669878472883447,
          0.5221818133872991,
          -0.4496145272881422,
          -1.1840356351224515,
          -1.4220007648795254,
          0.8360266708830294,
          0.8913948071631754,
          0.9224107560138586,
          2.7530407202962603,
          1.438217420240023,
          -0.778441889649213,
          0.023935454828543142,
          -1.6850521077202243,
          0.27334839638225666,
          0.28254467216477613,
          -0.8706248368005733,
          1.9480382430405512,
          0.15650044446126365,
          1.063511636852657,
          0.3615248823338626,
          0.6274131303035508,
          1.2697867007397823,
          -0.28884869074427993,
          -0.8917344572713624,
          -0.9016784589646977,
          -0.010188903097623743,
          -1.4282164380032398,
          0.7143102611827443,
          -0.7029927020280965,
          1.2519290706979243,
          0.3714371833846144,
          -0.22736512435993828,
          0.4504921171578333,
          1.6955931253260765,
          0.15955568966672862,
          -1.5718305019534387,
          1.12036549343057,
          0.6992989938926815,
          -0.8095249209852535,
          -0.7252921710467097,
          0.3321356478041808,
          0.8755392562950008,
          -1.124210575231865,
          -0.5979379435472303,
          -1.3604643669204346,
          0.6374742546791262,
          -1.7711220550881799,
          0.569197677960444
         ],
         "xaxis": "x2",
         "y": [
          -0.45631341899455446,
          0.4724584044203727,
          1.9406963290187815,
          1.3642048200066281,
          0.3888909674049345,
          -0.8155560132139653,
          0.1824994980346096,
          -0.6460157547769448,
          0.7726921125849633,
          -0.7574183434082375,
          0.5743341411046669,
          -1.122291005811296,
          0.39592557287173297,
          1.7658327891993622,
          0.03956382437720008,
          -1.1778154865134784,
          1.3612446505476976,
          0.4575543125475046,
          -0.6100736598999223,
          -0.16227885578643608,
          0.9074892985388556,
          -1.2212771553160078,
          -0.003212139726141614,
          1.78200159331685,
          0.3051643896263515,
          0.5975174164344041,
          -1.069764750030652,
          0.692191997574215,
          0.2696109540579809,
          -1.1542791753011188,
          -1.1385749479100127,
          -0.3699998786410983,
          -1.1344534996132034,
          0.672988103248493,
          2.072735424057368,
          -2.1147273254318355,
          0.36626961903539124,
          0.49402674018544357,
          0.5216867514899008,
          -0.5714109512067463,
          -0.6761590098251625,
          0.7042638386647735,
          0.11699659474769354,
          -0.1640626482877639,
          -0.6269163627570845,
          -0.4238401729522169,
          0.8249507519202229,
          -0.8400945963434742,
          0.7002288932568547,
          -0.23430066738503985,
          -0.2697623100425775,
          1.1296410882765562,
          -0.12089119108281095,
          0.6785647004075804,
          -0.33277254474307,
          1.2755116095541024,
          2.8144119696677983,
          -0.04169729623664178,
          -0.8263225957897392,
          0.5346425224779339,
          -0.1691615220796312,
          -0.028261136874453294,
          -0.9159867232468516,
          0.4262668787057552,
          0.46461136984729107,
          -1.6242310329688443,
          0.25510137484310935,
          -0.4956452247932434,
          0.9664158082185562,
          0.5335313997466851,
          -0.21034234832133342,
          0.7578100478233821,
          1.8107721743872651,
          -0.9391654021207035,
          0.9717304863534318,
          -1.0822307332369805,
          -1.6668502238440615,
          0.3531006055894467,
          -0.4476662332456711,
          -0.6878703293135146,
          0.44730597827608787,
          -2.319317841268029,
          0.08900212438510414,
          -0.4572559821356708,
          2.111367134794406,
          -0.934563080089709,
          0.5637618038523917,
          -0.2991455869065257,
          0.5153988151252,
          0.7878677402720858,
          0.7315317806795537,
          1.524796465918317,
          -0.7562970183873434,
          0.5426557390236036,
          0.5131735893370422,
          -1.1370342487815206,
          1.1363044523216463,
          0.03011016115863619,
          -0.1844988603454125,
          -1.0691517608483327
         ],
         "yaxis": "y2"
        },
        {
         "line": {
          "color": "rgba(128, 128, 128, 1.0)",
          "dash": "solid",
          "shape": "linear",
          "width": 1.3
         },
         "marker": {
          "size": 2,
          "symbol": "circle"
         },
         "mode": "markers",
         "name": "A",
         "text": "",
         "type": "scatter",
         "x": [
          -0.5537379212190897,
          -0.8724233052694854,
          -0.4543058134976074,
          -0.11014863679154555,
          0.14613296956043798,
          -0.07972816596592253,
          0.23071816361939446,
          -0.46840908859725044,
          0.18436213161850834,
          -0.014321693931055183,
          -0.026860748441306162,
          -0.27782290778010554,
          -0.7046569466338679,
          1.0879505516918127,
          -0.14522834640323015,
          -0.15948615687583165,
          1.1955460885919826,
          -0.23952068592326292,
          0.8726253512372968,
          0.07453419235280212,
          -1.8078878466901667,
          -0.6385244736830138,
          -1.410886899903527,
          0.5952664050592602,
          0.2886650222926791,
          0.11039222692095005,
          -0.3197007695368137,
          2.3655768820646585,
          2.2183351120585986,
          -0.8676594284342002,
          0.7306787469146706,
          -0.42963613672543155,
          -0.915272688592936,
          -0.07867636320966079,
          -0.9270634599251494,
          0.12701375209898594,
          0.7768472291937459,
          -0.5296385792732079,
          -0.8936976374236892,
          -0.4377805445168151,
          0.949334370124812,
          0.7570338091013735,
          1.6624731100208912,
          -1.5790316048566215,
          -0.44822211140406854,
          -1.6261963423182388,
          -0.9056842189081151,
          1.4739822729626488,
          -0.6571973195657878,
          1.3625496020340948,
          1.6574237010904567,
          -0.17749977787464458,
          0.9075120615486731,
          1.0256075023267957,
          0.16592539270409867,
          -0.1855059373230086,
          0.9471382851852113,
          1.1930319801477383,
          0.43295005260247615,
          1.0996560077129431,
          0.6175810332370919,
          -0.1428410083099575,
          0.05301951224767886,
          -0.6507871628506191,
          1.1365386389173497,
          0.2889509725144247,
          -0.6460371173716895,
          -1.593962248440813,
          -1.146556415184358,
          -1.4590413297512774,
          0.3026670183455334,
          1.2966634986461367,
          0.5173549255270803,
          -0.0632510475536566,
          0.3990092802832907,
          -1.9951236100521847,
          1.3744300460745864,
          1.6155001221221712,
          0.5063360072351307,
          -2.6977473302984154,
          0.13553992385555955,
          0.23996422729562236,
          1.093910238408881,
          1.0970779058678999,
          -1.0214634318767166,
          -0.9099269078622486,
          0.2313839712322445,
          1.380306830071051,
          -0.12695330769444957,
          -0.3000244148642409,
          1.906165655894951,
          -2.713127925355512,
          -0.5147146933258838,
          -0.03379601581274362,
          1.0304962528228427,
          -0.6896832717756195,
          0.46056227260729415,
          0.515696867981505,
          -0.4177010269870619,
          -0.37409452757803896
         ],
         "xaxis": "x3",
         "y": [
          -0.45631341899455446,
          0.4724584044203727,
          1.9406963290187815,
          1.3642048200066281,
          0.3888909674049345,
          -0.8155560132139653,
          0.1824994980346096,
          -0.6460157547769448,
          0.7726921125849633,
          -0.7574183434082375,
          0.5743341411046669,
          -1.122291005811296,
          0.39592557287173297,
          1.7658327891993622,
          0.03956382437720008,
          -1.1778154865134784,
          1.3612446505476976,
          0.4575543125475046,
          -0.6100736598999223,
          -0.16227885578643608,
          0.9074892985388556,
          -1.2212771553160078,
          -0.003212139726141614,
          1.78200159331685,
          0.3051643896263515,
          0.5975174164344041,
          -1.069764750030652,
          0.692191997574215,
          0.2696109540579809,
          -1.1542791753011188,
          -1.1385749479100127,
          -0.3699998786410983,
          -1.1344534996132034,
          0.672988103248493,
          2.072735424057368,
          -2.1147273254318355,
          0.36626961903539124,
          0.49402674018544357,
          0.5216867514899008,
          -0.5714109512067463,
          -0.6761590098251625,
          0.7042638386647735,
          0.11699659474769354,
          -0.1640626482877639,
          -0.6269163627570845,
          -0.4238401729522169,
          0.8249507519202229,
          -0.8400945963434742,
          0.7002288932568547,
          -0.23430066738503985,
          -0.2697623100425775,
          1.1296410882765562,
          -0.12089119108281095,
          0.6785647004075804,
          -0.33277254474307,
          1.2755116095541024,
          2.8144119696677983,
          -0.04169729623664178,
          -0.8263225957897392,
          0.5346425224779339,
          -0.1691615220796312,
          -0.028261136874453294,
          -0.9159867232468516,
          0.4262668787057552,
          0.46461136984729107,
          -1.6242310329688443,
          0.25510137484310935,
          -0.4956452247932434,
          0.9664158082185562,
          0.5335313997466851,
          -0.21034234832133342,
          0.7578100478233821,
          1.8107721743872651,
          -0.9391654021207035,
          0.9717304863534318,
          -1.0822307332369805,
          -1.6668502238440615,
          0.3531006055894467,
          -0.4476662332456711,
          -0.6878703293135146,
          0.44730597827608787,
          -2.319317841268029,
          0.08900212438510414,
          -0.4572559821356708,
          2.111367134794406,
          -0.934563080089709,
          0.5637618038523917,
          -0.2991455869065257,
          0.5153988151252,
          0.7878677402720858,
          0.7315317806795537,
          1.524796465918317,
          -0.7562970183873434,
          0.5426557390236036,
          0.5131735893370422,
          -1.1370342487815206,
          1.1363044523216463,
          0.03011016115863619,
          -0.1844988603454125,
          -1.0691517608483327
         ],
         "yaxis": "y3"
        },
        {
         "line": {
          "color": "rgba(128, 128, 128, 1.0)",
          "dash": "solid",
          "shape": "linear",
          "width": 1.3
         },
         "marker": {
          "size": 2,
          "symbol": "circle"
         },
         "mode": "markers",
         "name": "A",
         "text": "",
         "type": "scatter",
         "x": [
          1.5842791108277439,
          1.9392303036214489,
          0.6177777428271791,
          -1.8121307158913724,
          -0.3478388077547154,
          0.764501329342132,
          -0.8498630339078125,
          -1.2757866710949821,
          -0.39672634945812846,
          -0.18400398821812025,
          0.02238367836008293,
          0.6037245239520784,
          1.074122824800881,
          0.5221152359810379,
          1.3141904082003788,
          1.6263719726119574,
          0.2098046320866795,
          -0.515314340981756,
          0.6591772152742821,
          -0.10319904393445216,
          -1.0275911617031368,
          -1.040812400145377,
          -1.33717396085918,
          0.7034028417819237,
          -0.6354677291496945,
          -1.756126740395263,
          -0.4683718749826806,
          -0.09119189910221012,
          -0.28181623366681957,
          -0.5040139618350105,
          0.765799998231126,
          -0.9121086046624316,
          -0.2434741473613454,
          0.10909321518599782,
          -1.0614589305554516,
          0.05583961261659571,
          -0.11339955427679063,
          -0.23693665824523838,
          0.8305459163917228,
          -0.8834788689149975,
          0.5824207321113793,
          0.5247674593843477,
          1.0652507124048907,
          0.2948395667837005,
          0.9611778573067953,
          -1.51007086093071,
          -0.1755219613287985,
          -0.19160948506838746,
          -1.1129302234342129,
          -0.53315881337324,
          -0.4631060873723058,
          -0.005449116729710715,
          0.550036258139161,
          1.4345973755214232,
          0.24377148610051458,
          -1.814551011894297,
          -0.4314479546649242,
          -1.2808504760168282,
          -1.085772356895492,
          0.15716263203964206,
          1.1007096069297018,
          -0.6107970611136976,
          0.09665096619158409,
          -0.8526903668560195,
          -1.3487242239250592,
          -2.3590648342025893,
          0.8992190475722818,
          0.45260360125003485,
          -0.35511067930069296,
          0.014636073273193839,
          -0.30196743632525536,
          -0.3997586862708823,
          -1.6961766657373825,
          2.1936046812317134,
          -0.0021114666079433664,
          -1.3061912957548663,
          -0.3917026007185684,
          0.03583860770544733,
          0.3874777237537701,
          -1.8392345205990421,
          0.7554916700328876,
          0.9688391568214227,
          -0.1012405112232658,
          2.3274293386023164,
          0.8314788066309082,
          0.4366381524548407,
          2.1782212890983534,
          -0.4766125984974227,
          -0.03431037062216538,
          -1.0113084943758948,
          -1.6138146605719532,
          0.6076397596794696,
          -0.4491837282050882,
          -0.25933883152910764,
          -0.32794420472944924,
          -0.015607513578014976,
          0.5327810669308646,
          0.9171765911653947,
          -0.04806466526877816,
          -0.6059465457848144
         ],
         "xaxis": "x4",
         "y": [
          -0.45631341899455446,
          0.4724584044203727,
          1.9406963290187815,
          1.3642048200066281,
          0.3888909674049345,
          -0.8155560132139653,
          0.1824994980346096,
          -0.6460157547769448,
          0.7726921125849633,
          -0.7574183434082375,
          0.5743341411046669,
          -1.122291005811296,
          0.39592557287173297,
          1.7658327891993622,
          0.03956382437720008,
          -1.1778154865134784,
          1.3612446505476976,
          0.4575543125475046,
          -0.6100736598999223,
          -0.16227885578643608,
          0.9074892985388556,
          -1.2212771553160078,
          -0.003212139726141614,
          1.78200159331685,
          0.3051643896263515,
          0.5975174164344041,
          -1.069764750030652,
          0.692191997574215,
          0.2696109540579809,
          -1.1542791753011188,
          -1.1385749479100127,
          -0.3699998786410983,
          -1.1344534996132034,
          0.672988103248493,
          2.072735424057368,
          -2.1147273254318355,
          0.36626961903539124,
          0.49402674018544357,
          0.5216867514899008,
          -0.5714109512067463,
          -0.6761590098251625,
          0.7042638386647735,
          0.11699659474769354,
          -0.1640626482877639,
          -0.6269163627570845,
          -0.4238401729522169,
          0.8249507519202229,
          -0.8400945963434742,
          0.7002288932568547,
          -0.23430066738503985,
          -0.2697623100425775,
          1.1296410882765562,
          -0.12089119108281095,
          0.6785647004075804,
          -0.33277254474307,
          1.2755116095541024,
          2.8144119696677983,
          -0.04169729623664178,
          -0.8263225957897392,
          0.5346425224779339,
          -0.1691615220796312,
          -0.028261136874453294,
          -0.9159867232468516,
          0.4262668787057552,
          0.46461136984729107,
          -1.6242310329688443,
          0.25510137484310935,
          -0.4956452247932434,
          0.9664158082185562,
          0.5335313997466851,
          -0.21034234832133342,
          0.7578100478233821,
          1.8107721743872651,
          -0.9391654021207035,
          0.9717304863534318,
          -1.0822307332369805,
          -1.6668502238440615,
          0.3531006055894467,
          -0.4476662332456711,
          -0.6878703293135146,
          0.44730597827608787,
          -2.319317841268029,
          0.08900212438510414,
          -0.4572559821356708,
          2.111367134794406,
          -0.934563080089709,
          0.5637618038523917,
          -0.2991455869065257,
          0.5153988151252,
          0.7878677402720858,
          0.7315317806795537,
          1.524796465918317,
          -0.7562970183873434,
          0.5426557390236036,
          0.5131735893370422,
          -1.1370342487815206,
          1.1363044523216463,
          0.03011016115863619,
          -0.1844988603454125,
          -1.0691517608483327
         ],
         "yaxis": "y4"
        },
        {
         "line": {
          "color": "rgba(128, 128, 128, 1.0)",
          "dash": "solid",
          "shape": "linear",
          "width": 1.3
         },
         "marker": {
          "size": 2,
          "symbol": "circle"
         },
         "mode": "markers",
         "name": "B",
         "text": "",
         "type": "scatter",
         "x": [
          -0.45631341899455446,
          0.4724584044203727,
          1.9406963290187815,
          1.3642048200066281,
          0.3888909674049345,
          -0.8155560132139653,
          0.1824994980346096,
          -0.6460157547769448,
          0.7726921125849633,
          -0.7574183434082375,
          0.5743341411046669,
          -1.122291005811296,
          0.39592557287173297,
          1.7658327891993622,
          0.03956382437720008,
          -1.1778154865134784,
          1.3612446505476976,
          0.4575543125475046,
          -0.6100736598999223,
          -0.16227885578643608,
          0.9074892985388556,
          -1.2212771553160078,
          -0.003212139726141614,
          1.78200159331685,
          0.3051643896263515,
          0.5975174164344041,
          -1.069764750030652,
          0.692191997574215,
          0.2696109540579809,
          -1.1542791753011188,
          -1.1385749479100127,
          -0.3699998786410983,
          -1.1344534996132034,
          0.672988103248493,
          2.072735424057368,
          -2.1147273254318355,
          0.36626961903539124,
          0.49402674018544357,
          0.5216867514899008,
          -0.5714109512067463,
          -0.6761590098251625,
          0.7042638386647735,
          0.11699659474769354,
          -0.1640626482877639,
          -0.6269163627570845,
          -0.4238401729522169,
          0.8249507519202229,
          -0.8400945963434742,
          0.7002288932568547,
          -0.23430066738503985,
          -0.2697623100425775,
          1.1296410882765562,
          -0.12089119108281095,
          0.6785647004075804,
          -0.33277254474307,
          1.2755116095541024,
          2.8144119696677983,
          -0.04169729623664178,
          -0.8263225957897392,
          0.5346425224779339,
          -0.1691615220796312,
          -0.028261136874453294,
          -0.9159867232468516,
          0.4262668787057552,
          0.46461136984729107,
          -1.6242310329688443,
          0.25510137484310935,
          -0.4956452247932434,
          0.9664158082185562,
          0.5335313997466851,
          -0.21034234832133342,
          0.7578100478233821,
          1.8107721743872651,
          -0.9391654021207035,
          0.9717304863534318,
          -1.0822307332369805,
          -1.6668502238440615,
          0.3531006055894467,
          -0.4476662332456711,
          -0.6878703293135146,
          0.44730597827608787,
          -2.319317841268029,
          0.08900212438510414,
          -0.4572559821356708,
          2.111367134794406,
          -0.934563080089709,
          0.5637618038523917,
          -0.2991455869065257,
          0.5153988151252,
          0.7878677402720858,
          0.7315317806795537,
          1.524796465918317,
          -0.7562970183873434,
          0.5426557390236036,
          0.5131735893370422,
          -1.1370342487815206,
          1.1363044523216463,
          0.03011016115863619,
          -0.1844988603454125,
          -1.0691517608483327
         ],
         "xaxis": "x5",
         "y": [
          0.08585353006516305,
          -0.7652436652770636,
          -1.560799863236166,
          0.854928611529446,
          1.5294104037358258,
          0.7802959777606984,
          1.1092660375040786,
          -1.2997181168756695,
          -0.2501396717599244,
          1.1672653683073624,
          0.2657593084709434,
          1.8067828968864428,
          2.908460836515882,
          0.2257063168775166,
          -0.3943778128855632,
          1.4865989885509223,
          -0.419053119941921,
          0.44213002504736104,
          -0.8765347571627182,
          0.7631550538754935,
          0.7313001692354236,
          -1.0848126581308521,
          -0.5011764356270655,
          2.615349826248938,
          -0.8267702619275237,
          -0.5289210111072653,
          1.3128095271060611,
          -0.6975326835999035,
          -2.0177953107320556,
          -0.9545140586667944,
          -1.2781018895409393,
          1.772525799618574,
          -0.270952170350105,
          -1.0259308609936295,
          -0.8200550048236666,
          0.5804852648112692,
          -0.09088463880203278,
          0.6374103190401424,
          2.0817045409484805,
          -0.5332820753894929,
          0.7065147478521874,
          0.1892745845799814,
          -1.2746433493418645,
          0.8779534537612734,
          0.5730668677347721,
          0.2719515023616077,
          -2.042453178577107,
          0.09760892427219381,
          0.6327008342432406,
          1.1287005425410521,
          1.3913044302720308,
          -0.5069090531869064,
          0.669878472883447,
          0.5221818133872991,
          -0.4496145272881422,
          -1.1840356351224515,
          -1.4220007648795254,
          0.8360266708830294,
          0.8913948071631754,
          0.9224107560138586,
          2.7530407202962603,
          1.438217420240023,
          -0.778441889649213,
          0.023935454828543142,
          -1.6850521077202243,
          0.27334839638225666,
          0.28254467216477613,
          -0.8706248368005733,
          1.9480382430405512,
          0.15650044446126365,
          1.063511636852657,
          0.3615248823338626,
          0.6274131303035508,
          1.2697867007397823,
          -0.28884869074427993,
          -0.8917344572713624,
          -0.9016784589646977,
          -0.010188903097623743,
          -1.4282164380032398,
          0.7143102611827443,
          -0.7029927020280965,
          1.2519290706979243,
          0.3714371833846144,
          -0.22736512435993828,
          0.4504921171578333,
          1.6955931253260765,
          0.15955568966672862,
          -1.5718305019534387,
          1.12036549343057,
          0.6992989938926815,
          -0.8095249209852535,
          -0.7252921710467097,
          0.3321356478041808,
          0.8755392562950008,
          -1.124210575231865,
          -0.5979379435472303,
          -1.3604643669204346,
          0.6374742546791262,
          -1.7711220550881799,
          0.569197677960444
         ],
         "yaxis": "y5"
        },
        {
         "histfunc": "count",
         "histnorm": "",
         "marker": {
          "color": "rgba(55, 128, 191, 1.0)",
          "line": {
           "color": "#4D5663",
           "width": 1.3
          }
         },
         "name": "B",
         "nbinsx": 10,
         "opacity": 0.8,
         "orientation": "v",
         "type": "histogram",
         "x": [
          0.08585353006516305,
          -0.7652436652770636,
          -1.560799863236166,
          0.854928611529446,
          1.5294104037358258,
          0.7802959777606984,
          1.1092660375040786,
          -1.2997181168756695,
          -0.2501396717599244,
          1.1672653683073624,
          0.2657593084709434,
          1.8067828968864428,
          2.908460836515882,
          0.2257063168775166,
          -0.3943778128855632,
          1.4865989885509223,
          -0.419053119941921,
          0.44213002504736104,
          -0.8765347571627182,
          0.7631550538754935,
          0.7313001692354236,
          -1.0848126581308521,
          -0.5011764356270655,
          2.615349826248938,
          -0.8267702619275237,
          -0.5289210111072653,
          1.3128095271060611,
          -0.6975326835999035,
          -2.0177953107320556,
          -0.9545140586667944,
          -1.2781018895409393,
          1.772525799618574,
          -0.270952170350105,
          -1.0259308609936295,
          -0.8200550048236666,
          0.5804852648112692,
          -0.09088463880203278,
          0.6374103190401424,
          2.0817045409484805,
          -0.5332820753894929,
          0.7065147478521874,
          0.1892745845799814,
          -1.2746433493418645,
          0.8779534537612734,
          0.5730668677347721,
          0.2719515023616077,
          -2.042453178577107,
          0.09760892427219381,
          0.6327008342432406,
          1.1287005425410521,
          1.3913044302720308,
          -0.5069090531869064,
          0.669878472883447,
          0.5221818133872991,
          -0.4496145272881422,
          -1.1840356351224515,
          -1.4220007648795254,
          0.8360266708830294,
          0.8913948071631754,
          0.9224107560138586,
          2.7530407202962603,
          1.438217420240023,
          -0.778441889649213,
          0.023935454828543142,
          -1.6850521077202243,
          0.27334839638225666,
          0.28254467216477613,
          -0.8706248368005733,
          1.9480382430405512,
          0.15650044446126365,
          1.063511636852657,
          0.3615248823338626,
          0.6274131303035508,
          1.2697867007397823,
          -0.28884869074427993,
          -0.8917344572713624,
          -0.9016784589646977,
          -0.010188903097623743,
          -1.4282164380032398,
          0.7143102611827443,
          -0.7029927020280965,
          1.2519290706979243,
          0.3714371833846144,
          -0.22736512435993828,
          0.4504921171578333,
          1.6955931253260765,
          0.15955568966672862,
          -1.5718305019534387,
          1.12036549343057,
          0.6992989938926815,
          -0.8095249209852535,
          -0.7252921710467097,
          0.3321356478041808,
          0.8755392562950008,
          -1.124210575231865,
          -0.5979379435472303,
          -1.3604643669204346,
          0.6374742546791262,
          -1.7711220550881799,
          0.569197677960444
         ],
         "xaxis": "x6",
         "yaxis": "y6"
        },
        {
         "line": {
          "color": "rgba(128, 128, 128, 1.0)",
          "dash": "solid",
          "shape": "linear",
          "width": 1.3
         },
         "marker": {
          "size": 2,
          "symbol": "circle"
         },
         "mode": "markers",
         "name": "B",
         "text": "",
         "type": "scatter",
         "x": [
          -0.5537379212190897,
          -0.8724233052694854,
          -0.4543058134976074,
          -0.11014863679154555,
          0.14613296956043798,
          -0.07972816596592253,
          0.23071816361939446,
          -0.46840908859725044,
          0.18436213161850834,
          -0.014321693931055183,
          -0.026860748441306162,
          -0.27782290778010554,
          -0.7046569466338679,
          1.0879505516918127,
          -0.14522834640323015,
          -0.15948615687583165,
          1.1955460885919826,
          -0.23952068592326292,
          0.8726253512372968,
          0.07453419235280212,
          -1.8078878466901667,
          -0.6385244736830138,
          -1.410886899903527,
          0.5952664050592602,
          0.2886650222926791,
          0.11039222692095005,
          -0.3197007695368137,
          2.3655768820646585,
          2.2183351120585986,
          -0.8676594284342002,
          0.7306787469146706,
          -0.42963613672543155,
          -0.915272688592936,
          -0.07867636320966079,
          -0.9270634599251494,
          0.12701375209898594,
          0.7768472291937459,
          -0.5296385792732079,
          -0.8936976374236892,
          -0.4377805445168151,
          0.949334370124812,
          0.7570338091013735,
          1.6624731100208912,
          -1.5790316048566215,
          -0.44822211140406854,
          -1.6261963423182388,
          -0.9056842189081151,
          1.4739822729626488,
          -0.6571973195657878,
          1.3625496020340948,
          1.6574237010904567,
          -0.17749977787464458,
          0.9075120615486731,
          1.0256075023267957,
          0.16592539270409867,
          -0.1855059373230086,
          0.9471382851852113,
          1.1930319801477383,
          0.43295005260247615,
          1.0996560077129431,
          0.6175810332370919,
          -0.1428410083099575,
          0.05301951224767886,
          -0.6507871628506191,
          1.1365386389173497,
          0.2889509725144247,
          -0.6460371173716895,
          -1.593962248440813,
          -1.146556415184358,
          -1.4590413297512774,
          0.3026670183455334,
          1.2966634986461367,
          0.5173549255270803,
          -0.0632510475536566,
          0.3990092802832907,
          -1.9951236100521847,
          1.3744300460745864,
          1.6155001221221712,
          0.5063360072351307,
          -2.6977473302984154,
          0.13553992385555955,
          0.23996422729562236,
          1.093910238408881,
          1.0970779058678999,
          -1.0214634318767166,
          -0.9099269078622486,
          0.2313839712322445,
          1.380306830071051,
          -0.12695330769444957,
          -0.3000244148642409,
          1.906165655894951,
          -2.713127925355512,
          -0.5147146933258838,
          -0.03379601581274362,
          1.0304962528228427,
          -0.6896832717756195,
          0.46056227260729415,
          0.515696867981505,
          -0.4177010269870619,
          -0.37409452757803896
         ],
         "xaxis": "x7",
         "y": [
          0.08585353006516305,
          -0.7652436652770636,
          -1.560799863236166,
          0.854928611529446,
          1.5294104037358258,
          0.7802959777606984,
          1.1092660375040786,
          -1.2997181168756695,
          -0.2501396717599244,
          1.1672653683073624,
          0.2657593084709434,
          1.8067828968864428,
          2.908460836515882,
          0.2257063168775166,
          -0.3943778128855632,
          1.4865989885509223,
          -0.419053119941921,
          0.44213002504736104,
          -0.8765347571627182,
          0.7631550538754935,
          0.7313001692354236,
          -1.0848126581308521,
          -0.5011764356270655,
          2.615349826248938,
          -0.8267702619275237,
          -0.5289210111072653,
          1.3128095271060611,
          -0.6975326835999035,
          -2.0177953107320556,
          -0.9545140586667944,
          -1.2781018895409393,
          1.772525799618574,
          -0.270952170350105,
          -1.0259308609936295,
          -0.8200550048236666,
          0.5804852648112692,
          -0.09088463880203278,
          0.6374103190401424,
          2.0817045409484805,
          -0.5332820753894929,
          0.7065147478521874,
          0.1892745845799814,
          -1.2746433493418645,
          0.8779534537612734,
          0.5730668677347721,
          0.2719515023616077,
          -2.042453178577107,
          0.09760892427219381,
          0.6327008342432406,
          1.1287005425410521,
          1.3913044302720308,
          -0.5069090531869064,
          0.669878472883447,
          0.5221818133872991,
          -0.4496145272881422,
          -1.1840356351224515,
          -1.4220007648795254,
          0.8360266708830294,
          0.8913948071631754,
          0.9224107560138586,
          2.7530407202962603,
          1.438217420240023,
          -0.778441889649213,
          0.023935454828543142,
          -1.6850521077202243,
          0.27334839638225666,
          0.28254467216477613,
          -0.8706248368005733,
          1.9480382430405512,
          0.15650044446126365,
          1.063511636852657,
          0.3615248823338626,
          0.6274131303035508,
          1.2697867007397823,
          -0.28884869074427993,
          -0.8917344572713624,
          -0.9016784589646977,
          -0.010188903097623743,
          -1.4282164380032398,
          0.7143102611827443,
          -0.7029927020280965,
          1.2519290706979243,
          0.3714371833846144,
          -0.22736512435993828,
          0.4504921171578333,
          1.6955931253260765,
          0.15955568966672862,
          -1.5718305019534387,
          1.12036549343057,
          0.6992989938926815,
          -0.8095249209852535,
          -0.7252921710467097,
          0.3321356478041808,
          0.8755392562950008,
          -1.124210575231865,
          -0.5979379435472303,
          -1.3604643669204346,
          0.6374742546791262,
          -1.7711220550881799,
          0.569197677960444
         ],
         "yaxis": "y7"
        },
        {
         "line": {
          "color": "rgba(128, 128, 128, 1.0)",
          "dash": "solid",
          "shape": "linear",
          "width": 1.3
         },
         "marker": {
          "size": 2,
          "symbol": "circle"
         },
         "mode": "markers",
         "name": "B",
         "text": "",
         "type": "scatter",
         "x": [
          1.5842791108277439,
          1.9392303036214489,
          0.6177777428271791,
          -1.8121307158913724,
          -0.3478388077547154,
          0.764501329342132,
          -0.8498630339078125,
          -1.2757866710949821,
          -0.39672634945812846,
          -0.18400398821812025,
          0.02238367836008293,
          0.6037245239520784,
          1.074122824800881,
          0.5221152359810379,
          1.3141904082003788,
          1.6263719726119574,
          0.2098046320866795,
          -0.515314340981756,
          0.6591772152742821,
          -0.10319904393445216,
          -1.0275911617031368,
          -1.040812400145377,
          -1.33717396085918,
          0.7034028417819237,
          -0.6354677291496945,
          -1.756126740395263,
          -0.4683718749826806,
          -0.09119189910221012,
          -0.28181623366681957,
          -0.5040139618350105,
          0.765799998231126,
          -0.9121086046624316,
          -0.2434741473613454,
          0.10909321518599782,
          -1.0614589305554516,
          0.05583961261659571,
          -0.11339955427679063,
          -0.23693665824523838,
          0.8305459163917228,
          -0.8834788689149975,
          0.5824207321113793,
          0.5247674593843477,
          1.0652507124048907,
          0.2948395667837005,
          0.9611778573067953,
          -1.51007086093071,
          -0.1755219613287985,
          -0.19160948506838746,
          -1.1129302234342129,
          -0.53315881337324,
          -0.4631060873723058,
          -0.005449116729710715,
          0.550036258139161,
          1.4345973755214232,
          0.24377148610051458,
          -1.814551011894297,
          -0.4314479546649242,
          -1.2808504760168282,
          -1.085772356895492,
          0.15716263203964206,
          1.1007096069297018,
          -0.6107970611136976,
          0.09665096619158409,
          -0.8526903668560195,
          -1.3487242239250592,
          -2.3590648342025893,
          0.8992190475722818,
          0.45260360125003485,
          -0.35511067930069296,
          0.014636073273193839,
          -0.30196743632525536,
          -0.3997586862708823,
          -1.6961766657373825,
          2.1936046812317134,
          -0.0021114666079433664,
          -1.3061912957548663,
          -0.3917026007185684,
          0.03583860770544733,
          0.3874777237537701,
          -1.8392345205990421,
          0.7554916700328876,
          0.9688391568214227,
          -0.1012405112232658,
          2.3274293386023164,
          0.8314788066309082,
          0.4366381524548407,
          2.1782212890983534,
          -0.4766125984974227,
          -0.03431037062216538,
          -1.0113084943758948,
          -1.6138146605719532,
          0.6076397596794696,
          -0.4491837282050882,
          -0.25933883152910764,
          -0.32794420472944924,
          -0.015607513578014976,
          0.5327810669308646,
          0.9171765911653947,
          -0.04806466526877816,
          -0.6059465457848144
         ],
         "xaxis": "x8",
         "y": [
          0.08585353006516305,
          -0.7652436652770636,
          -1.560799863236166,
          0.854928611529446,
          1.5294104037358258,
          0.7802959777606984,
          1.1092660375040786,
          -1.2997181168756695,
          -0.2501396717599244,
          1.1672653683073624,
          0.2657593084709434,
          1.8067828968864428,
          2.908460836515882,
          0.2257063168775166,
          -0.3943778128855632,
          1.4865989885509223,
          -0.419053119941921,
          0.44213002504736104,
          -0.8765347571627182,
          0.7631550538754935,
          0.7313001692354236,
          -1.0848126581308521,
          -0.5011764356270655,
          2.615349826248938,
          -0.8267702619275237,
          -0.5289210111072653,
          1.3128095271060611,
          -0.6975326835999035,
          -2.0177953107320556,
          -0.9545140586667944,
          -1.2781018895409393,
          1.772525799618574,
          -0.270952170350105,
          -1.0259308609936295,
          -0.8200550048236666,
          0.5804852648112692,
          -0.09088463880203278,
          0.6374103190401424,
          2.0817045409484805,
          -0.5332820753894929,
          0.7065147478521874,
          0.1892745845799814,
          -1.2746433493418645,
          0.8779534537612734,
          0.5730668677347721,
          0.2719515023616077,
          -2.042453178577107,
          0.09760892427219381,
          0.6327008342432406,
          1.1287005425410521,
          1.3913044302720308,
          -0.5069090531869064,
          0.669878472883447,
          0.5221818133872991,
          -0.4496145272881422,
          -1.1840356351224515,
          -1.4220007648795254,
          0.8360266708830294,
          0.8913948071631754,
          0.9224107560138586,
          2.7530407202962603,
          1.438217420240023,
          -0.778441889649213,
          0.023935454828543142,
          -1.6850521077202243,
          0.27334839638225666,
          0.28254467216477613,
          -0.8706248368005733,
          1.9480382430405512,
          0.15650044446126365,
          1.063511636852657,
          0.3615248823338626,
          0.6274131303035508,
          1.2697867007397823,
          -0.28884869074427993,
          -0.8917344572713624,
          -0.9016784589646977,
          -0.010188903097623743,
          -1.4282164380032398,
          0.7143102611827443,
          -0.7029927020280965,
          1.2519290706979243,
          0.3714371833846144,
          -0.22736512435993828,
          0.4504921171578333,
          1.6955931253260765,
          0.15955568966672862,
          -1.5718305019534387,
          1.12036549343057,
          0.6992989938926815,
          -0.8095249209852535,
          -0.7252921710467097,
          0.3321356478041808,
          0.8755392562950008,
          -1.124210575231865,
          -0.5979379435472303,
          -1.3604643669204346,
          0.6374742546791262,
          -1.7711220550881799,
          0.569197677960444
         ],
         "yaxis": "y8"
        },
        {
         "line": {
          "color": "rgba(128, 128, 128, 1.0)",
          "dash": "solid",
          "shape": "linear",
          "width": 1.3
         },
         "marker": {
          "size": 2,
          "symbol": "circle"
         },
         "mode": "markers",
         "name": "C",
         "text": "",
         "type": "scatter",
         "x": [
          -0.45631341899455446,
          0.4724584044203727,
          1.9406963290187815,
          1.3642048200066281,
          0.3888909674049345,
          -0.8155560132139653,
          0.1824994980346096,
          -0.6460157547769448,
          0.7726921125849633,
          -0.7574183434082375,
          0.5743341411046669,
          -1.122291005811296,
          0.39592557287173297,
          1.7658327891993622,
          0.03956382437720008,
          -1.1778154865134784,
          1.3612446505476976,
          0.4575543125475046,
          -0.6100736598999223,
          -0.16227885578643608,
          0.9074892985388556,
          -1.2212771553160078,
          -0.003212139726141614,
          1.78200159331685,
          0.3051643896263515,
          0.5975174164344041,
          -1.069764750030652,
          0.692191997574215,
          0.2696109540579809,
          -1.1542791753011188,
          -1.1385749479100127,
          -0.3699998786410983,
          -1.1344534996132034,
          0.672988103248493,
          2.072735424057368,
          -2.1147273254318355,
          0.36626961903539124,
          0.49402674018544357,
          0.5216867514899008,
          -0.5714109512067463,
          -0.6761590098251625,
          0.7042638386647735,
          0.11699659474769354,
          -0.1640626482877639,
          -0.6269163627570845,
          -0.4238401729522169,
          0.8249507519202229,
          -0.8400945963434742,
          0.7002288932568547,
          -0.23430066738503985,
          -0.2697623100425775,
          1.1296410882765562,
          -0.12089119108281095,
          0.6785647004075804,
          -0.33277254474307,
          1.2755116095541024,
          2.8144119696677983,
          -0.04169729623664178,
          -0.8263225957897392,
          0.5346425224779339,
          -0.1691615220796312,
          -0.028261136874453294,
          -0.9159867232468516,
          0.4262668787057552,
          0.46461136984729107,
          -1.6242310329688443,
          0.25510137484310935,
          -0.4956452247932434,
          0.9664158082185562,
          0.5335313997466851,
          -0.21034234832133342,
          0.7578100478233821,
          1.8107721743872651,
          -0.9391654021207035,
          0.9717304863534318,
          -1.0822307332369805,
          -1.6668502238440615,
          0.3531006055894467,
          -0.4476662332456711,
          -0.6878703293135146,
          0.44730597827608787,
          -2.319317841268029,
          0.08900212438510414,
          -0.4572559821356708,
          2.111367134794406,
          -0.934563080089709,
          0.5637618038523917,
          -0.2991455869065257,
          0.5153988151252,
          0.7878677402720858,
          0.7315317806795537,
          1.524796465918317,
          -0.7562970183873434,
          0.5426557390236036,
          0.5131735893370422,
          -1.1370342487815206,
          1.1363044523216463,
          0.03011016115863619,
          -0.1844988603454125,
          -1.0691517608483327
         ],
         "xaxis": "x9",
         "y": [
          -0.5537379212190897,
          -0.8724233052694854,
          -0.4543058134976074,
          -0.11014863679154555,
          0.14613296956043798,
          -0.07972816596592253,
          0.23071816361939446,
          -0.46840908859725044,
          0.18436213161850834,
          -0.014321693931055183,
          -0.026860748441306162,
          -0.27782290778010554,
          -0.7046569466338679,
          1.0879505516918127,
          -0.14522834640323015,
          -0.15948615687583165,
          1.1955460885919826,
          -0.23952068592326292,
          0.8726253512372968,
          0.07453419235280212,
          -1.8078878466901667,
          -0.6385244736830138,
          -1.410886899903527,
          0.5952664050592602,
          0.2886650222926791,
          0.11039222692095005,
          -0.3197007695368137,
          2.3655768820646585,
          2.2183351120585986,
          -0.8676594284342002,
          0.7306787469146706,
          -0.42963613672543155,
          -0.915272688592936,
          -0.07867636320966079,
          -0.9270634599251494,
          0.12701375209898594,
          0.7768472291937459,
          -0.5296385792732079,
          -0.8936976374236892,
          -0.4377805445168151,
          0.949334370124812,
          0.7570338091013735,
          1.6624731100208912,
          -1.5790316048566215,
          -0.44822211140406854,
          -1.6261963423182388,
          -0.9056842189081151,
          1.4739822729626488,
          -0.6571973195657878,
          1.3625496020340948,
          1.6574237010904567,
          -0.17749977787464458,
          0.9075120615486731,
          1.0256075023267957,
          0.16592539270409867,
          -0.1855059373230086,
          0.9471382851852113,
          1.1930319801477383,
          0.43295005260247615,
          1.0996560077129431,
          0.6175810332370919,
          -0.1428410083099575,
          0.05301951224767886,
          -0.6507871628506191,
          1.1365386389173497,
          0.2889509725144247,
          -0.6460371173716895,
          -1.593962248440813,
          -1.146556415184358,
          -1.4590413297512774,
          0.3026670183455334,
          1.2966634986461367,
          0.5173549255270803,
          -0.0632510475536566,
          0.3990092802832907,
          -1.9951236100521847,
          1.3744300460745864,
          1.6155001221221712,
          0.5063360072351307,
          -2.6977473302984154,
          0.13553992385555955,
          0.23996422729562236,
          1.093910238408881,
          1.0970779058678999,
          -1.0214634318767166,
          -0.9099269078622486,
          0.2313839712322445,
          1.380306830071051,
          -0.12695330769444957,
          -0.3000244148642409,
          1.906165655894951,
          -2.713127925355512,
          -0.5147146933258838,
          -0.03379601581274362,
          1.0304962528228427,
          -0.6896832717756195,
          0.46056227260729415,
          0.515696867981505,
          -0.4177010269870619,
          -0.37409452757803896
         ],
         "yaxis": "y9"
        },
        {
         "line": {
          "color": "rgba(128, 128, 128, 1.0)",
          "dash": "solid",
          "shape": "linear",
          "width": 1.3
         },
         "marker": {
          "size": 2,
          "symbol": "circle"
         },
         "mode": "markers",
         "name": "C",
         "text": "",
         "type": "scatter",
         "x": [
          0.08585353006516305,
          -0.7652436652770636,
          -1.560799863236166,
          0.854928611529446,
          1.5294104037358258,
          0.7802959777606984,
          1.1092660375040786,
          -1.2997181168756695,
          -0.2501396717599244,
          1.1672653683073624,
          0.2657593084709434,
          1.8067828968864428,
          2.908460836515882,
          0.2257063168775166,
          -0.3943778128855632,
          1.4865989885509223,
          -0.419053119941921,
          0.44213002504736104,
          -0.8765347571627182,
          0.7631550538754935,
          0.7313001692354236,
          -1.0848126581308521,
          -0.5011764356270655,
          2.615349826248938,
          -0.8267702619275237,
          -0.5289210111072653,
          1.3128095271060611,
          -0.6975326835999035,
          -2.0177953107320556,
          -0.9545140586667944,
          -1.2781018895409393,
          1.772525799618574,
          -0.270952170350105,
          -1.0259308609936295,
          -0.8200550048236666,
          0.5804852648112692,
          -0.09088463880203278,
          0.6374103190401424,
          2.0817045409484805,
          -0.5332820753894929,
          0.7065147478521874,
          0.1892745845799814,
          -1.2746433493418645,
          0.8779534537612734,
          0.5730668677347721,
          0.2719515023616077,
          -2.042453178577107,
          0.09760892427219381,
          0.6327008342432406,
          1.1287005425410521,
          1.3913044302720308,
          -0.5069090531869064,
          0.669878472883447,
          0.5221818133872991,
          -0.4496145272881422,
          -1.1840356351224515,
          -1.4220007648795254,
          0.8360266708830294,
          0.8913948071631754,
          0.9224107560138586,
          2.7530407202962603,
          1.438217420240023,
          -0.778441889649213,
          0.023935454828543142,
          -1.6850521077202243,
          0.27334839638225666,
          0.28254467216477613,
          -0.8706248368005733,
          1.9480382430405512,
          0.15650044446126365,
          1.063511636852657,
          0.3615248823338626,
          0.6274131303035508,
          1.2697867007397823,
          -0.28884869074427993,
          -0.8917344572713624,
          -0.9016784589646977,
          -0.010188903097623743,
          -1.4282164380032398,
          0.7143102611827443,
          -0.7029927020280965,
          1.2519290706979243,
          0.3714371833846144,
          -0.22736512435993828,
          0.4504921171578333,
          1.6955931253260765,
          0.15955568966672862,
          -1.5718305019534387,
          1.12036549343057,
          0.6992989938926815,
          -0.8095249209852535,
          -0.7252921710467097,
          0.3321356478041808,
          0.8755392562950008,
          -1.124210575231865,
          -0.5979379435472303,
          -1.3604643669204346,
          0.6374742546791262,
          -1.7711220550881799,
          0.569197677960444
         ],
         "xaxis": "x10",
         "y": [
          -0.5537379212190897,
          -0.8724233052694854,
          -0.4543058134976074,
          -0.11014863679154555,
          0.14613296956043798,
          -0.07972816596592253,
          0.23071816361939446,
          -0.46840908859725044,
          0.18436213161850834,
          -0.014321693931055183,
          -0.026860748441306162,
          -0.27782290778010554,
          -0.7046569466338679,
          1.0879505516918127,
          -0.14522834640323015,
          -0.15948615687583165,
          1.1955460885919826,
          -0.23952068592326292,
          0.8726253512372968,
          0.07453419235280212,
          -1.8078878466901667,
          -0.6385244736830138,
          -1.410886899903527,
          0.5952664050592602,
          0.2886650222926791,
          0.11039222692095005,
          -0.3197007695368137,
          2.3655768820646585,
          2.2183351120585986,
          -0.8676594284342002,
          0.7306787469146706,
          -0.42963613672543155,
          -0.915272688592936,
          -0.07867636320966079,
          -0.9270634599251494,
          0.12701375209898594,
          0.7768472291937459,
          -0.5296385792732079,
          -0.8936976374236892,
          -0.4377805445168151,
          0.949334370124812,
          0.7570338091013735,
          1.6624731100208912,
          -1.5790316048566215,
          -0.44822211140406854,
          -1.6261963423182388,
          -0.9056842189081151,
          1.4739822729626488,
          -0.6571973195657878,
          1.3625496020340948,
          1.6574237010904567,
          -0.17749977787464458,
          0.9075120615486731,
          1.0256075023267957,
          0.16592539270409867,
          -0.1855059373230086,
          0.9471382851852113,
          1.1930319801477383,
          0.43295005260247615,
          1.0996560077129431,
          0.6175810332370919,
          -0.1428410083099575,
          0.05301951224767886,
          -0.6507871628506191,
          1.1365386389173497,
          0.2889509725144247,
          -0.6460371173716895,
          -1.593962248440813,
          -1.146556415184358,
          -1.4590413297512774,
          0.3026670183455334,
          1.2966634986461367,
          0.5173549255270803,
          -0.0632510475536566,
          0.3990092802832907,
          -1.9951236100521847,
          1.3744300460745864,
          1.6155001221221712,
          0.5063360072351307,
          -2.6977473302984154,
          0.13553992385555955,
          0.23996422729562236,
          1.093910238408881,
          1.0970779058678999,
          -1.0214634318767166,
          -0.9099269078622486,
          0.2313839712322445,
          1.380306830071051,
          -0.12695330769444957,
          -0.3000244148642409,
          1.906165655894951,
          -2.713127925355512,
          -0.5147146933258838,
          -0.03379601581274362,
          1.0304962528228427,
          -0.6896832717756195,
          0.46056227260729415,
          0.515696867981505,
          -0.4177010269870619,
          -0.37409452757803896
         ],
         "yaxis": "y10"
        },
        {
         "histfunc": "count",
         "histnorm": "",
         "marker": {
          "color": "rgba(50, 171, 96, 1.0)",
          "line": {
           "color": "#4D5663",
           "width": 1.3
          }
         },
         "name": "C",
         "nbinsx": 10,
         "opacity": 0.8,
         "orientation": "v",
         "type": "histogram",
         "x": [
          -0.5537379212190897,
          -0.8724233052694854,
          -0.4543058134976074,
          -0.11014863679154555,
          0.14613296956043798,
          -0.07972816596592253,
          0.23071816361939446,
          -0.46840908859725044,
          0.18436213161850834,
          -0.014321693931055183,
          -0.026860748441306162,
          -0.27782290778010554,
          -0.7046569466338679,
          1.0879505516918127,
          -0.14522834640323015,
          -0.15948615687583165,
          1.1955460885919826,
          -0.23952068592326292,
          0.8726253512372968,
          0.07453419235280212,
          -1.8078878466901667,
          -0.6385244736830138,
          -1.410886899903527,
          0.5952664050592602,
          0.2886650222926791,
          0.11039222692095005,
          -0.3197007695368137,
          2.3655768820646585,
          2.2183351120585986,
          -0.8676594284342002,
          0.7306787469146706,
          -0.42963613672543155,
          -0.915272688592936,
          -0.07867636320966079,
          -0.9270634599251494,
          0.12701375209898594,
          0.7768472291937459,
          -0.5296385792732079,
          -0.8936976374236892,
          -0.4377805445168151,
          0.949334370124812,
          0.7570338091013735,
          1.6624731100208912,
          -1.5790316048566215,
          -0.44822211140406854,
          -1.6261963423182388,
          -0.9056842189081151,
          1.4739822729626488,
          -0.6571973195657878,
          1.3625496020340948,
          1.6574237010904567,
          -0.17749977787464458,
          0.9075120615486731,
          1.0256075023267957,
          0.16592539270409867,
          -0.1855059373230086,
          0.9471382851852113,
          1.1930319801477383,
          0.43295005260247615,
          1.0996560077129431,
          0.6175810332370919,
          -0.1428410083099575,
          0.05301951224767886,
          -0.6507871628506191,
          1.1365386389173497,
          0.2889509725144247,
          -0.6460371173716895,
          -1.593962248440813,
          -1.146556415184358,
          -1.4590413297512774,
          0.3026670183455334,
          1.2966634986461367,
          0.5173549255270803,
          -0.0632510475536566,
          0.3990092802832907,
          -1.9951236100521847,
          1.3744300460745864,
          1.6155001221221712,
          0.5063360072351307,
          -2.6977473302984154,
          0.13553992385555955,
          0.23996422729562236,
          1.093910238408881,
          1.0970779058678999,
          -1.0214634318767166,
          -0.9099269078622486,
          0.2313839712322445,
          1.380306830071051,
          -0.12695330769444957,
          -0.3000244148642409,
          1.906165655894951,
          -2.713127925355512,
          -0.5147146933258838,
          -0.03379601581274362,
          1.0304962528228427,
          -0.6896832717756195,
          0.46056227260729415,
          0.515696867981505,
          -0.4177010269870619,
          -0.37409452757803896
         ],
         "xaxis": "x11",
         "yaxis": "y11"
        },
        {
         "line": {
          "color": "rgba(128, 128, 128, 1.0)",
          "dash": "solid",
          "shape": "linear",
          "width": 1.3
         },
         "marker": {
          "size": 2,
          "symbol": "circle"
         },
         "mode": "markers",
         "name": "C",
         "text": "",
         "type": "scatter",
         "x": [
          1.5842791108277439,
          1.9392303036214489,
          0.6177777428271791,
          -1.8121307158913724,
          -0.3478388077547154,
          0.764501329342132,
          -0.8498630339078125,
          -1.2757866710949821,
          -0.39672634945812846,
          -0.18400398821812025,
          0.02238367836008293,
          0.6037245239520784,
          1.074122824800881,
          0.5221152359810379,
          1.3141904082003788,
          1.6263719726119574,
          0.2098046320866795,
          -0.515314340981756,
          0.6591772152742821,
          -0.10319904393445216,
          -1.0275911617031368,
          -1.040812400145377,
          -1.33717396085918,
          0.7034028417819237,
          -0.6354677291496945,
          -1.756126740395263,
          -0.4683718749826806,
          -0.09119189910221012,
          -0.28181623366681957,
          -0.5040139618350105,
          0.765799998231126,
          -0.9121086046624316,
          -0.2434741473613454,
          0.10909321518599782,
          -1.0614589305554516,
          0.05583961261659571,
          -0.11339955427679063,
          -0.23693665824523838,
          0.8305459163917228,
          -0.8834788689149975,
          0.5824207321113793,
          0.5247674593843477,
          1.0652507124048907,
          0.2948395667837005,
          0.9611778573067953,
          -1.51007086093071,
          -0.1755219613287985,
          -0.19160948506838746,
          -1.1129302234342129,
          -0.53315881337324,
          -0.4631060873723058,
          -0.005449116729710715,
          0.550036258139161,
          1.4345973755214232,
          0.24377148610051458,
          -1.814551011894297,
          -0.4314479546649242,
          -1.2808504760168282,
          -1.085772356895492,
          0.15716263203964206,
          1.1007096069297018,
          -0.6107970611136976,
          0.09665096619158409,
          -0.8526903668560195,
          -1.3487242239250592,
          -2.3590648342025893,
          0.8992190475722818,
          0.45260360125003485,
          -0.35511067930069296,
          0.014636073273193839,
          -0.30196743632525536,
          -0.3997586862708823,
          -1.6961766657373825,
          2.1936046812317134,
          -0.0021114666079433664,
          -1.3061912957548663,
          -0.3917026007185684,
          0.03583860770544733,
          0.3874777237537701,
          -1.8392345205990421,
          0.7554916700328876,
          0.9688391568214227,
          -0.1012405112232658,
          2.3274293386023164,
          0.8314788066309082,
          0.4366381524548407,
          2.1782212890983534,
          -0.4766125984974227,
          -0.03431037062216538,
          -1.0113084943758948,
          -1.6138146605719532,
          0.6076397596794696,
          -0.4491837282050882,
          -0.25933883152910764,
          -0.32794420472944924,
          -0.015607513578014976,
          0.5327810669308646,
          0.9171765911653947,
          -0.04806466526877816,
          -0.6059465457848144
         ],
         "xaxis": "x12",
         "y": [
          -0.5537379212190897,
          -0.8724233052694854,
          -0.4543058134976074,
          -0.11014863679154555,
          0.14613296956043798,
          -0.07972816596592253,
          0.23071816361939446,
          -0.46840908859725044,
          0.18436213161850834,
          -0.014321693931055183,
          -0.026860748441306162,
          -0.27782290778010554,
          -0.7046569466338679,
          1.0879505516918127,
          -0.14522834640323015,
          -0.15948615687583165,
          1.1955460885919826,
          -0.23952068592326292,
          0.8726253512372968,
          0.07453419235280212,
          -1.8078878466901667,
          -0.6385244736830138,
          -1.410886899903527,
          0.5952664050592602,
          0.2886650222926791,
          0.11039222692095005,
          -0.3197007695368137,
          2.3655768820646585,
          2.2183351120585986,
          -0.8676594284342002,
          0.7306787469146706,
          -0.42963613672543155,
          -0.915272688592936,
          -0.07867636320966079,
          -0.9270634599251494,
          0.12701375209898594,
          0.7768472291937459,
          -0.5296385792732079,
          -0.8936976374236892,
          -0.4377805445168151,
          0.949334370124812,
          0.7570338091013735,
          1.6624731100208912,
          -1.5790316048566215,
          -0.44822211140406854,
          -1.6261963423182388,
          -0.9056842189081151,
          1.4739822729626488,
          -0.6571973195657878,
          1.3625496020340948,
          1.6574237010904567,
          -0.17749977787464458,
          0.9075120615486731,
          1.0256075023267957,
          0.16592539270409867,
          -0.1855059373230086,
          0.9471382851852113,
          1.1930319801477383,
          0.43295005260247615,
          1.0996560077129431,
          0.6175810332370919,
          -0.1428410083099575,
          0.05301951224767886,
          -0.6507871628506191,
          1.1365386389173497,
          0.2889509725144247,
          -0.6460371173716895,
          -1.593962248440813,
          -1.146556415184358,
          -1.4590413297512774,
          0.3026670183455334,
          1.2966634986461367,
          0.5173549255270803,
          -0.0632510475536566,
          0.3990092802832907,
          -1.9951236100521847,
          1.3744300460745864,
          1.6155001221221712,
          0.5063360072351307,
          -2.6977473302984154,
          0.13553992385555955,
          0.23996422729562236,
          1.093910238408881,
          1.0970779058678999,
          -1.0214634318767166,
          -0.9099269078622486,
          0.2313839712322445,
          1.380306830071051,
          -0.12695330769444957,
          -0.3000244148642409,
          1.906165655894951,
          -2.713127925355512,
          -0.5147146933258838,
          -0.03379601581274362,
          1.0304962528228427,
          -0.6896832717756195,
          0.46056227260729415,
          0.515696867981505,
          -0.4177010269870619,
          -0.37409452757803896
         ],
         "yaxis": "y12"
        },
        {
         "line": {
          "color": "rgba(128, 128, 128, 1.0)",
          "dash": "solid",
          "shape": "linear",
          "width": 1.3
         },
         "marker": {
          "size": 2,
          "symbol": "circle"
         },
         "mode": "markers",
         "name": "D",
         "text": "",
         "type": "scatter",
         "x": [
          -0.45631341899455446,
          0.4724584044203727,
          1.9406963290187815,
          1.3642048200066281,
          0.3888909674049345,
          -0.8155560132139653,
          0.1824994980346096,
          -0.6460157547769448,
          0.7726921125849633,
          -0.7574183434082375,
          0.5743341411046669,
          -1.122291005811296,
          0.39592557287173297,
          1.7658327891993622,
          0.03956382437720008,
          -1.1778154865134784,
          1.3612446505476976,
          0.4575543125475046,
          -0.6100736598999223,
          -0.16227885578643608,
          0.9074892985388556,
          -1.2212771553160078,
          -0.003212139726141614,
          1.78200159331685,
          0.3051643896263515,
          0.5975174164344041,
          -1.069764750030652,
          0.692191997574215,
          0.2696109540579809,
          -1.1542791753011188,
          -1.1385749479100127,
          -0.3699998786410983,
          -1.1344534996132034,
          0.672988103248493,
          2.072735424057368,
          -2.1147273254318355,
          0.36626961903539124,
          0.49402674018544357,
          0.5216867514899008,
          -0.5714109512067463,
          -0.6761590098251625,
          0.7042638386647735,
          0.11699659474769354,
          -0.1640626482877639,
          -0.6269163627570845,
          -0.4238401729522169,
          0.8249507519202229,
          -0.8400945963434742,
          0.7002288932568547,
          -0.23430066738503985,
          -0.2697623100425775,
          1.1296410882765562,
          -0.12089119108281095,
          0.6785647004075804,
          -0.33277254474307,
          1.2755116095541024,
          2.8144119696677983,
          -0.04169729623664178,
          -0.8263225957897392,
          0.5346425224779339,
          -0.1691615220796312,
          -0.028261136874453294,
          -0.9159867232468516,
          0.4262668787057552,
          0.46461136984729107,
          -1.6242310329688443,
          0.25510137484310935,
          -0.4956452247932434,
          0.9664158082185562,
          0.5335313997466851,
          -0.21034234832133342,
          0.7578100478233821,
          1.8107721743872651,
          -0.9391654021207035,
          0.9717304863534318,
          -1.0822307332369805,
          -1.6668502238440615,
          0.3531006055894467,
          -0.4476662332456711,
          -0.6878703293135146,
          0.44730597827608787,
          -2.319317841268029,
          0.08900212438510414,
          -0.4572559821356708,
          2.111367134794406,
          -0.934563080089709,
          0.5637618038523917,
          -0.2991455869065257,
          0.5153988151252,
          0.7878677402720858,
          0.7315317806795537,
          1.524796465918317,
          -0.7562970183873434,
          0.5426557390236036,
          0.5131735893370422,
          -1.1370342487815206,
          1.1363044523216463,
          0.03011016115863619,
          -0.1844988603454125,
          -1.0691517608483327
         ],
         "xaxis": "x13",
         "y": [
          1.5842791108277439,
          1.9392303036214489,
          0.6177777428271791,
          -1.8121307158913724,
          -0.3478388077547154,
          0.764501329342132,
          -0.8498630339078125,
          -1.2757866710949821,
          -0.39672634945812846,
          -0.18400398821812025,
          0.02238367836008293,
          0.6037245239520784,
          1.074122824800881,
          0.5221152359810379,
          1.3141904082003788,
          1.6263719726119574,
          0.2098046320866795,
          -0.515314340981756,
          0.6591772152742821,
          -0.10319904393445216,
          -1.0275911617031368,
          -1.040812400145377,
          -1.33717396085918,
          0.7034028417819237,
          -0.6354677291496945,
          -1.756126740395263,
          -0.4683718749826806,
          -0.09119189910221012,
          -0.28181623366681957,
          -0.5040139618350105,
          0.765799998231126,
          -0.9121086046624316,
          -0.2434741473613454,
          0.10909321518599782,
          -1.0614589305554516,
          0.05583961261659571,
          -0.11339955427679063,
          -0.23693665824523838,
          0.8305459163917228,
          -0.8834788689149975,
          0.5824207321113793,
          0.5247674593843477,
          1.0652507124048907,
          0.2948395667837005,
          0.9611778573067953,
          -1.51007086093071,
          -0.1755219613287985,
          -0.19160948506838746,
          -1.1129302234342129,
          -0.53315881337324,
          -0.4631060873723058,
          -0.005449116729710715,
          0.550036258139161,
          1.4345973755214232,
          0.24377148610051458,
          -1.814551011894297,
          -0.4314479546649242,
          -1.2808504760168282,
          -1.085772356895492,
          0.15716263203964206,
          1.1007096069297018,
          -0.6107970611136976,
          0.09665096619158409,
          -0.8526903668560195,
          -1.3487242239250592,
          -2.3590648342025893,
          0.8992190475722818,
          0.45260360125003485,
          -0.35511067930069296,
          0.014636073273193839,
          -0.30196743632525536,
          -0.3997586862708823,
          -1.6961766657373825,
          2.1936046812317134,
          -0.0021114666079433664,
          -1.3061912957548663,
          -0.3917026007185684,
          0.03583860770544733,
          0.3874777237537701,
          -1.8392345205990421,
          0.7554916700328876,
          0.9688391568214227,
          -0.1012405112232658,
          2.3274293386023164,
          0.8314788066309082,
          0.4366381524548407,
          2.1782212890983534,
          -0.4766125984974227,
          -0.03431037062216538,
          -1.0113084943758948,
          -1.6138146605719532,
          0.6076397596794696,
          -0.4491837282050882,
          -0.25933883152910764,
          -0.32794420472944924,
          -0.015607513578014976,
          0.5327810669308646,
          0.9171765911653947,
          -0.04806466526877816,
          -0.6059465457848144
         ],
         "yaxis": "y13"
        },
        {
         "line": {
          "color": "rgba(128, 128, 128, 1.0)",
          "dash": "solid",
          "shape": "linear",
          "width": 1.3
         },
         "marker": {
          "size": 2,
          "symbol": "circle"
         },
         "mode": "markers",
         "name": "D",
         "text": "",
         "type": "scatter",
         "x": [
          0.08585353006516305,
          -0.7652436652770636,
          -1.560799863236166,
          0.854928611529446,
          1.5294104037358258,
          0.7802959777606984,
          1.1092660375040786,
          -1.2997181168756695,
          -0.2501396717599244,
          1.1672653683073624,
          0.2657593084709434,
          1.8067828968864428,
          2.908460836515882,
          0.2257063168775166,
          -0.3943778128855632,
          1.4865989885509223,
          -0.419053119941921,
          0.44213002504736104,
          -0.8765347571627182,
          0.7631550538754935,
          0.7313001692354236,
          -1.0848126581308521,
          -0.5011764356270655,
          2.615349826248938,
          -0.8267702619275237,
          -0.5289210111072653,
          1.3128095271060611,
          -0.6975326835999035,
          -2.0177953107320556,
          -0.9545140586667944,
          -1.2781018895409393,
          1.772525799618574,
          -0.270952170350105,
          -1.0259308609936295,
          -0.8200550048236666,
          0.5804852648112692,
          -0.09088463880203278,
          0.6374103190401424,
          2.0817045409484805,
          -0.5332820753894929,
          0.7065147478521874,
          0.1892745845799814,
          -1.2746433493418645,
          0.8779534537612734,
          0.5730668677347721,
          0.2719515023616077,
          -2.042453178577107,
          0.09760892427219381,
          0.6327008342432406,
          1.1287005425410521,
          1.3913044302720308,
          -0.5069090531869064,
          0.669878472883447,
          0.5221818133872991,
          -0.4496145272881422,
          -1.1840356351224515,
          -1.4220007648795254,
          0.8360266708830294,
          0.8913948071631754,
          0.9224107560138586,
          2.7530407202962603,
          1.438217420240023,
          -0.778441889649213,
          0.023935454828543142,
          -1.6850521077202243,
          0.27334839638225666,
          0.28254467216477613,
          -0.8706248368005733,
          1.9480382430405512,
          0.15650044446126365,
          1.063511636852657,
          0.3615248823338626,
          0.6274131303035508,
          1.2697867007397823,
          -0.28884869074427993,
          -0.8917344572713624,
          -0.9016784589646977,
          -0.010188903097623743,
          -1.4282164380032398,
          0.7143102611827443,
          -0.7029927020280965,
          1.2519290706979243,
          0.3714371833846144,
          -0.22736512435993828,
          0.4504921171578333,
          1.6955931253260765,
          0.15955568966672862,
          -1.5718305019534387,
          1.12036549343057,
          0.6992989938926815,
          -0.8095249209852535,
          -0.7252921710467097,
          0.3321356478041808,
          0.8755392562950008,
          -1.124210575231865,
          -0.5979379435472303,
          -1.3604643669204346,
          0.6374742546791262,
          -1.7711220550881799,
          0.569197677960444
         ],
         "xaxis": "x14",
         "y": [
          1.5842791108277439,
          1.9392303036214489,
          0.6177777428271791,
          -1.8121307158913724,
          -0.3478388077547154,
          0.764501329342132,
          -0.8498630339078125,
          -1.2757866710949821,
          -0.39672634945812846,
          -0.18400398821812025,
          0.02238367836008293,
          0.6037245239520784,
          1.074122824800881,
          0.5221152359810379,
          1.3141904082003788,
          1.6263719726119574,
          0.2098046320866795,
          -0.515314340981756,
          0.6591772152742821,
          -0.10319904393445216,
          -1.0275911617031368,
          -1.040812400145377,
          -1.33717396085918,
          0.7034028417819237,
          -0.6354677291496945,
          -1.756126740395263,
          -0.4683718749826806,
          -0.09119189910221012,
          -0.28181623366681957,
          -0.5040139618350105,
          0.765799998231126,
          -0.9121086046624316,
          -0.2434741473613454,
          0.10909321518599782,
          -1.0614589305554516,
          0.05583961261659571,
          -0.11339955427679063,
          -0.23693665824523838,
          0.8305459163917228,
          -0.8834788689149975,
          0.5824207321113793,
          0.5247674593843477,
          1.0652507124048907,
          0.2948395667837005,
          0.9611778573067953,
          -1.51007086093071,
          -0.1755219613287985,
          -0.19160948506838746,
          -1.1129302234342129,
          -0.53315881337324,
          -0.4631060873723058,
          -0.005449116729710715,
          0.550036258139161,
          1.4345973755214232,
          0.24377148610051458,
          -1.814551011894297,
          -0.4314479546649242,
          -1.2808504760168282,
          -1.085772356895492,
          0.15716263203964206,
          1.1007096069297018,
          -0.6107970611136976,
          0.09665096619158409,
          -0.8526903668560195,
          -1.3487242239250592,
          -2.3590648342025893,
          0.8992190475722818,
          0.45260360125003485,
          -0.35511067930069296,
          0.014636073273193839,
          -0.30196743632525536,
          -0.3997586862708823,
          -1.6961766657373825,
          2.1936046812317134,
          -0.0021114666079433664,
          -1.3061912957548663,
          -0.3917026007185684,
          0.03583860770544733,
          0.3874777237537701,
          -1.8392345205990421,
          0.7554916700328876,
          0.9688391568214227,
          -0.1012405112232658,
          2.3274293386023164,
          0.8314788066309082,
          0.4366381524548407,
          2.1782212890983534,
          -0.4766125984974227,
          -0.03431037062216538,
          -1.0113084943758948,
          -1.6138146605719532,
          0.6076397596794696,
          -0.4491837282050882,
          -0.25933883152910764,
          -0.32794420472944924,
          -0.015607513578014976,
          0.5327810669308646,
          0.9171765911653947,
          -0.04806466526877816,
          -0.6059465457848144
         ],
         "yaxis": "y14"
        },
        {
         "line": {
          "color": "rgba(128, 128, 128, 1.0)",
          "dash": "solid",
          "shape": "linear",
          "width": 1.3
         },
         "marker": {
          "size": 2,
          "symbol": "circle"
         },
         "mode": "markers",
         "name": "D",
         "text": "",
         "type": "scatter",
         "x": [
          -0.5537379212190897,
          -0.8724233052694854,
          -0.4543058134976074,
          -0.11014863679154555,
          0.14613296956043798,
          -0.07972816596592253,
          0.23071816361939446,
          -0.46840908859725044,
          0.18436213161850834,
          -0.014321693931055183,
          -0.026860748441306162,
          -0.27782290778010554,
          -0.7046569466338679,
          1.0879505516918127,
          -0.14522834640323015,
          -0.15948615687583165,
          1.1955460885919826,
          -0.23952068592326292,
          0.8726253512372968,
          0.07453419235280212,
          -1.8078878466901667,
          -0.6385244736830138,
          -1.410886899903527,
          0.5952664050592602,
          0.2886650222926791,
          0.11039222692095005,
          -0.3197007695368137,
          2.3655768820646585,
          2.2183351120585986,
          -0.8676594284342002,
          0.7306787469146706,
          -0.42963613672543155,
          -0.915272688592936,
          -0.07867636320966079,
          -0.9270634599251494,
          0.12701375209898594,
          0.7768472291937459,
          -0.5296385792732079,
          -0.8936976374236892,
          -0.4377805445168151,
          0.949334370124812,
          0.7570338091013735,
          1.6624731100208912,
          -1.5790316048566215,
          -0.44822211140406854,
          -1.6261963423182388,
          -0.9056842189081151,
          1.4739822729626488,
          -0.6571973195657878,
          1.3625496020340948,
          1.6574237010904567,
          -0.17749977787464458,
          0.9075120615486731,
          1.0256075023267957,
          0.16592539270409867,
          -0.1855059373230086,
          0.9471382851852113,
          1.1930319801477383,
          0.43295005260247615,
          1.0996560077129431,
          0.6175810332370919,
          -0.1428410083099575,
          0.05301951224767886,
          -0.6507871628506191,
          1.1365386389173497,
          0.2889509725144247,
          -0.6460371173716895,
          -1.593962248440813,
          -1.146556415184358,
          -1.4590413297512774,
          0.3026670183455334,
          1.2966634986461367,
          0.5173549255270803,
          -0.0632510475536566,
          0.3990092802832907,
          -1.9951236100521847,
          1.3744300460745864,
          1.6155001221221712,
          0.5063360072351307,
          -2.6977473302984154,
          0.13553992385555955,
          0.23996422729562236,
          1.093910238408881,
          1.0970779058678999,
          -1.0214634318767166,
          -0.9099269078622486,
          0.2313839712322445,
          1.380306830071051,
          -0.12695330769444957,
          -0.3000244148642409,
          1.906165655894951,
          -2.713127925355512,
          -0.5147146933258838,
          -0.03379601581274362,
          1.0304962528228427,
          -0.6896832717756195,
          0.46056227260729415,
          0.515696867981505,
          -0.4177010269870619,
          -0.37409452757803896
         ],
         "xaxis": "x15",
         "y": [
          1.5842791108277439,
          1.9392303036214489,
          0.6177777428271791,
          -1.8121307158913724,
          -0.3478388077547154,
          0.764501329342132,
          -0.8498630339078125,
          -1.2757866710949821,
          -0.39672634945812846,
          -0.18400398821812025,
          0.02238367836008293,
          0.6037245239520784,
          1.074122824800881,
          0.5221152359810379,
          1.3141904082003788,
          1.6263719726119574,
          0.2098046320866795,
          -0.515314340981756,
          0.6591772152742821,
          -0.10319904393445216,
          -1.0275911617031368,
          -1.040812400145377,
          -1.33717396085918,
          0.7034028417819237,
          -0.6354677291496945,
          -1.756126740395263,
          -0.4683718749826806,
          -0.09119189910221012,
          -0.28181623366681957,
          -0.5040139618350105,
          0.765799998231126,
          -0.9121086046624316,
          -0.2434741473613454,
          0.10909321518599782,
          -1.0614589305554516,
          0.05583961261659571,
          -0.11339955427679063,
          -0.23693665824523838,
          0.8305459163917228,
          -0.8834788689149975,
          0.5824207321113793,
          0.5247674593843477,
          1.0652507124048907,
          0.2948395667837005,
          0.9611778573067953,
          -1.51007086093071,
          -0.1755219613287985,
          -0.19160948506838746,
          -1.1129302234342129,
          -0.53315881337324,
          -0.4631060873723058,
          -0.005449116729710715,
          0.550036258139161,
          1.4345973755214232,
          0.24377148610051458,
          -1.814551011894297,
          -0.4314479546649242,
          -1.2808504760168282,
          -1.085772356895492,
          0.15716263203964206,
          1.1007096069297018,
          -0.6107970611136976,
          0.09665096619158409,
          -0.8526903668560195,
          -1.3487242239250592,
          -2.3590648342025893,
          0.8992190475722818,
          0.45260360125003485,
          -0.35511067930069296,
          0.014636073273193839,
          -0.30196743632525536,
          -0.3997586862708823,
          -1.6961766657373825,
          2.1936046812317134,
          -0.0021114666079433664,
          -1.3061912957548663,
          -0.3917026007185684,
          0.03583860770544733,
          0.3874777237537701,
          -1.8392345205990421,
          0.7554916700328876,
          0.9688391568214227,
          -0.1012405112232658,
          2.3274293386023164,
          0.8314788066309082,
          0.4366381524548407,
          2.1782212890983534,
          -0.4766125984974227,
          -0.03431037062216538,
          -1.0113084943758948,
          -1.6138146605719532,
          0.6076397596794696,
          -0.4491837282050882,
          -0.25933883152910764,
          -0.32794420472944924,
          -0.015607513578014976,
          0.5327810669308646,
          0.9171765911653947,
          -0.04806466526877816,
          -0.6059465457848144
         ],
         "yaxis": "y15"
        },
        {
         "histfunc": "count",
         "histnorm": "",
         "marker": {
          "color": "rgba(128, 0, 128, 1.0)",
          "line": {
           "color": "#4D5663",
           "width": 1.3
          }
         },
         "name": "D",
         "nbinsx": 10,
         "opacity": 0.8,
         "orientation": "v",
         "type": "histogram",
         "x": [
          1.5842791108277439,
          1.9392303036214489,
          0.6177777428271791,
          -1.8121307158913724,
          -0.3478388077547154,
          0.764501329342132,
          -0.8498630339078125,
          -1.2757866710949821,
          -0.39672634945812846,
          -0.18400398821812025,
          0.02238367836008293,
          0.6037245239520784,
          1.074122824800881,
          0.5221152359810379,
          1.3141904082003788,
          1.6263719726119574,
          0.2098046320866795,
          -0.515314340981756,
          0.6591772152742821,
          -0.10319904393445216,
          -1.0275911617031368,
          -1.040812400145377,
          -1.33717396085918,
          0.7034028417819237,
          -0.6354677291496945,
          -1.756126740395263,
          -0.4683718749826806,
          -0.09119189910221012,
          -0.28181623366681957,
          -0.5040139618350105,
          0.765799998231126,
          -0.9121086046624316,
          -0.2434741473613454,
          0.10909321518599782,
          -1.0614589305554516,
          0.05583961261659571,
          -0.11339955427679063,
          -0.23693665824523838,
          0.8305459163917228,
          -0.8834788689149975,
          0.5824207321113793,
          0.5247674593843477,
          1.0652507124048907,
          0.2948395667837005,
          0.9611778573067953,
          -1.51007086093071,
          -0.1755219613287985,
          -0.19160948506838746,
          -1.1129302234342129,
          -0.53315881337324,
          -0.4631060873723058,
          -0.005449116729710715,
          0.550036258139161,
          1.4345973755214232,
          0.24377148610051458,
          -1.814551011894297,
          -0.4314479546649242,
          -1.2808504760168282,
          -1.085772356895492,
          0.15716263203964206,
          1.1007096069297018,
          -0.6107970611136976,
          0.09665096619158409,
          -0.8526903668560195,
          -1.3487242239250592,
          -2.3590648342025893,
          0.8992190475722818,
          0.45260360125003485,
          -0.35511067930069296,
          0.014636073273193839,
          -0.30196743632525536,
          -0.3997586862708823,
          -1.6961766657373825,
          2.1936046812317134,
          -0.0021114666079433664,
          -1.3061912957548663,
          -0.3917026007185684,
          0.03583860770544733,
          0.3874777237537701,
          -1.8392345205990421,
          0.7554916700328876,
          0.9688391568214227,
          -0.1012405112232658,
          2.3274293386023164,
          0.8314788066309082,
          0.4366381524548407,
          2.1782212890983534,
          -0.4766125984974227,
          -0.03431037062216538,
          -1.0113084943758948,
          -1.6138146605719532,
          0.6076397596794696,
          -0.4491837282050882,
          -0.25933883152910764,
          -0.32794420472944924,
          -0.015607513578014976,
          0.5327810669308646,
          0.9171765911653947,
          -0.04806466526877816,
          -0.6059465457848144
         ],
         "xaxis": "x16",
         "yaxis": "y16"
        }
       ],
       "layout": {
        "bargap": 0.02,
        "legend": {
         "bgcolor": "#F5F6F9",
         "font": {
          "color": "#4D5663"
         }
        },
        "paper_bgcolor": "#F5F6F9",
        "plot_bgcolor": "#F5F6F9",
        "showlegend": false,
        "template": {
         "data": {
          "bar": [
           {
            "error_x": {
             "color": "#2a3f5f"
            },
            "error_y": {
             "color": "#2a3f5f"
            },
            "marker": {
             "line": {
              "color": "#E5ECF6",
              "width": 0.5
             }
            },
            "type": "bar"
           }
          ],
          "barpolar": [
           {
            "marker": {
             "line": {
              "color": "#E5ECF6",
              "width": 0.5
             }
            },
            "type": "barpolar"
           }
          ],
          "carpet": [
           {
            "aaxis": {
             "endlinecolor": "#2a3f5f",
             "gridcolor": "white",
             "linecolor": "white",
             "minorgridcolor": "white",
             "startlinecolor": "#2a3f5f"
            },
            "baxis": {
             "endlinecolor": "#2a3f5f",
             "gridcolor": "white",
             "linecolor": "white",
             "minorgridcolor": "white",
             "startlinecolor": "#2a3f5f"
            },
            "type": "carpet"
           }
          ],
          "choropleth": [
           {
            "colorbar": {
             "outlinewidth": 0,
             "ticks": ""
            },
            "type": "choropleth"
           }
          ],
          "contour": [
           {
            "colorbar": {
             "outlinewidth": 0,
             "ticks": ""
            },
            "colorscale": [
             [
              0,
              "#0d0887"
             ],
             [
              0.1111111111111111,
              "#46039f"
             ],
             [
              0.2222222222222222,
              "#7201a8"
             ],
             [
              0.3333333333333333,
              "#9c179e"
             ],
             [
              0.4444444444444444,
              "#bd3786"
             ],
             [
              0.5555555555555556,
              "#d8576b"
             ],
             [
              0.6666666666666666,
              "#ed7953"
             ],
             [
              0.7777777777777778,
              "#fb9f3a"
             ],
             [
              0.8888888888888888,
              "#fdca26"
             ],
             [
              1,
              "#f0f921"
             ]
            ],
            "type": "contour"
           }
          ],
          "contourcarpet": [
           {
            "colorbar": {
             "outlinewidth": 0,
             "ticks": ""
            },
            "type": "contourcarpet"
           }
          ],
          "heatmap": [
           {
            "colorbar": {
             "outlinewidth": 0,
             "ticks": ""
            },
            "colorscale": [
             [
              0,
              "#0d0887"
             ],
             [
              0.1111111111111111,
              "#46039f"
             ],
             [
              0.2222222222222222,
              "#7201a8"
             ],
             [
              0.3333333333333333,
              "#9c179e"
             ],
             [
              0.4444444444444444,
              "#bd3786"
             ],
             [
              0.5555555555555556,
              "#d8576b"
             ],
             [
              0.6666666666666666,
              "#ed7953"
             ],
             [
              0.7777777777777778,
              "#fb9f3a"
             ],
             [
              0.8888888888888888,
              "#fdca26"
             ],
             [
              1,
              "#f0f921"
             ]
            ],
            "type": "heatmap"
           }
          ],
          "heatmapgl": [
           {
            "colorbar": {
             "outlinewidth": 0,
             "ticks": ""
            },
            "colorscale": [
             [
              0,
              "#0d0887"
             ],
             [
              0.1111111111111111,
              "#46039f"
             ],
             [
              0.2222222222222222,
              "#7201a8"
             ],
             [
              0.3333333333333333,
              "#9c179e"
             ],
             [
              0.4444444444444444,
              "#bd3786"
             ],
             [
              0.5555555555555556,
              "#d8576b"
             ],
             [
              0.6666666666666666,
              "#ed7953"
             ],
             [
              0.7777777777777778,
              "#fb9f3a"
             ],
             [
              0.8888888888888888,
              "#fdca26"
             ],
             [
              1,
              "#f0f921"
             ]
            ],
            "type": "heatmapgl"
           }
          ],
          "histogram": [
           {
            "marker": {
             "colorbar": {
              "outlinewidth": 0,
              "ticks": ""
             }
            },
            "type": "histogram"
           }
          ],
          "histogram2d": [
           {
            "colorbar": {
             "outlinewidth": 0,
             "ticks": ""
            },
            "colorscale": [
             [
              0,
              "#0d0887"
             ],
             [
              0.1111111111111111,
              "#46039f"
             ],
             [
              0.2222222222222222,
              "#7201a8"
             ],
             [
              0.3333333333333333,
              "#9c179e"
             ],
             [
              0.4444444444444444,
              "#bd3786"
             ],
             [
              0.5555555555555556,
              "#d8576b"
             ],
             [
              0.6666666666666666,
              "#ed7953"
             ],
             [
              0.7777777777777778,
              "#fb9f3a"
             ],
             [
              0.8888888888888888,
              "#fdca26"
             ],
             [
              1,
              "#f0f921"
             ]
            ],
            "type": "histogram2d"
           }
          ],
          "histogram2dcontour": [
           {
            "colorbar": {
             "outlinewidth": 0,
             "ticks": ""
            },
            "colorscale": [
             [
              0,
              "#0d0887"
             ],
             [
              0.1111111111111111,
              "#46039f"
             ],
             [
              0.2222222222222222,
              "#7201a8"
             ],
             [
              0.3333333333333333,
              "#9c179e"
             ],
             [
              0.4444444444444444,
              "#bd3786"
             ],
             [
              0.5555555555555556,
              "#d8576b"
             ],
             [
              0.6666666666666666,
              "#ed7953"
             ],
             [
              0.7777777777777778,
              "#fb9f3a"
             ],
             [
              0.8888888888888888,
              "#fdca26"
             ],
             [
              1,
              "#f0f921"
             ]
            ],
            "type": "histogram2dcontour"
           }
          ],
          "mesh3d": [
           {
            "colorbar": {
             "outlinewidth": 0,
             "ticks": ""
            },
            "type": "mesh3d"
           }
          ],
          "parcoords": [
           {
            "line": {
             "colorbar": {
              "outlinewidth": 0,
              "ticks": ""
             }
            },
            "type": "parcoords"
           }
          ],
          "pie": [
           {
            "automargin": true,
            "type": "pie"
           }
          ],
          "scatter": [
           {
            "marker": {
             "colorbar": {
              "outlinewidth": 0,
              "ticks": ""
             }
            },
            "type": "scatter"
           }
          ],
          "scatter3d": [
           {
            "line": {
             "colorbar": {
              "outlinewidth": 0,
              "ticks": ""
             }
            },
            "marker": {
             "colorbar": {
              "outlinewidth": 0,
              "ticks": ""
             }
            },
            "type": "scatter3d"
           }
          ],
          "scattercarpet": [
           {
            "marker": {
             "colorbar": {
              "outlinewidth": 0,
              "ticks": ""
             }
            },
            "type": "scattercarpet"
           }
          ],
          "scattergeo": [
           {
            "marker": {
             "colorbar": {
              "outlinewidth": 0,
              "ticks": ""
             }
            },
            "type": "scattergeo"
           }
          ],
          "scattergl": [
           {
            "marker": {
             "colorbar": {
              "outlinewidth": 0,
              "ticks": ""
             }
            },
            "type": "scattergl"
           }
          ],
          "scattermapbox": [
           {
            "marker": {
             "colorbar": {
              "outlinewidth": 0,
              "ticks": ""
             }
            },
            "type": "scattermapbox"
           }
          ],
          "scatterpolar": [
           {
            "marker": {
             "colorbar": {
              "outlinewidth": 0,
              "ticks": ""
             }
            },
            "type": "scatterpolar"
           }
          ],
          "scatterpolargl": [
           {
            "marker": {
             "colorbar": {
              "outlinewidth": 0,
              "ticks": ""
             }
            },
            "type": "scatterpolargl"
           }
          ],
          "scatterternary": [
           {
            "marker": {
             "colorbar": {
              "outlinewidth": 0,
              "ticks": ""
             }
            },
            "type": "scatterternary"
           }
          ],
          "surface": [
           {
            "colorbar": {
             "outlinewidth": 0,
             "ticks": ""
            },
            "colorscale": [
             [
              0,
              "#0d0887"
             ],
             [
              0.1111111111111111,
              "#46039f"
             ],
             [
              0.2222222222222222,
              "#7201a8"
             ],
             [
              0.3333333333333333,
              "#9c179e"
             ],
             [
              0.4444444444444444,
              "#bd3786"
             ],
             [
              0.5555555555555556,
              "#d8576b"
             ],
             [
              0.6666666666666666,
              "#ed7953"
             ],
             [
              0.7777777777777778,
              "#fb9f3a"
             ],
             [
              0.8888888888888888,
              "#fdca26"
             ],
             [
              1,
              "#f0f921"
             ]
            ],
            "type": "surface"
           }
          ],
          "table": [
           {
            "cells": {
             "fill": {
              "color": "#EBF0F8"
             },
             "line": {
              "color": "white"
             }
            },
            "header": {
             "fill": {
              "color": "#C8D4E3"
             },
             "line": {
              "color": "white"
             }
            },
            "type": "table"
           }
          ]
         },
         "layout": {
          "annotationdefaults": {
           "arrowcolor": "#2a3f5f",
           "arrowhead": 0,
           "arrowwidth": 1
          },
          "autotypenumbers": "strict",
          "coloraxis": {
           "colorbar": {
            "outlinewidth": 0,
            "ticks": ""
           }
          },
          "colorscale": {
           "diverging": [
            [
             0,
             "#8e0152"
            ],
            [
             0.1,
             "#c51b7d"
            ],
            [
             0.2,
             "#de77ae"
            ],
            [
             0.3,
             "#f1b6da"
            ],
            [
             0.4,
             "#fde0ef"
            ],
            [
             0.5,
             "#f7f7f7"
            ],
            [
             0.6,
             "#e6f5d0"
            ],
            [
             0.7,
             "#b8e186"
            ],
            [
             0.8,
             "#7fbc41"
            ],
            [
             0.9,
             "#4d9221"
            ],
            [
             1,
             "#276419"
            ]
           ],
           "sequential": [
            [
             0,
             "#0d0887"
            ],
            [
             0.1111111111111111,
             "#46039f"
            ],
            [
             0.2222222222222222,
             "#7201a8"
            ],
            [
             0.3333333333333333,
             "#9c179e"
            ],
            [
             0.4444444444444444,
             "#bd3786"
            ],
            [
             0.5555555555555556,
             "#d8576b"
            ],
            [
             0.6666666666666666,
             "#ed7953"
            ],
            [
             0.7777777777777778,
             "#fb9f3a"
            ],
            [
             0.8888888888888888,
             "#fdca26"
            ],
            [
             1,
             "#f0f921"
            ]
           ],
           "sequentialminus": [
            [
             0,
             "#0d0887"
            ],
            [
             0.1111111111111111,
             "#46039f"
            ],
            [
             0.2222222222222222,
             "#7201a8"
            ],
            [
             0.3333333333333333,
             "#9c179e"
            ],
            [
             0.4444444444444444,
             "#bd3786"
            ],
            [
             0.5555555555555556,
             "#d8576b"
            ],
            [
             0.6666666666666666,
             "#ed7953"
            ],
            [
             0.7777777777777778,
             "#fb9f3a"
            ],
            [
             0.8888888888888888,
             "#fdca26"
            ],
            [
             1,
             "#f0f921"
            ]
           ]
          },
          "colorway": [
           "#636efa",
           "#EF553B",
           "#00cc96",
           "#ab63fa",
           "#FFA15A",
           "#19d3f3",
           "#FF6692",
           "#B6E880",
           "#FF97FF",
           "#FECB52"
          ],
          "font": {
           "color": "#2a3f5f"
          },
          "geo": {
           "bgcolor": "white",
           "lakecolor": "white",
           "landcolor": "#E5ECF6",
           "showlakes": true,
           "showland": true,
           "subunitcolor": "white"
          },
          "hoverlabel": {
           "align": "left"
          },
          "hovermode": "closest",
          "mapbox": {
           "style": "light"
          },
          "paper_bgcolor": "white",
          "plot_bgcolor": "#E5ECF6",
          "polar": {
           "angularaxis": {
            "gridcolor": "white",
            "linecolor": "white",
            "ticks": ""
           },
           "bgcolor": "#E5ECF6",
           "radialaxis": {
            "gridcolor": "white",
            "linecolor": "white",
            "ticks": ""
           }
          },
          "scene": {
           "xaxis": {
            "backgroundcolor": "#E5ECF6",
            "gridcolor": "white",
            "gridwidth": 2,
            "linecolor": "white",
            "showbackground": true,
            "ticks": "",
            "zerolinecolor": "white"
           },
           "yaxis": {
            "backgroundcolor": "#E5ECF6",
            "gridcolor": "white",
            "gridwidth": 2,
            "linecolor": "white",
            "showbackground": true,
            "ticks": "",
            "zerolinecolor": "white"
           },
           "zaxis": {
            "backgroundcolor": "#E5ECF6",
            "gridcolor": "white",
            "gridwidth": 2,
            "linecolor": "white",
            "showbackground": true,
            "ticks": "",
            "zerolinecolor": "white"
           }
          },
          "shapedefaults": {
           "line": {
            "color": "#2a3f5f"
           }
          },
          "ternary": {
           "aaxis": {
            "gridcolor": "white",
            "linecolor": "white",
            "ticks": ""
           },
           "baxis": {
            "gridcolor": "white",
            "linecolor": "white",
            "ticks": ""
           },
           "bgcolor": "#E5ECF6",
           "caxis": {
            "gridcolor": "white",
            "linecolor": "white",
            "ticks": ""
           }
          },
          "title": {
           "x": 0.05
          },
          "xaxis": {
           "automargin": true,
           "gridcolor": "white",
           "linecolor": "white",
           "ticks": "",
           "title": {
            "standoff": 15
           },
           "zerolinecolor": "white",
           "zerolinewidth": 2
          },
          "yaxis": {
           "automargin": true,
           "gridcolor": "white",
           "linecolor": "white",
           "ticks": "",
           "title": {
            "standoff": 15
           },
           "zerolinecolor": "white",
           "zerolinewidth": 2
          }
         }
        },
        "title": {
         "font": {
          "color": "#4D5663"
         }
        },
        "xaxis": {
         "anchor": "y",
         "domain": [
          0,
          0.2125
         ],
         "gridcolor": "#E1E5ED",
         "showgrid": false,
         "tickfont": {
          "color": "#4D5663"
         },
         "title": {
          "font": {
           "color": "#4D5663"
          },
          "text": ""
         },
         "zerolinecolor": "#E1E5ED"
        },
        "xaxis10": {
         "anchor": "y10",
         "domain": [
          0.2625,
          0.475
         ],
         "gridcolor": "#E1E5ED",
         "showgrid": false,
         "tickfont": {
          "color": "#4D5663"
         },
         "title": {
          "font": {
           "color": "#4D5663"
          },
          "text": ""
         },
         "zerolinecolor": "#E1E5ED"
        },
        "xaxis11": {
         "anchor": "y11",
         "domain": [
          0.525,
          0.7375
         ],
         "gridcolor": "#E1E5ED",
         "showgrid": false,
         "tickfont": {
          "color": "#4D5663"
         },
         "title": {
          "font": {
           "color": "#4D5663"
          },
          "text": ""
         },
         "zerolinecolor": "#E1E5ED"
        },
        "xaxis12": {
         "anchor": "y12",
         "domain": [
          0.7875,
          1
         ],
         "gridcolor": "#E1E5ED",
         "showgrid": false,
         "tickfont": {
          "color": "#4D5663"
         },
         "title": {
          "font": {
           "color": "#4D5663"
          },
          "text": ""
         },
         "zerolinecolor": "#E1E5ED"
        },
        "xaxis13": {
         "anchor": "y13",
         "domain": [
          0,
          0.2125
         ],
         "gridcolor": "#E1E5ED",
         "showgrid": false,
         "tickfont": {
          "color": "#4D5663"
         },
         "title": {
          "font": {
           "color": "#4D5663"
          },
          "text": ""
         },
         "zerolinecolor": "#E1E5ED"
        },
        "xaxis14": {
         "anchor": "y14",
         "domain": [
          0.2625,
          0.475
         ],
         "gridcolor": "#E1E5ED",
         "showgrid": false,
         "tickfont": {
          "color": "#4D5663"
         },
         "title": {
          "font": {
           "color": "#4D5663"
          },
          "text": ""
         },
         "zerolinecolor": "#E1E5ED"
        },
        "xaxis15": {
         "anchor": "y15",
         "domain": [
          0.525,
          0.7375
         ],
         "gridcolor": "#E1E5ED",
         "showgrid": false,
         "tickfont": {
          "color": "#4D5663"
         },
         "title": {
          "font": {
           "color": "#4D5663"
          },
          "text": ""
         },
         "zerolinecolor": "#E1E5ED"
        },
        "xaxis16": {
         "anchor": "y16",
         "domain": [
          0.7875,
          1
         ],
         "gridcolor": "#E1E5ED",
         "showgrid": false,
         "tickfont": {
          "color": "#4D5663"
         },
         "title": {
          "font": {
           "color": "#4D5663"
          },
          "text": ""
         },
         "zerolinecolor": "#E1E5ED"
        },
        "xaxis2": {
         "anchor": "y2",
         "domain": [
          0.2625,
          0.475
         ],
         "gridcolor": "#E1E5ED",
         "showgrid": false,
         "tickfont": {
          "color": "#4D5663"
         },
         "title": {
          "font": {
           "color": "#4D5663"
          },
          "text": ""
         },
         "zerolinecolor": "#E1E5ED"
        },
        "xaxis3": {
         "anchor": "y3",
         "domain": [
          0.525,
          0.7375
         ],
         "gridcolor": "#E1E5ED",
         "showgrid": false,
         "tickfont": {
          "color": "#4D5663"
         },
         "title": {
          "font": {
           "color": "#4D5663"
          },
          "text": ""
         },
         "zerolinecolor": "#E1E5ED"
        },
        "xaxis4": {
         "anchor": "y4",
         "domain": [
          0.7875,
          1
         ],
         "gridcolor": "#E1E5ED",
         "showgrid": false,
         "tickfont": {
          "color": "#4D5663"
         },
         "title": {
          "font": {
           "color": "#4D5663"
          },
          "text": ""
         },
         "zerolinecolor": "#E1E5ED"
        },
        "xaxis5": {
         "anchor": "y5",
         "domain": [
          0,
          0.2125
         ],
         "gridcolor": "#E1E5ED",
         "showgrid": false,
         "tickfont": {
          "color": "#4D5663"
         },
         "title": {
          "font": {
           "color": "#4D5663"
          },
          "text": ""
         },
         "zerolinecolor": "#E1E5ED"
        },
        "xaxis6": {
         "anchor": "y6",
         "domain": [
          0.2625,
          0.475
         ],
         "gridcolor": "#E1E5ED",
         "showgrid": false,
         "tickfont": {
          "color": "#4D5663"
         },
         "title": {
          "font": {
           "color": "#4D5663"
          },
          "text": ""
         },
         "zerolinecolor": "#E1E5ED"
        },
        "xaxis7": {
         "anchor": "y7",
         "domain": [
          0.525,
          0.7375
         ],
         "gridcolor": "#E1E5ED",
         "showgrid": false,
         "tickfont": {
          "color": "#4D5663"
         },
         "title": {
          "font": {
           "color": "#4D5663"
          },
          "text": ""
         },
         "zerolinecolor": "#E1E5ED"
        },
        "xaxis8": {
         "anchor": "y8",
         "domain": [
          0.7875,
          1
         ],
         "gridcolor": "#E1E5ED",
         "showgrid": false,
         "tickfont": {
          "color": "#4D5663"
         },
         "title": {
          "font": {
           "color": "#4D5663"
          },
          "text": ""
         },
         "zerolinecolor": "#E1E5ED"
        },
        "xaxis9": {
         "anchor": "y9",
         "domain": [
          0,
          0.2125
         ],
         "gridcolor": "#E1E5ED",
         "showgrid": false,
         "tickfont": {
          "color": "#4D5663"
         },
         "title": {
          "font": {
           "color": "#4D5663"
          },
          "text": ""
         },
         "zerolinecolor": "#E1E5ED"
        },
        "yaxis": {
         "anchor": "x",
         "domain": [
          0.8025,
          1
         ],
         "gridcolor": "#E1E5ED",
         "showgrid": false,
         "tickfont": {
          "color": "#4D5663"
         },
         "title": {
          "font": {
           "color": "#4D5663"
          },
          "text": ""
         },
         "zerolinecolor": "#E1E5ED"
        },
        "yaxis10": {
         "anchor": "x10",
         "domain": [
          0.2675,
          0.465
         ],
         "gridcolor": "#E1E5ED",
         "showgrid": false,
         "tickfont": {
          "color": "#4D5663"
         },
         "title": {
          "font": {
           "color": "#4D5663"
          },
          "text": ""
         },
         "zerolinecolor": "#E1E5ED"
        },
        "yaxis11": {
         "anchor": "x11",
         "domain": [
          0.2675,
          0.465
         ],
         "gridcolor": "#E1E5ED",
         "showgrid": false,
         "tickfont": {
          "color": "#4D5663"
         },
         "title": {
          "font": {
           "color": "#4D5663"
          },
          "text": ""
         },
         "zerolinecolor": "#E1E5ED"
        },
        "yaxis12": {
         "anchor": "x12",
         "domain": [
          0.2675,
          0.465
         ],
         "gridcolor": "#E1E5ED",
         "showgrid": false,
         "tickfont": {
          "color": "#4D5663"
         },
         "title": {
          "font": {
           "color": "#4D5663"
          },
          "text": ""
         },
         "zerolinecolor": "#E1E5ED"
        },
        "yaxis13": {
         "anchor": "x13",
         "domain": [
          0,
          0.1975
         ],
         "gridcolor": "#E1E5ED",
         "showgrid": false,
         "tickfont": {
          "color": "#4D5663"
         },
         "title": {
          "font": {
           "color": "#4D5663"
          },
          "text": ""
         },
         "zerolinecolor": "#E1E5ED"
        },
        "yaxis14": {
         "anchor": "x14",
         "domain": [
          0,
          0.1975
         ],
         "gridcolor": "#E1E5ED",
         "showgrid": false,
         "tickfont": {
          "color": "#4D5663"
         },
         "title": {
          "font": {
           "color": "#4D5663"
          },
          "text": ""
         },
         "zerolinecolor": "#E1E5ED"
        },
        "yaxis15": {
         "anchor": "x15",
         "domain": [
          0,
          0.1975
         ],
         "gridcolor": "#E1E5ED",
         "showgrid": false,
         "tickfont": {
          "color": "#4D5663"
         },
         "title": {
          "font": {
           "color": "#4D5663"
          },
          "text": ""
         },
         "zerolinecolor": "#E1E5ED"
        },
        "yaxis16": {
         "anchor": "x16",
         "domain": [
          0,
          0.1975
         ],
         "gridcolor": "#E1E5ED",
         "showgrid": false,
         "tickfont": {
          "color": "#4D5663"
         },
         "title": {
          "font": {
           "color": "#4D5663"
          },
          "text": ""
         },
         "zerolinecolor": "#E1E5ED"
        },
        "yaxis2": {
         "anchor": "x2",
         "domain": [
          0.8025,
          1
         ],
         "gridcolor": "#E1E5ED",
         "showgrid": false,
         "tickfont": {
          "color": "#4D5663"
         },
         "title": {
          "font": {
           "color": "#4D5663"
          },
          "text": ""
         },
         "zerolinecolor": "#E1E5ED"
        },
        "yaxis3": {
         "anchor": "x3",
         "domain": [
          0.8025,
          1
         ],
         "gridcolor": "#E1E5ED",
         "showgrid": false,
         "tickfont": {
          "color": "#4D5663"
         },
         "title": {
          "font": {
           "color": "#4D5663"
          },
          "text": ""
         },
         "zerolinecolor": "#E1E5ED"
        },
        "yaxis4": {
         "anchor": "x4",
         "domain": [
          0.8025,
          1
         ],
         "gridcolor": "#E1E5ED",
         "showgrid": false,
         "tickfont": {
          "color": "#4D5663"
         },
         "title": {
          "font": {
           "color": "#4D5663"
          },
          "text": ""
         },
         "zerolinecolor": "#E1E5ED"
        },
        "yaxis5": {
         "anchor": "x5",
         "domain": [
          0.535,
          0.7325
         ],
         "gridcolor": "#E1E5ED",
         "showgrid": false,
         "tickfont": {
          "color": "#4D5663"
         },
         "title": {
          "font": {
           "color": "#4D5663"
          },
          "text": ""
         },
         "zerolinecolor": "#E1E5ED"
        },
        "yaxis6": {
         "anchor": "x6",
         "domain": [
          0.535,
          0.7325
         ],
         "gridcolor": "#E1E5ED",
         "showgrid": false,
         "tickfont": {
          "color": "#4D5663"
         },
         "title": {
          "font": {
           "color": "#4D5663"
          },
          "text": ""
         },
         "zerolinecolor": "#E1E5ED"
        },
        "yaxis7": {
         "anchor": "x7",
         "domain": [
          0.535,
          0.7325
         ],
         "gridcolor": "#E1E5ED",
         "showgrid": false,
         "tickfont": {
          "color": "#4D5663"
         },
         "title": {
          "font": {
           "color": "#4D5663"
          },
          "text": ""
         },
         "zerolinecolor": "#E1E5ED"
        },
        "yaxis8": {
         "anchor": "x8",
         "domain": [
          0.535,
          0.7325
         ],
         "gridcolor": "#E1E5ED",
         "showgrid": false,
         "tickfont": {
          "color": "#4D5663"
         },
         "title": {
          "font": {
           "color": "#4D5663"
          },
          "text": ""
         },
         "zerolinecolor": "#E1E5ED"
        },
        "yaxis9": {
         "anchor": "x9",
         "domain": [
          0.2675,
          0.465
         ],
         "gridcolor": "#E1E5ED",
         "showgrid": false,
         "tickfont": {
          "color": "#4D5663"
         },
         "title": {
          "font": {
           "color": "#4D5663"
          },
          "text": ""
         },
         "zerolinecolor": "#E1E5ED"
        }
       }
      },
      "text/html": [
       "<div>                            <div id=\"12e49d7b-78f5-4e3e-9d90-18f7acd33ef9\" class=\"plotly-graph-div\" style=\"height:525px; width:100%;\"></div>            <script type=\"text/javascript\">                require([\"plotly\"], function(Plotly) {                    window.PLOTLYENV=window.PLOTLYENV || {};\n",
       "                    window.PLOTLYENV.BASE_URL='https://plot.ly';                                    if (document.getElementById(\"12e49d7b-78f5-4e3e-9d90-18f7acd33ef9\")) {                    Plotly.newPlot(                        \"12e49d7b-78f5-4e3e-9d90-18f7acd33ef9\",                        [{\"histfunc\": \"count\", \"histnorm\": \"\", \"marker\": {\"color\": \"rgba(255, 153, 51, 1.0)\", \"line\": {\"color\": \"#4D5663\", \"width\": 1.3}}, \"name\": \"A\", \"nbinsx\": 10, \"opacity\": 0.8, \"orientation\": \"v\", \"type\": \"histogram\", \"x\": [-0.45631341899455446, 0.4724584044203727, 1.9406963290187815, 1.3642048200066281, 0.3888909674049345, -0.8155560132139653, 0.1824994980346096, -0.6460157547769448, 0.7726921125849633, -0.7574183434082375, 0.5743341411046669, -1.122291005811296, 0.39592557287173297, 1.7658327891993622, 0.03956382437720008, -1.1778154865134784, 1.3612446505476976, 0.4575543125475046, -0.6100736598999223, -0.16227885578643608, 0.9074892985388556, -1.2212771553160078, -0.003212139726141614, 1.78200159331685, 0.3051643896263515, 0.5975174164344041, -1.069764750030652, 0.692191997574215, 0.2696109540579809, -1.1542791753011188, -1.1385749479100127, -0.3699998786410983, -1.1344534996132034, 0.672988103248493, 2.072735424057368, -2.1147273254318355, 0.36626961903539124, 0.49402674018544357, 0.5216867514899008, -0.5714109512067463, -0.6761590098251625, 0.7042638386647735, 0.11699659474769354, -0.1640626482877639, -0.6269163627570845, -0.4238401729522169, 0.8249507519202229, -0.8400945963434742, 0.7002288932568547, -0.23430066738503985, -0.2697623100425775, 1.1296410882765562, -0.12089119108281095, 0.6785647004075804, -0.33277254474307, 1.2755116095541024, 2.8144119696677983, -0.04169729623664178, -0.8263225957897392, 0.5346425224779339, -0.1691615220796312, -0.028261136874453294, -0.9159867232468516, 0.4262668787057552, 0.46461136984729107, -1.6242310329688443, 0.25510137484310935, -0.4956452247932434, 0.9664158082185562, 0.5335313997466851, -0.21034234832133342, 0.7578100478233821, 1.8107721743872651, -0.9391654021207035, 0.9717304863534318, -1.0822307332369805, -1.6668502238440615, 0.3531006055894467, -0.4476662332456711, -0.6878703293135146, 0.44730597827608787, -2.319317841268029, 0.08900212438510414, -0.4572559821356708, 2.111367134794406, -0.934563080089709, 0.5637618038523917, -0.2991455869065257, 0.5153988151252, 0.7878677402720858, 0.7315317806795537, 1.524796465918317, -0.7562970183873434, 0.5426557390236036, 0.5131735893370422, -1.1370342487815206, 1.1363044523216463, 0.03011016115863619, -0.1844988603454125, -1.0691517608483327], \"xaxis\": \"x\", \"yaxis\": \"y\"}, {\"line\": {\"color\": \"rgba(128, 128, 128, 1.0)\", \"dash\": \"solid\", \"shape\": \"linear\", \"width\": 1.3}, \"marker\": {\"size\": 2, \"symbol\": \"circle\"}, \"mode\": \"markers\", \"name\": \"A\", \"text\": \"\", \"type\": \"scatter\", \"x\": [0.08585353006516305, -0.7652436652770636, -1.560799863236166, 0.854928611529446, 1.5294104037358258, 0.7802959777606984, 1.1092660375040786, -1.2997181168756695, -0.2501396717599244, 1.1672653683073624, 0.2657593084709434, 1.8067828968864428, 2.908460836515882, 0.2257063168775166, -0.3943778128855632, 1.4865989885509223, -0.419053119941921, 0.44213002504736104, -0.8765347571627182, 0.7631550538754935, 0.7313001692354236, -1.0848126581308521, -0.5011764356270655, 2.615349826248938, -0.8267702619275237, -0.5289210111072653, 1.3128095271060611, -0.6975326835999035, -2.0177953107320556, -0.9545140586667944, -1.2781018895409393, 1.772525799618574, -0.270952170350105, -1.0259308609936295, -0.8200550048236666, 0.5804852648112692, -0.09088463880203278, 0.6374103190401424, 2.0817045409484805, -0.5332820753894929, 0.7065147478521874, 0.1892745845799814, -1.2746433493418645, 0.8779534537612734, 0.5730668677347721, 0.2719515023616077, -2.042453178577107, 0.09760892427219381, 0.6327008342432406, 1.1287005425410521, 1.3913044302720308, -0.5069090531869064, 0.669878472883447, 0.5221818133872991, -0.4496145272881422, -1.1840356351224515, -1.4220007648795254, 0.8360266708830294, 0.8913948071631754, 0.9224107560138586, 2.7530407202962603, 1.438217420240023, -0.778441889649213, 0.023935454828543142, -1.6850521077202243, 0.27334839638225666, 0.28254467216477613, -0.8706248368005733, 1.9480382430405512, 0.15650044446126365, 1.063511636852657, 0.3615248823338626, 0.6274131303035508, 1.2697867007397823, -0.28884869074427993, -0.8917344572713624, -0.9016784589646977, -0.010188903097623743, -1.4282164380032398, 0.7143102611827443, -0.7029927020280965, 1.2519290706979243, 0.3714371833846144, -0.22736512435993828, 0.4504921171578333, 1.6955931253260765, 0.15955568966672862, -1.5718305019534387, 1.12036549343057, 0.6992989938926815, -0.8095249209852535, -0.7252921710467097, 0.3321356478041808, 0.8755392562950008, -1.124210575231865, -0.5979379435472303, -1.3604643669204346, 0.6374742546791262, -1.7711220550881799, 0.569197677960444], \"xaxis\": \"x2\", \"y\": [-0.45631341899455446, 0.4724584044203727, 1.9406963290187815, 1.3642048200066281, 0.3888909674049345, -0.8155560132139653, 0.1824994980346096, -0.6460157547769448, 0.7726921125849633, -0.7574183434082375, 0.5743341411046669, -1.122291005811296, 0.39592557287173297, 1.7658327891993622, 0.03956382437720008, -1.1778154865134784, 1.3612446505476976, 0.4575543125475046, -0.6100736598999223, -0.16227885578643608, 0.9074892985388556, -1.2212771553160078, -0.003212139726141614, 1.78200159331685, 0.3051643896263515, 0.5975174164344041, -1.069764750030652, 0.692191997574215, 0.2696109540579809, -1.1542791753011188, -1.1385749479100127, -0.3699998786410983, -1.1344534996132034, 0.672988103248493, 2.072735424057368, -2.1147273254318355, 0.36626961903539124, 0.49402674018544357, 0.5216867514899008, -0.5714109512067463, -0.6761590098251625, 0.7042638386647735, 0.11699659474769354, -0.1640626482877639, -0.6269163627570845, -0.4238401729522169, 0.8249507519202229, -0.8400945963434742, 0.7002288932568547, -0.23430066738503985, -0.2697623100425775, 1.1296410882765562, -0.12089119108281095, 0.6785647004075804, -0.33277254474307, 1.2755116095541024, 2.8144119696677983, -0.04169729623664178, -0.8263225957897392, 0.5346425224779339, -0.1691615220796312, -0.028261136874453294, -0.9159867232468516, 0.4262668787057552, 0.46461136984729107, -1.6242310329688443, 0.25510137484310935, -0.4956452247932434, 0.9664158082185562, 0.5335313997466851, -0.21034234832133342, 0.7578100478233821, 1.8107721743872651, -0.9391654021207035, 0.9717304863534318, -1.0822307332369805, -1.6668502238440615, 0.3531006055894467, -0.4476662332456711, -0.6878703293135146, 0.44730597827608787, -2.319317841268029, 0.08900212438510414, -0.4572559821356708, 2.111367134794406, -0.934563080089709, 0.5637618038523917, -0.2991455869065257, 0.5153988151252, 0.7878677402720858, 0.7315317806795537, 1.524796465918317, -0.7562970183873434, 0.5426557390236036, 0.5131735893370422, -1.1370342487815206, 1.1363044523216463, 0.03011016115863619, -0.1844988603454125, -1.0691517608483327], \"yaxis\": \"y2\"}, {\"line\": {\"color\": \"rgba(128, 128, 128, 1.0)\", \"dash\": \"solid\", \"shape\": \"linear\", \"width\": 1.3}, \"marker\": {\"size\": 2, \"symbol\": \"circle\"}, \"mode\": \"markers\", \"name\": \"A\", \"text\": \"\", \"type\": \"scatter\", \"x\": [-0.5537379212190897, -0.8724233052694854, -0.4543058134976074, -0.11014863679154555, 0.14613296956043798, -0.07972816596592253, 0.23071816361939446, -0.46840908859725044, 0.18436213161850834, -0.014321693931055183, -0.026860748441306162, -0.27782290778010554, -0.7046569466338679, 1.0879505516918127, -0.14522834640323015, -0.15948615687583165, 1.1955460885919826, -0.23952068592326292, 0.8726253512372968, 0.07453419235280212, -1.8078878466901667, -0.6385244736830138, -1.410886899903527, 0.5952664050592602, 0.2886650222926791, 0.11039222692095005, -0.3197007695368137, 2.3655768820646585, 2.2183351120585986, -0.8676594284342002, 0.7306787469146706, -0.42963613672543155, -0.915272688592936, -0.07867636320966079, -0.9270634599251494, 0.12701375209898594, 0.7768472291937459, -0.5296385792732079, -0.8936976374236892, -0.4377805445168151, 0.949334370124812, 0.7570338091013735, 1.6624731100208912, -1.5790316048566215, -0.44822211140406854, -1.6261963423182388, -0.9056842189081151, 1.4739822729626488, -0.6571973195657878, 1.3625496020340948, 1.6574237010904567, -0.17749977787464458, 0.9075120615486731, 1.0256075023267957, 0.16592539270409867, -0.1855059373230086, 0.9471382851852113, 1.1930319801477383, 0.43295005260247615, 1.0996560077129431, 0.6175810332370919, -0.1428410083099575, 0.05301951224767886, -0.6507871628506191, 1.1365386389173497, 0.2889509725144247, -0.6460371173716895, -1.593962248440813, -1.146556415184358, -1.4590413297512774, 0.3026670183455334, 1.2966634986461367, 0.5173549255270803, -0.0632510475536566, 0.3990092802832907, -1.9951236100521847, 1.3744300460745864, 1.6155001221221712, 0.5063360072351307, -2.6977473302984154, 0.13553992385555955, 0.23996422729562236, 1.093910238408881, 1.0970779058678999, -1.0214634318767166, -0.9099269078622486, 0.2313839712322445, 1.380306830071051, -0.12695330769444957, -0.3000244148642409, 1.906165655894951, -2.713127925355512, -0.5147146933258838, -0.03379601581274362, 1.0304962528228427, -0.6896832717756195, 0.46056227260729415, 0.515696867981505, -0.4177010269870619, -0.37409452757803896], \"xaxis\": \"x3\", \"y\": [-0.45631341899455446, 0.4724584044203727, 1.9406963290187815, 1.3642048200066281, 0.3888909674049345, -0.8155560132139653, 0.1824994980346096, -0.6460157547769448, 0.7726921125849633, -0.7574183434082375, 0.5743341411046669, -1.122291005811296, 0.39592557287173297, 1.7658327891993622, 0.03956382437720008, -1.1778154865134784, 1.3612446505476976, 0.4575543125475046, -0.6100736598999223, -0.16227885578643608, 0.9074892985388556, -1.2212771553160078, -0.003212139726141614, 1.78200159331685, 0.3051643896263515, 0.5975174164344041, -1.069764750030652, 0.692191997574215, 0.2696109540579809, -1.1542791753011188, -1.1385749479100127, -0.3699998786410983, -1.1344534996132034, 0.672988103248493, 2.072735424057368, -2.1147273254318355, 0.36626961903539124, 0.49402674018544357, 0.5216867514899008, -0.5714109512067463, -0.6761590098251625, 0.7042638386647735, 0.11699659474769354, -0.1640626482877639, -0.6269163627570845, -0.4238401729522169, 0.8249507519202229, -0.8400945963434742, 0.7002288932568547, -0.23430066738503985, -0.2697623100425775, 1.1296410882765562, -0.12089119108281095, 0.6785647004075804, -0.33277254474307, 1.2755116095541024, 2.8144119696677983, -0.04169729623664178, -0.8263225957897392, 0.5346425224779339, -0.1691615220796312, -0.028261136874453294, -0.9159867232468516, 0.4262668787057552, 0.46461136984729107, -1.6242310329688443, 0.25510137484310935, -0.4956452247932434, 0.9664158082185562, 0.5335313997466851, -0.21034234832133342, 0.7578100478233821, 1.8107721743872651, -0.9391654021207035, 0.9717304863534318, -1.0822307332369805, -1.6668502238440615, 0.3531006055894467, -0.4476662332456711, -0.6878703293135146, 0.44730597827608787, -2.319317841268029, 0.08900212438510414, -0.4572559821356708, 2.111367134794406, -0.934563080089709, 0.5637618038523917, -0.2991455869065257, 0.5153988151252, 0.7878677402720858, 0.7315317806795537, 1.524796465918317, -0.7562970183873434, 0.5426557390236036, 0.5131735893370422, -1.1370342487815206, 1.1363044523216463, 0.03011016115863619, -0.1844988603454125, -1.0691517608483327], \"yaxis\": \"y3\"}, {\"line\": {\"color\": \"rgba(128, 128, 128, 1.0)\", \"dash\": \"solid\", \"shape\": \"linear\", \"width\": 1.3}, \"marker\": {\"size\": 2, \"symbol\": \"circle\"}, \"mode\": \"markers\", \"name\": \"A\", \"text\": \"\", \"type\": \"scatter\", \"x\": [1.5842791108277439, 1.9392303036214489, 0.6177777428271791, -1.8121307158913724, -0.3478388077547154, 0.764501329342132, -0.8498630339078125, -1.2757866710949821, -0.39672634945812846, -0.18400398821812025, 0.02238367836008293, 0.6037245239520784, 1.074122824800881, 0.5221152359810379, 1.3141904082003788, 1.6263719726119574, 0.2098046320866795, -0.515314340981756, 0.6591772152742821, -0.10319904393445216, -1.0275911617031368, -1.040812400145377, -1.33717396085918, 0.7034028417819237, -0.6354677291496945, -1.756126740395263, -0.4683718749826806, -0.09119189910221012, -0.28181623366681957, -0.5040139618350105, 0.765799998231126, -0.9121086046624316, -0.2434741473613454, 0.10909321518599782, -1.0614589305554516, 0.05583961261659571, -0.11339955427679063, -0.23693665824523838, 0.8305459163917228, -0.8834788689149975, 0.5824207321113793, 0.5247674593843477, 1.0652507124048907, 0.2948395667837005, 0.9611778573067953, -1.51007086093071, -0.1755219613287985, -0.19160948506838746, -1.1129302234342129, -0.53315881337324, -0.4631060873723058, -0.005449116729710715, 0.550036258139161, 1.4345973755214232, 0.24377148610051458, -1.814551011894297, -0.4314479546649242, -1.2808504760168282, -1.085772356895492, 0.15716263203964206, 1.1007096069297018, -0.6107970611136976, 0.09665096619158409, -0.8526903668560195, -1.3487242239250592, -2.3590648342025893, 0.8992190475722818, 0.45260360125003485, -0.35511067930069296, 0.014636073273193839, -0.30196743632525536, -0.3997586862708823, -1.6961766657373825, 2.1936046812317134, -0.0021114666079433664, -1.3061912957548663, -0.3917026007185684, 0.03583860770544733, 0.3874777237537701, -1.8392345205990421, 0.7554916700328876, 0.9688391568214227, -0.1012405112232658, 2.3274293386023164, 0.8314788066309082, 0.4366381524548407, 2.1782212890983534, -0.4766125984974227, -0.03431037062216538, -1.0113084943758948, -1.6138146605719532, 0.6076397596794696, -0.4491837282050882, -0.25933883152910764, -0.32794420472944924, -0.015607513578014976, 0.5327810669308646, 0.9171765911653947, -0.04806466526877816, -0.6059465457848144], \"xaxis\": \"x4\", \"y\": [-0.45631341899455446, 0.4724584044203727, 1.9406963290187815, 1.3642048200066281, 0.3888909674049345, -0.8155560132139653, 0.1824994980346096, -0.6460157547769448, 0.7726921125849633, -0.7574183434082375, 0.5743341411046669, -1.122291005811296, 0.39592557287173297, 1.7658327891993622, 0.03956382437720008, -1.1778154865134784, 1.3612446505476976, 0.4575543125475046, -0.6100736598999223, -0.16227885578643608, 0.9074892985388556, -1.2212771553160078, -0.003212139726141614, 1.78200159331685, 0.3051643896263515, 0.5975174164344041, -1.069764750030652, 0.692191997574215, 0.2696109540579809, -1.1542791753011188, -1.1385749479100127, -0.3699998786410983, -1.1344534996132034, 0.672988103248493, 2.072735424057368, -2.1147273254318355, 0.36626961903539124, 0.49402674018544357, 0.5216867514899008, -0.5714109512067463, -0.6761590098251625, 0.7042638386647735, 0.11699659474769354, -0.1640626482877639, -0.6269163627570845, -0.4238401729522169, 0.8249507519202229, -0.8400945963434742, 0.7002288932568547, -0.23430066738503985, -0.2697623100425775, 1.1296410882765562, -0.12089119108281095, 0.6785647004075804, -0.33277254474307, 1.2755116095541024, 2.8144119696677983, -0.04169729623664178, -0.8263225957897392, 0.5346425224779339, -0.1691615220796312, -0.028261136874453294, -0.9159867232468516, 0.4262668787057552, 0.46461136984729107, -1.6242310329688443, 0.25510137484310935, -0.4956452247932434, 0.9664158082185562, 0.5335313997466851, -0.21034234832133342, 0.7578100478233821, 1.8107721743872651, -0.9391654021207035, 0.9717304863534318, -1.0822307332369805, -1.6668502238440615, 0.3531006055894467, -0.4476662332456711, -0.6878703293135146, 0.44730597827608787, -2.319317841268029, 0.08900212438510414, -0.4572559821356708, 2.111367134794406, -0.934563080089709, 0.5637618038523917, -0.2991455869065257, 0.5153988151252, 0.7878677402720858, 0.7315317806795537, 1.524796465918317, -0.7562970183873434, 0.5426557390236036, 0.5131735893370422, -1.1370342487815206, 1.1363044523216463, 0.03011016115863619, -0.1844988603454125, -1.0691517608483327], \"yaxis\": \"y4\"}, {\"line\": {\"color\": \"rgba(128, 128, 128, 1.0)\", \"dash\": \"solid\", \"shape\": \"linear\", \"width\": 1.3}, \"marker\": {\"size\": 2, \"symbol\": \"circle\"}, \"mode\": \"markers\", \"name\": \"B\", \"text\": \"\", \"type\": \"scatter\", \"x\": [-0.45631341899455446, 0.4724584044203727, 1.9406963290187815, 1.3642048200066281, 0.3888909674049345, -0.8155560132139653, 0.1824994980346096, -0.6460157547769448, 0.7726921125849633, -0.7574183434082375, 0.5743341411046669, -1.122291005811296, 0.39592557287173297, 1.7658327891993622, 0.03956382437720008, -1.1778154865134784, 1.3612446505476976, 0.4575543125475046, -0.6100736598999223, -0.16227885578643608, 0.9074892985388556, -1.2212771553160078, -0.003212139726141614, 1.78200159331685, 0.3051643896263515, 0.5975174164344041, -1.069764750030652, 0.692191997574215, 0.2696109540579809, -1.1542791753011188, -1.1385749479100127, -0.3699998786410983, -1.1344534996132034, 0.672988103248493, 2.072735424057368, -2.1147273254318355, 0.36626961903539124, 0.49402674018544357, 0.5216867514899008, -0.5714109512067463, -0.6761590098251625, 0.7042638386647735, 0.11699659474769354, -0.1640626482877639, -0.6269163627570845, -0.4238401729522169, 0.8249507519202229, -0.8400945963434742, 0.7002288932568547, -0.23430066738503985, -0.2697623100425775, 1.1296410882765562, -0.12089119108281095, 0.6785647004075804, -0.33277254474307, 1.2755116095541024, 2.8144119696677983, -0.04169729623664178, -0.8263225957897392, 0.5346425224779339, -0.1691615220796312, -0.028261136874453294, -0.9159867232468516, 0.4262668787057552, 0.46461136984729107, -1.6242310329688443, 0.25510137484310935, -0.4956452247932434, 0.9664158082185562, 0.5335313997466851, -0.21034234832133342, 0.7578100478233821, 1.8107721743872651, -0.9391654021207035, 0.9717304863534318, -1.0822307332369805, -1.6668502238440615, 0.3531006055894467, -0.4476662332456711, -0.6878703293135146, 0.44730597827608787, -2.319317841268029, 0.08900212438510414, -0.4572559821356708, 2.111367134794406, -0.934563080089709, 0.5637618038523917, -0.2991455869065257, 0.5153988151252, 0.7878677402720858, 0.7315317806795537, 1.524796465918317, -0.7562970183873434, 0.5426557390236036, 0.5131735893370422, -1.1370342487815206, 1.1363044523216463, 0.03011016115863619, -0.1844988603454125, -1.0691517608483327], \"xaxis\": \"x5\", \"y\": [0.08585353006516305, -0.7652436652770636, -1.560799863236166, 0.854928611529446, 1.5294104037358258, 0.7802959777606984, 1.1092660375040786, -1.2997181168756695, -0.2501396717599244, 1.1672653683073624, 0.2657593084709434, 1.8067828968864428, 2.908460836515882, 0.2257063168775166, -0.3943778128855632, 1.4865989885509223, -0.419053119941921, 0.44213002504736104, -0.8765347571627182, 0.7631550538754935, 0.7313001692354236, -1.0848126581308521, -0.5011764356270655, 2.615349826248938, -0.8267702619275237, -0.5289210111072653, 1.3128095271060611, -0.6975326835999035, -2.0177953107320556, -0.9545140586667944, -1.2781018895409393, 1.772525799618574, -0.270952170350105, -1.0259308609936295, -0.8200550048236666, 0.5804852648112692, -0.09088463880203278, 0.6374103190401424, 2.0817045409484805, -0.5332820753894929, 0.7065147478521874, 0.1892745845799814, -1.2746433493418645, 0.8779534537612734, 0.5730668677347721, 0.2719515023616077, -2.042453178577107, 0.09760892427219381, 0.6327008342432406, 1.1287005425410521, 1.3913044302720308, -0.5069090531869064, 0.669878472883447, 0.5221818133872991, -0.4496145272881422, -1.1840356351224515, -1.4220007648795254, 0.8360266708830294, 0.8913948071631754, 0.9224107560138586, 2.7530407202962603, 1.438217420240023, -0.778441889649213, 0.023935454828543142, -1.6850521077202243, 0.27334839638225666, 0.28254467216477613, -0.8706248368005733, 1.9480382430405512, 0.15650044446126365, 1.063511636852657, 0.3615248823338626, 0.6274131303035508, 1.2697867007397823, -0.28884869074427993, -0.8917344572713624, -0.9016784589646977, -0.010188903097623743, -1.4282164380032398, 0.7143102611827443, -0.7029927020280965, 1.2519290706979243, 0.3714371833846144, -0.22736512435993828, 0.4504921171578333, 1.6955931253260765, 0.15955568966672862, -1.5718305019534387, 1.12036549343057, 0.6992989938926815, -0.8095249209852535, -0.7252921710467097, 0.3321356478041808, 0.8755392562950008, -1.124210575231865, -0.5979379435472303, -1.3604643669204346, 0.6374742546791262, -1.7711220550881799, 0.569197677960444], \"yaxis\": \"y5\"}, {\"histfunc\": \"count\", \"histnorm\": \"\", \"marker\": {\"color\": \"rgba(55, 128, 191, 1.0)\", \"line\": {\"color\": \"#4D5663\", \"width\": 1.3}}, \"name\": \"B\", \"nbinsx\": 10, \"opacity\": 0.8, \"orientation\": \"v\", \"type\": \"histogram\", \"x\": [0.08585353006516305, -0.7652436652770636, -1.560799863236166, 0.854928611529446, 1.5294104037358258, 0.7802959777606984, 1.1092660375040786, -1.2997181168756695, -0.2501396717599244, 1.1672653683073624, 0.2657593084709434, 1.8067828968864428, 2.908460836515882, 0.2257063168775166, -0.3943778128855632, 1.4865989885509223, -0.419053119941921, 0.44213002504736104, -0.8765347571627182, 0.7631550538754935, 0.7313001692354236, -1.0848126581308521, -0.5011764356270655, 2.615349826248938, -0.8267702619275237, -0.5289210111072653, 1.3128095271060611, -0.6975326835999035, -2.0177953107320556, -0.9545140586667944, -1.2781018895409393, 1.772525799618574, -0.270952170350105, -1.0259308609936295, -0.8200550048236666, 0.5804852648112692, -0.09088463880203278, 0.6374103190401424, 2.0817045409484805, -0.5332820753894929, 0.7065147478521874, 0.1892745845799814, -1.2746433493418645, 0.8779534537612734, 0.5730668677347721, 0.2719515023616077, -2.042453178577107, 0.09760892427219381, 0.6327008342432406, 1.1287005425410521, 1.3913044302720308, -0.5069090531869064, 0.669878472883447, 0.5221818133872991, -0.4496145272881422, -1.1840356351224515, -1.4220007648795254, 0.8360266708830294, 0.8913948071631754, 0.9224107560138586, 2.7530407202962603, 1.438217420240023, -0.778441889649213, 0.023935454828543142, -1.6850521077202243, 0.27334839638225666, 0.28254467216477613, -0.8706248368005733, 1.9480382430405512, 0.15650044446126365, 1.063511636852657, 0.3615248823338626, 0.6274131303035508, 1.2697867007397823, -0.28884869074427993, -0.8917344572713624, -0.9016784589646977, -0.010188903097623743, -1.4282164380032398, 0.7143102611827443, -0.7029927020280965, 1.2519290706979243, 0.3714371833846144, -0.22736512435993828, 0.4504921171578333, 1.6955931253260765, 0.15955568966672862, -1.5718305019534387, 1.12036549343057, 0.6992989938926815, -0.8095249209852535, -0.7252921710467097, 0.3321356478041808, 0.8755392562950008, -1.124210575231865, -0.5979379435472303, -1.3604643669204346, 0.6374742546791262, -1.7711220550881799, 0.569197677960444], \"xaxis\": \"x6\", \"yaxis\": \"y6\"}, {\"line\": {\"color\": \"rgba(128, 128, 128, 1.0)\", \"dash\": \"solid\", \"shape\": \"linear\", \"width\": 1.3}, \"marker\": {\"size\": 2, \"symbol\": \"circle\"}, \"mode\": \"markers\", \"name\": \"B\", \"text\": \"\", \"type\": \"scatter\", \"x\": [-0.5537379212190897, -0.8724233052694854, -0.4543058134976074, -0.11014863679154555, 0.14613296956043798, -0.07972816596592253, 0.23071816361939446, -0.46840908859725044, 0.18436213161850834, -0.014321693931055183, -0.026860748441306162, -0.27782290778010554, -0.7046569466338679, 1.0879505516918127, -0.14522834640323015, -0.15948615687583165, 1.1955460885919826, -0.23952068592326292, 0.8726253512372968, 0.07453419235280212, -1.8078878466901667, -0.6385244736830138, -1.410886899903527, 0.5952664050592602, 0.2886650222926791, 0.11039222692095005, -0.3197007695368137, 2.3655768820646585, 2.2183351120585986, -0.8676594284342002, 0.7306787469146706, -0.42963613672543155, -0.915272688592936, -0.07867636320966079, -0.9270634599251494, 0.12701375209898594, 0.7768472291937459, -0.5296385792732079, -0.8936976374236892, -0.4377805445168151, 0.949334370124812, 0.7570338091013735, 1.6624731100208912, -1.5790316048566215, -0.44822211140406854, -1.6261963423182388, -0.9056842189081151, 1.4739822729626488, -0.6571973195657878, 1.3625496020340948, 1.6574237010904567, -0.17749977787464458, 0.9075120615486731, 1.0256075023267957, 0.16592539270409867, -0.1855059373230086, 0.9471382851852113, 1.1930319801477383, 0.43295005260247615, 1.0996560077129431, 0.6175810332370919, -0.1428410083099575, 0.05301951224767886, -0.6507871628506191, 1.1365386389173497, 0.2889509725144247, -0.6460371173716895, -1.593962248440813, -1.146556415184358, -1.4590413297512774, 0.3026670183455334, 1.2966634986461367, 0.5173549255270803, -0.0632510475536566, 0.3990092802832907, -1.9951236100521847, 1.3744300460745864, 1.6155001221221712, 0.5063360072351307, -2.6977473302984154, 0.13553992385555955, 0.23996422729562236, 1.093910238408881, 1.0970779058678999, -1.0214634318767166, -0.9099269078622486, 0.2313839712322445, 1.380306830071051, -0.12695330769444957, -0.3000244148642409, 1.906165655894951, -2.713127925355512, -0.5147146933258838, -0.03379601581274362, 1.0304962528228427, -0.6896832717756195, 0.46056227260729415, 0.515696867981505, -0.4177010269870619, -0.37409452757803896], \"xaxis\": \"x7\", \"y\": [0.08585353006516305, -0.7652436652770636, -1.560799863236166, 0.854928611529446, 1.5294104037358258, 0.7802959777606984, 1.1092660375040786, -1.2997181168756695, -0.2501396717599244, 1.1672653683073624, 0.2657593084709434, 1.8067828968864428, 2.908460836515882, 0.2257063168775166, -0.3943778128855632, 1.4865989885509223, -0.419053119941921, 0.44213002504736104, -0.8765347571627182, 0.7631550538754935, 0.7313001692354236, -1.0848126581308521, -0.5011764356270655, 2.615349826248938, -0.8267702619275237, -0.5289210111072653, 1.3128095271060611, -0.6975326835999035, -2.0177953107320556, -0.9545140586667944, -1.2781018895409393, 1.772525799618574, -0.270952170350105, -1.0259308609936295, -0.8200550048236666, 0.5804852648112692, -0.09088463880203278, 0.6374103190401424, 2.0817045409484805, -0.5332820753894929, 0.7065147478521874, 0.1892745845799814, -1.2746433493418645, 0.8779534537612734, 0.5730668677347721, 0.2719515023616077, -2.042453178577107, 0.09760892427219381, 0.6327008342432406, 1.1287005425410521, 1.3913044302720308, -0.5069090531869064, 0.669878472883447, 0.5221818133872991, -0.4496145272881422, -1.1840356351224515, -1.4220007648795254, 0.8360266708830294, 0.8913948071631754, 0.9224107560138586, 2.7530407202962603, 1.438217420240023, -0.778441889649213, 0.023935454828543142, -1.6850521077202243, 0.27334839638225666, 0.28254467216477613, -0.8706248368005733, 1.9480382430405512, 0.15650044446126365, 1.063511636852657, 0.3615248823338626, 0.6274131303035508, 1.2697867007397823, -0.28884869074427993, -0.8917344572713624, -0.9016784589646977, -0.010188903097623743, -1.4282164380032398, 0.7143102611827443, -0.7029927020280965, 1.2519290706979243, 0.3714371833846144, -0.22736512435993828, 0.4504921171578333, 1.6955931253260765, 0.15955568966672862, -1.5718305019534387, 1.12036549343057, 0.6992989938926815, -0.8095249209852535, -0.7252921710467097, 0.3321356478041808, 0.8755392562950008, -1.124210575231865, -0.5979379435472303, -1.3604643669204346, 0.6374742546791262, -1.7711220550881799, 0.569197677960444], \"yaxis\": \"y7\"}, {\"line\": {\"color\": \"rgba(128, 128, 128, 1.0)\", \"dash\": \"solid\", \"shape\": \"linear\", \"width\": 1.3}, \"marker\": {\"size\": 2, \"symbol\": \"circle\"}, \"mode\": \"markers\", \"name\": \"B\", \"text\": \"\", \"type\": \"scatter\", \"x\": [1.5842791108277439, 1.9392303036214489, 0.6177777428271791, -1.8121307158913724, -0.3478388077547154, 0.764501329342132, -0.8498630339078125, -1.2757866710949821, -0.39672634945812846, -0.18400398821812025, 0.02238367836008293, 0.6037245239520784, 1.074122824800881, 0.5221152359810379, 1.3141904082003788, 1.6263719726119574, 0.2098046320866795, -0.515314340981756, 0.6591772152742821, -0.10319904393445216, -1.0275911617031368, -1.040812400145377, -1.33717396085918, 0.7034028417819237, -0.6354677291496945, -1.756126740395263, -0.4683718749826806, -0.09119189910221012, -0.28181623366681957, -0.5040139618350105, 0.765799998231126, -0.9121086046624316, -0.2434741473613454, 0.10909321518599782, -1.0614589305554516, 0.05583961261659571, -0.11339955427679063, -0.23693665824523838, 0.8305459163917228, -0.8834788689149975, 0.5824207321113793, 0.5247674593843477, 1.0652507124048907, 0.2948395667837005, 0.9611778573067953, -1.51007086093071, -0.1755219613287985, -0.19160948506838746, -1.1129302234342129, -0.53315881337324, -0.4631060873723058, -0.005449116729710715, 0.550036258139161, 1.4345973755214232, 0.24377148610051458, -1.814551011894297, -0.4314479546649242, -1.2808504760168282, -1.085772356895492, 0.15716263203964206, 1.1007096069297018, -0.6107970611136976, 0.09665096619158409, -0.8526903668560195, -1.3487242239250592, -2.3590648342025893, 0.8992190475722818, 0.45260360125003485, -0.35511067930069296, 0.014636073273193839, -0.30196743632525536, -0.3997586862708823, -1.6961766657373825, 2.1936046812317134, -0.0021114666079433664, -1.3061912957548663, -0.3917026007185684, 0.03583860770544733, 0.3874777237537701, -1.8392345205990421, 0.7554916700328876, 0.9688391568214227, -0.1012405112232658, 2.3274293386023164, 0.8314788066309082, 0.4366381524548407, 2.1782212890983534, -0.4766125984974227, -0.03431037062216538, -1.0113084943758948, -1.6138146605719532, 0.6076397596794696, -0.4491837282050882, -0.25933883152910764, -0.32794420472944924, -0.015607513578014976, 0.5327810669308646, 0.9171765911653947, -0.04806466526877816, -0.6059465457848144], \"xaxis\": \"x8\", \"y\": [0.08585353006516305, -0.7652436652770636, -1.560799863236166, 0.854928611529446, 1.5294104037358258, 0.7802959777606984, 1.1092660375040786, -1.2997181168756695, -0.2501396717599244, 1.1672653683073624, 0.2657593084709434, 1.8067828968864428, 2.908460836515882, 0.2257063168775166, -0.3943778128855632, 1.4865989885509223, -0.419053119941921, 0.44213002504736104, -0.8765347571627182, 0.7631550538754935, 0.7313001692354236, -1.0848126581308521, -0.5011764356270655, 2.615349826248938, -0.8267702619275237, -0.5289210111072653, 1.3128095271060611, -0.6975326835999035, -2.0177953107320556, -0.9545140586667944, -1.2781018895409393, 1.772525799618574, -0.270952170350105, -1.0259308609936295, -0.8200550048236666, 0.5804852648112692, -0.09088463880203278, 0.6374103190401424, 2.0817045409484805, -0.5332820753894929, 0.7065147478521874, 0.1892745845799814, -1.2746433493418645, 0.8779534537612734, 0.5730668677347721, 0.2719515023616077, -2.042453178577107, 0.09760892427219381, 0.6327008342432406, 1.1287005425410521, 1.3913044302720308, -0.5069090531869064, 0.669878472883447, 0.5221818133872991, -0.4496145272881422, -1.1840356351224515, -1.4220007648795254, 0.8360266708830294, 0.8913948071631754, 0.9224107560138586, 2.7530407202962603, 1.438217420240023, -0.778441889649213, 0.023935454828543142, -1.6850521077202243, 0.27334839638225666, 0.28254467216477613, -0.8706248368005733, 1.9480382430405512, 0.15650044446126365, 1.063511636852657, 0.3615248823338626, 0.6274131303035508, 1.2697867007397823, -0.28884869074427993, -0.8917344572713624, -0.9016784589646977, -0.010188903097623743, -1.4282164380032398, 0.7143102611827443, -0.7029927020280965, 1.2519290706979243, 0.3714371833846144, -0.22736512435993828, 0.4504921171578333, 1.6955931253260765, 0.15955568966672862, -1.5718305019534387, 1.12036549343057, 0.6992989938926815, -0.8095249209852535, -0.7252921710467097, 0.3321356478041808, 0.8755392562950008, -1.124210575231865, -0.5979379435472303, -1.3604643669204346, 0.6374742546791262, -1.7711220550881799, 0.569197677960444], \"yaxis\": \"y8\"}, {\"line\": {\"color\": \"rgba(128, 128, 128, 1.0)\", \"dash\": \"solid\", \"shape\": \"linear\", \"width\": 1.3}, \"marker\": {\"size\": 2, \"symbol\": \"circle\"}, \"mode\": \"markers\", \"name\": \"C\", \"text\": \"\", \"type\": \"scatter\", \"x\": [-0.45631341899455446, 0.4724584044203727, 1.9406963290187815, 1.3642048200066281, 0.3888909674049345, -0.8155560132139653, 0.1824994980346096, -0.6460157547769448, 0.7726921125849633, -0.7574183434082375, 0.5743341411046669, -1.122291005811296, 0.39592557287173297, 1.7658327891993622, 0.03956382437720008, -1.1778154865134784, 1.3612446505476976, 0.4575543125475046, -0.6100736598999223, -0.16227885578643608, 0.9074892985388556, -1.2212771553160078, -0.003212139726141614, 1.78200159331685, 0.3051643896263515, 0.5975174164344041, -1.069764750030652, 0.692191997574215, 0.2696109540579809, -1.1542791753011188, -1.1385749479100127, -0.3699998786410983, -1.1344534996132034, 0.672988103248493, 2.072735424057368, -2.1147273254318355, 0.36626961903539124, 0.49402674018544357, 0.5216867514899008, -0.5714109512067463, -0.6761590098251625, 0.7042638386647735, 0.11699659474769354, -0.1640626482877639, -0.6269163627570845, -0.4238401729522169, 0.8249507519202229, -0.8400945963434742, 0.7002288932568547, -0.23430066738503985, -0.2697623100425775, 1.1296410882765562, -0.12089119108281095, 0.6785647004075804, -0.33277254474307, 1.2755116095541024, 2.8144119696677983, -0.04169729623664178, -0.8263225957897392, 0.5346425224779339, -0.1691615220796312, -0.028261136874453294, -0.9159867232468516, 0.4262668787057552, 0.46461136984729107, -1.6242310329688443, 0.25510137484310935, -0.4956452247932434, 0.9664158082185562, 0.5335313997466851, -0.21034234832133342, 0.7578100478233821, 1.8107721743872651, -0.9391654021207035, 0.9717304863534318, -1.0822307332369805, -1.6668502238440615, 0.3531006055894467, -0.4476662332456711, -0.6878703293135146, 0.44730597827608787, -2.319317841268029, 0.08900212438510414, -0.4572559821356708, 2.111367134794406, -0.934563080089709, 0.5637618038523917, -0.2991455869065257, 0.5153988151252, 0.7878677402720858, 0.7315317806795537, 1.524796465918317, -0.7562970183873434, 0.5426557390236036, 0.5131735893370422, -1.1370342487815206, 1.1363044523216463, 0.03011016115863619, -0.1844988603454125, -1.0691517608483327], \"xaxis\": \"x9\", \"y\": [-0.5537379212190897, -0.8724233052694854, -0.4543058134976074, -0.11014863679154555, 0.14613296956043798, -0.07972816596592253, 0.23071816361939446, -0.46840908859725044, 0.18436213161850834, -0.014321693931055183, -0.026860748441306162, -0.27782290778010554, -0.7046569466338679, 1.0879505516918127, -0.14522834640323015, -0.15948615687583165, 1.1955460885919826, -0.23952068592326292, 0.8726253512372968, 0.07453419235280212, -1.8078878466901667, -0.6385244736830138, -1.410886899903527, 0.5952664050592602, 0.2886650222926791, 0.11039222692095005, -0.3197007695368137, 2.3655768820646585, 2.2183351120585986, -0.8676594284342002, 0.7306787469146706, -0.42963613672543155, -0.915272688592936, -0.07867636320966079, -0.9270634599251494, 0.12701375209898594, 0.7768472291937459, -0.5296385792732079, -0.8936976374236892, -0.4377805445168151, 0.949334370124812, 0.7570338091013735, 1.6624731100208912, -1.5790316048566215, -0.44822211140406854, -1.6261963423182388, -0.9056842189081151, 1.4739822729626488, -0.6571973195657878, 1.3625496020340948, 1.6574237010904567, -0.17749977787464458, 0.9075120615486731, 1.0256075023267957, 0.16592539270409867, -0.1855059373230086, 0.9471382851852113, 1.1930319801477383, 0.43295005260247615, 1.0996560077129431, 0.6175810332370919, -0.1428410083099575, 0.05301951224767886, -0.6507871628506191, 1.1365386389173497, 0.2889509725144247, -0.6460371173716895, -1.593962248440813, -1.146556415184358, -1.4590413297512774, 0.3026670183455334, 1.2966634986461367, 0.5173549255270803, -0.0632510475536566, 0.3990092802832907, -1.9951236100521847, 1.3744300460745864, 1.6155001221221712, 0.5063360072351307, -2.6977473302984154, 0.13553992385555955, 0.23996422729562236, 1.093910238408881, 1.0970779058678999, -1.0214634318767166, -0.9099269078622486, 0.2313839712322445, 1.380306830071051, -0.12695330769444957, -0.3000244148642409, 1.906165655894951, -2.713127925355512, -0.5147146933258838, -0.03379601581274362, 1.0304962528228427, -0.6896832717756195, 0.46056227260729415, 0.515696867981505, -0.4177010269870619, -0.37409452757803896], \"yaxis\": \"y9\"}, {\"line\": {\"color\": \"rgba(128, 128, 128, 1.0)\", \"dash\": \"solid\", \"shape\": \"linear\", \"width\": 1.3}, \"marker\": {\"size\": 2, \"symbol\": \"circle\"}, \"mode\": \"markers\", \"name\": \"C\", \"text\": \"\", \"type\": \"scatter\", \"x\": [0.08585353006516305, -0.7652436652770636, -1.560799863236166, 0.854928611529446, 1.5294104037358258, 0.7802959777606984, 1.1092660375040786, -1.2997181168756695, -0.2501396717599244, 1.1672653683073624, 0.2657593084709434, 1.8067828968864428, 2.908460836515882, 0.2257063168775166, -0.3943778128855632, 1.4865989885509223, -0.419053119941921, 0.44213002504736104, -0.8765347571627182, 0.7631550538754935, 0.7313001692354236, -1.0848126581308521, -0.5011764356270655, 2.615349826248938, -0.8267702619275237, -0.5289210111072653, 1.3128095271060611, -0.6975326835999035, -2.0177953107320556, -0.9545140586667944, -1.2781018895409393, 1.772525799618574, -0.270952170350105, -1.0259308609936295, -0.8200550048236666, 0.5804852648112692, -0.09088463880203278, 0.6374103190401424, 2.0817045409484805, -0.5332820753894929, 0.7065147478521874, 0.1892745845799814, -1.2746433493418645, 0.8779534537612734, 0.5730668677347721, 0.2719515023616077, -2.042453178577107, 0.09760892427219381, 0.6327008342432406, 1.1287005425410521, 1.3913044302720308, -0.5069090531869064, 0.669878472883447, 0.5221818133872991, -0.4496145272881422, -1.1840356351224515, -1.4220007648795254, 0.8360266708830294, 0.8913948071631754, 0.9224107560138586, 2.7530407202962603, 1.438217420240023, -0.778441889649213, 0.023935454828543142, -1.6850521077202243, 0.27334839638225666, 0.28254467216477613, -0.8706248368005733, 1.9480382430405512, 0.15650044446126365, 1.063511636852657, 0.3615248823338626, 0.6274131303035508, 1.2697867007397823, -0.28884869074427993, -0.8917344572713624, -0.9016784589646977, -0.010188903097623743, -1.4282164380032398, 0.7143102611827443, -0.7029927020280965, 1.2519290706979243, 0.3714371833846144, -0.22736512435993828, 0.4504921171578333, 1.6955931253260765, 0.15955568966672862, -1.5718305019534387, 1.12036549343057, 0.6992989938926815, -0.8095249209852535, -0.7252921710467097, 0.3321356478041808, 0.8755392562950008, -1.124210575231865, -0.5979379435472303, -1.3604643669204346, 0.6374742546791262, -1.7711220550881799, 0.569197677960444], \"xaxis\": \"x10\", \"y\": [-0.5537379212190897, -0.8724233052694854, -0.4543058134976074, -0.11014863679154555, 0.14613296956043798, -0.07972816596592253, 0.23071816361939446, -0.46840908859725044, 0.18436213161850834, -0.014321693931055183, -0.026860748441306162, -0.27782290778010554, -0.7046569466338679, 1.0879505516918127, -0.14522834640323015, -0.15948615687583165, 1.1955460885919826, -0.23952068592326292, 0.8726253512372968, 0.07453419235280212, -1.8078878466901667, -0.6385244736830138, -1.410886899903527, 0.5952664050592602, 0.2886650222926791, 0.11039222692095005, -0.3197007695368137, 2.3655768820646585, 2.2183351120585986, -0.8676594284342002, 0.7306787469146706, -0.42963613672543155, -0.915272688592936, -0.07867636320966079, -0.9270634599251494, 0.12701375209898594, 0.7768472291937459, -0.5296385792732079, -0.8936976374236892, -0.4377805445168151, 0.949334370124812, 0.7570338091013735, 1.6624731100208912, -1.5790316048566215, -0.44822211140406854, -1.6261963423182388, -0.9056842189081151, 1.4739822729626488, -0.6571973195657878, 1.3625496020340948, 1.6574237010904567, -0.17749977787464458, 0.9075120615486731, 1.0256075023267957, 0.16592539270409867, -0.1855059373230086, 0.9471382851852113, 1.1930319801477383, 0.43295005260247615, 1.0996560077129431, 0.6175810332370919, -0.1428410083099575, 0.05301951224767886, -0.6507871628506191, 1.1365386389173497, 0.2889509725144247, -0.6460371173716895, -1.593962248440813, -1.146556415184358, -1.4590413297512774, 0.3026670183455334, 1.2966634986461367, 0.5173549255270803, -0.0632510475536566, 0.3990092802832907, -1.9951236100521847, 1.3744300460745864, 1.6155001221221712, 0.5063360072351307, -2.6977473302984154, 0.13553992385555955, 0.23996422729562236, 1.093910238408881, 1.0970779058678999, -1.0214634318767166, -0.9099269078622486, 0.2313839712322445, 1.380306830071051, -0.12695330769444957, -0.3000244148642409, 1.906165655894951, -2.713127925355512, -0.5147146933258838, -0.03379601581274362, 1.0304962528228427, -0.6896832717756195, 0.46056227260729415, 0.515696867981505, -0.4177010269870619, -0.37409452757803896], \"yaxis\": \"y10\"}, {\"histfunc\": \"count\", \"histnorm\": \"\", \"marker\": {\"color\": \"rgba(50, 171, 96, 1.0)\", \"line\": {\"color\": \"#4D5663\", \"width\": 1.3}}, \"name\": \"C\", \"nbinsx\": 10, \"opacity\": 0.8, \"orientation\": \"v\", \"type\": \"histogram\", \"x\": [-0.5537379212190897, -0.8724233052694854, -0.4543058134976074, -0.11014863679154555, 0.14613296956043798, -0.07972816596592253, 0.23071816361939446, -0.46840908859725044, 0.18436213161850834, -0.014321693931055183, -0.026860748441306162, -0.27782290778010554, -0.7046569466338679, 1.0879505516918127, -0.14522834640323015, -0.15948615687583165, 1.1955460885919826, -0.23952068592326292, 0.8726253512372968, 0.07453419235280212, -1.8078878466901667, -0.6385244736830138, -1.410886899903527, 0.5952664050592602, 0.2886650222926791, 0.11039222692095005, -0.3197007695368137, 2.3655768820646585, 2.2183351120585986, -0.8676594284342002, 0.7306787469146706, -0.42963613672543155, -0.915272688592936, -0.07867636320966079, -0.9270634599251494, 0.12701375209898594, 0.7768472291937459, -0.5296385792732079, -0.8936976374236892, -0.4377805445168151, 0.949334370124812, 0.7570338091013735, 1.6624731100208912, -1.5790316048566215, -0.44822211140406854, -1.6261963423182388, -0.9056842189081151, 1.4739822729626488, -0.6571973195657878, 1.3625496020340948, 1.6574237010904567, -0.17749977787464458, 0.9075120615486731, 1.0256075023267957, 0.16592539270409867, -0.1855059373230086, 0.9471382851852113, 1.1930319801477383, 0.43295005260247615, 1.0996560077129431, 0.6175810332370919, -0.1428410083099575, 0.05301951224767886, -0.6507871628506191, 1.1365386389173497, 0.2889509725144247, -0.6460371173716895, -1.593962248440813, -1.146556415184358, -1.4590413297512774, 0.3026670183455334, 1.2966634986461367, 0.5173549255270803, -0.0632510475536566, 0.3990092802832907, -1.9951236100521847, 1.3744300460745864, 1.6155001221221712, 0.5063360072351307, -2.6977473302984154, 0.13553992385555955, 0.23996422729562236, 1.093910238408881, 1.0970779058678999, -1.0214634318767166, -0.9099269078622486, 0.2313839712322445, 1.380306830071051, -0.12695330769444957, -0.3000244148642409, 1.906165655894951, -2.713127925355512, -0.5147146933258838, -0.03379601581274362, 1.0304962528228427, -0.6896832717756195, 0.46056227260729415, 0.515696867981505, -0.4177010269870619, -0.37409452757803896], \"xaxis\": \"x11\", \"yaxis\": \"y11\"}, {\"line\": {\"color\": \"rgba(128, 128, 128, 1.0)\", \"dash\": \"solid\", \"shape\": \"linear\", \"width\": 1.3}, \"marker\": {\"size\": 2, \"symbol\": \"circle\"}, \"mode\": \"markers\", \"name\": \"C\", \"text\": \"\", \"type\": \"scatter\", \"x\": [1.5842791108277439, 1.9392303036214489, 0.6177777428271791, -1.8121307158913724, -0.3478388077547154, 0.764501329342132, -0.8498630339078125, -1.2757866710949821, -0.39672634945812846, -0.18400398821812025, 0.02238367836008293, 0.6037245239520784, 1.074122824800881, 0.5221152359810379, 1.3141904082003788, 1.6263719726119574, 0.2098046320866795, -0.515314340981756, 0.6591772152742821, -0.10319904393445216, -1.0275911617031368, -1.040812400145377, -1.33717396085918, 0.7034028417819237, -0.6354677291496945, -1.756126740395263, -0.4683718749826806, -0.09119189910221012, -0.28181623366681957, -0.5040139618350105, 0.765799998231126, -0.9121086046624316, -0.2434741473613454, 0.10909321518599782, -1.0614589305554516, 0.05583961261659571, -0.11339955427679063, -0.23693665824523838, 0.8305459163917228, -0.8834788689149975, 0.5824207321113793, 0.5247674593843477, 1.0652507124048907, 0.2948395667837005, 0.9611778573067953, -1.51007086093071, -0.1755219613287985, -0.19160948506838746, -1.1129302234342129, -0.53315881337324, -0.4631060873723058, -0.005449116729710715, 0.550036258139161, 1.4345973755214232, 0.24377148610051458, -1.814551011894297, -0.4314479546649242, -1.2808504760168282, -1.085772356895492, 0.15716263203964206, 1.1007096069297018, -0.6107970611136976, 0.09665096619158409, -0.8526903668560195, -1.3487242239250592, -2.3590648342025893, 0.8992190475722818, 0.45260360125003485, -0.35511067930069296, 0.014636073273193839, -0.30196743632525536, -0.3997586862708823, -1.6961766657373825, 2.1936046812317134, -0.0021114666079433664, -1.3061912957548663, -0.3917026007185684, 0.03583860770544733, 0.3874777237537701, -1.8392345205990421, 0.7554916700328876, 0.9688391568214227, -0.1012405112232658, 2.3274293386023164, 0.8314788066309082, 0.4366381524548407, 2.1782212890983534, -0.4766125984974227, -0.03431037062216538, -1.0113084943758948, -1.6138146605719532, 0.6076397596794696, -0.4491837282050882, -0.25933883152910764, -0.32794420472944924, -0.015607513578014976, 0.5327810669308646, 0.9171765911653947, -0.04806466526877816, -0.6059465457848144], \"xaxis\": \"x12\", \"y\": [-0.5537379212190897, -0.8724233052694854, -0.4543058134976074, -0.11014863679154555, 0.14613296956043798, -0.07972816596592253, 0.23071816361939446, -0.46840908859725044, 0.18436213161850834, -0.014321693931055183, -0.026860748441306162, -0.27782290778010554, -0.7046569466338679, 1.0879505516918127, -0.14522834640323015, -0.15948615687583165, 1.1955460885919826, -0.23952068592326292, 0.8726253512372968, 0.07453419235280212, -1.8078878466901667, -0.6385244736830138, -1.410886899903527, 0.5952664050592602, 0.2886650222926791, 0.11039222692095005, -0.3197007695368137, 2.3655768820646585, 2.2183351120585986, -0.8676594284342002, 0.7306787469146706, -0.42963613672543155, -0.915272688592936, -0.07867636320966079, -0.9270634599251494, 0.12701375209898594, 0.7768472291937459, -0.5296385792732079, -0.8936976374236892, -0.4377805445168151, 0.949334370124812, 0.7570338091013735, 1.6624731100208912, -1.5790316048566215, -0.44822211140406854, -1.6261963423182388, -0.9056842189081151, 1.4739822729626488, -0.6571973195657878, 1.3625496020340948, 1.6574237010904567, -0.17749977787464458, 0.9075120615486731, 1.0256075023267957, 0.16592539270409867, -0.1855059373230086, 0.9471382851852113, 1.1930319801477383, 0.43295005260247615, 1.0996560077129431, 0.6175810332370919, -0.1428410083099575, 0.05301951224767886, -0.6507871628506191, 1.1365386389173497, 0.2889509725144247, -0.6460371173716895, -1.593962248440813, -1.146556415184358, -1.4590413297512774, 0.3026670183455334, 1.2966634986461367, 0.5173549255270803, -0.0632510475536566, 0.3990092802832907, -1.9951236100521847, 1.3744300460745864, 1.6155001221221712, 0.5063360072351307, -2.6977473302984154, 0.13553992385555955, 0.23996422729562236, 1.093910238408881, 1.0970779058678999, -1.0214634318767166, -0.9099269078622486, 0.2313839712322445, 1.380306830071051, -0.12695330769444957, -0.3000244148642409, 1.906165655894951, -2.713127925355512, -0.5147146933258838, -0.03379601581274362, 1.0304962528228427, -0.6896832717756195, 0.46056227260729415, 0.515696867981505, -0.4177010269870619, -0.37409452757803896], \"yaxis\": \"y12\"}, {\"line\": {\"color\": \"rgba(128, 128, 128, 1.0)\", \"dash\": \"solid\", \"shape\": \"linear\", \"width\": 1.3}, \"marker\": {\"size\": 2, \"symbol\": \"circle\"}, \"mode\": \"markers\", \"name\": \"D\", \"text\": \"\", \"type\": \"scatter\", \"x\": [-0.45631341899455446, 0.4724584044203727, 1.9406963290187815, 1.3642048200066281, 0.3888909674049345, -0.8155560132139653, 0.1824994980346096, -0.6460157547769448, 0.7726921125849633, -0.7574183434082375, 0.5743341411046669, -1.122291005811296, 0.39592557287173297, 1.7658327891993622, 0.03956382437720008, -1.1778154865134784, 1.3612446505476976, 0.4575543125475046, -0.6100736598999223, -0.16227885578643608, 0.9074892985388556, -1.2212771553160078, -0.003212139726141614, 1.78200159331685, 0.3051643896263515, 0.5975174164344041, -1.069764750030652, 0.692191997574215, 0.2696109540579809, -1.1542791753011188, -1.1385749479100127, -0.3699998786410983, -1.1344534996132034, 0.672988103248493, 2.072735424057368, -2.1147273254318355, 0.36626961903539124, 0.49402674018544357, 0.5216867514899008, -0.5714109512067463, -0.6761590098251625, 0.7042638386647735, 0.11699659474769354, -0.1640626482877639, -0.6269163627570845, -0.4238401729522169, 0.8249507519202229, -0.8400945963434742, 0.7002288932568547, -0.23430066738503985, -0.2697623100425775, 1.1296410882765562, -0.12089119108281095, 0.6785647004075804, -0.33277254474307, 1.2755116095541024, 2.8144119696677983, -0.04169729623664178, -0.8263225957897392, 0.5346425224779339, -0.1691615220796312, -0.028261136874453294, -0.9159867232468516, 0.4262668787057552, 0.46461136984729107, -1.6242310329688443, 0.25510137484310935, -0.4956452247932434, 0.9664158082185562, 0.5335313997466851, -0.21034234832133342, 0.7578100478233821, 1.8107721743872651, -0.9391654021207035, 0.9717304863534318, -1.0822307332369805, -1.6668502238440615, 0.3531006055894467, -0.4476662332456711, -0.6878703293135146, 0.44730597827608787, -2.319317841268029, 0.08900212438510414, -0.4572559821356708, 2.111367134794406, -0.934563080089709, 0.5637618038523917, -0.2991455869065257, 0.5153988151252, 0.7878677402720858, 0.7315317806795537, 1.524796465918317, -0.7562970183873434, 0.5426557390236036, 0.5131735893370422, -1.1370342487815206, 1.1363044523216463, 0.03011016115863619, -0.1844988603454125, -1.0691517608483327], \"xaxis\": \"x13\", \"y\": [1.5842791108277439, 1.9392303036214489, 0.6177777428271791, -1.8121307158913724, -0.3478388077547154, 0.764501329342132, -0.8498630339078125, -1.2757866710949821, -0.39672634945812846, -0.18400398821812025, 0.02238367836008293, 0.6037245239520784, 1.074122824800881, 0.5221152359810379, 1.3141904082003788, 1.6263719726119574, 0.2098046320866795, -0.515314340981756, 0.6591772152742821, -0.10319904393445216, -1.0275911617031368, -1.040812400145377, -1.33717396085918, 0.7034028417819237, -0.6354677291496945, -1.756126740395263, -0.4683718749826806, -0.09119189910221012, -0.28181623366681957, -0.5040139618350105, 0.765799998231126, -0.9121086046624316, -0.2434741473613454, 0.10909321518599782, -1.0614589305554516, 0.05583961261659571, -0.11339955427679063, -0.23693665824523838, 0.8305459163917228, -0.8834788689149975, 0.5824207321113793, 0.5247674593843477, 1.0652507124048907, 0.2948395667837005, 0.9611778573067953, -1.51007086093071, -0.1755219613287985, -0.19160948506838746, -1.1129302234342129, -0.53315881337324, -0.4631060873723058, -0.005449116729710715, 0.550036258139161, 1.4345973755214232, 0.24377148610051458, -1.814551011894297, -0.4314479546649242, -1.2808504760168282, -1.085772356895492, 0.15716263203964206, 1.1007096069297018, -0.6107970611136976, 0.09665096619158409, -0.8526903668560195, -1.3487242239250592, -2.3590648342025893, 0.8992190475722818, 0.45260360125003485, -0.35511067930069296, 0.014636073273193839, -0.30196743632525536, -0.3997586862708823, -1.6961766657373825, 2.1936046812317134, -0.0021114666079433664, -1.3061912957548663, -0.3917026007185684, 0.03583860770544733, 0.3874777237537701, -1.8392345205990421, 0.7554916700328876, 0.9688391568214227, -0.1012405112232658, 2.3274293386023164, 0.8314788066309082, 0.4366381524548407, 2.1782212890983534, -0.4766125984974227, -0.03431037062216538, -1.0113084943758948, -1.6138146605719532, 0.6076397596794696, -0.4491837282050882, -0.25933883152910764, -0.32794420472944924, -0.015607513578014976, 0.5327810669308646, 0.9171765911653947, -0.04806466526877816, -0.6059465457848144], \"yaxis\": \"y13\"}, {\"line\": {\"color\": \"rgba(128, 128, 128, 1.0)\", \"dash\": \"solid\", \"shape\": \"linear\", \"width\": 1.3}, \"marker\": {\"size\": 2, \"symbol\": \"circle\"}, \"mode\": \"markers\", \"name\": \"D\", \"text\": \"\", \"type\": \"scatter\", \"x\": [0.08585353006516305, -0.7652436652770636, -1.560799863236166, 0.854928611529446, 1.5294104037358258, 0.7802959777606984, 1.1092660375040786, -1.2997181168756695, -0.2501396717599244, 1.1672653683073624, 0.2657593084709434, 1.8067828968864428, 2.908460836515882, 0.2257063168775166, -0.3943778128855632, 1.4865989885509223, -0.419053119941921, 0.44213002504736104, -0.8765347571627182, 0.7631550538754935, 0.7313001692354236, -1.0848126581308521, -0.5011764356270655, 2.615349826248938, -0.8267702619275237, -0.5289210111072653, 1.3128095271060611, -0.6975326835999035, -2.0177953107320556, -0.9545140586667944, -1.2781018895409393, 1.772525799618574, -0.270952170350105, -1.0259308609936295, -0.8200550048236666, 0.5804852648112692, -0.09088463880203278, 0.6374103190401424, 2.0817045409484805, -0.5332820753894929, 0.7065147478521874, 0.1892745845799814, -1.2746433493418645, 0.8779534537612734, 0.5730668677347721, 0.2719515023616077, -2.042453178577107, 0.09760892427219381, 0.6327008342432406, 1.1287005425410521, 1.3913044302720308, -0.5069090531869064, 0.669878472883447, 0.5221818133872991, -0.4496145272881422, -1.1840356351224515, -1.4220007648795254, 0.8360266708830294, 0.8913948071631754, 0.9224107560138586, 2.7530407202962603, 1.438217420240023, -0.778441889649213, 0.023935454828543142, -1.6850521077202243, 0.27334839638225666, 0.28254467216477613, -0.8706248368005733, 1.9480382430405512, 0.15650044446126365, 1.063511636852657, 0.3615248823338626, 0.6274131303035508, 1.2697867007397823, -0.28884869074427993, -0.8917344572713624, -0.9016784589646977, -0.010188903097623743, -1.4282164380032398, 0.7143102611827443, -0.7029927020280965, 1.2519290706979243, 0.3714371833846144, -0.22736512435993828, 0.4504921171578333, 1.6955931253260765, 0.15955568966672862, -1.5718305019534387, 1.12036549343057, 0.6992989938926815, -0.8095249209852535, -0.7252921710467097, 0.3321356478041808, 0.8755392562950008, -1.124210575231865, -0.5979379435472303, -1.3604643669204346, 0.6374742546791262, -1.7711220550881799, 0.569197677960444], \"xaxis\": \"x14\", \"y\": [1.5842791108277439, 1.9392303036214489, 0.6177777428271791, -1.8121307158913724, -0.3478388077547154, 0.764501329342132, -0.8498630339078125, -1.2757866710949821, -0.39672634945812846, -0.18400398821812025, 0.02238367836008293, 0.6037245239520784, 1.074122824800881, 0.5221152359810379, 1.3141904082003788, 1.6263719726119574, 0.2098046320866795, -0.515314340981756, 0.6591772152742821, -0.10319904393445216, -1.0275911617031368, -1.040812400145377, -1.33717396085918, 0.7034028417819237, -0.6354677291496945, -1.756126740395263, -0.4683718749826806, -0.09119189910221012, -0.28181623366681957, -0.5040139618350105, 0.765799998231126, -0.9121086046624316, -0.2434741473613454, 0.10909321518599782, -1.0614589305554516, 0.05583961261659571, -0.11339955427679063, -0.23693665824523838, 0.8305459163917228, -0.8834788689149975, 0.5824207321113793, 0.5247674593843477, 1.0652507124048907, 0.2948395667837005, 0.9611778573067953, -1.51007086093071, -0.1755219613287985, -0.19160948506838746, -1.1129302234342129, -0.53315881337324, -0.4631060873723058, -0.005449116729710715, 0.550036258139161, 1.4345973755214232, 0.24377148610051458, -1.814551011894297, -0.4314479546649242, -1.2808504760168282, -1.085772356895492, 0.15716263203964206, 1.1007096069297018, -0.6107970611136976, 0.09665096619158409, -0.8526903668560195, -1.3487242239250592, -2.3590648342025893, 0.8992190475722818, 0.45260360125003485, -0.35511067930069296, 0.014636073273193839, -0.30196743632525536, -0.3997586862708823, -1.6961766657373825, 2.1936046812317134, -0.0021114666079433664, -1.3061912957548663, -0.3917026007185684, 0.03583860770544733, 0.3874777237537701, -1.8392345205990421, 0.7554916700328876, 0.9688391568214227, -0.1012405112232658, 2.3274293386023164, 0.8314788066309082, 0.4366381524548407, 2.1782212890983534, -0.4766125984974227, -0.03431037062216538, -1.0113084943758948, -1.6138146605719532, 0.6076397596794696, -0.4491837282050882, -0.25933883152910764, -0.32794420472944924, -0.015607513578014976, 0.5327810669308646, 0.9171765911653947, -0.04806466526877816, -0.6059465457848144], \"yaxis\": \"y14\"}, {\"line\": {\"color\": \"rgba(128, 128, 128, 1.0)\", \"dash\": \"solid\", \"shape\": \"linear\", \"width\": 1.3}, \"marker\": {\"size\": 2, \"symbol\": \"circle\"}, \"mode\": \"markers\", \"name\": \"D\", \"text\": \"\", \"type\": \"scatter\", \"x\": [-0.5537379212190897, -0.8724233052694854, -0.4543058134976074, -0.11014863679154555, 0.14613296956043798, -0.07972816596592253, 0.23071816361939446, -0.46840908859725044, 0.18436213161850834, -0.014321693931055183, -0.026860748441306162, -0.27782290778010554, -0.7046569466338679, 1.0879505516918127, -0.14522834640323015, -0.15948615687583165, 1.1955460885919826, -0.23952068592326292, 0.8726253512372968, 0.07453419235280212, -1.8078878466901667, -0.6385244736830138, -1.410886899903527, 0.5952664050592602, 0.2886650222926791, 0.11039222692095005, -0.3197007695368137, 2.3655768820646585, 2.2183351120585986, -0.8676594284342002, 0.7306787469146706, -0.42963613672543155, -0.915272688592936, -0.07867636320966079, -0.9270634599251494, 0.12701375209898594, 0.7768472291937459, -0.5296385792732079, -0.8936976374236892, -0.4377805445168151, 0.949334370124812, 0.7570338091013735, 1.6624731100208912, -1.5790316048566215, -0.44822211140406854, -1.6261963423182388, -0.9056842189081151, 1.4739822729626488, -0.6571973195657878, 1.3625496020340948, 1.6574237010904567, -0.17749977787464458, 0.9075120615486731, 1.0256075023267957, 0.16592539270409867, -0.1855059373230086, 0.9471382851852113, 1.1930319801477383, 0.43295005260247615, 1.0996560077129431, 0.6175810332370919, -0.1428410083099575, 0.05301951224767886, -0.6507871628506191, 1.1365386389173497, 0.2889509725144247, -0.6460371173716895, -1.593962248440813, -1.146556415184358, -1.4590413297512774, 0.3026670183455334, 1.2966634986461367, 0.5173549255270803, -0.0632510475536566, 0.3990092802832907, -1.9951236100521847, 1.3744300460745864, 1.6155001221221712, 0.5063360072351307, -2.6977473302984154, 0.13553992385555955, 0.23996422729562236, 1.093910238408881, 1.0970779058678999, -1.0214634318767166, -0.9099269078622486, 0.2313839712322445, 1.380306830071051, -0.12695330769444957, -0.3000244148642409, 1.906165655894951, -2.713127925355512, -0.5147146933258838, -0.03379601581274362, 1.0304962528228427, -0.6896832717756195, 0.46056227260729415, 0.515696867981505, -0.4177010269870619, -0.37409452757803896], \"xaxis\": \"x15\", \"y\": [1.5842791108277439, 1.9392303036214489, 0.6177777428271791, -1.8121307158913724, -0.3478388077547154, 0.764501329342132, -0.8498630339078125, -1.2757866710949821, -0.39672634945812846, -0.18400398821812025, 0.02238367836008293, 0.6037245239520784, 1.074122824800881, 0.5221152359810379, 1.3141904082003788, 1.6263719726119574, 0.2098046320866795, -0.515314340981756, 0.6591772152742821, -0.10319904393445216, -1.0275911617031368, -1.040812400145377, -1.33717396085918, 0.7034028417819237, -0.6354677291496945, -1.756126740395263, -0.4683718749826806, -0.09119189910221012, -0.28181623366681957, -0.5040139618350105, 0.765799998231126, -0.9121086046624316, -0.2434741473613454, 0.10909321518599782, -1.0614589305554516, 0.05583961261659571, -0.11339955427679063, -0.23693665824523838, 0.8305459163917228, -0.8834788689149975, 0.5824207321113793, 0.5247674593843477, 1.0652507124048907, 0.2948395667837005, 0.9611778573067953, -1.51007086093071, -0.1755219613287985, -0.19160948506838746, -1.1129302234342129, -0.53315881337324, -0.4631060873723058, -0.005449116729710715, 0.550036258139161, 1.4345973755214232, 0.24377148610051458, -1.814551011894297, -0.4314479546649242, -1.2808504760168282, -1.085772356895492, 0.15716263203964206, 1.1007096069297018, -0.6107970611136976, 0.09665096619158409, -0.8526903668560195, -1.3487242239250592, -2.3590648342025893, 0.8992190475722818, 0.45260360125003485, -0.35511067930069296, 0.014636073273193839, -0.30196743632525536, -0.3997586862708823, -1.6961766657373825, 2.1936046812317134, -0.0021114666079433664, -1.3061912957548663, -0.3917026007185684, 0.03583860770544733, 0.3874777237537701, -1.8392345205990421, 0.7554916700328876, 0.9688391568214227, -0.1012405112232658, 2.3274293386023164, 0.8314788066309082, 0.4366381524548407, 2.1782212890983534, -0.4766125984974227, -0.03431037062216538, -1.0113084943758948, -1.6138146605719532, 0.6076397596794696, -0.4491837282050882, -0.25933883152910764, -0.32794420472944924, -0.015607513578014976, 0.5327810669308646, 0.9171765911653947, -0.04806466526877816, -0.6059465457848144], \"yaxis\": \"y15\"}, {\"histfunc\": \"count\", \"histnorm\": \"\", \"marker\": {\"color\": \"rgba(128, 0, 128, 1.0)\", \"line\": {\"color\": \"#4D5663\", \"width\": 1.3}}, \"name\": \"D\", \"nbinsx\": 10, \"opacity\": 0.8, \"orientation\": \"v\", \"type\": \"histogram\", \"x\": [1.5842791108277439, 1.9392303036214489, 0.6177777428271791, -1.8121307158913724, -0.3478388077547154, 0.764501329342132, -0.8498630339078125, -1.2757866710949821, -0.39672634945812846, -0.18400398821812025, 0.02238367836008293, 0.6037245239520784, 1.074122824800881, 0.5221152359810379, 1.3141904082003788, 1.6263719726119574, 0.2098046320866795, -0.515314340981756, 0.6591772152742821, -0.10319904393445216, -1.0275911617031368, -1.040812400145377, -1.33717396085918, 0.7034028417819237, -0.6354677291496945, -1.756126740395263, -0.4683718749826806, -0.09119189910221012, -0.28181623366681957, -0.5040139618350105, 0.765799998231126, -0.9121086046624316, -0.2434741473613454, 0.10909321518599782, -1.0614589305554516, 0.05583961261659571, -0.11339955427679063, -0.23693665824523838, 0.8305459163917228, -0.8834788689149975, 0.5824207321113793, 0.5247674593843477, 1.0652507124048907, 0.2948395667837005, 0.9611778573067953, -1.51007086093071, -0.1755219613287985, -0.19160948506838746, -1.1129302234342129, -0.53315881337324, -0.4631060873723058, -0.005449116729710715, 0.550036258139161, 1.4345973755214232, 0.24377148610051458, -1.814551011894297, -0.4314479546649242, -1.2808504760168282, -1.085772356895492, 0.15716263203964206, 1.1007096069297018, -0.6107970611136976, 0.09665096619158409, -0.8526903668560195, -1.3487242239250592, -2.3590648342025893, 0.8992190475722818, 0.45260360125003485, -0.35511067930069296, 0.014636073273193839, -0.30196743632525536, -0.3997586862708823, -1.6961766657373825, 2.1936046812317134, -0.0021114666079433664, -1.3061912957548663, -0.3917026007185684, 0.03583860770544733, 0.3874777237537701, -1.8392345205990421, 0.7554916700328876, 0.9688391568214227, -0.1012405112232658, 2.3274293386023164, 0.8314788066309082, 0.4366381524548407, 2.1782212890983534, -0.4766125984974227, -0.03431037062216538, -1.0113084943758948, -1.6138146605719532, 0.6076397596794696, -0.4491837282050882, -0.25933883152910764, -0.32794420472944924, -0.015607513578014976, 0.5327810669308646, 0.9171765911653947, -0.04806466526877816, -0.6059465457848144], \"xaxis\": \"x16\", \"yaxis\": \"y16\"}],                        {\"bargap\": 0.02, \"legend\": {\"bgcolor\": \"#F5F6F9\", \"font\": {\"color\": \"#4D5663\"}}, \"paper_bgcolor\": \"#F5F6F9\", \"plot_bgcolor\": \"#F5F6F9\", \"showlegend\": false, \"template\": {\"data\": {\"bar\": [{\"error_x\": {\"color\": \"#2a3f5f\"}, \"error_y\": {\"color\": \"#2a3f5f\"}, \"marker\": {\"line\": {\"color\": \"#E5ECF6\", \"width\": 0.5}}, \"type\": \"bar\"}], \"barpolar\": [{\"marker\": {\"line\": {\"color\": \"#E5ECF6\", \"width\": 0.5}}, \"type\": \"barpolar\"}], \"carpet\": [{\"aaxis\": {\"endlinecolor\": \"#2a3f5f\", \"gridcolor\": \"white\", \"linecolor\": \"white\", \"minorgridcolor\": \"white\", \"startlinecolor\": \"#2a3f5f\"}, \"baxis\": {\"endlinecolor\": \"#2a3f5f\", \"gridcolor\": \"white\", \"linecolor\": \"white\", \"minorgridcolor\": \"white\", \"startlinecolor\": \"#2a3f5f\"}, \"type\": \"carpet\"}], \"choropleth\": [{\"colorbar\": {\"outlinewidth\": 0, \"ticks\": \"\"}, \"type\": \"choropleth\"}], \"contour\": [{\"colorbar\": {\"outlinewidth\": 0, \"ticks\": \"\"}, \"colorscale\": [[0.0, \"#0d0887\"], [0.1111111111111111, \"#46039f\"], [0.2222222222222222, \"#7201a8\"], [0.3333333333333333, \"#9c179e\"], [0.4444444444444444, \"#bd3786\"], [0.5555555555555556, \"#d8576b\"], [0.6666666666666666, \"#ed7953\"], [0.7777777777777778, \"#fb9f3a\"], [0.8888888888888888, \"#fdca26\"], [1.0, \"#f0f921\"]], \"type\": \"contour\"}], \"contourcarpet\": [{\"colorbar\": {\"outlinewidth\": 0, \"ticks\": \"\"}, \"type\": \"contourcarpet\"}], \"heatmap\": [{\"colorbar\": {\"outlinewidth\": 0, \"ticks\": \"\"}, \"colorscale\": [[0.0, \"#0d0887\"], [0.1111111111111111, \"#46039f\"], [0.2222222222222222, \"#7201a8\"], [0.3333333333333333, \"#9c179e\"], [0.4444444444444444, \"#bd3786\"], [0.5555555555555556, \"#d8576b\"], [0.6666666666666666, \"#ed7953\"], [0.7777777777777778, \"#fb9f3a\"], [0.8888888888888888, \"#fdca26\"], [1.0, \"#f0f921\"]], \"type\": \"heatmap\"}], \"heatmapgl\": [{\"colorbar\": {\"outlinewidth\": 0, \"ticks\": \"\"}, \"colorscale\": [[0.0, \"#0d0887\"], [0.1111111111111111, \"#46039f\"], [0.2222222222222222, \"#7201a8\"], [0.3333333333333333, \"#9c179e\"], [0.4444444444444444, \"#bd3786\"], [0.5555555555555556, \"#d8576b\"], [0.6666666666666666, \"#ed7953\"], [0.7777777777777778, \"#fb9f3a\"], [0.8888888888888888, \"#fdca26\"], [1.0, \"#f0f921\"]], \"type\": \"heatmapgl\"}], \"histogram\": [{\"marker\": {\"colorbar\": {\"outlinewidth\": 0, \"ticks\": \"\"}}, \"type\": \"histogram\"}], \"histogram2d\": [{\"colorbar\": {\"outlinewidth\": 0, \"ticks\": \"\"}, \"colorscale\": [[0.0, \"#0d0887\"], [0.1111111111111111, \"#46039f\"], [0.2222222222222222, \"#7201a8\"], [0.3333333333333333, \"#9c179e\"], [0.4444444444444444, \"#bd3786\"], [0.5555555555555556, \"#d8576b\"], [0.6666666666666666, \"#ed7953\"], [0.7777777777777778, \"#fb9f3a\"], [0.8888888888888888, \"#fdca26\"], [1.0, \"#f0f921\"]], \"type\": \"histogram2d\"}], \"histogram2dcontour\": [{\"colorbar\": {\"outlinewidth\": 0, \"ticks\": \"\"}, \"colorscale\": [[0.0, \"#0d0887\"], [0.1111111111111111, \"#46039f\"], [0.2222222222222222, \"#7201a8\"], [0.3333333333333333, \"#9c179e\"], [0.4444444444444444, \"#bd3786\"], [0.5555555555555556, \"#d8576b\"], [0.6666666666666666, \"#ed7953\"], [0.7777777777777778, \"#fb9f3a\"], [0.8888888888888888, \"#fdca26\"], [1.0, \"#f0f921\"]], \"type\": \"histogram2dcontour\"}], \"mesh3d\": [{\"colorbar\": {\"outlinewidth\": 0, \"ticks\": \"\"}, \"type\": \"mesh3d\"}], \"parcoords\": [{\"line\": {\"colorbar\": {\"outlinewidth\": 0, \"ticks\": \"\"}}, \"type\": \"parcoords\"}], \"pie\": [{\"automargin\": true, \"type\": \"pie\"}], \"scatter\": [{\"marker\": {\"colorbar\": {\"outlinewidth\": 0, \"ticks\": \"\"}}, \"type\": \"scatter\"}], \"scatter3d\": [{\"line\": {\"colorbar\": {\"outlinewidth\": 0, \"ticks\": \"\"}}, \"marker\": {\"colorbar\": {\"outlinewidth\": 0, \"ticks\": \"\"}}, \"type\": \"scatter3d\"}], \"scattercarpet\": [{\"marker\": {\"colorbar\": {\"outlinewidth\": 0, \"ticks\": \"\"}}, \"type\": \"scattercarpet\"}], \"scattergeo\": [{\"marker\": {\"colorbar\": {\"outlinewidth\": 0, \"ticks\": \"\"}}, \"type\": \"scattergeo\"}], \"scattergl\": [{\"marker\": {\"colorbar\": {\"outlinewidth\": 0, \"ticks\": \"\"}}, \"type\": \"scattergl\"}], \"scattermapbox\": [{\"marker\": {\"colorbar\": {\"outlinewidth\": 0, \"ticks\": \"\"}}, \"type\": \"scattermapbox\"}], \"scatterpolar\": [{\"marker\": {\"colorbar\": {\"outlinewidth\": 0, \"ticks\": \"\"}}, \"type\": \"scatterpolar\"}], \"scatterpolargl\": [{\"marker\": {\"colorbar\": {\"outlinewidth\": 0, \"ticks\": \"\"}}, \"type\": \"scatterpolargl\"}], \"scatterternary\": [{\"marker\": {\"colorbar\": {\"outlinewidth\": 0, \"ticks\": \"\"}}, \"type\": \"scatterternary\"}], \"surface\": [{\"colorbar\": {\"outlinewidth\": 0, \"ticks\": \"\"}, \"colorscale\": [[0.0, \"#0d0887\"], [0.1111111111111111, \"#46039f\"], [0.2222222222222222, \"#7201a8\"], [0.3333333333333333, \"#9c179e\"], [0.4444444444444444, \"#bd3786\"], [0.5555555555555556, \"#d8576b\"], [0.6666666666666666, \"#ed7953\"], [0.7777777777777778, \"#fb9f3a\"], [0.8888888888888888, \"#fdca26\"], [1.0, \"#f0f921\"]], \"type\": \"surface\"}], \"table\": [{\"cells\": {\"fill\": {\"color\": \"#EBF0F8\"}, \"line\": {\"color\": \"white\"}}, \"header\": {\"fill\": {\"color\": \"#C8D4E3\"}, \"line\": {\"color\": \"white\"}}, \"type\": \"table\"}]}, \"layout\": {\"annotationdefaults\": {\"arrowcolor\": \"#2a3f5f\", \"arrowhead\": 0, \"arrowwidth\": 1}, \"autotypenumbers\": \"strict\", \"coloraxis\": {\"colorbar\": {\"outlinewidth\": 0, \"ticks\": \"\"}}, \"colorscale\": {\"diverging\": [[0, \"#8e0152\"], [0.1, \"#c51b7d\"], [0.2, \"#de77ae\"], [0.3, \"#f1b6da\"], [0.4, \"#fde0ef\"], [0.5, \"#f7f7f7\"], [0.6, \"#e6f5d0\"], [0.7, \"#b8e186\"], [0.8, \"#7fbc41\"], [0.9, \"#4d9221\"], [1, \"#276419\"]], \"sequential\": [[0.0, \"#0d0887\"], [0.1111111111111111, \"#46039f\"], [0.2222222222222222, \"#7201a8\"], [0.3333333333333333, \"#9c179e\"], [0.4444444444444444, \"#bd3786\"], [0.5555555555555556, \"#d8576b\"], [0.6666666666666666, \"#ed7953\"], [0.7777777777777778, \"#fb9f3a\"], [0.8888888888888888, \"#fdca26\"], [1.0, \"#f0f921\"]], \"sequentialminus\": [[0.0, \"#0d0887\"], [0.1111111111111111, \"#46039f\"], [0.2222222222222222, \"#7201a8\"], [0.3333333333333333, \"#9c179e\"], [0.4444444444444444, \"#bd3786\"], [0.5555555555555556, \"#d8576b\"], [0.6666666666666666, \"#ed7953\"], [0.7777777777777778, \"#fb9f3a\"], [0.8888888888888888, \"#fdca26\"], [1.0, \"#f0f921\"]]}, \"colorway\": [\"#636efa\", \"#EF553B\", \"#00cc96\", \"#ab63fa\", \"#FFA15A\", \"#19d3f3\", \"#FF6692\", \"#B6E880\", \"#FF97FF\", \"#FECB52\"], \"font\": {\"color\": \"#2a3f5f\"}, \"geo\": {\"bgcolor\": \"white\", \"lakecolor\": \"white\", \"landcolor\": \"#E5ECF6\", \"showlakes\": true, \"showland\": true, \"subunitcolor\": \"white\"}, \"hoverlabel\": {\"align\": \"left\"}, \"hovermode\": \"closest\", \"mapbox\": {\"style\": \"light\"}, \"paper_bgcolor\": \"white\", \"plot_bgcolor\": \"#E5ECF6\", \"polar\": {\"angularaxis\": {\"gridcolor\": \"white\", \"linecolor\": \"white\", \"ticks\": \"\"}, \"bgcolor\": \"#E5ECF6\", \"radialaxis\": {\"gridcolor\": \"white\", \"linecolor\": \"white\", \"ticks\": \"\"}}, \"scene\": {\"xaxis\": {\"backgroundcolor\": \"#E5ECF6\", \"gridcolor\": \"white\", \"gridwidth\": 2, \"linecolor\": \"white\", \"showbackground\": true, \"ticks\": \"\", \"zerolinecolor\": \"white\"}, \"yaxis\": {\"backgroundcolor\": \"#E5ECF6\", \"gridcolor\": \"white\", \"gridwidth\": 2, \"linecolor\": \"white\", \"showbackground\": true, \"ticks\": \"\", \"zerolinecolor\": \"white\"}, \"zaxis\": {\"backgroundcolor\": \"#E5ECF6\", \"gridcolor\": \"white\", \"gridwidth\": 2, \"linecolor\": \"white\", \"showbackground\": true, \"ticks\": \"\", \"zerolinecolor\": \"white\"}}, \"shapedefaults\": {\"line\": {\"color\": \"#2a3f5f\"}}, \"ternary\": {\"aaxis\": {\"gridcolor\": \"white\", \"linecolor\": \"white\", \"ticks\": \"\"}, \"baxis\": {\"gridcolor\": \"white\", \"linecolor\": \"white\", \"ticks\": \"\"}, \"bgcolor\": \"#E5ECF6\", \"caxis\": {\"gridcolor\": \"white\", \"linecolor\": \"white\", \"ticks\": \"\"}}, \"title\": {\"x\": 0.05}, \"xaxis\": {\"automargin\": true, \"gridcolor\": \"white\", \"linecolor\": \"white\", \"ticks\": \"\", \"title\": {\"standoff\": 15}, \"zerolinecolor\": \"white\", \"zerolinewidth\": 2}, \"yaxis\": {\"automargin\": true, \"gridcolor\": \"white\", \"linecolor\": \"white\", \"ticks\": \"\", \"title\": {\"standoff\": 15}, \"zerolinecolor\": \"white\", \"zerolinewidth\": 2}}}, \"title\": {\"font\": {\"color\": \"#4D5663\"}}, \"xaxis\": {\"anchor\": \"y\", \"domain\": [0.0, 0.2125], \"gridcolor\": \"#E1E5ED\", \"showgrid\": false, \"tickfont\": {\"color\": \"#4D5663\"}, \"title\": {\"font\": {\"color\": \"#4D5663\"}, \"text\": \"\"}, \"zerolinecolor\": \"#E1E5ED\"}, \"xaxis10\": {\"anchor\": \"y10\", \"domain\": [0.2625, 0.475], \"gridcolor\": \"#E1E5ED\", \"showgrid\": false, \"tickfont\": {\"color\": \"#4D5663\"}, \"title\": {\"font\": {\"color\": \"#4D5663\"}, \"text\": \"\"}, \"zerolinecolor\": \"#E1E5ED\"}, \"xaxis11\": {\"anchor\": \"y11\", \"domain\": [0.525, 0.7375], \"gridcolor\": \"#E1E5ED\", \"showgrid\": false, \"tickfont\": {\"color\": \"#4D5663\"}, \"title\": {\"font\": {\"color\": \"#4D5663\"}, \"text\": \"\"}, \"zerolinecolor\": \"#E1E5ED\"}, \"xaxis12\": {\"anchor\": \"y12\", \"domain\": [0.7875, 1.0], \"gridcolor\": \"#E1E5ED\", \"showgrid\": false, \"tickfont\": {\"color\": \"#4D5663\"}, \"title\": {\"font\": {\"color\": \"#4D5663\"}, \"text\": \"\"}, \"zerolinecolor\": \"#E1E5ED\"}, \"xaxis13\": {\"anchor\": \"y13\", \"domain\": [0.0, 0.2125], \"gridcolor\": \"#E1E5ED\", \"showgrid\": false, \"tickfont\": {\"color\": \"#4D5663\"}, \"title\": {\"font\": {\"color\": \"#4D5663\"}, \"text\": \"\"}, \"zerolinecolor\": \"#E1E5ED\"}, \"xaxis14\": {\"anchor\": \"y14\", \"domain\": [0.2625, 0.475], \"gridcolor\": \"#E1E5ED\", \"showgrid\": false, \"tickfont\": {\"color\": \"#4D5663\"}, \"title\": {\"font\": {\"color\": \"#4D5663\"}, \"text\": \"\"}, \"zerolinecolor\": \"#E1E5ED\"}, \"xaxis15\": {\"anchor\": \"y15\", \"domain\": [0.525, 0.7375], \"gridcolor\": \"#E1E5ED\", \"showgrid\": false, \"tickfont\": {\"color\": \"#4D5663\"}, \"title\": {\"font\": {\"color\": \"#4D5663\"}, \"text\": \"\"}, \"zerolinecolor\": \"#E1E5ED\"}, \"xaxis16\": {\"anchor\": \"y16\", \"domain\": [0.7875, 1.0], \"gridcolor\": \"#E1E5ED\", \"showgrid\": false, \"tickfont\": {\"color\": \"#4D5663\"}, \"title\": {\"font\": {\"color\": \"#4D5663\"}, \"text\": \"\"}, \"zerolinecolor\": \"#E1E5ED\"}, \"xaxis2\": {\"anchor\": \"y2\", \"domain\": [0.2625, 0.475], \"gridcolor\": \"#E1E5ED\", \"showgrid\": false, \"tickfont\": {\"color\": \"#4D5663\"}, \"title\": {\"font\": {\"color\": \"#4D5663\"}, \"text\": \"\"}, \"zerolinecolor\": \"#E1E5ED\"}, \"xaxis3\": {\"anchor\": \"y3\", \"domain\": [0.525, 0.7375], \"gridcolor\": \"#E1E5ED\", \"showgrid\": false, \"tickfont\": {\"color\": \"#4D5663\"}, \"title\": {\"font\": {\"color\": \"#4D5663\"}, \"text\": \"\"}, \"zerolinecolor\": \"#E1E5ED\"}, \"xaxis4\": {\"anchor\": \"y4\", \"domain\": [0.7875, 1.0], \"gridcolor\": \"#E1E5ED\", \"showgrid\": false, \"tickfont\": {\"color\": \"#4D5663\"}, \"title\": {\"font\": {\"color\": \"#4D5663\"}, \"text\": \"\"}, \"zerolinecolor\": \"#E1E5ED\"}, \"xaxis5\": {\"anchor\": \"y5\", \"domain\": [0.0, 0.2125], \"gridcolor\": \"#E1E5ED\", \"showgrid\": false, \"tickfont\": {\"color\": \"#4D5663\"}, \"title\": {\"font\": {\"color\": \"#4D5663\"}, \"text\": \"\"}, \"zerolinecolor\": \"#E1E5ED\"}, \"xaxis6\": {\"anchor\": \"y6\", \"domain\": [0.2625, 0.475], \"gridcolor\": \"#E1E5ED\", \"showgrid\": false, \"tickfont\": {\"color\": \"#4D5663\"}, \"title\": {\"font\": {\"color\": \"#4D5663\"}, \"text\": \"\"}, \"zerolinecolor\": \"#E1E5ED\"}, \"xaxis7\": {\"anchor\": \"y7\", \"domain\": [0.525, 0.7375], \"gridcolor\": \"#E1E5ED\", \"showgrid\": false, \"tickfont\": {\"color\": \"#4D5663\"}, \"title\": {\"font\": {\"color\": \"#4D5663\"}, \"text\": \"\"}, \"zerolinecolor\": \"#E1E5ED\"}, \"xaxis8\": {\"anchor\": \"y8\", \"domain\": [0.7875, 1.0], \"gridcolor\": \"#E1E5ED\", \"showgrid\": false, \"tickfont\": {\"color\": \"#4D5663\"}, \"title\": {\"font\": {\"color\": \"#4D5663\"}, \"text\": \"\"}, \"zerolinecolor\": \"#E1E5ED\"}, \"xaxis9\": {\"anchor\": \"y9\", \"domain\": [0.0, 0.2125], \"gridcolor\": \"#E1E5ED\", \"showgrid\": false, \"tickfont\": {\"color\": \"#4D5663\"}, \"title\": {\"font\": {\"color\": \"#4D5663\"}, \"text\": \"\"}, \"zerolinecolor\": \"#E1E5ED\"}, \"yaxis\": {\"anchor\": \"x\", \"domain\": [0.8025, 1.0], \"gridcolor\": \"#E1E5ED\", \"showgrid\": false, \"tickfont\": {\"color\": \"#4D5663\"}, \"title\": {\"font\": {\"color\": \"#4D5663\"}, \"text\": \"\"}, \"zerolinecolor\": \"#E1E5ED\"}, \"yaxis10\": {\"anchor\": \"x10\", \"domain\": [0.2675, 0.465], \"gridcolor\": \"#E1E5ED\", \"showgrid\": false, \"tickfont\": {\"color\": \"#4D5663\"}, \"title\": {\"font\": {\"color\": \"#4D5663\"}, \"text\": \"\"}, \"zerolinecolor\": \"#E1E5ED\"}, \"yaxis11\": {\"anchor\": \"x11\", \"domain\": [0.2675, 0.465], \"gridcolor\": \"#E1E5ED\", \"showgrid\": false, \"tickfont\": {\"color\": \"#4D5663\"}, \"title\": {\"font\": {\"color\": \"#4D5663\"}, \"text\": \"\"}, \"zerolinecolor\": \"#E1E5ED\"}, \"yaxis12\": {\"anchor\": \"x12\", \"domain\": [0.2675, 0.465], \"gridcolor\": \"#E1E5ED\", \"showgrid\": false, \"tickfont\": {\"color\": \"#4D5663\"}, \"title\": {\"font\": {\"color\": \"#4D5663\"}, \"text\": \"\"}, \"zerolinecolor\": \"#E1E5ED\"}, \"yaxis13\": {\"anchor\": \"x13\", \"domain\": [0.0, 0.1975], \"gridcolor\": \"#E1E5ED\", \"showgrid\": false, \"tickfont\": {\"color\": \"#4D5663\"}, \"title\": {\"font\": {\"color\": \"#4D5663\"}, \"text\": \"\"}, \"zerolinecolor\": \"#E1E5ED\"}, \"yaxis14\": {\"anchor\": \"x14\", \"domain\": [0.0, 0.1975], \"gridcolor\": \"#E1E5ED\", \"showgrid\": false, \"tickfont\": {\"color\": \"#4D5663\"}, \"title\": {\"font\": {\"color\": \"#4D5663\"}, \"text\": \"\"}, \"zerolinecolor\": \"#E1E5ED\"}, \"yaxis15\": {\"anchor\": \"x15\", \"domain\": [0.0, 0.1975], \"gridcolor\": \"#E1E5ED\", \"showgrid\": false, \"tickfont\": {\"color\": \"#4D5663\"}, \"title\": {\"font\": {\"color\": \"#4D5663\"}, \"text\": \"\"}, \"zerolinecolor\": \"#E1E5ED\"}, \"yaxis16\": {\"anchor\": \"x16\", \"domain\": [0.0, 0.1975], \"gridcolor\": \"#E1E5ED\", \"showgrid\": false, \"tickfont\": {\"color\": \"#4D5663\"}, \"title\": {\"font\": {\"color\": \"#4D5663\"}, \"text\": \"\"}, \"zerolinecolor\": \"#E1E5ED\"}, \"yaxis2\": {\"anchor\": \"x2\", \"domain\": [0.8025, 1.0], \"gridcolor\": \"#E1E5ED\", \"showgrid\": false, \"tickfont\": {\"color\": \"#4D5663\"}, \"title\": {\"font\": {\"color\": \"#4D5663\"}, \"text\": \"\"}, \"zerolinecolor\": \"#E1E5ED\"}, \"yaxis3\": {\"anchor\": \"x3\", \"domain\": [0.8025, 1.0], \"gridcolor\": \"#E1E5ED\", \"showgrid\": false, \"tickfont\": {\"color\": \"#4D5663\"}, \"title\": {\"font\": {\"color\": \"#4D5663\"}, \"text\": \"\"}, \"zerolinecolor\": \"#E1E5ED\"}, \"yaxis4\": {\"anchor\": \"x4\", \"domain\": [0.8025, 1.0], \"gridcolor\": \"#E1E5ED\", \"showgrid\": false, \"tickfont\": {\"color\": \"#4D5663\"}, \"title\": {\"font\": {\"color\": \"#4D5663\"}, \"text\": \"\"}, \"zerolinecolor\": \"#E1E5ED\"}, \"yaxis5\": {\"anchor\": \"x5\", \"domain\": [0.535, 0.7325], \"gridcolor\": \"#E1E5ED\", \"showgrid\": false, \"tickfont\": {\"color\": \"#4D5663\"}, \"title\": {\"font\": {\"color\": \"#4D5663\"}, \"text\": \"\"}, \"zerolinecolor\": \"#E1E5ED\"}, \"yaxis6\": {\"anchor\": \"x6\", \"domain\": [0.535, 0.7325], \"gridcolor\": \"#E1E5ED\", \"showgrid\": false, \"tickfont\": {\"color\": \"#4D5663\"}, \"title\": {\"font\": {\"color\": \"#4D5663\"}, \"text\": \"\"}, \"zerolinecolor\": \"#E1E5ED\"}, \"yaxis7\": {\"anchor\": \"x7\", \"domain\": [0.535, 0.7325], \"gridcolor\": \"#E1E5ED\", \"showgrid\": false, \"tickfont\": {\"color\": \"#4D5663\"}, \"title\": {\"font\": {\"color\": \"#4D5663\"}, \"text\": \"\"}, \"zerolinecolor\": \"#E1E5ED\"}, \"yaxis8\": {\"anchor\": \"x8\", \"domain\": [0.535, 0.7325], \"gridcolor\": \"#E1E5ED\", \"showgrid\": false, \"tickfont\": {\"color\": \"#4D5663\"}, \"title\": {\"font\": {\"color\": \"#4D5663\"}, \"text\": \"\"}, \"zerolinecolor\": \"#E1E5ED\"}, \"yaxis9\": {\"anchor\": \"x9\", \"domain\": [0.2675, 0.465], \"gridcolor\": \"#E1E5ED\", \"showgrid\": false, \"tickfont\": {\"color\": \"#4D5663\"}, \"title\": {\"font\": {\"color\": \"#4D5663\"}, \"text\": \"\"}, \"zerolinecolor\": \"#E1E5ED\"}},                        {\"showLink\": true, \"linkText\": \"Export to plot.ly\", \"plotlyServerURL\": \"https://plot.ly\", \"responsive\": true}                    ).then(function(){\n",
       "                            \n",
       "var gd = document.getElementById('12e49d7b-78f5-4e3e-9d90-18f7acd33ef9');\n",
       "var x = new MutationObserver(function (mutations, observer) {{\n",
       "        var display = window.getComputedStyle(gd).display;\n",
       "        if (!display || display === 'none') {{\n",
       "            console.log([gd, 'removed!']);\n",
       "            Plotly.purge(gd);\n",
       "            observer.disconnect();\n",
       "        }}\n",
       "}});\n",
       "\n",
       "// Listen for the removal of the full notebook cells\n",
       "var notebookContainer = gd.closest('#notebook-container');\n",
       "if (notebookContainer) {{\n",
       "    x.observe(notebookContainer, {childList: true});\n",
       "}}\n",
       "\n",
       "// Listen for the clearing of the current output cell\n",
       "var outputEl = gd.closest('.output');\n",
       "if (outputEl) {{\n",
       "    x.observe(outputEl, {childList: true});\n",
       "}}\n",
       "\n",
       "                        })                };                });            </script>        </div>"
      ]
     },
     "metadata": {},
     "output_type": "display_data"
    }
   ],
   "source": [
    "df.scatter_matrix()"
   ]
  },
  {
   "cell_type": "markdown",
   "metadata": {
    "collapsed": true
   },
   "source": [
    "# Buen trabajo!"
   ]
  }
 ],
 "metadata": {
  "kernelspec": {
   "display_name": "Python 3",
   "language": "python",
   "name": "python3"
  },
  "language_info": {
   "codemirror_mode": {
    "name": "ipython",
    "version": 3
   },
   "file_extension": ".py",
   "mimetype": "text/x-python",
   "name": "python",
   "nbconvert_exporter": "python",
   "pygments_lexer": "ipython3",
   "version": "3.8.5"
  }
 },
 "nbformat": 4,
 "nbformat_minor": 1
}
